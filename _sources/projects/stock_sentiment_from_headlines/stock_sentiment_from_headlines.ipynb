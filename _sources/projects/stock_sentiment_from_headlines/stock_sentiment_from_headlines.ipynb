{
 "cells": [
  {
   "cell_type": "markdown",
   "id": "bbd1e21f-c09f-4305-b8f1-52283fbbba23",
   "metadata": {},
   "source": [
    "# Stock Sentiment Analysis from News Headlines\n",
    "\n",
    "We have seen how sentiments have driven the markets in recent times. Let's explore using natural language processing to devise new trading strategies.\n",
    "\n",
    "<p>This notebook generates investing insights by applying sentiment analysis on financial news headlines from <a href=\"https://finviz.com\">FINVIZ.com</a>. Using a natural language processing technique, we can understand the emotion behind the headlines and predict whether the market <em>feels</em> good or bad about a stock. This enables us to make educated guesses on how certain stocks will perform and trade accordingly.</p>\n",
    "\n",
    "<p>Why headlines? And why from FINVIZ?</p>\n",
    "FinViz makes market information accessible and provides a lot of data in visual snapshots.\n",
    "<li>Headlines, which have similar length, are easier to parse and group than full articles, which vary in length.</li>\n",
    "<li>FINVIZ has a list of trusted websites, and headlines from these sites tend to be more consistent in their jargon than those from independent bloggers. <b>Consistent textual patterns will improve the sentiment analysis.</b></li>\n",
    "</ol>\n",
    "<br>\n",
    "<p><strong>Disclaimer: Investing in the stock market involves risk and can lead to monetary loss. The content in this notebook is purely for educational purposes and should not to be taken as financial advice.</strong> </p>"
   ]
  },
  {
   "cell_type": "code",
   "execution_count": 1,
   "id": "ddf86b5d-3064-4465-b0a1-a1f5a27b5aea",
   "metadata": {},
   "outputs": [],
   "source": [
    "# Import libraries\n",
    "import pandas as pd\n",
    "import numpy as np\n",
    "from datetime import datetime\n",
    "import matplotlib.pyplot as plt\n",
    "plt.style.use(\"fivethirtyeight\")\n",
    "import seaborn as sns\n",
    "%matplotlib inline\n",
    "# https://github.com/mariostoev/finviz\n",
    "import finviz\n",
    "import nltk\n",
    "# NLTK VADER for sentiment analysis\n",
    "from nltk.sentiment.vader import SentimentIntensityAnalyzer\n",
    "import pandas_datareader as pdr"
   ]
  },
  {
   "cell_type": "code",
   "execution_count": 60,
   "id": "83227241-ce96-407d-8a75-f2c93808a976",
   "metadata": {},
   "outputs": [],
   "source": [
    "# Tickers of Stocks we want to investigate\n",
    "TICKER_LIST = ['AMZN', 'GOOG']"
   ]
  },
  {
   "cell_type": "markdown",
   "id": "0cdcdd7b-7ef8-4d00-8475-a3624c6817bc",
   "metadata": {},
   "source": [
    "## finviz-api\n",
    "\n",
    "We will be using an unofficial [finviz-API](https://github.com/mariostoev/finviz) made by [Mario Stoev](https://github.com/mariostoev) to get the news headlines for each stock.\n",
    "\n",
    "finviz.get_news returns list of sets containing containing:\n",
    "1. Datetime\n",
    "2. Headline\n",
    "3. URL\n",
    "4. Source"
   ]
  },
  {
   "cell_type": "code",
   "execution_count": 61,
   "id": "bd572a57-d7ea-451f-8da0-d3f2579e8576",
   "metadata": {},
   "outputs": [],
   "source": [
    "def get_news(ticker):\n",
    "    \"\"\"\n",
    "    Returns a list of sets containing news headline and url\n",
    "    \n",
    "    :param ticker: stock symbol\n",
    "    :return: list\n",
    "    \"\"\"\n",
    "    news = finviz.get_news(ticker)\n",
    "    return news"
   ]
  },
  {
   "cell_type": "code",
   "execution_count": 62,
   "id": "408debff-12e7-4f08-936b-f0552c59e44a",
   "metadata": {},
   "outputs": [],
   "source": [
    "# Hold the parsed news into a list\n",
    "parsed_news = []\n",
    "\n",
    "for ticker in TICKER_LIST:\n",
    "    try:\n",
    "        news_array = get_news(ticker)\n",
    "        for news_set in news_array:\n",
    "            datetime = datetime.strptime(news_set[0], '%Y-%m-%d %H:%M')\n",
    "            date = datetime.date()\n",
    "            time = datetime.time()\n",
    "            headline = news_set[1]\n",
    "            parsed_news.append([ticker, date, time, headline])\n",
    "    except:\n",
    "        pass"
   ]
  },
  {
   "cell_type": "code",
   "execution_count": 63,
   "id": "6bcc193d-2448-40e2-b04e-31dc36048a0d",
   "metadata": {},
   "outputs": [
    {
     "data": {
      "text/plain": [
       "[['AMZN',\n",
       "  datetime.date(2022, 5, 24),\n",
       "  datetime.time(17, 27),\n",
       "  'Report: Almost 1 in 5 Amazon delivery drivers injured last year'],\n",
       " ['AMZN',\n",
       "  datetime.date(2022, 5, 24),\n",
       "  datetime.time(17, 0),\n",
       "  'An Amazon worker will make a novel shareholder proposal this week'],\n",
       " ['AMZN',\n",
       "  datetime.date(2022, 5, 24),\n",
       "  datetime.time(16, 55),\n",
       "  'Amazon Style Opens Its Very First Store Powered by\\xa0Technology']]"
      ]
     },
     "execution_count": 63,
     "metadata": {},
     "output_type": "execute_result"
    }
   ],
   "source": [
    "parsed_news[:3]"
   ]
  },
  {
   "cell_type": "markdown",
   "id": "fd763b09-0a6f-487b-8447-74c407c3a5f9",
   "metadata": {},
   "source": [
    "## Sentiment analysis is very sensitive to context\n",
    "\n",
    "For example, \"This is so addictive!\" often means something positive if the context is a video game you are enjoying with your friends, but it very often means something negative when we are talking about opioids. \n",
    "\n",
    "Financial journalists have their own lingo. Let's add some new words and sentiment values to our lexicon to make NLTK think like a financial journalist. "
   ]
  },
  {
   "cell_type": "code",
   "execution_count": 64,
   "id": "849de325-9c22-4f5a-9ad7-0dcbc1a84480",
   "metadata": {},
   "outputs": [
    {
     "name": "stderr",
     "output_type": "stream",
     "text": [
      "[nltk_data] Downloading package vader_lexicon to\n",
      "[nltk_data]     /Users/simplypatrickg/nltk_data...\n",
      "[nltk_data]   Package vader_lexicon is already up-to-date!\n"
     ]
    },
    {
     "data": {
      "text/plain": [
       "True"
      ]
     },
     "execution_count": 64,
     "metadata": {},
     "output_type": "execute_result"
    }
   ],
   "source": [
    "nltk.download('vader_lexicon')"
   ]
  },
  {
   "cell_type": "code",
   "execution_count": 65,
   "id": "16f1994f-adc9-480c-9552-9655b7e2351f",
   "metadata": {},
   "outputs": [],
   "source": [
    "# New words and values\n",
    "new_words = {\n",
    "    'crushes': 10,\n",
    "    'beats': 5,\n",
    "    'misses': -5,\n",
    "    'trouble': -10,\n",
    "    'falls': -100,\n",
    "}\n",
    "# Instantiate the sentiment intensity analyzer with the existing lexicon\n",
    "vader = SentimentIntensityAnalyzer()\n",
    "# Update the lexicon\n",
    "vader.lexicon.update(new_words)"
   ]
  },
  {
   "cell_type": "markdown",
   "id": "b4a4513e-0fbc-467b-9846-fb3fdd03e6e3",
   "metadata": {},
   "source": [
    "## Sentiment Classification\n",
    "\n",
    "[VADER](https://pypi.org/project/vaderSentiment/) (Valence Aware Dictionary and sEntiment Reasoner)is a lexicon and rule-based sentiment analysis tool. Let's use it to quantify how much of positive or negative emotion the text has and also the intensity of emotion.\n",
    "\n",
    "The tool will generate a compound score, which is the sum of positive, negative & neutral scores which is then normalized between -1(most extreme negative) and +1 (most extreme positive)."
   ]
  },
  {
   "cell_type": "code",
   "execution_count": 66,
   "id": "8be4853c-9476-4f1f-9573-89982588eeba",
   "metadata": {},
   "outputs": [],
   "source": [
    "# Use these column names\n",
    "columns = ['ticker', 'date', 'time', 'headline']\n",
    "# Convert the list of lists into a DataFrame\n",
    "scored_news = pd.DataFrame(parsed_news, columns=columns)\n",
    "# Iterate through the headlines and get the polarity scores\n",
    "scores = [vader.polarity_scores(headline) for headline in scored_news.headline.values]\n",
    "# Convert the list of dicts into a DataFrame\n",
    "scores_df = pd.DataFrame(scores)\n",
    "# Join the DataFrames\n",
    "scored_news = pd.concat([scored_news, scores_df], axis=1)\n",
    "# Convert the date column from string to datetime\n",
    "scored_news['date'] = scored_news.date"
   ]
  },
  {
   "cell_type": "code",
   "execution_count": 67,
   "id": "19429e2f-12b3-4d40-82ae-01564bb5b19e",
   "metadata": {},
   "outputs": [
    {
     "data": {
      "image/png": "[encoded data removed]",
      "text/plain": [
       "<Figure size 432x288 with 1 Axes>"
      ]
     },
     "metadata": {
      "needs_background": "light"
     },
     "output_type": "display_data"
    }
   ],
   "source": [
    "# Group by date and ticker columns from scored_news and calculate the mean\n",
    "mean_c = scored_news.groupby(['date', 'ticker']).mean()\n",
    "# Unstack the column ticker\n",
    "mean_c = mean_c.unstack(level=1)\n",
    "# Get the cross-section of compound in the 'columns' axis\n",
    "mean_c = mean_c.xs('compound', axis=1)\n",
    "# Plot a bar chart with pandas\n",
    "mean_c.plot.bar()\n",
    "plt.title(\"Vader compound scores by date for each ticker\", fontsize=16)\n",
    "plt.ylabel(\"score\")\n",
    "plt.show()"
   ]
  },
  {
   "cell_type": "markdown",
   "id": "88c53d81-844c-4765-82cb-e8435133487a",
   "metadata": {},
   "source": [
    "## Handling duplicates\n",
    "\n",
    "Some headlines are the same news piece from different sources, the fact that they are written differently could provide different perspectives on the same story. Plus, when one piece of news is more important, it tends to get more headlines from multiple sources. Let's get rid of is verbatim copied headlines, as these are very likely coming from the same journalist and are just being \"forwarded\" around."
   ]
  },
  {
   "cell_type": "code",
   "execution_count": 68,
   "id": "b45445a1-7eb7-44c0-b2bd-baca6ee95dcd",
   "metadata": {},
   "outputs": [
    {
     "data": {
      "text/plain": [
       "'Before we had 200 headlines, now we have 199'"
      ]
     },
     "execution_count": 68,
     "metadata": {},
     "output_type": "execute_result"
    }
   ],
   "source": [
    "# Count the number of headlines in scored_news (store as integer)\n",
    "num_news_before = scored_news['headline'].count()\n",
    "# Drop duplicates based on ticker and headline\n",
    "scored_news_clean = scored_news.drop_duplicates(subset=['ticker', 'headline'])\n",
    "# Count number of headlines after dropping duplicates\n",
    "num_news_after = scored_news_clean['headline'].count()\n",
    "# Print before and after numbers\n",
    "f\"Before we had {num_news_before} headlines, now we have {num_news_after}\""
   ]
  },
  {
   "cell_type": "markdown",
   "id": "4cc044e1-a551-4370-95dc-1e5df4315a6f",
   "metadata": {},
   "source": [
    "## Sentiment on one single trading day and stock¶\n",
    "\n",
    "Now let's focus on one trading day and one single stock. We will make an informative plot where we will see the smallest grain possible: headline and subscores."
   ]
  },
  {
   "cell_type": "code",
   "execution_count": 69,
   "id": "ea657bed-4d54-43d0-afb3-ada5eab63c9d",
   "metadata": {},
   "outputs": [],
   "source": [
    "STOCK = TICKER_LIST[0]\n",
    "DATE = list(scored_news.date)[-1]\n",
    "\n",
    "# Set the index to ticker and date\n",
    "single_day = scored_news_clean.set_index(['ticker', 'date'])\n",
    "# Cross-section the STOCK row\n",
    "single_day = single_day.loc[STOCK]\n",
    "# Select the DATE\n",
    "single_day = single_day.loc[DATE]\n",
    "# Set the index to time and \n",
    "single_day = single_day.set_index('time')\n",
    "# Sort it\n",
    "single_day = single_day.sort_index()"
   ]
  },
  {
   "cell_type": "code",
   "execution_count": 70,
   "id": "44758f17-f44d-4452-8ea6-a5a84318ad8f",
   "metadata": {},
   "outputs": [
    {
     "data": {
      "image/png": "[encoded data removed]",
      "text/plain": [
       "<Figure size 720x432 with 1 Axes>"
      ]
     },
     "metadata": {
      "needs_background": "light"
     },
     "output_type": "display_data"
    }
   ],
   "source": [
    "TITLE = f\"Negative, neutral, and positive sentiment for {STOCK} on {DATE}\"\n",
    "COLORS = [\"red\",\"orange\", \"green\"]\n",
    "# Drop the columns that aren't useful for the plot\n",
    "plot_day = single_day.drop(['headline', 'compound'], axis=1)\n",
    "# Change the column names to 'negative', 'positive', and 'neutral'\n",
    "plot_day.columns = ['negative', 'neutral', 'positive']\n",
    "# Plot a stacked bar chart\n",
    "plot_day.plot.bar(stacked = True, \n",
    "                  figsize=(10, 6), \n",
    "                  title = TITLE, \n",
    "                  color = COLORS).legend(bbox_to_anchor=(1.2, 0.5))\n",
    "plt.ylabel(\"scores\")\n",
    "plt.show()"
   ]
  },
  {
   "cell_type": "code",
   "execution_count": 71,
   "id": "084fb492-f0a4-4bd1-afec-6ebe7a373732",
   "metadata": {},
   "outputs": [
    {
     "data": {
      "text/html": [
       "<div>\n",
       "<style scoped>\n",
       "    .dataframe tbody tr th:only-of-type {\n",
       "        vertical-align: middle;\n",
       "    }\n",
       "\n",
       "    .dataframe tbody tr th {\n",
       "        vertical-align: top;\n",
       "    }\n",
       "\n",
       "    .dataframe thead th {\n",
       "        text-align: right;\n",
       "    }\n",
       "</style>\n",
       "<table border=\"1\" class=\"dataframe\">\n",
       "  <thead>\n",
       "    <tr style=\"text-align: right;\">\n",
       "      <th></th>\n",
       "      <th>High</th>\n",
       "      <th>Low</th>\n",
       "      <th>Open</th>\n",
       "      <th>Close</th>\n",
       "      <th>Volume</th>\n",
       "      <th>Adj Close</th>\n",
       "    </tr>\n",
       "    <tr>\n",
       "      <th>Date</th>\n",
       "      <th></th>\n",
       "      <th></th>\n",
       "      <th></th>\n",
       "      <th></th>\n",
       "      <th></th>\n",
       "      <th></th>\n",
       "    </tr>\n",
       "  </thead>\n",
       "  <tbody>\n",
       "    <tr>\n",
       "      <th>2022-05-19</th>\n",
       "      <td>2200.679932</td>\n",
       "      <td>2123.860107</td>\n",
       "      <td>2125.610107</td>\n",
       "      <td>2146.379883</td>\n",
       "      <td>4407100</td>\n",
       "      <td>2146.379883</td>\n",
       "    </tr>\n",
       "    <tr>\n",
       "      <th>2022-05-20</th>\n",
       "      <td>2197.959961</td>\n",
       "      <td>2100.189941</td>\n",
       "      <td>2191.370117</td>\n",
       "      <td>2151.820068</td>\n",
       "      <td>4968200</td>\n",
       "      <td>2151.820068</td>\n",
       "    </tr>\n",
       "    <tr>\n",
       "      <th>2022-05-23</th>\n",
       "      <td>2176.379883</td>\n",
       "      <td>2079.000000</td>\n",
       "      <td>2169.219971</td>\n",
       "      <td>2151.139893</td>\n",
       "      <td>5389900</td>\n",
       "      <td>2151.139893</td>\n",
       "    </tr>\n",
       "    <tr>\n",
       "      <th>2022-05-24</th>\n",
       "      <td>2108.000000</td>\n",
       "      <td>2025.199951</td>\n",
       "      <td>2080.500000</td>\n",
       "      <td>2082.000000</td>\n",
       "      <td>5137100</td>\n",
       "      <td>2082.000000</td>\n",
       "    </tr>\n",
       "  </tbody>\n",
       "</table>\n",
       "</div>"
      ],
      "text/plain": [
       "                   High          Low         Open        Close   Volume  \\\n",
       "Date                                                                      \n",
       "2022-05-19  2200.679932  2123.860107  2125.610107  2146.379883  4407100   \n",
       "2022-05-20  2197.959961  2100.189941  2191.370117  2151.820068  4968200   \n",
       "2022-05-23  2176.379883  2079.000000  2169.219971  2151.139893  5389900   \n",
       "2022-05-24  2108.000000  2025.199951  2080.500000  2082.000000  5137100   \n",
       "\n",
       "              Adj Close  \n",
       "Date                     \n",
       "2022-05-19  2146.379883  \n",
       "2022-05-20  2151.820068  \n",
       "2022-05-23  2151.139893  \n",
       "2022-05-24  2082.000000  "
      ]
     },
     "execution_count": 71,
     "metadata": {},
     "output_type": "execute_result"
    }
   ],
   "source": [
    "data = pdr.get_data_yahoo(STOCK, DATE) \n",
    "data.head()"
   ]
  },
  {
   "cell_type": "code",
   "execution_count": 59,
   "id": "1c4a7d9c-fb67-45e6-b9e8-0c490703422e",
   "metadata": {},
   "outputs": [
    {
     "data": {
      "text/plain": [
       "Date\n",
       "2022-05-09            NaN\n",
       "2022-05-10    2176.479980\n",
       "2022-05-11    2142.309937\n",
       "2022-05-12    2123.025024\n",
       "2022-05-13    2199.855103\n",
       "2022-05-16    2238.655029\n",
       "2022-05-17    2261.790039\n",
       "2022-05-18    2224.810059\n",
       "2022-05-19    2144.314941\n",
       "2022-05-20    2149.099976\n",
       "2022-05-23    2151.479980\n",
       "2022-05-24    2116.569946\n",
       "Name: Close, dtype: float64"
      ]
     },
     "execution_count": 59,
     "metadata": {},
     "output_type": "execute_result"
    }
   ],
   "source": [
    "data['Close'].rolling(window=2).mean()"
   ]
  },
  {
   "cell_type": "code",
   "execution_count": null,
   "id": "8c8a270a-5439-4c3e-aa44-fcbc02faf3b0",
   "metadata": {},
   "outputs": [],
   "source": [
    "data['2_SMA'] = data['Close'].rolling(window=2).mean()\n",
    "data['5_SMA'] = data['Close'].rolling(window=5).mean()\n",
    "\n",
    "data = data[data['5_SMA'].notna()]\n",
    "\n",
    "# SMA trade calls\n",
    "Trade_Buy = []\n",
    "Trade_Sell = []\n",
    "\n",
    "for i in range(len(data)-1):\n",
    "    if ((data['2_SMA'].values[i] < data['5_SMA'].values[i]) & (data['2_SMA'].values[i+1] > data['5_SMA'].values[i+1])):\n",
    "        print(\"Trade Call for {row} is Buy.\".format(row=data.index[i].date()))\n",
    "        Trade_Buy.append(i)\n",
    "    elif ((data['2_SMA'].values[i] > data['5_SMA'].values[i]) & (data['2_SMA'].values[i+1] < data['5_SMA'].values[i+1])):\n",
    "        print(\"Trade Call for {row} is Sell.\".format(row=data.index[i].date()))\n",
    "        Trade_Sell.append(i)"
   ]
  },
  {
   "cell_type": "code",
   "execution_count": 41,
   "id": "8db0ac2e-d28b-4f65-ac29-36a22b2a4462",
   "metadata": {},
   "outputs": [
    {
     "data": {
      "text/html": [
       "<div>\n",
       "<style scoped>\n",
       "    .dataframe tbody tr th:only-of-type {\n",
       "        vertical-align: middle;\n",
       "    }\n",
       "\n",
       "    .dataframe tbody tr th {\n",
       "        vertical-align: top;\n",
       "    }\n",
       "\n",
       "    .dataframe thead th {\n",
       "        text-align: right;\n",
       "    }\n",
       "</style>\n",
       "<table border=\"1\" class=\"dataframe\">\n",
       "  <thead>\n",
       "    <tr style=\"text-align: right;\">\n",
       "      <th></th>\n",
       "      <th>High</th>\n",
       "      <th>Low</th>\n",
       "      <th>Open</th>\n",
       "      <th>Close</th>\n",
       "      <th>Volume</th>\n",
       "      <th>Adj Close</th>\n",
       "      <th>2_SMA</th>\n",
       "      <th>5_SMA</th>\n",
       "    </tr>\n",
       "    <tr>\n",
       "      <th>Date</th>\n",
       "      <th></th>\n",
       "      <th></th>\n",
       "      <th></th>\n",
       "      <th></th>\n",
       "      <th></th>\n",
       "      <th></th>\n",
       "      <th></th>\n",
       "      <th></th>\n",
       "    </tr>\n",
       "  </thead>\n",
       "  <tbody>\n",
       "  </tbody>\n",
       "</table>\n",
       "</div>"
      ],
      "text/plain": [
       "Empty DataFrame\n",
       "Columns: [High, Low, Open, Close, Volume, Adj Close, 2_SMA, 5_SMA]\n",
       "Index: []"
      ]
     },
     "execution_count": 41,
     "metadata": {},
     "output_type": "execute_result"
    }
   ],
   "source": [
    "data"
   ]
  },
  {
   "cell_type": "code",
   "execution_count": null,
   "id": "aaff2a90-25fc-4a2b-83ab-99ea82390fac",
   "metadata": {},
   "outputs": [],
   "source": []
  }
 ],
 "metadata": {
  "kernelspec": {
   "display_name": "Python 3 (ipykernel)",
   "language": "python",
   "name": "python3"
  },
  "language_info": {
   "codemirror_mode": {
    "name": "ipython",
    "version": 3
   },
   "file_extension": ".py",
   "mimetype": "text/x-python",
   "name": "python",
   "nbconvert_exporter": "python",
   "pygments_lexer": "ipython3",
   "version": "3.8.12"
  }
 },
 "nbformat": 4,
 "nbformat_minor": 5
}
