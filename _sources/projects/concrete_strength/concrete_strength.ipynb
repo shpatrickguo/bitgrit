{
 "cells": [
  {
   "cell_type": "markdown",
   "id": "9a9ada08-c9f0-466f-91a0-265fa539f9f5",
   "metadata": {},
   "source": [
    "# Predict the strength of concrete\n",
    "\n",
    "## 📖 Background\n",
    "\n",
    "Concrete is the most widely used building material in the world. It is a mix of cement and water with gravel and sand. It can also include other materials like fly ash, blast furnace slag, and additives. \n",
    "\n",
    "The compressive strength of concrete is a function of components and age, the team is testing different combinations of ingredients at different time intervals. \n",
    "\n",
    "Find a simple way to estimate strength to predict how a particular sample is expected to perform.\n",
    "\n",
    "The objective is to answer:\n",
    "1. The average strength of the concrete samples at 1, 7, 14, and 28 days of age.\n",
    "2. The coefficients of regression model using the formula that provided us:\n",
    "![Strength Equation](str_eq.png)"
   ]
  },
  {
   "cell_type": "markdown",
   "id": "10dcc269-3659-4851-99cd-f1ffb7f818aa",
   "metadata": {},
   "source": [
    "## 💾 The data\n",
    "The team has already tested more than a thousand samples ([source](https://archive.ics.uci.edu/ml/datasets/concrete+compressive+strength)):\n",
    "\n",
    "#### Compressive strength data:\n",
    "- \"cement\" - Portland cement in kg/m3\n",
    "- \"slag\" - Blast furnace slag in kg/m3\n",
    "- \"fly_ash\" - Fly ash in kg/m3\n",
    "- \"water\" - Water in liters/m3\n",
    "- \"superplasticizer\" - Superplasticizer additive in kg/m3\n",
    "- \"coarse_aggregate\" - Coarse aggregate (gravel) in kg/m3\n",
    "- \"fine_aggregate\" - Fine aggregate (sand) in kg/m3\n",
    "- \"age\" - Age of the sample in days\n",
    "- \"strength\" - Concrete compressive strength in megapascals (MPa)\n",
    "\n",
    "***Acknowledgments**: I-Cheng Yeh, \"Modeling of strength of high-performance concrete using artificial neural networks,\" Cement and Concrete Research, Vol. 28, No. 12, pp. 1797-1808 (1998)*."
   ]
  },
  {
   "cell_type": "markdown",
   "id": "0864ae32-db01-4bad-b6f3-3b506daf0ba4",
   "metadata": {},
   "source": [
    "## Import Libraries"
   ]
  },
  {
   "cell_type": "code",
   "execution_count": 46,
   "id": "7f0964c3-2705-41df-af08-d8a8efe2378c",
   "metadata": {},
   "outputs": [],
   "source": [
    "import pandas as pd\n",
    "import numpy as np\n",
    "import matplotlib.pyplot as plt\n",
    "import seaborn as sns\n",
    "from sklearn.preprocessing import StandardScaler, OrdinalEncoder\n",
    "from sklearn.model_selection import train_test_split, cross_val_score, KFold\n",
    "from sklearn.pipeline import Pipeline\n",
    "from sklearn.linear_model import LinearRegression, LogisticRegression\n",
    "from sklearn.neighbors import KNeighborsRegressor\n",
    "from sklearn.tree import DecisionTreeRegressor\n",
    "from sklearn.ensemble import AdaBoostRegressor, RandomForestRegressor, BaggingRegressor, GradientBoostingRegressor\n",
    "from sklearn.svm import SVR\n",
    "from sklearn.model_selection import GridSearchCV\n",
    "from tensorflow.keras.callbacks import EarlyStopping\n",
    "from sklearn.metrics import mean_squared_error, mean_absolute_error, r2_score\n",
    "import warnings\n",
    "warnings.filterwarnings(\"ignore\")"
   ]
  },
  {
   "cell_type": "markdown",
   "id": "30988536-8315-4f6c-b131-7bbe2183e440",
   "metadata": {},
   "source": [
    "## Load Data"
   ]
  },
  {
   "cell_type": "code",
   "execution_count": 27,
   "id": "40251159-3eea-47f8-bfb4-09e38d5ced65",
   "metadata": {},
   "outputs": [
    {
     "data": {
      "application/com.datacamp.data-table.v1+json": {
       "is_truncated": false,
       "table": {
        "data": [
         {
          "age": 28,
          "cement": 540,
          "coarse_aggregate": 1040,
          "fine_aggregate": 676,
          "fly_ash": 0,
          "index": 0,
          "slag": 0,
          "strength": 79.98611076,
          "superplasticizer": 2.5,
          "water": 162
         },
         {
          "age": 28,
          "cement": 540,
          "coarse_aggregate": 1055,
          "fine_aggregate": 676,
          "fly_ash": 0,
          "index": 1,
          "slag": 0,
          "strength": 61.88736576,
          "superplasticizer": 2.5,
          "water": 162
         },
         {
          "age": 270,
          "cement": 332.5,
          "coarse_aggregate": 932,
          "fine_aggregate": 594,
          "fly_ash": 0,
          "index": 2,
          "slag": 142.5,
          "strength": 40.269535256,
          "superplasticizer": 0,
          "water": 228
         },
         {
          "age": 365,
          "cement": 332.5,
          "coarse_aggregate": 932,
          "fine_aggregate": 594,
          "fly_ash": 0,
          "index": 3,
          "slag": 142.5,
          "strength": 41.052779992,
          "superplasticizer": 0,
          "water": 228
         },
         {
          "age": 360,
          "cement": 198.6,
          "coarse_aggregate": 978.4,
          "fine_aggregate": 825.5,
          "fly_ash": 0,
          "index": 4,
          "slag": 132.4,
          "strength": 44.296075096,
          "superplasticizer": 0,
          "water": 192
         }
        ],
        "schema": {
         "fields": [
          {
           "name": "index",
           "type": "integer"
          },
          {
           "name": "cement",
           "type": "number"
          },
          {
           "name": "slag",
           "type": "number"
          },
          {
           "name": "fly_ash",
           "type": "number"
          },
          {
           "name": "water",
           "type": "number"
          },
          {
           "name": "superplasticizer",
           "type": "number"
          },
          {
           "name": "coarse_aggregate",
           "type": "number"
          },
          {
           "name": "fine_aggregate",
           "type": "number"
          },
          {
           "name": "age",
           "type": "integer"
          },
          {
           "name": "strength",
           "type": "number"
          }
         ],
         "pandas_version": "0.20.0",
         "primaryKey": [
          "index"
         ]
        }
       },
       "total_rows": 5
      },
      "text/html": [
       "<div>\n",
       "<style scoped>\n",
       "    .dataframe tbody tr th:only-of-type {\n",
       "        vertical-align: middle;\n",
       "    }\n",
       "\n",
       "    .dataframe tbody tr th {\n",
       "        vertical-align: top;\n",
       "    }\n",
       "\n",
       "    .dataframe thead th {\n",
       "        text-align: right;\n",
       "    }\n",
       "</style>\n",
       "<table border=\"1\" class=\"dataframe\">\n",
       "  <thead>\n",
       "    <tr style=\"text-align: right;\">\n",
       "      <th></th>\n",
       "      <th>cement</th>\n",
       "      <th>slag</th>\n",
       "      <th>fly_ash</th>\n",
       "      <th>water</th>\n",
       "      <th>superplasticizer</th>\n",
       "      <th>coarse_aggregate</th>\n",
       "      <th>fine_aggregate</th>\n",
       "      <th>age</th>\n",
       "      <th>strength</th>\n",
       "    </tr>\n",
       "  </thead>\n",
       "  <tbody>\n",
       "    <tr>\n",
       "      <th>0</th>\n",
       "      <td>540.0</td>\n",
       "      <td>0.0</td>\n",
       "      <td>0.0</td>\n",
       "      <td>162.0</td>\n",
       "      <td>2.5</td>\n",
       "      <td>1040.0</td>\n",
       "      <td>676.0</td>\n",
       "      <td>28</td>\n",
       "      <td>79.986111</td>\n",
       "    </tr>\n",
       "    <tr>\n",
       "      <th>1</th>\n",
       "      <td>540.0</td>\n",
       "      <td>0.0</td>\n",
       "      <td>0.0</td>\n",
       "      <td>162.0</td>\n",
       "      <td>2.5</td>\n",
       "      <td>1055.0</td>\n",
       "      <td>676.0</td>\n",
       "      <td>28</td>\n",
       "      <td>61.887366</td>\n",
       "    </tr>\n",
       "    <tr>\n",
       "      <th>2</th>\n",
       "      <td>332.5</td>\n",
       "      <td>142.5</td>\n",
       "      <td>0.0</td>\n",
       "      <td>228.0</td>\n",
       "      <td>0.0</td>\n",
       "      <td>932.0</td>\n",
       "      <td>594.0</td>\n",
       "      <td>270</td>\n",
       "      <td>40.269535</td>\n",
       "    </tr>\n",
       "    <tr>\n",
       "      <th>3</th>\n",
       "      <td>332.5</td>\n",
       "      <td>142.5</td>\n",
       "      <td>0.0</td>\n",
       "      <td>228.0</td>\n",
       "      <td>0.0</td>\n",
       "      <td>932.0</td>\n",
       "      <td>594.0</td>\n",
       "      <td>365</td>\n",
       "      <td>41.052780</td>\n",
       "    </tr>\n",
       "    <tr>\n",
       "      <th>4</th>\n",
       "      <td>198.6</td>\n",
       "      <td>132.4</td>\n",
       "      <td>0.0</td>\n",
       "      <td>192.0</td>\n",
       "      <td>0.0</td>\n",
       "      <td>978.4</td>\n",
       "      <td>825.5</td>\n",
       "      <td>360</td>\n",
       "      <td>44.296075</td>\n",
       "    </tr>\n",
       "  </tbody>\n",
       "</table>\n",
       "</div>"
      ],
      "text/plain": [
       "   cement   slag  fly_ash  water  superplasticizer  coarse_aggregate  \\\n",
       "0   540.0    0.0      0.0  162.0               2.5            1040.0   \n",
       "1   540.0    0.0      0.0  162.0               2.5            1055.0   \n",
       "2   332.5  142.5      0.0  228.0               0.0             932.0   \n",
       "3   332.5  142.5      0.0  228.0               0.0             932.0   \n",
       "4   198.6  132.4      0.0  192.0               0.0             978.4   \n",
       "\n",
       "   fine_aggregate  age   strength  \n",
       "0           676.0   28  79.986111  \n",
       "1           676.0   28  61.887366  \n",
       "2           594.0  270  40.269535  \n",
       "3           594.0  365  41.052780  \n",
       "4           825.5  360  44.296075  "
      ]
     },
     "execution_count": 27,
     "metadata": {},
     "output_type": "execute_result"
    }
   ],
   "source": [
    "df = pd.read_csv('data/concrete_data.csv')\n",
    "df.head()"
   ]
  },
  {
   "cell_type": "markdown",
   "id": "90a8a67f-1b24-4d00-af31-bf179f76b885",
   "metadata": {},
   "source": [
    "## Data Preprocessing\n",
    "\n",
    "### Data Size and Structure\n",
    "\n",
    "- Dataset comprises of 1030 observations.\n",
    "- 8 features and 1 target variable `strength`.\n",
    "- All columns are numerical\n",
    "- No null values"
   ]
  },
  {
   "cell_type": "code",
   "execution_count": 28,
   "id": "643e657c-22b6-4505-b453-6e4e8f29677f",
   "metadata": {},
   "outputs": [
    {
     "name": "stdout",
     "output_type": "stream",
     "text": [
      "Shape: (1030, 9) \n",
      "\n",
      "<class 'pandas.core.frame.DataFrame'>\n",
      "RangeIndex: 1030 entries, 0 to 1029\n",
      "Data columns (total 9 columns):\n",
      " #   Column            Non-Null Count  Dtype  \n",
      "---  ------            --------------  -----  \n",
      " 0   cement            1030 non-null   float64\n",
      " 1   slag              1030 non-null   float64\n",
      " 2   fly_ash           1030 non-null   float64\n",
      " 3   water             1030 non-null   float64\n",
      " 4   superplasticizer  1030 non-null   float64\n",
      " 5   coarse_aggregate  1030 non-null   float64\n",
      " 6   fine_aggregate    1030 non-null   float64\n",
      " 7   age               1030 non-null   int64  \n",
      " 8   strength          1030 non-null   float64\n",
      "dtypes: float64(8), int64(1)\n",
      "memory usage: 72.5 KB\n"
     ]
    }
   ],
   "source": [
    "print(f'Shape: {df.shape} \\n')\n",
    "df.info()"
   ]
  },
  {
   "cell_type": "markdown",
   "id": "0d90e6c3-eb12-4ae7-8a5d-6e20afc4c163",
   "metadata": {},
   "source": [
    "### Duplicated Data\n",
    "A small 2.43% of the dataset are duplicated. I decided to drop these, so now the dataset has 1005 observations."
   ]
  },
  {
   "cell_type": "code",
   "execution_count": 29,
   "id": "bbb3bde7-0e78-4bd1-87b7-f26932d0fd52",
   "metadata": {},
   "outputs": [
    {
     "name": "stdout",
     "output_type": "stream",
     "text": [
      "Duplicated percentage: 2.43%\n",
      "df shape after removing duplicates: (1005, 9)\n"
     ]
    }
   ],
   "source": [
    "dup_perc = df.duplicated().sum() / len(df) * 100\n",
    "print(f'Duplicated percentage: {np.round(dup_perc, 2)}%')\n",
    "df.drop_duplicates(inplace=True)\n",
    "print(f'df shape after removing duplicates: {df.shape}')"
   ]
  },
  {
   "cell_type": "markdown",
   "id": "aaec1f84-fbe9-44e4-9393-9435bf2a4016",
   "metadata": {},
   "source": [
    "### Outliers\n",
    "\n",
    "Boxplots show that there are outliers in our data, but not many.\n",
    "We will be replacing these outliers with their median."
   ]
  },
  {
   "cell_type": "code",
   "execution_count": 30,
   "id": "d7f08425-08c3-48a8-87be-013d3be2786d",
   "metadata": {},
   "outputs": [
    {
     "data": {
      "image/png": "[encoded data removed]",
      "text/plain": [
       "<Figure size 864x432 with 1 Axes>"
      ]
     },
     "metadata": {
      "needs_background": "light"
     },
     "output_type": "display_data"
    }
   ],
   "source": [
    "plt.figure(figsize=(12,6))\n",
    "sns.boxplot(data=df, orient=\"h\", palette=\"Set3\")\n",
    "plt.show()"
   ]
  },
  {
   "cell_type": "code",
   "execution_count": 31,
   "id": "464b6a04-691a-4a12-9e6c-c53a26f890fb",
   "metadata": {},
   "outputs": [],
   "source": [
    "for col_name in df.columns[:-1]:\n",
    "    q1 = df[col_name].quantile(0.25)\n",
    "    q3 = df[col_name].quantile(0.75)\n",
    "    iqr = q3 - q1\n",
    "    low = q1 - 1.5 * iqr\n",
    "    high = q3 + 1.5 * iqr\n",
    "    df.loc[(df[col_name] < low) | (df[col_name] > high), col_name] = df[col_name].median()"
   ]
  },
  {
   "cell_type": "markdown",
   "id": "d2ceaa14-7e2f-4597-86ed-10f3f34458e4",
   "metadata": {},
   "source": [
    "### Summary Statistics\n",
    "\n",
    "Variance, skew, and kurtosis is also included. <br>\n",
    "We can see that all variables have skew are in asymmetric form."
   ]
  },
  {
   "cell_type": "code",
   "execution_count": 32,
   "id": "61d09a65-7a7f-43de-951b-decb042f5bd0",
   "metadata": {},
   "outputs": [
    {
     "data": {
      "application/com.datacamp.data-table.v1+json": {
       "is_truncated": false,
       "table": {
        "data": [
         {
          "25%": 190.68,
          "50%": 265,
          "75%": 349,
          "count": 1005,
          "index": "cement",
          "kurtosis": -0.4324632111,
          "max": 540,
          "mean": 278.6290547264,
          "min": 102,
          "skew": 0.5649968253,
          "std": 104.345002761,
          "var": 10887.8796011972
         },
         {
          "25%": 0,
          "50%": 20,
          "75%": 141.3,
          "count": 1005,
          "index": "slag",
          "kurtosis": -0.5241163036,
          "max": 342.1,
          "mean": 71.3677114428,
          "min": 0,
          "skew": 0.8304645503,
          "std": 85.2397403994,
          "var": 7265.8133433629
         },
         {
          "25%": 0,
          "50%": 0,
          "75%": 118.27,
          "count": 1005,
          "index": "fly_ash",
          "kurtosis": -1.3664572978,
          "max": 200.1,
          "mean": 55.5350746269,
          "min": 0,
          "skew": 0.4973236695,
          "std": 64.2074484493,
          "var": 4122.5964363739
         },
         {
          "25%": 168,
          "50%": 185.7,
          "75%": 192,
          "count": 1005,
          "index": "water",
          "kurtosis": -0.0763566852,
          "max": 228,
          "mean": 182.5212935323,
          "min": 127.3,
          "skew": 0.1265206838,
          "std": 20.1144996689,
          "var": 404.5930969307
         },
         {
          "25%": 0,
          "50%": 6.1,
          "75%": 9.9,
          "count": 1005,
          "index": "superplasticizer",
          "kurtosis": -0.312220262,
          "max": 23.4,
          "mean": 5.7918457711,
          "min": 0,
          "skew": 0.5142402867,
          "std": 5.3968510371,
          "var": 29.1260011166
         },
         {
          "25%": 932,
          "50%": 968,
          "75%": 1031,
          "count": 1005,
          "index": "coarse_aggregate",
          "kurtosis": -0.583033838,
          "max": 1145,
          "mean": 974.3764676617,
          "min": 801,
          "skew": -0.0652422121,
          "std": 77.579533717,
          "var": 6018.5840517532
         },
         {
          "25%": 724.3,
          "50%": 780,
          "75%": 822,
          "count": 1005,
          "index": "fine_aggregate",
          "kurtosis": -0.1983161547,
          "max": 945,
          "mean": 771.6289054726,
          "min": 594,
          "skew": -0.3352196193,
          "std": 78.8212665816,
          "var": 6212.7920655339
         },
         {
          "25%": 7,
          "50%": 28,
          "75%": 28,
          "count": 1005,
          "index": "age",
          "kurtosis": 0.8765337324,
          "max": 120,
          "mean": 32.1174129353,
          "min": 1,
          "skew": 1.3120075748,
          "std": 27.6653332281,
          "var": 765.3706626231
         },
         {
          "25%": 23.523542168,
          "50%": 33.79811352,
          "75%": 44.868340176,
          "count": 1005,
          "index": "strength",
          "kurtosis": -0.3054015557,
          "max": 82.5992248,
          "mean": 35.2502728762,
          "min": 2.331807832,
          "skew": 0.3956529411,
          "std": 16.284807654,
          "var": 265.1949603262
         }
        ],
        "schema": {
         "fields": [
          {
           "name": "index",
           "type": "string"
          },
          {
           "name": "count",
           "type": "number"
          },
          {
           "name": "mean",
           "type": "number"
          },
          {
           "name": "std",
           "type": "number"
          },
          {
           "name": "min",
           "type": "number"
          },
          {
           "name": "25%",
           "type": "number"
          },
          {
           "name": "50%",
           "type": "number"
          },
          {
           "name": "75%",
           "type": "number"
          },
          {
           "name": "max",
           "type": "number"
          },
          {
           "name": "var",
           "type": "number"
          },
          {
           "name": "skew",
           "type": "number"
          },
          {
           "name": "kurtosis",
           "type": "number"
          }
         ],
         "pandas_version": "0.20.0",
         "primaryKey": [
          "index"
         ]
        }
       },
       "total_rows": 9
      },
      "text/html": [
       "<div>\n",
       "<style scoped>\n",
       "    .dataframe tbody tr th:only-of-type {\n",
       "        vertical-align: middle;\n",
       "    }\n",
       "\n",
       "    .dataframe tbody tr th {\n",
       "        vertical-align: top;\n",
       "    }\n",
       "\n",
       "    .dataframe thead th {\n",
       "        text-align: right;\n",
       "    }\n",
       "</style>\n",
       "<table border=\"1\" class=\"dataframe\">\n",
       "  <thead>\n",
       "    <tr style=\"text-align: right;\">\n",
       "      <th></th>\n",
       "      <th>count</th>\n",
       "      <th>mean</th>\n",
       "      <th>std</th>\n",
       "      <th>min</th>\n",
       "      <th>25%</th>\n",
       "      <th>50%</th>\n",
       "      <th>75%</th>\n",
       "      <th>max</th>\n",
       "      <th>var</th>\n",
       "      <th>skew</th>\n",
       "      <th>kurtosis</th>\n",
       "    </tr>\n",
       "  </thead>\n",
       "  <tbody>\n",
       "    <tr>\n",
       "      <th>cement</th>\n",
       "      <td>1005.0</td>\n",
       "      <td>278.629055</td>\n",
       "      <td>104.345003</td>\n",
       "      <td>102.000000</td>\n",
       "      <td>190.680000</td>\n",
       "      <td>265.000000</td>\n",
       "      <td>349.00000</td>\n",
       "      <td>540.000000</td>\n",
       "      <td>10887.879601</td>\n",
       "      <td>0.564997</td>\n",
       "      <td>-0.432463</td>\n",
       "    </tr>\n",
       "    <tr>\n",
       "      <th>slag</th>\n",
       "      <td>1005.0</td>\n",
       "      <td>71.367711</td>\n",
       "      <td>85.239740</td>\n",
       "      <td>0.000000</td>\n",
       "      <td>0.000000</td>\n",
       "      <td>20.000000</td>\n",
       "      <td>141.30000</td>\n",
       "      <td>342.100000</td>\n",
       "      <td>7265.813343</td>\n",
       "      <td>0.830465</td>\n",
       "      <td>-0.524116</td>\n",
       "    </tr>\n",
       "    <tr>\n",
       "      <th>fly_ash</th>\n",
       "      <td>1005.0</td>\n",
       "      <td>55.535075</td>\n",
       "      <td>64.207448</td>\n",
       "      <td>0.000000</td>\n",
       "      <td>0.000000</td>\n",
       "      <td>0.000000</td>\n",
       "      <td>118.27000</td>\n",
       "      <td>200.100000</td>\n",
       "      <td>4122.596436</td>\n",
       "      <td>0.497324</td>\n",
       "      <td>-1.366457</td>\n",
       "    </tr>\n",
       "    <tr>\n",
       "      <th>water</th>\n",
       "      <td>1005.0</td>\n",
       "      <td>182.521294</td>\n",
       "      <td>20.114500</td>\n",
       "      <td>127.300000</td>\n",
       "      <td>168.000000</td>\n",
       "      <td>185.700000</td>\n",
       "      <td>192.00000</td>\n",
       "      <td>228.000000</td>\n",
       "      <td>404.593097</td>\n",
       "      <td>0.126521</td>\n",
       "      <td>-0.076357</td>\n",
       "    </tr>\n",
       "    <tr>\n",
       "      <th>superplasticizer</th>\n",
       "      <td>1005.0</td>\n",
       "      <td>5.791846</td>\n",
       "      <td>5.396851</td>\n",
       "      <td>0.000000</td>\n",
       "      <td>0.000000</td>\n",
       "      <td>6.100000</td>\n",
       "      <td>9.90000</td>\n",
       "      <td>23.400000</td>\n",
       "      <td>29.126001</td>\n",
       "      <td>0.514240</td>\n",
       "      <td>-0.312220</td>\n",
       "    </tr>\n",
       "    <tr>\n",
       "      <th>coarse_aggregate</th>\n",
       "      <td>1005.0</td>\n",
       "      <td>974.376468</td>\n",
       "      <td>77.579534</td>\n",
       "      <td>801.000000</td>\n",
       "      <td>932.000000</td>\n",
       "      <td>968.000000</td>\n",
       "      <td>1031.00000</td>\n",
       "      <td>1145.000000</td>\n",
       "      <td>6018.584052</td>\n",
       "      <td>-0.065242</td>\n",
       "      <td>-0.583034</td>\n",
       "    </tr>\n",
       "    <tr>\n",
       "      <th>fine_aggregate</th>\n",
       "      <td>1005.0</td>\n",
       "      <td>771.628905</td>\n",
       "      <td>78.821267</td>\n",
       "      <td>594.000000</td>\n",
       "      <td>724.300000</td>\n",
       "      <td>780.000000</td>\n",
       "      <td>822.00000</td>\n",
       "      <td>945.000000</td>\n",
       "      <td>6212.792066</td>\n",
       "      <td>-0.335220</td>\n",
       "      <td>-0.198316</td>\n",
       "    </tr>\n",
       "    <tr>\n",
       "      <th>age</th>\n",
       "      <td>1005.0</td>\n",
       "      <td>32.117413</td>\n",
       "      <td>27.665333</td>\n",
       "      <td>1.000000</td>\n",
       "      <td>7.000000</td>\n",
       "      <td>28.000000</td>\n",
       "      <td>28.00000</td>\n",
       "      <td>120.000000</td>\n",
       "      <td>765.370663</td>\n",
       "      <td>1.312008</td>\n",
       "      <td>0.876534</td>\n",
       "    </tr>\n",
       "    <tr>\n",
       "      <th>strength</th>\n",
       "      <td>1005.0</td>\n",
       "      <td>35.250273</td>\n",
       "      <td>16.284808</td>\n",
       "      <td>2.331808</td>\n",
       "      <td>23.523542</td>\n",
       "      <td>33.798114</td>\n",
       "      <td>44.86834</td>\n",
       "      <td>82.599225</td>\n",
       "      <td>265.194960</td>\n",
       "      <td>0.395653</td>\n",
       "      <td>-0.305402</td>\n",
       "    </tr>\n",
       "  </tbody>\n",
       "</table>\n",
       "</div>"
      ],
      "text/plain": [
       "                   count        mean         std         min         25%  \\\n",
       "cement            1005.0  278.629055  104.345003  102.000000  190.680000   \n",
       "slag              1005.0   71.367711   85.239740    0.000000    0.000000   \n",
       "fly_ash           1005.0   55.535075   64.207448    0.000000    0.000000   \n",
       "water             1005.0  182.521294   20.114500  127.300000  168.000000   \n",
       "superplasticizer  1005.0    5.791846    5.396851    0.000000    0.000000   \n",
       "coarse_aggregate  1005.0  974.376468   77.579534  801.000000  932.000000   \n",
       "fine_aggregate    1005.0  771.628905   78.821267  594.000000  724.300000   \n",
       "age               1005.0   32.117413   27.665333    1.000000    7.000000   \n",
       "strength          1005.0   35.250273   16.284808    2.331808   23.523542   \n",
       "\n",
       "                         50%         75%          max           var      skew  \\\n",
       "cement            265.000000   349.00000   540.000000  10887.879601  0.564997   \n",
       "slag               20.000000   141.30000   342.100000   7265.813343  0.830465   \n",
       "fly_ash             0.000000   118.27000   200.100000   4122.596436  0.497324   \n",
       "water             185.700000   192.00000   228.000000    404.593097  0.126521   \n",
       "superplasticizer    6.100000     9.90000    23.400000     29.126001  0.514240   \n",
       "coarse_aggregate  968.000000  1031.00000  1145.000000   6018.584052 -0.065242   \n",
       "fine_aggregate    780.000000   822.00000   945.000000   6212.792066 -0.335220   \n",
       "age                28.000000    28.00000   120.000000    765.370663  1.312008   \n",
       "strength           33.798114    44.86834    82.599225    265.194960  0.395653   \n",
       "\n",
       "                  kurtosis  \n",
       "cement           -0.432463  \n",
       "slag             -0.524116  \n",
       "fly_ash          -1.366457  \n",
       "water            -0.076357  \n",
       "superplasticizer -0.312220  \n",
       "coarse_aggregate -0.583034  \n",
       "fine_aggregate   -0.198316  \n",
       "age               0.876534  \n",
       "strength         -0.305402  "
      ]
     },
     "execution_count": 32,
     "metadata": {},
     "output_type": "execute_result"
    }
   ],
   "source": [
    "desc = df.describe().T\n",
    "desc['var'] = df.var(axis=0)\n",
    "desc['skew'] = df.skew(axis=0)\n",
    "desc['kurtosis'] = df.kurtosis(axis=0)\n",
    "desc"
   ]
  },
  {
   "cell_type": "markdown",
   "id": "dcb2e04a-85c8-49aa-99c4-529100618704",
   "metadata": {
    "tags": []
   },
   "source": [
    "## Exploratory Data Analysis"
   ]
  },
  {
   "cell_type": "markdown",
   "id": "a326a037-17a1-4f82-b7c5-c490d58140aa",
   "metadata": {},
   "source": [
    "### Correlation matrix\n",
    "\n",
    "Let's look at the relationship between all the variables and their correlation. <br>\n",
    "From the heatmap, we observe target variable `strength` has a high positive correlation `cement` 0.49, `superplasticizer` 0.32, and `age` 0.5. <br>\n",
    "There is a strong negative correlation (-0.61) between `superplasticizer` and `water`."
   ]
  },
  {
   "cell_type": "code",
   "execution_count": 33,
   "id": "cf29bd8a-2619-4d3c-a601-249bbf5011aa",
   "metadata": {},
   "outputs": [
    {
     "data": {
      "image/png": "[encoded data removed]",
      "text/plain": [
       "<Figure size 864x432 with 2 Axes>"
      ]
     },
     "metadata": {
      "needs_background": "light"
     },
     "output_type": "display_data"
    }
   ],
   "source": [
    "plt.figure(figsize=(12,6))\n",
    "sns.heatmap(df.corr(), annot=True)\n",
    "plt.title('Heatmap of correlation with all features')\n",
    "plt.show()"
   ]
  },
  {
   "cell_type": "markdown",
   "id": "3e9f2d12-a822-42a5-87e3-94d391412429",
   "metadata": {},
   "source": [
    "### Age\n",
    "\n",
    "Age is a very important characteristic that affects concrete strength."
   ]
  },
  {
   "cell_type": "code",
   "execution_count": 34,
   "id": "08fdc396-cfbe-4914-985b-b56c5fc74339",
   "metadata": {},
   "outputs": [
    {
     "data": {
      "image/png": "[encoded data removed]",
      "text/plain": [
       "<Figure size 864x432 with 1 Axes>"
      ]
     },
     "metadata": {
      "needs_background": "light"
     },
     "output_type": "display_data"
    }
   ],
   "source": [
    "plt.figure(figsize=(12,6))\n",
    "sns.countplot(x='age', data=df)\n",
    "plt.title(label=\"Count of ages of concrete\")\n",
    "plt.xlabel(\"Age (Days)\")\n",
    "plt.show()"
   ]
  },
  {
   "cell_type": "markdown",
   "id": "0cb1203b-5e5c-4012-afcc-9e8ab70b3ebd",
   "metadata": {},
   "source": [
    "This bar plot shows that age is a categorical variable with a high number of observations at 28 days. <br>\n",
    "The 28 days time frame is significant because this is the period for concrete to reach 99% of it's strength. While the concrete continuous to gain strength after that period, the rate of gain is much less compared to that in 28 days."
   ]
  },
  {
   "cell_type": "code",
   "execution_count": 35,
   "id": "f9337430-04ba-4e21-9711-7c7487817a18",
   "metadata": {},
   "outputs": [
    {
     "name": "stdout",
     "output_type": "stream",
     "text": [
      "Average concrete strength: 35.25027287623584 \n",
      "\n"
     ]
    },
    {
     "data": {
      "text/html": [
       "<style  type=\"text/css\" >\n",
       "</style><table id=\"T_701fd_\" ><caption>Average concrete strength at different ages (Days):</caption><thead>    <tr>        <th class=\"blank level0\" ></th>        <th class=\"col_heading level0 col0\" >age</th>        <th class=\"col_heading level0 col1\" >mean</th>        <th class=\"col_heading level0 col2\" >count</th>    </tr></thead><tbody>\n",
       "                <tr>\n",
       "                        <th id=\"T_701fd_level0_row0\" class=\"row_heading level0 row0\" >0</th>\n",
       "                        <td id=\"T_701fd_row0_col0\" class=\"data row0 col0\" >1</td>\n",
       "                        <td id=\"T_701fd_row0_col1\" class=\"data row0 col1\" >9.452716</td>\n",
       "                        <td id=\"T_701fd_row0_col2\" class=\"data row0 col2\" >2</td>\n",
       "            </tr>\n",
       "            <tr>\n",
       "                        <th id=\"T_701fd_level0_row1\" class=\"row_heading level0 row1\" >1</th>\n",
       "                        <td id=\"T_701fd_row1_col0\" class=\"data row1 col0\" >3</td>\n",
       "                        <td id=\"T_701fd_row1_col1\" class=\"data row1 col1\" >18.378023</td>\n",
       "                        <td id=\"T_701fd_row1_col2\" class=\"data row1 col2\" >129</td>\n",
       "            </tr>\n",
       "            <tr>\n",
       "                        <th id=\"T_701fd_level0_row2\" class=\"row_heading level0 row2\" >2</th>\n",
       "                        <td id=\"T_701fd_row2_col0\" class=\"data row2 col0\" >7</td>\n",
       "                        <td id=\"T_701fd_row2_col1\" class=\"data row2 col1\" >25.181843</td>\n",
       "                        <td id=\"T_701fd_row2_col2\" class=\"data row2 col2\" >122</td>\n",
       "            </tr>\n",
       "            <tr>\n",
       "                        <th id=\"T_701fd_level0_row3\" class=\"row_heading level0 row3\" >3</th>\n",
       "                        <td id=\"T_701fd_row3_col0\" class=\"data row3 col0\" >14</td>\n",
       "                        <td id=\"T_701fd_row3_col1\" class=\"data row3 col1\" >28.751038</td>\n",
       "                        <td id=\"T_701fd_row3_col2\" class=\"data row3 col2\" >62</td>\n",
       "            </tr>\n",
       "            <tr>\n",
       "                        <th id=\"T_701fd_level0_row4\" class=\"row_heading level0 row4\" >4</th>\n",
       "                        <td id=\"T_701fd_row4_col0\" class=\"data row4 col0\" >28</td>\n",
       "                        <td id=\"T_701fd_row4_col1\" class=\"data row4 col1\" >37.383788</td>\n",
       "                        <td id=\"T_701fd_row4_col2\" class=\"data row4 col2\" >478</td>\n",
       "            </tr>\n",
       "            <tr>\n",
       "                        <th id=\"T_701fd_level0_row5\" class=\"row_heading level0 row5\" >5</th>\n",
       "                        <td id=\"T_701fd_row5_col0\" class=\"data row5 col0\" >56</td>\n",
       "                        <td id=\"T_701fd_row5_col1\" class=\"data row5 col1\" >50.715152</td>\n",
       "                        <td id=\"T_701fd_row5_col2\" class=\"data row5 col2\" >86</td>\n",
       "            </tr>\n",
       "            <tr>\n",
       "                        <th id=\"T_701fd_level0_row6\" class=\"row_heading level0 row6\" >6</th>\n",
       "                        <td id=\"T_701fd_row6_col0\" class=\"data row6 col0\" >90</td>\n",
       "                        <td id=\"T_701fd_row6_col1\" class=\"data row6 col1\" >40.480809</td>\n",
       "                        <td id=\"T_701fd_row6_col2\" class=\"data row6 col2\" >54</td>\n",
       "            </tr>\n",
       "            <tr>\n",
       "                        <th id=\"T_701fd_level0_row7\" class=\"row_heading level0 row7\" >7</th>\n",
       "                        <td id=\"T_701fd_row7_col0\" class=\"data row7 col0\" >91</td>\n",
       "                        <td id=\"T_701fd_row7_col1\" class=\"data row7 col1\" >68.674649</td>\n",
       "                        <td id=\"T_701fd_row7_col2\" class=\"data row7 col2\" >17</td>\n",
       "            </tr>\n",
       "            <tr>\n",
       "                        <th id=\"T_701fd_level0_row8\" class=\"row_heading level0 row8\" >8</th>\n",
       "                        <td id=\"T_701fd_row8_col0\" class=\"data row8 col0\" >100</td>\n",
       "                        <td id=\"T_701fd_row8_col1\" class=\"data row8 col1\" >47.668780</td>\n",
       "                        <td id=\"T_701fd_row8_col2\" class=\"data row8 col2\" >52</td>\n",
       "            </tr>\n",
       "            <tr>\n",
       "                        <th id=\"T_701fd_level0_row9\" class=\"row_heading level0 row9\" >9</th>\n",
       "                        <td id=\"T_701fd_row9_col0\" class=\"data row9 col0\" >120</td>\n",
       "                        <td id=\"T_701fd_row9_col1\" class=\"data row9 col1\" >39.647168</td>\n",
       "                        <td id=\"T_701fd_row9_col2\" class=\"data row9 col2\" >3</td>\n",
       "            </tr>\n",
       "    </tbody></table>"
      ],
      "text/plain": [
       "<pandas.io.formats.style.Styler at 0x7f38a0900550>"
      ]
     },
     "execution_count": 35,
     "metadata": {},
     "output_type": "execute_result"
    }
   ],
   "source": [
    "avg_str_by_day = df.groupby('age').agg(['mean', 'count'])['strength']\n",
    "avg_str_by_day.reset_index(inplace=True)\n",
    "avg_str_by_day.age = avg_str_by_day.age.astype(int)\n",
    "avg_str_by_day = avg_str_by_day.style.set_caption(\"Average concrete strength at different ages (Days):\")\n",
    "print(f'Average concrete strength: {df.strength.mean()} \\n')\n",
    "avg_str_by_day"
   ]
  },
  {
   "cell_type": "markdown",
   "id": "707706ff-5622-481a-a043-1dd841f59fb1",
   "metadata": {},
   "source": [
    "From the table we can see that average concrete strength at 28 days is similar to the average strength of the entire dataset."
   ]
  },
  {
   "cell_type": "code",
   "execution_count": 36,
   "id": "1cf18be3-7283-43af-93c7-13a3866238de",
   "metadata": {},
   "outputs": [
    {
     "data": {
      "image/png": "[encoded data removed]",
      "text/plain": [
       "<Figure size 864x432 with 1 Axes>"
      ]
     },
     "metadata": {
      "needs_background": "light"
     },
     "output_type": "display_data"
    }
   ],
   "source": [
    "plt.figure(figsize=(12,6))\n",
    "sns.boxplot(x='age', y='strength', data=df);\n",
    "plt.title(label=\"Boxplot of concrete strength at different ages\")   \n",
    "plt.xlabel(\"Age (Days)\")\n",
    "plt.ylabel(\"Strength\")\n",
    "plt.show()"
   ]
  },
  {
   "cell_type": "markdown",
   "id": "8d15b593-4f66-463b-ac70-425c266650b4",
   "metadata": {},
   "source": [
    "In this boxplot, concrete strength is the highest at 91 days. They have the highest median strenght with a narrow variation. We can also see that strength has the largest variation at 28 days."
   ]
  },
  {
   "cell_type": "markdown",
   "id": "81da4f90-bd9f-4f6b-b876-652c8c8d1970",
   "metadata": {
    "tags": []
   },
   "source": [
    "##  1. Average strength of the concrete samples at 1, 7, 14, and 28 days of age.\n",
    "\n",
    "Average strength of concrete is the lowest after 1 day and increases significantly after 7 days. Strength continues to increase in MPa after 14 and 28 days."
   ]
  },
  {
   "cell_type": "code",
   "execution_count": 37,
   "id": "cfc23420-047f-49a4-8456-c26186edab7a",
   "metadata": {},
   "outputs": [
    {
     "name": "stdout",
     "output_type": "stream",
     "text": [
      "Average strength of the concrete sample is 9.45 MPa at 1 day.\n",
      "Average strength of the concrete sample is 25.18 MPa at 7 days.\n",
      "Average strength of the concrete sample is 28.75 MPa at 14 days.\n",
      "Average strength of the concrete sample is 37.38 MPa at 28 days.\n"
     ]
    }
   ],
   "source": [
    "ages = [1, 7, 14, 28]\n",
    "\n",
    "for age in ages:\n",
    "    cond = df.age == age\n",
    "    avg_str = df[cond].strength.mean().round(2)\n",
    "    if age == 1:\n",
    "        print(f'Average strength of the concrete sample is {avg_str} MPa at {age} day.')\n",
    "    else:\n",
    "        print(f'Average strength of the concrete sample is {avg_str} MPa at {age} days.')"
   ]
  },
  {
   "cell_type": "markdown",
   "id": "dc886cef-86b2-4288-b124-c35d2a47f512",
   "metadata": {},
   "source": [
    "## 2. Creating predictive model\n",
    "\n",
    "Now let's help our colleages in the engineering department find out the coefficients $\\beta_{0}$, $\\beta_{1}$ ... $\\beta_{8}$, to use in the following formula:\n",
    "\n",
    "![Strength Equation](str_eq.png)"
   ]
  },
  {
   "cell_type": "markdown",
   "id": "3dede16c-0c6f-4de4-b653-79adf29002cb",
   "metadata": {},
   "source": [
    "## Train Test Split\n",
    "\n",
    "Split the data to train (80%) and test (20%) to estimate the performance of machine learning algorithms when they are used to make predictions on data not used to train the model."
   ]
  },
  {
   "cell_type": "code",
   "execution_count": 38,
   "id": "20ac4305-ba34-4a3a-92f2-d6d430b68a09",
   "metadata": {},
   "outputs": [],
   "source": [
    "features = ['cement', 'slag', 'fly_ash', 'water', 'superplasticizer', 'coarse_aggregate', 'fine_aggregate', 'age']\n",
    "X = df[features] # Features\n",
    "y = df['strength'] # Target"
   ]
  },
  {
   "cell_type": "code",
   "execution_count": 39,
   "id": "8df4a9f2-2a5e-4a0c-89bd-a957b6988345",
   "metadata": {},
   "outputs": [
    {
     "name": "stdout",
     "output_type": "stream",
     "text": [
      "X train data (804, 8)\n",
      "y train data (804,)\n",
      "X test data  (201, 8)\n",
      "y test data  (201,)\n"
     ]
    }
   ],
   "source": [
    "# Train Test Split\n",
    "X_train, X_test, y_train, y_test = train_test_split(X, y, test_size=0.2, random_state=2022)\n",
    "\n",
    "print('X train data {}'.format(X_train.shape))\n",
    "print('y train data {}'.format(y_train.shape))\n",
    "print('X test data  {}'.format(X_test.shape))\n",
    "print('y test data  {}'.format(y_test.shape))"
   ]
  },
  {
   "cell_type": "markdown",
   "id": "779d6366-9986-43f0-9c2c-65bbb934ea8f",
   "metadata": {
    "tags": []
   },
   "source": [
    "### Encoding age\n",
    "\n",
    "We observed that `age` is a variabel comprised of a finite set of discrete values with a ranked ordering between values."
   ]
  },
  {
   "cell_type": "code",
   "execution_count": 16,
   "id": "11ada35a-1bbd-4b29-8fec-671437863513",
   "metadata": {},
   "outputs": [],
   "source": [
    "def ordinal_encoding_feature(data, feature):    \n",
    "    '''Transform selected column with ordinal encoder\n",
    "    \n",
    "    INPUTS:\n",
    "    data: dataframe\n",
    "    feature: column name\n",
    "    \n",
    "    OUTPUT:\n",
    "    d: dataframe with feature ordinally encoded\n",
    "    '''  \n",
    "    d = data.copy()\n",
    "    encoder = OrdinalEncoder()\n",
    "    # Reshape because only one column is transformed\n",
    "    encoder.fit(data[feature].values.reshape(-1,1))\n",
    "    d[feature]= encoder.transform(data.age.values.reshape(-1,1))\n",
    "    return d\n",
    "X_train = X_train.pipe(ordinal_encoding_feature, 'age')\n",
    "X_test = X_test.pipe(ordinal_encoding_feature, 'age')"
   ]
  },
  {
   "cell_type": "markdown",
   "id": "f4dbd66c-9dfa-48b2-8cb5-49016047e32a",
   "metadata": {},
   "source": [
    "## Model Selection\n",
    "\n",
    "We will be using a supervised regression model since the target variable `strength` is labeled and continuous. <br>\n",
    "Using k-folds cross validation to estimate and compare the performance of models on out-of-sample data using r2 score. This enables us to identify which model is worth improving upon. <br>\n",
    "GradientBoostRegressor gives the best results out of models, with the highest r2score of 0.89."
   ]
  },
  {
   "cell_type": "code",
   "execution_count": 47,
   "id": "d5761d7b-94ca-4492-b3ce-335903f65209",
   "metadata": {},
   "outputs": [],
   "source": [
    "pipelines = []\n",
    "pipelines.append(('Linear Regression', Pipeline([('scaler', StandardScaler()), ('LR', LinearRegression())])))\n",
    "pipelines.append(('KNN Regressor', Pipeline([('scaler', StandardScaler()), ('KNNR', KNeighborsRegressor())])))\n",
    "pipelines.append(('SupportVectorRegressor', Pipeline([('scaler', StandardScaler()), ('SVR', SVR())])))\n",
    "pipelines.append(('DecisionTreeRegressor', Pipeline([('scaler', StandardScaler()), ('DTR', DecisionTreeRegressor())])))\n",
    "pipelines.append(('AdaboostRegressor', Pipeline([('scaler', StandardScaler()), ('ABR', AdaBoostRegressor())])))\n",
    "pipelines.append(('RandomForestRegressor', Pipeline([('scaler', StandardScaler()), ('RBR', RandomForestRegressor())])))\n",
    "pipelines.append(('BaggingRegressor', Pipeline([('scaler', StandardScaler()), ('BGR', BaggingRegressor())])))\n",
    "pipelines.append(('GradientBoostRegressor', Pipeline([('scaler', StandardScaler()), ('GBR', GradientBoostingRegressor())])))"
   ]
  },
  {
   "cell_type": "code",
   "execution_count": 48,
   "id": "9ccd3c02-eb69-41b2-9c85-56e990b643c0",
   "metadata": {},
   "outputs": [
    {
     "data": {
      "application/com.datacamp.data-table.v1+json": {
       "is_truncated": false,
       "table": {
        "data": [
         {
          "R2": 0.6927893567,
          "Regressor": "Linear Regression",
          "Std": 0.0249183741,
          "index": 0
         },
         {
          "R2": 0.7342881819,
          "Regressor": "KNN Regressor",
          "Std": 0.0113741518,
          "index": 1
         },
         {
          "R2": 0.6531946226,
          "Regressor": "SupportVectorRegressor",
          "Std": 0.0166938766,
          "index": 2
         },
         {
          "R2": 0.8094456432,
          "Regressor": "DecisionTreeRegressor",
          "Std": 0.0176999071,
          "index": 3
         },
         {
          "R2": 0.7671633668,
          "Regressor": "AdaboostRegressor",
          "Std": 0.0181946348,
          "index": 4
         },
         {
          "R2": 0.8813918586,
          "Regressor": "RandomForestRegressor",
          "Std": 0.0125594458,
          "index": 5
         },
         {
          "R2": 0.8711710483,
          "Regressor": "BaggingRegressor",
          "Std": 0.0220789394,
          "index": 6
         },
         {
          "R2": 0.8856968344,
          "Regressor": "GradientBoostRegressor",
          "Std": 0.0115695154,
          "index": 7
         }
        ],
        "schema": {
         "fields": [
          {
           "name": "index",
           "type": "integer"
          },
          {
           "name": "Regressor",
           "type": "string"
          },
          {
           "name": "R2",
           "type": "number"
          },
          {
           "name": "Std",
           "type": "number"
          }
         ],
         "pandas_version": "0.20.0",
         "primaryKey": [
          "index"
         ]
        }
       },
       "total_rows": 8
      },
      "text/html": [
       "<div>\n",
       "<style scoped>\n",
       "    .dataframe tbody tr th:only-of-type {\n",
       "        vertical-align: middle;\n",
       "    }\n",
       "\n",
       "    .dataframe tbody tr th {\n",
       "        vertical-align: top;\n",
       "    }\n",
       "\n",
       "    .dataframe thead th {\n",
       "        text-align: right;\n",
       "    }\n",
       "</style>\n",
       "<table border=\"1\" class=\"dataframe\">\n",
       "  <thead>\n",
       "    <tr style=\"text-align: right;\">\n",
       "      <th></th>\n",
       "      <th>Regressor</th>\n",
       "      <th>R2</th>\n",
       "      <th>Std</th>\n",
       "    </tr>\n",
       "  </thead>\n",
       "  <tbody>\n",
       "    <tr>\n",
       "      <th>0</th>\n",
       "      <td>Linear Regression</td>\n",
       "      <td>0.692789</td>\n",
       "      <td>0.024918</td>\n",
       "    </tr>\n",
       "    <tr>\n",
       "      <th>1</th>\n",
       "      <td>KNN Regressor</td>\n",
       "      <td>0.734288</td>\n",
       "      <td>0.011374</td>\n",
       "    </tr>\n",
       "    <tr>\n",
       "      <th>2</th>\n",
       "      <td>SupportVectorRegressor</td>\n",
       "      <td>0.653195</td>\n",
       "      <td>0.016694</td>\n",
       "    </tr>\n",
       "    <tr>\n",
       "      <th>3</th>\n",
       "      <td>DecisionTreeRegressor</td>\n",
       "      <td>0.809446</td>\n",
       "      <td>0.017700</td>\n",
       "    </tr>\n",
       "    <tr>\n",
       "      <th>4</th>\n",
       "      <td>AdaboostRegressor</td>\n",
       "      <td>0.767163</td>\n",
       "      <td>0.018195</td>\n",
       "    </tr>\n",
       "    <tr>\n",
       "      <th>5</th>\n",
       "      <td>RandomForestRegressor</td>\n",
       "      <td>0.881392</td>\n",
       "      <td>0.012559</td>\n",
       "    </tr>\n",
       "    <tr>\n",
       "      <th>6</th>\n",
       "      <td>BaggingRegressor</td>\n",
       "      <td>0.871171</td>\n",
       "      <td>0.022079</td>\n",
       "    </tr>\n",
       "    <tr>\n",
       "      <th>7</th>\n",
       "      <td>GradientBoostRegressor</td>\n",
       "      <td>0.885697</td>\n",
       "      <td>0.011570</td>\n",
       "    </tr>\n",
       "  </tbody>\n",
       "</table>\n",
       "</div>"
      ],
      "text/plain": [
       "                Regressor        R2       Std\n",
       "0       Linear Regression  0.692789  0.024918\n",
       "1           KNN Regressor  0.734288  0.011374\n",
       "2  SupportVectorRegressor  0.653195  0.016694\n",
       "3   DecisionTreeRegressor  0.809446  0.017700\n",
       "4       AdaboostRegressor  0.767163  0.018195\n",
       "5   RandomForestRegressor  0.881392  0.012559\n",
       "6        BaggingRegressor  0.871171  0.022079\n",
       "7  GradientBoostRegressor  0.885697  0.011570"
      ]
     },
     "execution_count": 48,
     "metadata": {},
     "output_type": "execute_result"
    }
   ],
   "source": [
    "# Create empty dataframe to store the results\n",
    "cv_scores = pd.DataFrame({'Regressor':[], 'R2':[], 'Std':[]})\n",
    "\n",
    "# Cross-validation score for each pipeline for training data\n",
    "for ind, val in enumerate(pipelines):\n",
    "    name, pipeline = val\n",
    "    kfold = KFold(n_splits=5) \n",
    "    score = cross_val_score(pipeline, X_train, y_train, cv=kfold, scoring=\"r2\")\n",
    "    cv_scores.loc[ind] = [name, score.mean(), score.std()]\n",
    "cv_scores"
   ]
  },
  {
   "cell_type": "markdown",
   "id": "08b10e60-ac8e-45a7-8f24-1f86358c14e4",
   "metadata": {
    "tags": []
   },
   "source": [
    "## Model Tuning\n",
    "\n",
    "Using Grid Search to tune hyperparameters of Gradient Boosting Regressor."
   ]
  },
  {
   "cell_type": "code",
   "execution_count": 55,
   "id": "ab9a6bb0-b7b2-471d-a3fe-cddcca4c9c44",
   "metadata": {},
   "outputs": [
    {
     "name": "stdout",
     "output_type": "stream",
     "text": [
      "Fitting 5 folds for each of 288 candidates, totalling 1440 fits\n",
      "Pipeline(steps=[('GBR',\n",
      "                 GradientBoostingRegressor(learning_rate=0.05, max_depth=6,\n",
      "                                           max_features=0.3,\n",
      "                                           min_samples_leaf=17,\n",
      "                                           n_estimators=1000))])\n",
      "R Squared: 0.9250513959645825\n"
     ]
    }
   ],
   "source": [
    "steps = [('scaler', StandardScaler()), ('GBR', GradientBoostingRegressor())]\n",
    "pipeline = Pipeline(steps)\n",
    "\n",
    "param_grid=[{'GBR__n_estimators':[100,500,1000], \n",
    "             'GBR__learning_rate': [0.1,0.05,0.02,0.01], \n",
    "             'GBR__max_depth':[4,6], \n",
    "             'GBR__min_samples_leaf':[3,5,9,17], \n",
    "             'GBR__max_features':[1.0,0.3,0.1] }]\n",
    "\n",
    "search = GridSearchCV(pipeline, param_grid, cv = 5, scoring = 'r2', n_jobs=-1, verbose=1)\n",
    "search.fit(X_train, y_train)\n",
    "print(search.best_estimator_) \n",
    "print(\"R Squared:\", search.best_score_)"
   ]
  },
  {
   "cell_type": "markdown",
   "id": "42a7a747-75ea-4678-9f20-dbf29b41ecd8",
   "metadata": {},
   "source": [
    "Now that we have identified the best model, let's use it to predict on our unseen data `X_test`."
   ]
  },
  {
   "cell_type": "code",
   "execution_count": 68,
   "id": "8898c103-918d-41d4-96a5-fc7588505237",
   "metadata": {},
   "outputs": [
    {
     "data": {
      "text/plain": [
       "Pipeline(steps=[('GBR',\n",
       "                 GradientBoostingRegressor(learning_rate=0.05, max_depth=6,\n",
       "                                           max_features=0.3,\n",
       "                                           min_samples_leaf=17,\n",
       "                                           n_estimators=1000))])"
      ]
     },
     "execution_count": 68,
     "metadata": {},
     "output_type": "execute_result"
    }
   ],
   "source": [
    "best_model = search.best_estimator_\n",
    "\n",
    "es = EarlyStopping(monitor = 'val_loss', mode='min',patience=5, verbose=1)\n",
    "best_model.fit(X_train, y_train)"
   ]
  },
  {
   "cell_type": "code",
   "execution_count": 65,
   "id": "04799719-2b10-475b-be66-900fc872e01d",
   "metadata": {},
   "outputs": [],
   "source": [
    "y_pred = best_model.predict(X_test)"
   ]
  },
  {
   "cell_type": "markdown",
   "id": "9adb02e1-2434-4c64-a9b7-0e860202e791",
   "metadata": {
    "tags": []
   },
   "source": [
    "## Model Evaluation\n",
    "\n",
    "Let's evaluate the model's performance on the testing data to assess the likely future performance of a model.\n"
   ]
  },
  {
   "cell_type": "code",
   "execution_count": 66,
   "id": "c31aba09-98ec-463b-979c-bfcb668b5b56",
   "metadata": {},
   "outputs": [
    {
     "name": "stdout",
     "output_type": "stream",
     "text": [
      "Mean Absolute Error (MAE): 2.857554474106023\n",
      "Mean Squared Error (MSE): 18.697809837585048\n",
      "RMSE: 4.324096418627255\n",
      "R2 Score: 0.9270673834665101\n"
     ]
    }
   ],
   "source": [
    "print(f'Mean Absolute Error (MAE): {mean_absolute_error(y_test, y_pred)}')\n",
    "print(f'Mean Squared Error (MSE): {mean_squared_error(y_test, y_pred)}')\n",
    "print(f'RMSE: {mean_squared_error(y_test, y_pred)**0.5}')\n",
    "print(f'R2 Score: {r2_score(y_test, y_pred)}')"
   ]
  },
  {
   "cell_type": "markdown",
   "id": "2694da9c-dbc2-40e1-867c-1da7f956b178",
   "metadata": {},
   "source": [
    "## Feature Importance\n",
    "\n",
    "Using the feature importance of the model, we get the coefficients $\\beta_{0}$, $\\beta_{1}$ ... $\\beta_{8}$, to use in the following formula:\n",
    "![Strength Equation](str_eq.png)"
   ]
  },
  {
   "cell_type": "code",
   "execution_count": 70,
   "id": "a4d579af-d464-4f43-b4d2-e93bfae07be3",
   "metadata": {},
   "outputs": [
    {
     "data": {
      "image/png": "[encoded data removed]",
      "text/plain": [
       "<Figure size 864x432 with 1 Axes>"
      ]
     },
     "metadata": {
      "needs_background": "light"
     },
     "output_type": "display_data"
    }
   ],
   "source": [
    "betas = best_model[1].feature_importances_\n",
    "plt.figure(figsize=(12,6))\n",
    "plt.barh(features, betas)\n",
    "plt.show()"
   ]
  },
  {
   "cell_type": "code",
   "execution_count": 71,
   "id": "543a8dd6-ad13-4662-816f-d241ab4a5033",
   "metadata": {},
   "outputs": [
    {
     "name": "stdout",
     "output_type": "stream",
     "text": [
      "Concrete Strength = -172.73850453322098 +\n",
      "0.2298719580731237 * cement +\n",
      "0.05785238568150824 * slag +\n",
      "0.03957066757451669 * fly_ash +\n",
      "0.1375242032644161 * water +\n",
      "0.06154927686809351 * superplasticizer +\n",
      "0.04513983123823491 * coarse_aggregate +\n",
      "0.0735764168446555 * fine_aggregate +\n",
      "0.35491526045545135 * age\n"
     ]
    }
   ],
   "source": [
    "betas_dict = dict(zip(features, betas))\n",
    "beta_0 = np.mean(y - np.sum(X*betas, axis=1))\n",
    "print(f\"Concrete Strength = {beta_0} +\")\n",
    "for key in betas_dict.keys():\n",
    "    if key == \"age\":\n",
    "        print(f\"{betas_dict[key]} * {key}\")\n",
    "    else:\n",
    "        print(f\"{betas_dict[key]} * {key} +\")"
   ]
  },
  {
   "cell_type": "code",
   "execution_count": null,
   "id": "f93094a5-fde0-43a6-9036-b9e73edf99bb",
   "metadata": {},
   "outputs": [],
   "source": []
  }
 ],
 "metadata": {
  "kernelspec": {
   "display_name": "Python 3 (ipykernel)",
   "language": "python",
   "name": "python3"
  },
  "language_info": {
   "codemirror_mode": {
    "name": "ipython",
    "version": 3
   },
   "file_extension": ".py",
   "mimetype": "text/x-python",
   "name": "python",
   "nbconvert_exporter": "python",
   "pygments_lexer": "ipython3",
   "version": "3.8.10"
  }
 },
 "nbformat": 4,
 "nbformat_minor": 5
}
