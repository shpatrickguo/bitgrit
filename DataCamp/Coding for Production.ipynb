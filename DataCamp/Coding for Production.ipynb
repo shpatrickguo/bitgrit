{
 "cells": [
  {
   "cell_type": "markdown",
   "id": "616f1715-215c-4f21-9919-bdefb5068999",
   "metadata": {},
   "source": [
    "# Coding for Production"
   ]
  },
  {
   "cell_type": "code",
   "execution_count": 1,
   "id": "cecd3289-8056-414c-897c-9e5033b18565",
   "metadata": {},
   "outputs": [
    {
     "data": {
      "text/plain": [
       "{'apple': 1, 'banana': 2, 'coconut': 3, 'durian': 4}"
      ]
     },
     "execution_count": 1,
     "metadata": {},
     "output_type": "execute_result"
    }
   ],
   "source": [
    "d = {\n",
    "    'apple': 1,\n",
    "    'banana': 2,\n",
    "    'coconut': 3\n",
    "}\n",
    "\n",
    "d['durian']=4\n",
    "\n",
    "d"
   ]
  },
  {
   "cell_type": "code",
   "execution_count": 2,
   "id": "2cb25784-ff9e-4955-a1e3-ee0dc07cb844",
   "metadata": {},
   "outputs": [
    {
     "name": "stdout",
     "output_type": "stream",
     "text": [
      "10\n",
      "-3\n"
     ]
    }
   ],
   "source": [
    "def multiply(by = None):\n",
    "\tdef multiply_real_decorator(function):\n",
    "\t\tdef wrapper(*args,**kwargs):\n",
    "\t\t\treturn by * function(*args,**kwargs)\n",
    "\t\treturn wrapper\n",
    "\treturn multiply_real_decorator\n",
    "\n",
    "@multiply(2)\n",
    "\n",
    "def adder(a,b):\n",
    "  return a + b\n",
    "\n",
    "@multiply(3)\n",
    "\n",
    "def subtractor(a,b):\n",
    "  return a - b\n",
    "\n",
    "print(adder(2,3))\n",
    "print(subtractor(2,3))"
   ]
  },
  {
   "cell_type": "code",
   "execution_count": 3,
   "id": "0602c872-6173-40e7-bbe2-c6583eb85f7f",
   "metadata": {},
   "outputs": [
    {
     "data": {
      "text/plain": [
       "729"
      ]
     },
     "execution_count": 3,
     "metadata": {},
     "output_type": "execute_result"
    }
   ],
   "source": [
    "def square_args(func):\n",
    "  def inner(a, b):\n",
    "    return func(a ** 2, b ** 2)\n",
    "  return inner\n",
    "\n",
    "@square_args\n",
    "def multiply(a, b):\n",
    "  return a * b\n",
    "  \n",
    "multiply(3, 9)"
   ]
  },
  {
   "cell_type": "code",
   "execution_count": 6,
   "id": "21599def-ccf5-48cf-9d11-f1cc6e6f68c5",
   "metadata": {},
   "outputs": [
    {
     "data": {
      "text/plain": [
       "{3}"
      ]
     },
     "execution_count": 6,
     "metadata": {},
     "output_type": "execute_result"
    }
   ],
   "source": [
    "a = {1, 2, 3}\n",
    "b = {3, 4, 5, 6}\n",
    "a.intersection(b)"
   ]
  },
  {
   "cell_type": "code",
   "execution_count": 7,
   "id": "70833f47-e414-4be7-860b-40f4c096b6a5",
   "metadata": {},
   "outputs": [
    {
     "data": {
      "text/plain": [
       "[3, 4]"
      ]
     },
     "execution_count": 7,
     "metadata": {},
     "output_type": "execute_result"
    }
   ],
   "source": [
    "[\n",
    "i\n",
    " for i in range(5) \n",
    "if i >=3\n",
    "]"
   ]
  },
  {
   "cell_type": "code",
   "execution_count": 9,
   "id": "ede7260e-8e35-4f1a-ad65-6486eb0a1bbd",
   "metadata": {},
   "outputs": [
    {
     "data": {
      "text/plain": [
       "'p'"
      ]
     },
     "execution_count": 9,
     "metadata": {},
     "output_type": "execute_result"
    }
   ],
   "source": [
    "w = 'python'\n",
    "\n",
    "w_iterator = iter(w)\n",
    "\n",
    "next(w_iterator)"
   ]
  },
  {
   "cell_type": "code",
   "execution_count": 10,
   "id": "381039c5-370d-408d-af23-efdb21f378fb",
   "metadata": {},
   "outputs": [
    {
     "data": {
      "text/plain": [
       "3"
      ]
     },
     "execution_count": 10,
     "metadata": {},
     "output_type": "execute_result"
    }
   ],
   "source": [
    "d = {\n",
    "    'one': 1,\n",
    "    'two': 2,\n",
    "    'three': 3,\n",
    "    'four': 4\n",
    "}\n",
    "\n",
    "d.get('three')"
   ]
  },
  {
   "cell_type": "code",
   "execution_count": 11,
   "id": "50a57f66-8047-4bc4-883a-a6279418cf91",
   "metadata": {},
   "outputs": [
    {
     "data": {
      "text/plain": [
       "[0, 2, 4, 6, 8]"
      ]
     },
     "execution_count": 11,
     "metadata": {},
     "output_type": "execute_result"
    }
   ],
   "source": [
    "[i \n",
    "*2 for i in\n",
    " range(5)]"
   ]
  },
  {
   "cell_type": "code",
   "execution_count": 13,
   "id": "942a4495-7e5e-47cc-9572-98252ca18ec6",
   "metadata": {},
   "outputs": [
    {
     "name": "stdout",
     "output_type": "stream",
     "text": [
      "['English', 'Dutch', 'French', 'Spanish']\n"
     ]
    }
   ],
   "source": [
    "my_languages = ['English', 'Dutch']\n",
    "languages = ('French', 'Spanish')\n",
    "\n",
    "my_languages.extend(languages)\n",
    "\n",
    "\n",
    "print(my_languages)"
   ]
  },
  {
   "cell_type": "code",
   "execution_count": 14,
   "id": "b0f90f95-9049-440d-a05b-97bbd1cb7127",
   "metadata": {},
   "outputs": [
    {
     "data": {
      "text/plain": [
       "'Natural entity in the observable universe.'"
      ]
     },
     "execution_count": 14,
     "metadata": {},
     "output_type": "execute_result"
    }
   ],
   "source": [
    "class AstroBody:\n",
    "    description = 'Natural entity in the observable universe.'    \n",
    "\n",
    "class Star(AstroBody):\n",
    "    pass\n",
    "\n",
    "sun = Star()\n",
    "\n",
    "sun.description"
   ]
  },
  {
   "cell_type": "code",
   "execution_count": 17,
   "id": "135b4376-8e7c-489f-bb19-6c5d3a5a0da3",
   "metadata": {},
   "outputs": [
    {
     "data": {
      "text/plain": [
       "{0: 0, 1: 2, 2: 4, 3: 6, 4: 8}"
      ]
     },
     "execution_count": 17,
     "metadata": {},
     "output_type": "execute_result"
    }
   ],
   "source": [
    "dict_gen = {num: num * 2 for num in range(5)}\n",
    "\n",
    "\n",
    "dict_gen"
   ]
  },
  {
   "cell_type": "code",
   "execution_count": null,
   "id": "d8b97ddb-ec54-4841-bac9-3c612d138dde",
   "metadata": {},
   "outputs": [],
   "source": []
  }
 ],
 "metadata": {
  "kernelspec": {
   "display_name": "Python 3 (ipykernel)",
   "language": "python",
   "name": "python3"
  },
  "language_info": {
   "codemirror_mode": {
    "name": "ipython",
    "version": 3
   },
   "file_extension": ".py",
   "mimetype": "text/x-python",
   "name": "python",
   "nbconvert_exporter": "python",
   "pygments_lexer": "ipython3",
   "version": "3.8.12"
  }
 },
 "nbformat": 4,
 "nbformat_minor": 5
}
