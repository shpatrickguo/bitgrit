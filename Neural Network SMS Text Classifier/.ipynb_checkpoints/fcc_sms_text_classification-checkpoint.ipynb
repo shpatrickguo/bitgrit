{
  "nbformat": 4,
  "nbformat_minor": 0,
  "metadata": {
    "colab": {
      "name": "shpg_fcc_sms_text_classification.ipynb",
      "private_outputs": true,
      "provenance": [],
      "collapsed_sections": [
        "Y6vpIgZ7Vtsg"
      ]
    },
    "kernelspec": {
      "display_name": "Python 3",
      "name": "python3"
    }
  },
  "cells": [
    {
      "cell_type": "markdown",
      "metadata": {
        "id": "Eg62Pmz3o83v"
      },
      "source": [
        "# SMS Text Classification\n",
        "\n",
        "Create a machine learning model that will classify SMS messages as either \"ham\" or \"spam\". A \"ham\" message is a normal message sent by a friend. A \"spam\" message is an advertisement or a message sent by a company.\n",
        "\n",
        "Create a function called `predict_message` that takes a message string as an argument and returns a list. The first element in the list should be a number between zero and one that indicates the likeliness of \"ham\" (0) or \"spam\" (1). The second element in the list should be the word \"ham\" or \"spam\", depending on which is most likely.\n",
        "\n",
        "Data from [SMS Spam Collection dataset](http://www.dt.fee.unicamp.br/~tiago/smsspamcollection/).\n"
      ]
    },
    {
      "cell_type": "code",
      "metadata": {
        "id": "8RZOuS9LWQvv"
      },
      "source": [
        "# import libraries\n",
        "#try:\n",
        "  # %tensorflow_version only exists in Colab.\n",
        "#  !pip install tf-nightly\n",
        "#except Exception:\n",
        "#  pass\n",
        "import tensorflow as tf\n",
        "import pandas as pd\n",
        "from tensorflow import keras\n",
        "#!pip install tensorflow-datasets\n",
        "import tensorflow_datasets as tfds\n",
        "import numpy as np\n",
        "import matplotlib.pyplot as plt\n",
        "\n",
        "import seaborn as sns\n",
        "from wordcloud import WordCloud, STOPWORDS, ImageColorGenerator\n",
        "\n",
        "from sklearn.model_selection import train_test_split\n",
        "from tensorflow.keras.preprocessing.text import Tokenizer\n",
        "from tensorflow.keras.preprocessing.sequence import pad_sequences\n",
        "\n",
        "# Modeling \n",
        "from tensorflow.keras.callbacks import EarlyStopping\n",
        "from tensorflow.keras.models import Sequential\n",
        "from tensorflow.keras.layers import Embedding, GlobalAveragePooling1D, Dense, Dropout, LSTM, Bidirectional\n",
        "\n",
        "print(tf.__version__)"
      ],
      "execution_count": null,
      "outputs": []
    },
    {
      "cell_type": "code",
      "metadata": {
        "id": "lMHwYXHXCar3"
      },
      "source": [
        "# get data files\n",
        "!wget https://cdn.freecodecamp.org/project-data/sms/train-data.tsv\n",
        "!wget https://cdn.freecodecamp.org/project-data/sms/valid-data.tsv\n",
        "\n",
        "train_file_path = \"train-data.tsv\"\n",
        "test_file_path = \"valid-data.tsv\""
      ],
      "execution_count": null,
      "outputs": []
    },
    {
      "cell_type": "code",
      "metadata": {
        "id": "g_h508FEClxO"
      },
      "source": [
        "# load data files\n",
        "train_file = pd.read_csv(train_file_path, sep='\\t', names=[\"Class\", \"Message\"])\n",
        "test_file = pd.read_csv(test_file_path, sep='\\t', names=[\"Class\", \"Message\"])"
      ],
      "execution_count": null,
      "outputs": []
    },
    {
      "cell_type": "markdown",
      "metadata": {
        "id": "nZovl-_SBEl0"
      },
      "source": [
        "The file is tab separated (\\t) and I provide column names \"Class\" and \"Message\"."
      ]
    },
    {
      "cell_type": "markdown",
      "metadata": {
        "id": "Y6vpIgZ7Vtsg"
      },
      "source": [
        "# Exploratory Data Analysis "
      ]
    },
    {
      "cell_type": "code",
      "metadata": {
        "id": "TOI5a8jfPeve"
      },
      "source": [
        "train_file.describe()"
      ],
      "execution_count": null,
      "outputs": []
    },
    {
      "cell_type": "markdown",
      "metadata": {
        "id": "RN2elpaaBQaK"
      },
      "source": [
        "There are two unique classes: \"ham\" and \"spam\". There are less unique messages (3935) than total message count (4179) indicating some repeated messages.\n",
        "The top class is \"ham\" and the top message is \"sorry, i'll call later\"."
      ]
    },
    {
      "cell_type": "code",
      "metadata": {
        "id": "lHlxkSb7VLXb"
      },
      "source": [
        "train_file.groupby(\"Class\").describe().T"
      ],
      "execution_count": null,
      "outputs": []
    },
    {
      "cell_type": "markdown",
      "metadata": {
        "id": "5-Nr37KZUfCg"
      },
      "source": [
        "There are 3619 ham compared to 560 spam messages. This means the data is imbalanced. The most popular ham message \"sorry, i'll call later\" occured 22 times. Whereas the most popular spam message \"hmv bonus special 500 pounds of genuine hmv...\" occured 3 times."
      ]
    },
    {
      "cell_type": "markdown",
      "metadata": {
        "id": "T0upY2MUVpII"
      },
      "source": [
        "## Wordcloud\n",
        "Wordcloud allows us to visualize the most frequent words in the given text."
      ]
    },
    {
      "cell_type": "code",
      "metadata": {
        "id": "6D0NFlG7WVd2"
      },
      "source": [
        "# Get all the ham and spam emails\n",
        "train_ham = train_file[train_file.Class =='ham']\n",
        "train_spam = train_file[train_file.Class =='spam']\n",
        "# Create numpy list to visualize using wordcloud\n",
        "train_ham_text = \" \".join(train_ham.Message.to_numpy().tolist())\n",
        "train_spam_text = \" \".join(train_spam.Message.to_numpy().tolist())"
      ],
      "execution_count": null,
      "outputs": []
    },
    {
      "cell_type": "code",
      "metadata": {
        "id": "Ph5jnSkCWIzY"
      },
      "source": [
        "# wordcloud of ham messages\n",
        "ham_msg_cloud = WordCloud(width=520, height=260, stopwords=STOPWORDS, max_font_size=50, \n",
        "                          background_color=\"black\", colormap='Blues').generate(train_ham_text)\n",
        "plt.figure(figsize=(16,10))\n",
        "plt.imshow(ham_msg_cloud, interpolation='bilinear')\n",
        "plt.axis('off') # turn off axis\n",
        "plt.show()"
      ],
      "execution_count": null,
      "outputs": []
    },
    {
      "cell_type": "markdown",
      "metadata": {
        "id": "f6XY8F26AlYh"
      },
      "source": [
        "The ham message WordCloud shows that \"love\", \"going\", \"come\", \"home\", etc. are the most commonly appeared words in ham messages."
      ]
    },
    {
      "cell_type": "code",
      "metadata": {
        "id": "hcV19WawWiib"
      },
      "source": [
        "# wordcloud of spam messages\n",
        "spam_msg_cloud = WordCloud(width=520, height=260, stopwords=STOPWORDS, max_font_size=50, \n",
        "                           background_color=\"black\", colormap='Blues').generate(train_spam_text)\n",
        "plt.figure(figsize=(16,10))\n",
        "plt.imshow(spam_msg_cloud, interpolation='bilinear')\n",
        "plt.axis('off') # turn off axis\n",
        "plt.show()"
      ],
      "execution_count": null,
      "outputs": []
    },
    {
      "cell_type": "markdown",
      "metadata": {
        "id": "HAQlRAuQAycj"
      },
      "source": [
        "The spam message WordCloud shows that \"free\", \"text\", \"call\" etc. are the most commonly appeared words in spam messages."
      ]
    },
    {
      "cell_type": "markdown",
      "metadata": {
        "id": "CpOv6Q58YJzJ"
      },
      "source": [
        "# Data Processing"
      ]
    },
    {
      "cell_type": "markdown",
      "metadata": {
        "id": "4-VqUYJIDDxi"
      },
      "source": [
        "## Data Imbalance"
      ]
    },
    {
      "cell_type": "code",
      "metadata": {
        "id": "BOcW2U5xW3wZ"
      },
      "source": [
        "# Percentage of spam messages\n",
        "len(train_spam)/len(train_ham)*100 # 15.48%\n",
        "\n",
        "# Countplot showing imbalance data\n",
        "plt.figure(figsize=(8,6))\n",
        "sns.countplot(x=\"Class\", data=train_file)\n",
        "plt.show()"
      ],
      "execution_count": null,
      "outputs": []
    },
    {
      "cell_type": "markdown",
      "metadata": {
        "id": "W3iilLKCCGEQ"
      },
      "source": [
        "The bar chart shows that the classes are imbalanced. 85% of the messages are ham."
      ]
    },
    {
      "cell_type": "markdown",
      "metadata": {
        "id": "8NAHpZeCYarF"
      },
      "source": [
        "### Downsampling\n",
        "To handle the imbalance data, we downsample.\n",
        "Downsampling randomly deletes some of the observations from the majority class so that the numbers in majority and minority classes are matched."
      ]
    },
    {
      "cell_type": "code",
      "metadata": {
        "id": "MAXGnDwlX7DQ"
      },
      "source": [
        "# Downsample the ham msg for train\n",
        "train_ham_df = train_ham.sample(n = len(train_spam), random_state = 44)\n",
        "train_spam_df = train_spam\n",
        "print(train_ham_df.shape, train_spam_df.shape)\n",
        "train_df = train_ham_df.append(train_spam_df).reset_index(drop=True)"
      ],
      "execution_count": null,
      "outputs": []
    },
    {
      "cell_type": "code",
      "metadata": {
        "id": "aN-Dqp_ZYqX5"
      },
      "source": [
        "# Downsample for test file\n",
        "test_ham = test_file[test_file.Class =='ham']\n",
        "test_spam = test_file[test_file.Class =='spam']\n",
        "\n",
        "# Downsample the ham msg for test\n",
        "test_ham_df = test_ham.sample(n = len(test_spam), random_state = 44)\n",
        "test_spam_df = test_spam\n",
        "print(test_ham_df.shape, test_spam_df.shape)\n",
        "test_df = test_ham_df.append(test_spam_df).reset_index(drop=True)"
      ],
      "execution_count": null,
      "outputs": []
    },
    {
      "cell_type": "markdown",
      "metadata": {
        "id": "5JwCL-Sj0YOx"
      },
      "source": [
        "## Test train split"
      ]
    },
    {
      "cell_type": "code",
      "metadata": {
        "id": "bo1MxngxY7A4"
      },
      "source": [
        "# Map ham label as 0 and spam as 1\n",
        "train_df['msg_type']= train_df['Class'].map({'ham': 0, 'spam': 1})\n",
        "test_df['msg_type']= test_df['Class'].map({'ham': 0, 'spam': 1})\n",
        "\n",
        "\n",
        "train_msg = train_df['Message']\n",
        "train_labels = train_df['msg_type'].values\n",
        "test_msg = test_df['Message']\n",
        "test_labels = test_df['msg_type'].values"
      ],
      "execution_count": null,
      "outputs": []
    },
    {
      "cell_type": "markdown",
      "metadata": {
        "id": "gMhjhwqH3uAU"
      },
      "source": [
        "## Tokenization\n",
        "Tokenizer API from TensorFlow Keras splits sentences into words and encodes them into integers.\n",
        "- Tokenize into words\n",
        "- Filter out punctuation and rare words\n",
        "- Convert all words to lower case and to integer index"
      ]
    },
    {
      "cell_type": "code",
      "metadata": {
        "id": "bEXzMypg3snK"
      },
      "source": [
        "# Defining tokenizer hyperparameters\n",
        "max_len = 50 \n",
        "trunc_type = \"post\" \n",
        "padding_type = \"post\" \n",
        "oov_tok = \"<OOV>\" \n",
        "vocab_size = 500"
      ],
      "execution_count": null,
      "outputs": []
    },
    {
      "cell_type": "code",
      "metadata": {
        "id": "GGd0YzXE67mA"
      },
      "source": [
        "tokenizer = Tokenizer(num_words = vocab_size, char_level=False, oov_token = oov_tok)\n",
        "tokenizer.fit_on_texts(train_msg)"
      ],
      "execution_count": null,
      "outputs": []
    },
    {
      "cell_type": "code",
      "metadata": {
        "id": "TEBDCoNj7BXv"
      },
      "source": [
        "# Get the word_index \n",
        "word_index = tokenizer.word_index\n",
        "# How many words \n",
        "tot_words = len(word_index)\n",
        "print('There are %s unique tokens in training data. ' % tot_words)"
      ],
      "execution_count": null,
      "outputs": []
    },
    {
      "cell_type": "markdown",
      "metadata": {
        "id": "1oHmfItP7Y8L"
      },
      "source": [
        "## Sequencing and Padding\n",
        "Use texts_tosequences() to espresent each sentence by sequences of numbers from tokenizer object.\n",
        "\n",
        "Use pad_sequences() so that each sequences have the same length.\n"
      ]
    },
    {
      "cell_type": "code",
      "metadata": {
        "id": "Hak8FqDL7aSc"
      },
      "source": [
        "# Sequencing and padding on training and testing \n",
        "training_sequences = tokenizer.texts_to_sequences(train_msg)\n",
        "training_padded = pad_sequences (training_sequences, maxlen = max_len, padding = padding_type, truncating = trunc_type)\n",
        "testing_sequences = tokenizer.texts_to_sequences(test_msg)\n",
        "testing_padded = pad_sequences(testing_sequences, maxlen = max_len,\n",
        "                                padding = padding_type, truncating = trunc_type)"
      ],
      "execution_count": null,
      "outputs": []
    },
    {
      "cell_type": "code",
      "metadata": {
        "id": "Ps1vyVTL8Br0"
      },
      "source": [
        "# Shape of train tensor\n",
        "print('Shape of training tensor: ', training_padded.shape)\n",
        "print('Shape of testing tensor: ', testing_padded.shape)"
      ],
      "execution_count": null,
      "outputs": []
    },
    {
      "cell_type": "markdown",
      "metadata": {
        "id": "2gDbRgk_8Hhk"
      },
      "source": [
        "# Dense Spam Detection Model\n",
        "Train model using a Dense architecture followed by LSTM and Bi-LSTM."
      ]
    },
    {
      "cell_type": "code",
      "metadata": {
        "id": "AJWagT3a8dCJ"
      },
      "source": [
        "# hyper-parameters\n",
        "vocab_size = 500 \n",
        "embeding_dim = 16\n",
        "drop_value = 0.2 \n",
        "n_dense = 24"
      ],
      "execution_count": null,
      "outputs": []
    },
    {
      "cell_type": "code",
      "metadata": {
        "id": "z39X1KLt8fvF"
      },
      "source": [
        "# Dense model architecture\n",
        "dense_model = Sequential()\n",
        "dense_model.add(Embedding(vocab_size, embeding_dim, input_length=max_len))\n",
        "dense_model.add(GlobalAveragePooling1D())\n",
        "dense_model.add(Dense(24, activation='relu'))\n",
        "dense_model.add(Dropout(drop_value))\n",
        "dense_model.add(Dense(1, activation='sigmoid'))"
      ],
      "execution_count": null,
      "outputs": []
    },
    {
      "cell_type": "code",
      "metadata": {
        "id": "Nvp7X4Hz8jDD"
      },
      "source": [
        "dense_model.compile(loss='binary_crossentropy', optimizer='adam', metrics=['accuracy'])"
      ],
      "execution_count": null,
      "outputs": []
    },
    {
      "cell_type": "code",
      "metadata": {
        "id": "CEzSSLSE8xjP"
      },
      "source": [
        "# fitting a dense spam detector model\n",
        "num_epochs = 30\n",
        "early_stop = EarlyStopping(monitor='val_loss', patience=3)\n",
        "history = dense_model.fit(training_padded, train_labels, epochs=num_epochs, \n",
        "                    validation_data=(testing_padded, test_labels), \n",
        "                    callbacks =[early_stop], verbose=2)"
      ],
      "execution_count": null,
      "outputs": []
    },
    {
      "cell_type": "code",
      "metadata": {
        "id": "Q-WN4qUf81f2"
      },
      "source": [
        "# Model performance on test data \n",
        "dense_model.evaluate(testing_padded, test_labels)"
      ],
      "execution_count": null,
      "outputs": []
    },
    {
      "cell_type": "code",
      "metadata": {
        "id": "up--zxIT84qr"
      },
      "source": [
        "# Read as a dataframe \n",
        "metrics = pd.DataFrame(history.history)\n",
        "# Rename column\n",
        "metrics.rename(columns = {'loss': 'Training_Loss', 'accuracy': 'Training_Accuracy', 'val_loss': 'Validation_Loss', 'val_accuracy': 'Validation_Accuracy'}, inplace = True)\n",
        "def plot_dense(var1, var2, string):\n",
        "    metrics[[var1, var2]].plot()\n",
        "    plt.title('Training and Validation ' + string)\n",
        "    plt.xlabel ('Number of epochs')\n",
        "    plt.ylabel(string)\n",
        "    plt.legend([var1, var2])\n",
        "\n",
        "plot_dense('Training_Loss', 'Validation_Loss', 'loss')\n",
        "plot_dense('Training_Accuracy', 'Validation_Accuracy', 'accuracy')"
      ],
      "execution_count": null,
      "outputs": []
    },
    {
      "cell_type": "markdown",
      "metadata": {
        "id": "HkHp7FVp9FJS"
      },
      "source": [
        "# Long Short Term Memory (LSTM) Model\n",
        "This neural network is capable of learning order dependence in sequence prediction problems."
      ]
    },
    {
      "cell_type": "code",
      "metadata": {
        "id": "IOR3vd-o9BqC"
      },
      "source": [
        "# LSTM hyperparameters\n",
        "n_lstm = 20\n",
        "drop_lstm =0.2"
      ],
      "execution_count": null,
      "outputs": []
    },
    {
      "cell_type": "code",
      "metadata": {
        "id": "13ilKV3s9IQy"
      },
      "source": [
        "# LSTM Spam detection architecture\n",
        "LSTM_model = Sequential()\n",
        "LSTM_model.add(Embedding(vocab_size, embeding_dim, input_length=max_len))\n",
        "LSTM_model.add(LSTM(n_lstm, dropout=drop_lstm, return_sequences=True))\n",
        "LSTM_model.add(LSTM(n_lstm, dropout=drop_lstm, return_sequences=True))\n",
        "LSTM_model.add(Dense(1, activation='sigmoid'))"
      ],
      "execution_count": null,
      "outputs": []
    },
    {
      "cell_type": "code",
      "metadata": {
        "id": "tSYjNaja9KHr"
      },
      "source": [
        "LSTM_model.compile(loss = 'binary_crossentropy', optimizer = 'adam', metrics=['accuracy'])"
      ],
      "execution_count": null,
      "outputs": []
    },
    {
      "cell_type": "code",
      "metadata": {
        "id": "TJ0cv9tQ9MAG"
      },
      "source": [
        "num_epochs = 30\n",
        "early_stop = EarlyStopping(monitor='val_loss', patience=2)\n",
        "history = LSTM_model.fit(training_padded, train_labels, epochs=num_epochs, validation_data=(testing_padded, test_labels),callbacks =[early_stop], verbose=2)"
      ],
      "execution_count": null,
      "outputs": []
    },
    {
      "cell_type": "code",
      "metadata": {
        "id": "9I0Sn3_F-jmS"
      },
      "source": [
        "# Create a dataframe\n",
        "metrics = pd.DataFrame(history.history)\n",
        "# Rename column\n",
        "metrics.rename(columns = {'loss': 'Training_Loss', 'accuracy': 'Training_Accuracy',\n",
        "                         'val_loss': 'Validation_Loss', 'val_accuracy': 'Validation_Accuracy'}, inplace = True)\n",
        "def plot_LSTM(var1, var2, string):\n",
        "    metrics[[var1, var2]].plot()\n",
        "    plt.title('LSTM Model: Training and Validation ' + string)\n",
        "    plt.xlabel ('Number of epochs')\n",
        "    plt.ylabel(string)\n",
        "    plt.legend([var1, var2])\n",
        "plot_LSTM('Training_Loss', 'Validation_Loss', 'loss')\n",
        "plot_LSTM('Training_Accuracy', 'Validation_Accuracy', 'accuracy')"
      ],
      "execution_count": null,
      "outputs": []
    },
    {
      "cell_type": "markdown",
      "metadata": {
        "id": "Sui6MUFf-udE"
      },
      "source": [
        "# Bi-directional Long Short Term Memory (BiLSTM) Model\n",
        "Bi-LSTM learns patterns from before and after a given token. "
      ]
    },
    {
      "cell_type": "code",
      "metadata": {
        "id": "aLggcBKU-rAl"
      },
      "source": [
        "# Biderectional LSTM Spam detection architecture\n",
        "biLSTM_model = Sequential()\n",
        "biLSTM_model.add(Embedding(vocab_size, embeding_dim, input_length=max_len))\n",
        "biLSTM_model.add(Bidirectional(LSTM(n_lstm, dropout=drop_lstm, return_sequences=True)))\n",
        "biLSTM_model.add(Dense(1, activation='sigmoid'))"
      ],
      "execution_count": null,
      "outputs": []
    },
    {
      "cell_type": "code",
      "metadata": {
        "id": "oqo7L5be-08w"
      },
      "source": [
        "biLSTM_model.compile(loss = 'binary_crossentropy', optimizer = 'adam', metrics=['accuracy'])"
      ],
      "execution_count": null,
      "outputs": []
    },
    {
      "cell_type": "code",
      "metadata": {
        "id": "BQuRbYQS-2Y0"
      },
      "source": [
        "# Training\n",
        "num_epochs = 30\n",
        "early_stop = EarlyStopping(monitor='val_loss', patience=2)\n",
        "history = biLSTM_model.fit(training_padded, train_labels, epochs=num_epochs, \n",
        "                    validation_data=(testing_padded, test_labels),callbacks =[early_stop], verbose=2)"
      ],
      "execution_count": null,
      "outputs": []
    },
    {
      "cell_type": "code",
      "metadata": {
        "id": "0s7zYTvw-4R0"
      },
      "source": [
        "# Create a dataframe\n",
        "metrics = pd.DataFrame(history.history)\n",
        "# Rename column\n",
        "metrics.rename(columns = {'loss': 'Training_Loss', 'accuracy': 'Training_Accuracy',\n",
        "                         'val_loss': 'Validation_Loss', 'val_accuracy': 'Validation_Accuracy'}, inplace = True)\n",
        "def plot_biLSTM(var1, var2, string):\n",
        "    metrics[[var1, var2]].plot()\n",
        "    plt.title('BiLSTM Model: Training and Validation ' + string)\n",
        "    plt.xlabel ('Number of epochs')\n",
        "    plt.ylabel(string)\n",
        "    plt.legend([var1, var2])\n",
        "# Plot\n",
        "plot_biLSTM('Training_Loss', 'Validation_Loss', 'loss')\n",
        "plot_biLSTM('Training_Accuracy', 'Validation_Accuracy', 'accuracy')"
      ],
      "execution_count": null,
      "outputs": []
    },
    {
      "cell_type": "markdown",
      "metadata": {
        "id": "wRJixz5uIA02"
      },
      "source": [
        "# Choose Model"
      ]
    },
    {
      "cell_type": "code",
      "metadata": {
        "id": "3todQeGv-7rn"
      },
      "source": [
        "# Comparing three different models\n",
        "print(f\"Dense architecture loss and accuracy: {dense_model.evaluate(testing_padded, test_labels)} \" )\n",
        "print(f\"LSTM architecture loss and accuracy: {LSTM_model.evaluate(testing_padded, test_labels)} \" )\n",
        "print(f\"Bi-LSTM architecture loss and accuracy: {biLSTM_model.evaluate(testing_padded, test_labels)} \" )"
      ],
      "execution_count": null,
      "outputs": []
    },
    {
      "cell_type": "markdown",
      "metadata": {
        "id": "_rxwvQ67LPhi"
      },
      "source": [
        "Based on loss, accuracy and the plots above, we select the Dense architecture as the final model for classifying whether messages are spam or ham."
      ]
    },
    {
      "cell_type": "markdown",
      "metadata": {
        "id": "mNPZfrYoH94J"
      },
      "source": [
        "# Prediction"
      ]
    },
    {
      "cell_type": "code",
      "metadata": {
        "id": "J9tD9yACG6M9"
      },
      "source": [
        "# function to predict messages based on model\n",
        "# (should return list containing prediction and label, ex. [0.008318834938108921, 'ham'])\n",
        "def predict_message(pred_text):\n",
        "  pred_text = [pred_text]\n",
        "  new_seq = tokenizer.texts_to_sequences(pred_text)\n",
        "  padded = pad_sequences(new_seq, maxlen=max_len,\n",
        "                      padding = padding_type,\n",
        "                      truncating=trunc_type)\n",
        "  prediction = (model.predict(padded))[0][0]\n",
        "  if prediction < 0.5:\n",
        "    return [prediction, 'ham']\n",
        "  else:\n",
        "    return [prediction, 'spam']\n",
        "pred_text = \"how are you doing today?\"\n",
        "\n",
        "prediction = predict_message(pred_text)\n",
        "print(prediction)"
      ],
      "execution_count": null,
      "outputs": []
    },
    {
      "cell_type": "code",
      "metadata": {
        "id": "Dxotov85SjsC"
      },
      "source": [
        "# Run this cell to test your function and model. Do not modify contents.\n",
        "def test_predictions():\n",
        "  test_messages = [\"how are you doing today\",\n",
        "                   \"sale today! to stop texts call 98912460324\",\n",
        "                   \"i dont want to go. can we try it a different day? available sat\",\n",
        "                   \"our new mobile video service is live. just install on your phone to start watching.\",\n",
        "                   \"you have won £1000 cash! call to claim your prize.\",\n",
        "                   \"i'll bring it tomorrow. don't forget the milk.\",\n",
        "                   \"wow, is your arm alright. that happened to me one time too\"\n",
        "                  ]\n",
        "\n",
        "  test_answers = [\"ham\", \"spam\", \"ham\", \"spam\", \"spam\", \"ham\", \"ham\"]\n",
        "  passed = True\n",
        "\n",
        "  for msg, ans in zip(test_messages, test_answers):\n",
        "    prediction = predict_message(msg)\n",
        "    if prediction[1] != ans:\n",
        "      passed = False\n",
        "\n",
        "  if passed:\n",
        "    print(\"You passed the challenge. Great job!\")\n",
        "  else:\n",
        "    print(\"You haven't passed yet. Keep trying.\")\n",
        "\n",
        "test_predictions()\n"
      ],
      "execution_count": null,
      "outputs": []
    },
    {
      "cell_type": "code",
      "metadata": {
        "id": "uWiY_10X_tOn"
      },
      "source": [
        ""
      ],
      "execution_count": null,
      "outputs": []
    }
  ]
}