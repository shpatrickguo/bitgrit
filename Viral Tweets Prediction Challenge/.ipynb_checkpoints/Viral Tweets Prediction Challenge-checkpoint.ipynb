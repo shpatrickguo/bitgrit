{
 "cells": [
  {
   "cell_type": "markdown",
   "metadata": {},
   "source": [
    "# Viral Tweets Prediction Challenge\n",
    "The goal of this competition is to develop a machine learning model to predict the virality level of each tweet based on attributes such as tweet content, media attached to the tweet, and date/time published."
   ]
  },
  {
   "cell_type": "markdown",
   "metadata": {},
   "source": [
    "## Importing libraries"
   ]
  },
  {
   "cell_type": "code",
   "execution_count": 14,
   "metadata": {},
   "outputs": [],
   "source": [
    "import pandas as pd\n",
    "import numpy as np\n",
    "\n",
    "# Visualization\n",
    "import seaborn as sns\n",
    "import matplotlib.pyplot as plt\n",
    "%matplotlib inline\n",
    "\n",
    "# Model building\n",
    "import lightgbm as lgb\n",
    "from sklearn.feature_selection import SelectFromModel\n",
    "from sklearn.linear_model import LogisticRegression\n",
    "from sklearn.model_selection import train_test_split\n",
    "from sklearn.metrics import accuracy_score\n",
    "import os"
   ]
  },
  {
   "cell_type": "code",
   "execution_count": 17,
   "metadata": {},
   "outputs": [],
   "source": [
    "# Local storage path\n",
    "tweets_path = \"Dataset/Tweets/\"\n",
    "users_path = \"Dataset/Users/\"\n",
    "\n",
    "# Training datasets\n",
    "train_tweets = pd.read_csv(tweets_path + 'train_tweets.csv')\n",
    "train_tweets_vectorized_media = pd.read_csv(tweets_path + 'train_tweets_vectorized_media.csv')\n",
    "train_tweets_vectorized_text = pd.read_csv(tweets_path + 'train_tweets_vectorized_text.csv')\n",
    "\n",
    "# Test dataset\n",
    "test_tweets = pd.read_csv(tweets_path + 'test_tweets.csv')\n",
    "test_tweets_vectorized_media = pd.read_csv(tweets_path + 'test_tweets_vectorized_media.csv')\n",
    "test_tweets_vectorized_text = pd.read_csv(tweets_path + 'test_tweets_vectorized_text.csv')\n",
    "\n",
    "# User dataset\n",
    "users = pd.read_csv(users_path + 'users.csv')\n",
    "user_vectorized_descriptions = pd.read_csv(users_path + 'user_vectorized_descriptions.csv')\n",
    "user_vectorized_profile_images = pd.read_csv(users_path + 'user_vectorized_profile_images.csv')"
   ]
  },
  {
   "cell_type": "code",
   "execution_count": 20,
   "metadata": {},
   "outputs": [
    {
     "name": "stdout",
     "output_type": "stream",
     "text": [
      "Dimensions:\n",
      "Train tweets: (29625, 14)\n",
      "Train tweets vectorized media: (21010, 2050)\n",
      "Train tweets vectorized text: (29625, 769)\n",
      "\n",
      "Test tweets: (12697, 13)\n",
      "Test tweets vectorized media: (8946, 2050)\n",
      "Test tweets vectorized text: (12697, 769)\n",
      "\n",
      "Users: (52, 11)\n",
      "User vectorized descriptions: (52, 769)\n",
      "User vectorized profile images: (52, 2049)\n"
     ]
    }
   ],
   "source": [
    "# print dimensions of data\n",
    "print('Dimensions:')\n",
    "print('Train tweets:', train_tweets.shape)\n",
    "print('Train tweets vectorized media:', train_tweets_vectorized_media.shape)\n",
    "print('Train tweets vectorized text:', train_tweets_vectorized_text.shape)\n",
    "print()\n",
    "\n",
    "print('Test tweets:', test_tweets.shape)\n",
    "print('Test tweets vectorized media:', test_tweets_vectorized_media.shape)\n",
    "print('Test tweets vectorized text:', test_tweets_vectorized_text.shape)\n",
    "print()\n",
    "\n",
    "print('Users:', users.shape)\n",
    "print('User vectorized descriptions:', user_vectorized_descriptions.shape)\n",
    "print('User vectorized profile images:', user_vectorized_profile_images.shape)"
   ]
  },
  {
   "cell_type": "code",
   "execution_count": null,
   "metadata": {},
   "outputs": [],
   "source": []
  }
 ],
 "metadata": {
  "kernelspec": {
   "display_name": "Python 3",
   "language": "python",
   "name": "python3"
  },
  "language_info": {
   "codemirror_mode": {
    "name": "ipython",
    "version": 3
   },
   "file_extension": ".py",
   "mimetype": "text/x-python",
   "name": "python",
   "nbconvert_exporter": "python",
   "pygments_lexer": "ipython3",
   "version": "3.8.3"
  }
 },
 "nbformat": 4,
 "nbformat_minor": 4
}
