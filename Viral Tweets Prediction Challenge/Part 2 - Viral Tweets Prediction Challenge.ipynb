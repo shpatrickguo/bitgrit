{
 "cells": [
  {
   "cell_type": "markdown",
   "id": "a6bcf83f-9028-4800-9c13-73b52e9df193",
   "metadata": {},
   "source": [
    "# Viral Tweets Prediction Challenge\n",
    "Develop a machine learning model to predict the virality level of each tweet based on attributes such as tweet content, media attached to the tweet, and date/time published."
   ]
  },
  {
   "cell_type": "markdown",
   "id": "737dbf65-ae41-43cc-9789-14740cf77f14",
   "metadata": {},
   "source": [
    "## Import libraries"
   ]
  },
  {
   "cell_type": "code",
   "execution_count": 2,
   "id": "b86d61f5-34b3-4e15-a8d4-8c3830d12017",
   "metadata": {},
   "outputs": [],
   "source": [
    "import pandas as pd\n",
    "import numpy as np\n",
    "\n",
    "# Visualization\n",
    "import seaborn as sns\n",
    "import matplotlib.pyplot as plt\n",
    "%matplotlib inline\n",
    "plt.style.use('ggplot')\n",
    "\n",
    "from sklearn import preprocessing\n",
    "from sklearn.feature_selection import SelectFromModel\n",
    "from sklearn.model_selection import train_test_split\n",
    "from sklearn.linear_model import LogisticRegression\n",
    "import lightgbm as lgb\n",
    "from sklearn.metrics import accuracy_score\n",
    "from sklearn.metrics import roc_auc_score\n",
    "\n",
    "import random\n",
    "import timeit\n",
    "import math \n",
    "import collections \n",
    "from datetime import datetime "
   ]
  },
  {
   "cell_type": "markdown",
   "id": "84be6fd5-b807-43ee-acda-1851218646a0",
   "metadata": {},
   "source": [
    "## Load Data"
   ]
  },
  {
   "cell_type": "code",
   "execution_count": 3,
   "id": "6298d56d-0777-469e-b161-9bf9c53f1349",
   "metadata": {},
   "outputs": [],
   "source": [
    "final_df = pd.read_csv(\"final_df.csv\")\n",
    "p_final_df = pd.read_csv(\"p_final_df.csv\")"
   ]
  },
  {
   "cell_type": "markdown",
   "id": "e0b56ca0-b420-4acb-bc1d-822516bb2ec3",
   "metadata": {},
   "source": [
    "# Build Model"
   ]
  },
  {
   "cell_type": "code",
   "execution_count": 4,
   "id": "3cfb4e03-76d7-48ed-a3f7-4b5e6c3ddf6e",
   "metadata": {},
   "outputs": [
    {
     "name": "stdout",
     "output_type": "stream",
     "text": [
      "Training set shape  (20737, 2944)\n",
      "Test set shape  (8888, 2944)\n"
     ]
    }
   ],
   "source": [
    "X = final_df.drop(['virality', 'tweet_user_id', 'tweet_id', 'user_id'], axis=1)\n",
    "y = final_df['virality']\n",
    "\n",
    "# Train-Test Split\n",
    "X_train, X_test, y_train, y_test = train_test_split(X, y, test_size = 0.3, random_state = 0)\n",
    "print('Training set shape ', X_train.shape)\n",
    "print('Test set shape ', X_test.shape)"
   ]
  },
  {
   "cell_type": "markdown",
   "id": "346aeede-1dd0-442e-84c6-83d0db032679",
   "metadata": {},
   "source": [
    "# Light GBM model"
   ]
  },
  {
   "cell_type": "code",
   "execution_count": 21,
   "id": "6cf7e524-a072-4900-8ae0-9d065c6a4385",
   "metadata": {},
   "outputs": [],
   "source": [
    "#setting parameters for lightgbm\n",
    "params = {}\n",
    "#params['boosting_type'] = 'gbdt'\n",
    "#params['n_estimators'] = 100\n",
    "\n",
    "# Model efficiency\n",
    "params['num_leaves'] = 150 # Less than 2^max_depth\n",
    "params['max_depth'] = 10\n",
    "\n",
    "# Faster speed\n",
    "params['max_bin'] = 200 # Smaller for faste speed. Large for better accuracy\n",
    "params['learning_rate'] = 0.003 #Small\n",
    "\n",
    "# Accuracy\n",
    "# Large max_bin\n",
    "# Large num_leaves\n",
    "\n",
    "# Over-fitting\n",
    "# Small max_bin\n",
    "# Small num_leaves"
   ]
  },
  {
   "cell_type": "code",
   "execution_count": 22,
   "id": "4c7995dc-2e36-47b8-8ad7-10d6efcf924c",
   "metadata": {},
   "outputs": [
    {
     "data": {
      "text/plain": [
       "LGBMClassifier(learning_rate=0.003, max_bin=200, max_depth=10, num_leaves=150)"
      ]
     },
     "execution_count": 22,
     "metadata": {},
     "output_type": "execute_result"
    }
   ],
   "source": [
    "clf = lgb.LGBMClassifier()\n",
    "clf.set_params(**params)\n",
    "clf"
   ]
  },
  {
   "cell_type": "code",
   "execution_count": null,
   "id": "9c664880-f372-4e21-a2c1-d3e73440fbf2",
   "metadata": {},
   "outputs": [],
   "source": [
    "clf.fit(X_train, y_train)"
   ]
  },
  {
   "cell_type": "code",
   "execution_count": 4,
   "id": "2fae307f-2593-4280-a537-58c4fd0ddca0",
   "metadata": {},
   "outputs": [],
   "source": [
    "#train_data = lgb.Dataset(X_train,label=y_train)"
   ]
  },
  {
   "cell_type": "code",
   "execution_count": 11,
   "id": "83fc7616-44a0-417a-8404-4d41f936ee3c",
   "metadata": {},
   "outputs": [],
   "source": [
    "#training our model using light gbm\n",
    "#num_round = 50\n",
    "#start = datetime.now()\n",
    "#clf = lgb.train(params, train_data, num_round)\n",
    "\n",
    "#num_boost_round=20,\n",
    "#valid_sets=[lgb_train, lgb_eval]\n",
    "#early_stopping_rounds=5\n",
    "#stop = datetime.now()"
   ]
  },
  {
   "cell_type": "code",
   "execution_count": 12,
   "id": "e124a9e1-db9f-4cc7-a710-f30841464219",
   "metadata": {},
   "outputs": [],
   "source": [
    "#Execution time of the model\n",
    "#execution_time_lgbm = stop - start\n",
    "#print(\"Exection time of LGMB model:\", execution_time_lgbm)"
   ]
  },
  {
   "cell_type": "code",
   "execution_count": null,
   "id": "9c6cf81d-2b9a-4323-bd59-9c9d88bb4dff",
   "metadata": {},
   "outputs": [],
   "source": [
    "# Prediction on the test dataset\n",
    "y_pred = clf.predict(X_test)\n",
    "\n",
    "print('Accuracy score: {0:0.4f}'.format(accuracy_score(y_test, y_pred)))\n",
    "print('roc_auc score: {0:0.4f}'.format(roc_auc_score(y_test, y_pred)))"
   ]
  },
  {
   "cell_type": "code",
   "execution_count": null,
   "id": "fc623b06-5f84-4d0f-8a98-d11bd3bd5206",
   "metadata": {},
   "outputs": [],
   "source": [
    "# Identify feature importance\n",
    "feature_imp = pd.DataFrame(sorted(zip(clf.feature_importances_,X.columns)), columns=['Value','Feature'])\n",
    "plt.figure(figsize=(20, 10))\n",
    "sns.barplot(x=\"Value\", y=\"Feature\", data=feature_imp.sort_values(by=\"Value\", ascending=False)[:10], color='blue')\n",
    "plt.show()"
   ]
  },
  {
   "cell_type": "markdown",
   "id": "08234147-b3d0-4864-b8de-c3d7945af1ac",
   "metadata": {},
   "source": [
    "# Fit model to Test data"
   ]
  },
  {
   "cell_type": "code",
   "execution_count": null,
   "id": "bd960310-31d5-4dec-b710-3a225c6486d5",
   "metadata": {},
   "outputs": [],
   "source": [
    "X = p_final_df.drop(['tweet_user_id', 'tweet_id', 'user_id'], axis=1)\n",
    "\n",
    "solution = clf.predict(X)\n",
    "solution_df = pd.concat([p_final_df[['tweet_id']], pd.DataFrame(solution, columns = ['virality'])], axis=1)\n",
    "solution_df.head()"
   ]
  }
 ],
 "metadata": {
  "kernelspec": {
   "display_name": "Python 3",
   "language": "python",
   "name": "python3"
  },
  "language_info": {
   "codemirror_mode": {
    "name": "ipython",
    "version": 3
   },
   "file_extension": ".py",
   "mimetype": "text/x-python",
   "name": "python",
   "nbconvert_exporter": "python",
   "pygments_lexer": "ipython3",
   "version": "3.8.10"
  }
 },
 "nbformat": 4,
 "nbformat_minor": 5
}
