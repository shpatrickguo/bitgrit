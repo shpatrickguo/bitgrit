{
 "cells": [
  {
   "cell_type": "markdown",
   "id": "a3648bac-0bfd-4d9a-bfdf-8a35340b0fe8",
   "metadata": {},
   "source": [
    "# Travel Assured"
   ]
  },
  {
   "cell_type": "markdown",
   "id": "93c8fb45-5c13-4dd2-98a7-b25898d5589d",
   "metadata": {},
   "source": [
    "## Introduction\n",
    "Travel Assured is a travel insurance company. Due to the COVID pandemic they have had to cut their marketing budget by over 50%. It is more important than ever that they advertise in the right places and to the right people.\n",
    "\n",
    "Travel Assured has data on their current customers as well as people who got quotes but never bought insurance. They want to know if there are differences in the travel habits between customers and non-customers - they believe they are more likely to travel often (buying tickets from frequent flyer miles) and travel abroad."
   ]
  },
  {
   "cell_type": "markdown",
   "id": "6781d9fa-1fc2-4713-83d1-659389fe09f1",
   "metadata": {},
   "source": [
    "## The Data\n",
    "- `age`: Numeric, the customer’s age\n",
    "- `Employment Type`: Character, the sector of employment\n",
    "- `GraduateOrNot`: Character, whether the customer is a college graduate\n",
    "- `AnnualIncome`: Numeric, the customer’s yearly income\n",
    "- `FamilyMembers`: Numeric, the number of family members living with the customer\n",
    "- `ChronicDiseases`: Numeric, whether the customer has any chronic conditions\n",
    "- `FrequentFlyer`: Character, whether a customer books frequent tickets\n",
    "- `EverTravelledAbroad`: Character, has the customer ever travelled abroad\n",
    "- `TravelInsurance`: Numeric, whether the customer bought travel insurance"
   ]
  },
  {
   "cell_type": "markdown",
   "id": "baf53c82-1c29-449d-a5e6-4489aafc7d9a",
   "metadata": {},
   "source": [
    "## Import Libraries\n",
    "Let us set up all the objects (packages, and modules) that we will need to explore the dataset."
   ]
  },
  {
   "cell_type": "code",
   "execution_count": 1,
   "id": "f34546be-a752-480b-82a1-455179ecf4e3",
   "metadata": {},
   "outputs": [],
   "source": [
    "# Import necessary modules\n",
    "import numpy as np\n",
    "import pandas as pd\n",
    "%matplotlib inline\n",
    "import matplotlib.pyplot as plt\n",
    "import seaborn as sns\n",
    "plt.style.use('ggplot')"
   ]
  },
  {
   "cell_type": "markdown",
   "id": "edd0872f-3483-46fc-b0e0-b82cfe3e9833",
   "metadata": {},
   "source": [
    "## Load the Data"
   ]
  },
  {
   "cell_type": "code",
   "execution_count": 2,
   "id": "954c282f-d80d-4ead-87d3-bb0d517f998b",
   "metadata": {},
   "outputs": [
    {
     "data": {
      "text/html": [
       "<div>\n",
       "<style scoped>\n",
       "    .dataframe tbody tr th:only-of-type {\n",
       "        vertical-align: middle;\n",
       "    }\n",
       "\n",
       "    .dataframe tbody tr th {\n",
       "        vertical-align: top;\n",
       "    }\n",
       "\n",
       "    .dataframe thead th {\n",
       "        text-align: right;\n",
       "    }\n",
       "</style>\n",
       "<table border=\"1\" class=\"dataframe\">\n",
       "  <thead>\n",
       "    <tr style=\"text-align: right;\">\n",
       "      <th></th>\n",
       "      <th>Age</th>\n",
       "      <th>Employment Type</th>\n",
       "      <th>GraduateOrNot</th>\n",
       "      <th>AnnualIncome</th>\n",
       "      <th>FamilyMembers</th>\n",
       "      <th>ChronicDiseases</th>\n",
       "      <th>FrequentFlyer</th>\n",
       "      <th>EverTravelledAbroad</th>\n",
       "      <th>TravelInsurance</th>\n",
       "    </tr>\n",
       "  </thead>\n",
       "  <tbody>\n",
       "    <tr>\n",
       "      <th>0</th>\n",
       "      <td>31</td>\n",
       "      <td>Government Sector</td>\n",
       "      <td>Yes</td>\n",
       "      <td>400000</td>\n",
       "      <td>6</td>\n",
       "      <td>1</td>\n",
       "      <td>No</td>\n",
       "      <td>No</td>\n",
       "      <td>0</td>\n",
       "    </tr>\n",
       "    <tr>\n",
       "      <th>1</th>\n",
       "      <td>31</td>\n",
       "      <td>Private Sector/Self Employed</td>\n",
       "      <td>Yes</td>\n",
       "      <td>1250000</td>\n",
       "      <td>7</td>\n",
       "      <td>0</td>\n",
       "      <td>No</td>\n",
       "      <td>No</td>\n",
       "      <td>0</td>\n",
       "    </tr>\n",
       "    <tr>\n",
       "      <th>2</th>\n",
       "      <td>34</td>\n",
       "      <td>Private Sector/Self Employed</td>\n",
       "      <td>Yes</td>\n",
       "      <td>500000</td>\n",
       "      <td>4</td>\n",
       "      <td>1</td>\n",
       "      <td>No</td>\n",
       "      <td>No</td>\n",
       "      <td>1</td>\n",
       "    </tr>\n",
       "    <tr>\n",
       "      <th>3</th>\n",
       "      <td>28</td>\n",
       "      <td>Private Sector/Self Employed</td>\n",
       "      <td>Yes</td>\n",
       "      <td>700000</td>\n",
       "      <td>3</td>\n",
       "      <td>1</td>\n",
       "      <td>No</td>\n",
       "      <td>No</td>\n",
       "      <td>0</td>\n",
       "    </tr>\n",
       "    <tr>\n",
       "      <th>4</th>\n",
       "      <td>28</td>\n",
       "      <td>Private Sector/Self Employed</td>\n",
       "      <td>Yes</td>\n",
       "      <td>700000</td>\n",
       "      <td>8</td>\n",
       "      <td>1</td>\n",
       "      <td>Yes</td>\n",
       "      <td>No</td>\n",
       "      <td>0</td>\n",
       "    </tr>\n",
       "  </tbody>\n",
       "</table>\n",
       "</div>"
      ],
      "text/plain": [
       "   Age               Employment Type GraduateOrNot  AnnualIncome  \\\n",
       "0   31             Government Sector           Yes        400000   \n",
       "1   31  Private Sector/Self Employed           Yes       1250000   \n",
       "2   34  Private Sector/Self Employed           Yes        500000   \n",
       "3   28  Private Sector/Self Employed           Yes        700000   \n",
       "4   28  Private Sector/Self Employed           Yes        700000   \n",
       "\n",
       "   FamilyMembers  ChronicDiseases FrequentFlyer EverTravelledAbroad  \\\n",
       "0              6                1            No                  No   \n",
       "1              7                0            No                  No   \n",
       "2              4                1            No                  No   \n",
       "3              3                1            No                  No   \n",
       "4              8                1           Yes                  No   \n",
       "\n",
       "   TravelInsurance  \n",
       "0                0  \n",
       "1                0  \n",
       "2                1  \n",
       "3                0  \n",
       "4                0  "
      ]
     },
     "execution_count": 2,
     "metadata": {},
     "output_type": "execute_result"
    }
   ],
   "source": [
    "# Read file\n",
    "df = pd.read_csv('data/travel_insurance.csv')\n",
    "\n",
    "# Split the data in two subgroups, to compare data with/without Travel Insurance\n",
    "insured_df = df[df['TravelInsurance'] == 1]\n",
    "uninsured_df = df[df['TravelInsurance'] == 0]\n",
    "df.head()"
   ]
  },
  {
   "cell_type": "markdown",
   "id": "9f82c3de-6926-4b14-a48d-ab69d4448e34",
   "metadata": {},
   "source": [
    "## Data Size and Structure\n",
    "\n",
    "- Dataset comprises of 1987 observations and 9 columns.\n",
    "- 8 independent variables: `Age`, `Employement Type`, `GraduateOrNot`, `AnnualIncome`, `FamilyMembers`, `ChronicDiseases`, `FrequentFlyer`, `EverTravelledAbroad`\n",
    "    - 3 numerical features, 5 categorical features\n",
    "- 1 dependent variable: `TravelInsurance`\n",
    "- Complete dataset with no missing/null values."
   ]
  },
  {
   "cell_type": "code",
   "execution_count": 3,
   "id": "c1eae5b1-4014-4da1-a72f-f5f54e6fced9",
   "metadata": {},
   "outputs": [
    {
     "name": "stdout",
     "output_type": "stream",
     "text": [
      "Shape: (1987, 9)\n",
      "\n",
      "\n",
      "<class 'pandas.core.frame.DataFrame'>\n",
      "RangeIndex: 1987 entries, 0 to 1986\n",
      "Data columns (total 9 columns):\n",
      " #   Column               Non-Null Count  Dtype \n",
      "---  ------               --------------  ----- \n",
      " 0   Age                  1987 non-null   int64 \n",
      " 1   Employment Type      1987 non-null   object\n",
      " 2   GraduateOrNot        1987 non-null   object\n",
      " 3   AnnualIncome         1987 non-null   int64 \n",
      " 4   FamilyMembers        1987 non-null   int64 \n",
      " 5   ChronicDiseases      1987 non-null   int64 \n",
      " 6   FrequentFlyer        1987 non-null   object\n",
      " 7   EverTravelledAbroad  1987 non-null   object\n",
      " 8   TravelInsurance      1987 non-null   int64 \n",
      "dtypes: int64(5), object(4)\n",
      "memory usage: 139.8+ KB\n",
      "None\n"
     ]
    }
   ],
   "source": [
    "# Check the size and datatypes of the DataFrame\n",
    "print(f\"Shape: {df.shape}\")\n",
    "print('\\n')\n",
    "print(df.info())"
   ]
  },
  {
   "cell_type": "code",
   "execution_count": 4,
   "id": "b74920c3-4f94-4aa9-9b84-913a1e83d6e4",
   "metadata": {},
   "outputs": [
    {
     "name": "stdout",
     "output_type": "stream",
     "text": [
      "Private Sector/Self Employed    1417\n",
      "Government Sector                570\n",
      "Name: Employment Type, dtype: int64\n",
      "\n",
      "\n",
      "Yes    1692\n",
      "No      295\n",
      "Name: GraduateOrNot, dtype: int64\n",
      "\n",
      "\n",
      "0    1435\n",
      "1     552\n",
      "Name: ChronicDiseases, dtype: int64\n",
      "\n",
      "\n",
      "No     1570\n",
      "Yes     417\n",
      "Name: FrequentFlyer, dtype: int64\n",
      "\n",
      "\n",
      "No     1607\n",
      "Yes     380\n",
      "Name: EverTravelledAbroad, dtype: int64\n",
      "\n",
      "\n",
      "0    1277\n",
      "1     710\n",
      "Name: TravelInsurance, dtype: int64\n",
      "\n",
      "\n"
     ]
    }
   ],
   "source": [
    "# For all categorical data columns\n",
    "# Print categories and the number of times they appear\n",
    "# ChornicDiseases and TravelInsurance at categorical because 1 and 0 represent yes and no\n",
    "CAT_COLS = ['Employment Type', 'GraduateOrNot', \"ChronicDiseases\", \"FrequentFlyer\", \"EverTravelledAbroad\", \"TravelInsurance\"]\n",
    "\n",
    "for col in df[CAT_COLS]:\n",
    "    print(df[col].value_counts())\n",
    "    print('\\n')"
   ]
  },
  {
   "cell_type": "code",
   "execution_count": 5,
   "id": "0e4e6159-47ac-42ab-80de-7c4d0bb688bd",
   "metadata": {},
   "outputs": [
    {
     "data": {
      "text/html": [
       "<div>\n",
       "<style scoped>\n",
       "    .dataframe tbody tr th:only-of-type {\n",
       "        vertical-align: middle;\n",
       "    }\n",
       "\n",
       "    .dataframe tbody tr th {\n",
       "        vertical-align: top;\n",
       "    }\n",
       "\n",
       "    .dataframe thead th {\n",
       "        text-align: right;\n",
       "    }\n",
       "</style>\n",
       "<table border=\"1\" class=\"dataframe\">\n",
       "  <thead>\n",
       "    <tr style=\"text-align: right;\">\n",
       "      <th></th>\n",
       "      <th>Age</th>\n",
       "      <th>AnnualIncome</th>\n",
       "      <th>FamilyMembers</th>\n",
       "      <th>ChronicDiseases</th>\n",
       "      <th>TravelInsurance</th>\n",
       "    </tr>\n",
       "  </thead>\n",
       "  <tbody>\n",
       "    <tr>\n",
       "      <th>count</th>\n",
       "      <td>1987.000000</td>\n",
       "      <td>1.987000e+03</td>\n",
       "      <td>1987.000000</td>\n",
       "      <td>1987.000000</td>\n",
       "      <td>1987.000000</td>\n",
       "    </tr>\n",
       "    <tr>\n",
       "      <th>mean</th>\n",
       "      <td>29.650226</td>\n",
       "      <td>9.327630e+05</td>\n",
       "      <td>4.752894</td>\n",
       "      <td>0.277806</td>\n",
       "      <td>0.357323</td>\n",
       "    </tr>\n",
       "    <tr>\n",
       "      <th>std</th>\n",
       "      <td>2.913308</td>\n",
       "      <td>3.768557e+05</td>\n",
       "      <td>1.609650</td>\n",
       "      <td>0.448030</td>\n",
       "      <td>0.479332</td>\n",
       "    </tr>\n",
       "    <tr>\n",
       "      <th>min</th>\n",
       "      <td>25.000000</td>\n",
       "      <td>3.000000e+05</td>\n",
       "      <td>2.000000</td>\n",
       "      <td>0.000000</td>\n",
       "      <td>0.000000</td>\n",
       "    </tr>\n",
       "    <tr>\n",
       "      <th>25%</th>\n",
       "      <td>28.000000</td>\n",
       "      <td>6.000000e+05</td>\n",
       "      <td>4.000000</td>\n",
       "      <td>0.000000</td>\n",
       "      <td>0.000000</td>\n",
       "    </tr>\n",
       "    <tr>\n",
       "      <th>50%</th>\n",
       "      <td>29.000000</td>\n",
       "      <td>9.000000e+05</td>\n",
       "      <td>5.000000</td>\n",
       "      <td>0.000000</td>\n",
       "      <td>0.000000</td>\n",
       "    </tr>\n",
       "    <tr>\n",
       "      <th>75%</th>\n",
       "      <td>32.000000</td>\n",
       "      <td>1.250000e+06</td>\n",
       "      <td>6.000000</td>\n",
       "      <td>1.000000</td>\n",
       "      <td>1.000000</td>\n",
       "    </tr>\n",
       "    <tr>\n",
       "      <th>max</th>\n",
       "      <td>35.000000</td>\n",
       "      <td>1.800000e+06</td>\n",
       "      <td>9.000000</td>\n",
       "      <td>1.000000</td>\n",
       "      <td>1.000000</td>\n",
       "    </tr>\n",
       "  </tbody>\n",
       "</table>\n",
       "</div>"
      ],
      "text/plain": [
       "               Age  AnnualIncome  FamilyMembers  ChronicDiseases  \\\n",
       "count  1987.000000  1.987000e+03    1987.000000      1987.000000   \n",
       "mean     29.650226  9.327630e+05       4.752894         0.277806   \n",
       "std       2.913308  3.768557e+05       1.609650         0.448030   \n",
       "min      25.000000  3.000000e+05       2.000000         0.000000   \n",
       "25%      28.000000  6.000000e+05       4.000000         0.000000   \n",
       "50%      29.000000  9.000000e+05       5.000000         0.000000   \n",
       "75%      32.000000  1.250000e+06       6.000000         1.000000   \n",
       "max      35.000000  1.800000e+06       9.000000         1.000000   \n",
       "\n",
       "       TravelInsurance  \n",
       "count      1987.000000  \n",
       "mean          0.357323  \n",
       "std           0.479332  \n",
       "min           0.000000  \n",
       "25%           0.000000  \n",
       "50%           0.000000  \n",
       "75%           1.000000  \n",
       "max           1.000000  "
      ]
     },
     "execution_count": 5,
     "metadata": {},
     "output_type": "execute_result"
    }
   ],
   "source": [
    "df.describe()"
   ]
  },
  {
   "cell_type": "code",
   "execution_count": 6,
   "id": "e2f89fbf-3cfe-4da2-8c22-26c145dc43c8",
   "metadata": {},
   "outputs": [
    {
     "data": {
      "text/plain": [
       "Age                    0.0\n",
       "Employment Type        0.0\n",
       "GraduateOrNot          0.0\n",
       "AnnualIncome           0.0\n",
       "FamilyMembers          0.0\n",
       "ChronicDiseases        0.0\n",
       "FrequentFlyer          0.0\n",
       "EverTravelledAbroad    0.0\n",
       "TravelInsurance        0.0\n",
       "dtype: float64"
      ]
     },
     "execution_count": 6,
     "metadata": {},
     "output_type": "execute_result"
    }
   ],
   "source": [
    "# Percentage of dataset is null\n",
    "df.isnull().sum() / len(df) * 100"
   ]
  },
  {
   "cell_type": "code",
   "execution_count": 7,
   "id": "a146f1c2-bb78-43db-b1dd-e4c2bd38de71",
   "metadata": {},
   "outputs": [
    {
     "data": {
      "text/plain": [
       "EverTravelledAbroad\n",
       "No     412\n",
       "Yes    298\n",
       "dtype: int64"
      ]
     },
     "execution_count": 7,
     "metadata": {},
     "output_type": "execute_result"
    }
   ],
   "source": [
    "insured_df.value_counts('EverTravelledAbroad')"
   ]
  },
  {
   "cell_type": "markdown",
   "id": "20d3c2fc-1a5e-4112-aeda-1bc5dfcb26f0",
   "metadata": {},
   "source": [
    "## Exploratory Data Analysis"
   ]
  },
  {
   "cell_type": "code",
   "execution_count": 11,
   "id": "07d79030-5872-424a-882b-371763a0f4be",
   "metadata": {},
   "outputs": [],
   "source": [
    "LABELS = ['No', 'Yes'] # travel insurance labels"
   ]
  },
  {
   "cell_type": "markdown",
   "id": "24364e63-0b11-4606-b7d5-8fc315681d74",
   "metadata": {},
   "source": [
    "### Ever Travelled Abroad"
   ]
  },
  {
   "cell_type": "code",
   "execution_count": 9,
   "id": "32526865-afe8-4b53-8a1d-ee78ec0629b1",
   "metadata": {},
   "outputs": [
    {
     "data": {
      "image/png": "[encoded data removed]",
      "text/plain": [
       "<Figure size 1080x576 with 1 Axes>"
      ]
     },
     "metadata": {},
     "output_type": "display_data"
    }
   ],
   "source": [
    "insured_travelled = insured_df.value_counts('EverTravelledAbroad').values\n",
    "uninsured_travelled = uninsured_df.value_counts('EverTravelledAbroad').values\n",
    "\n",
    "x = np.arange(len(LABELS))  # the label locations\n",
    "width = 0.35  # the width of the bars\n",
    "\n",
    "fig, ax = plt.subplots(figsize=(15, 8))\n",
    "rects1 = ax.bar(x + width/2, insured_travelled, width, label='Insured', color='forestgreen')\n",
    "rects2 = ax.bar(x - width/2, uninsured_travelled, width, label='Uninsured', color='firebrick')\n",
    "\n",
    "# Add some text for labels, title and custom x-axis tick labels, etc.\n",
    "ax.set_xlabel('Ever travelled abroad')\n",
    "ax.set_ylabel('Count')\n",
    "ax.set_title('Count of people that have travelled abroad by whether they are insured')\n",
    "ax.set_xticks(x)\n",
    "ax.set_xticklabels(LABELS)\n",
    "ax.legend(prop={'size': 20})\n",
    "\n",
    "ax.bar_label(rects1, padding=3, fontsize=20)\n",
    "ax.bar_label(rects2, padding=3, fontsize=20)\n",
    "\n",
    "for item in ([ax.title, ax.xaxis.label, ax.yaxis.label] + ax.get_xticklabels() + ax.get_yticklabels()):\n",
    "    item.set_fontsize(20)\n",
    "\n",
    "fig.tight_layout()\n",
    "plt.show()"
   ]
  },
  {
   "cell_type": "markdown",
   "id": "a3594a8f-4f9f-4028-bf7e-8e7d430cc832",
   "metadata": {},
   "source": [
    "## Frequent Flyer"
   ]
  },
  {
   "cell_type": "code",
   "execution_count": 10,
   "id": "dc393b0e-39d9-4bd4-8855-a64eb2680384",
   "metadata": {},
   "outputs": [
    {
     "ename": "SyntaxError",
     "evalue": "invalid syntax (456924634.py, line 5)",
     "output_type": "error",
     "traceback": [
      "\u001b[0;36m  File \u001b[0;32m\"/tmp/ipykernel_16155/456924634.py\"\u001b[0;36m, line \u001b[0;32m5\u001b[0m\n\u001b[0;31m    width = 0.35  # the width of the bars\u001b[0m\n\u001b[0m    ^\u001b[0m\n\u001b[0;31mSyntaxError\u001b[0m\u001b[0;31m:\u001b[0m invalid syntax\n"
     ]
    }
   ],
   "source": [
    "insured_freqfly = insured_df.value_counts('FrequentFlyer').values\n",
    "uninsured_freqfly = uninsured_df.value_counts('FrequentFlyer').values\n",
    "\n",
    "x = np.arange(len(LABELS)  # the label locations\n",
    "width = 0.35  # the width of the bars\n",
    "\n",
    "fig, ax = plt.subplots(figsize=(15, 8))\n",
    "rects1 = ax.bar(x + width/2, insured_freqfly, width, label='Insured', color='forestgreen')\n",
    "rects2 = ax.bar(x - width/2, uninsured_freqfly, width, label='Uninsured', color='firebrick')\n",
    "\n",
    "# Add some text for labels, title and custom x-axis tick labels, etc.\n",
    "ax.set_xlabel('Frequent Flyer')\n",
    "ax.set_ylabel('Count')\n",
    "ax.set_title('Count of people that are frequent fliers by whether they are insured')\n",
    "ax.set_xticks(x)\n",
    "ax.set_xticklabels(LABELS)\n",
    "ax.legend(prop={'size': 20})\n",
    "\n",
    "ax.bar_label(rects1, padding=3, fontsize=20)\n",
    "ax.bar_label(rects2, padding=3, fontsize=20)\n",
    "\n",
    "for item in ([ax.title, ax.xaxis.label, ax.yaxis.label] + ax.get_xticklabels() + ax.get_yticklabels()):\n",
    "    item.set_fontsize(20)\n",
    "\n",
    "fig.tight_layout()\n",
    "plt.show()"
   ]
  },
  {
   "cell_type": "markdown",
   "id": "8bd5290e-8780-4425-b4ff-6643fb3c6595",
   "metadata": {},
   "source": [
    "## Chronic Diseases"
   ]
  },
  {
   "cell_type": "code",
   "execution_count": null,
   "id": "ceaace25-1fda-4740-abc3-c69d0eb84059",
   "metadata": {},
   "outputs": [],
   "source": [
    "insured_chronic = insured_df.value_counts('ChronicDiseases').values\n",
    "uninsured_chronic = uninsured_df.value_counts('ChronicDiseases').values\n",
    "\n",
    "x = np.arange(len(LABELS))  # the label locations\n",
    "width = 0.35  # the width of the bars\n",
    "\n",
    "fig, ax = plt.subplots(figsize=(15, 8))\n",
    "rects1 = ax.bar(x + width/2, insured_chronic, width, label='Insured', color='forestgreen')\n",
    "rects2 = ax.bar(x - width/2, uninsured_chronic, width, label='Uninsured', color='firebrick')\n",
    "\n",
    "# Add some text for labels, title and custom x-axis tick labels, etc.\n",
    "ax.set_xlabel('Has a chronic disease')\n",
    "ax.set_ylabel('Count')\n",
    "ax.set_title('Count of people that have a chronic disease by whether they are insured')\n",
    "ax.set_xticks(x)\n",
    "ax.set_xticklabels(LABELS)\n",
    "ax.legend(prop={'size': 20})\n",
    "\n",
    "ax.bar_label(rects1, padding=3, fontsize=20)\n",
    "ax.bar_label(rects2, padding=3, fontsize=20)\n",
    "\n",
    "for item in ([ax.title, ax.xaxis.label, ax.yaxis.label] + ax.get_xticklabels() + ax.get_yticklabels()):\n",
    "    item.set_fontsize(20)\n",
    "\n",
    "fig.tight_layout()\n",
    "plt.show()"
   ]
  },
  {
   "cell_type": "markdown",
   "id": "09e57728-36d8-4e5a-9e00-9038133651ad",
   "metadata": {},
   "source": [
    "## Family Members"
   ]
  },
  {
   "cell_type": "code",
   "execution_count": null,
   "id": "16b511b5-1d75-41d3-99b6-2ca5af89978f",
   "metadata": {},
   "outputs": [],
   "source": [
    "fig, ax = plt.subplots(figsize=(15, 8))\n",
    "ax = sns.countplot(x=\"FamilyMembers\", data=df, hue=\"TravelInsurance\")\n",
    "\n",
    "ax.set_xlabel('Number of family members')\n",
    "ax.set_title('Frequency of family size by whether they are insured')\n",
    "ax.legend(title=\"Insured\", labels=LABELS, fontsize=20, title_fontsize=20)\n",
    "for item in ([ax.title, ax.xaxis.label, ax.yaxis.label] + ax.get_xticklabels() + ax.get_yticklabels()):\n",
    "    item.set_fontsize(20)\n",
    "fig.tight_layout()\n",
    "plt.show()"
   ]
  },
  {
   "cell_type": "code",
   "execution_count": null,
   "id": "1cb74986-bf27-4646-9ad3-18583338ab4b",
   "metadata": {},
   "outputs": [],
   "source": []
  }
 ],
 "metadata": {
  "kernelspec": {
   "display_name": "Python 3 (ipykernel)",
   "language": "python",
   "name": "python3"
  },
  "language_info": {
   "codemirror_mode": {
    "name": "ipython",
    "version": 3
   },
   "file_extension": ".py",
   "mimetype": "text/x-python",
   "name": "python",
   "nbconvert_exporter": "python",
   "pygments_lexer": "ipython3",
   "version": "3.8.12"
  }
 },
 "nbformat": 4,
 "nbformat_minor": 5
}
