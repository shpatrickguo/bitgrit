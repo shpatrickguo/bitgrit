{
 "cells": [
  {
   "cell_type": "markdown",
   "id": "10180da8-1e4a-4288-896a-39b5c89228b4",
   "metadata": {},
   "source": [
    "# Data Science Interview Questions\n",
    "\n",
    "My approach to solving some interview questions."
   ]
  },
  {
   "cell_type": "markdown",
   "id": "43b0ca1f-1f76-4470-b63d-225003acccb2",
   "metadata": {},
   "source": [
    "## Find the Missing Number\n",
    "\n",
    "You have an array of integers of length n spanning 0 to n with one missing. Write a function missing_number that returns the missing number in the array.\n",
    "\n",
    "**Note:*** Complexity of O(N) required.\n",
    "\n",
    "**Example:**\n",
    "\n",
    "**Input:**\n",
    "```\n",
    "nums = [0,1,2,4,5] \n",
    "missing_number(nums) -> 3\n",
    "```"
   ]
  },
  {
   "cell_type": "code",
   "execution_count": 5,
   "id": "23cf6af5-7a39-48ff-b6a8-c6af9cc1eeb5",
   "metadata": {},
   "outputs": [],
   "source": [
    "def missing_number(nums):\n",
    "    \"\"\" Return the missing number in the array\n",
    "    INPUT: list, list of numbers of length n spanning 0 to n with one missing\n",
    "    OUTPUT: int, missing number\n",
    "    \"\"\"\n",
    "    nums = set(nums)\n",
    "    n = len(nums) + 1\n",
    "    for number in range(n):\n",
    "        if number not in nums:\n",
    "            return number"
   ]
  },
  {
   "cell_type": "code",
   "execution_count": 6,
   "id": "0798f010-49c3-44bb-a316-f1ef1dd12c6f",
   "metadata": {},
   "outputs": [
    {
     "data": {
      "text/plain": [
       "3"
      ]
     },
     "execution_count": 6,
     "metadata": {},
     "output_type": "execute_result"
    }
   ],
   "source": [
    "nums = [0,1,2,4,5] \n",
    "missing_number(nums)"
   ]
  },
  {
   "cell_type": "markdown",
   "id": "f8ce4a82-1943-4636-85f3-1d1f6e25c640",
   "metadata": {},
   "source": [
    "## Find Bigrams\n",
    "\n",
    "Write a function called `find_bigrams` that takes a sentence or paragraph of strings and returns a list of all bigrams.\n",
    "\n",
    "**Input:**\n",
    "```\n",
    "sentence = \"\"\"\n",
    "Have free hours and love children? \n",
    "Drive kids to school, soccer practice \n",
    "and other activities.\n",
    "\"\"\"\n",
    "```\n",
    "\n",
    "**Output:**\n",
    "```\n",
    "def find_bigrams(sentence) ->\n",
    "\n",
    " [('have', 'free'),\n",
    " ('free', 'hours'),\n",
    " ('hours', 'and'),\n",
    " ('and', 'love'),\n",
    " ('love', 'children?'),\n",
    " ('children?', 'drive'),\n",
    " ('drive', 'kids'),\n",
    " ('kids', 'to'),\n",
    " ('to', 'school,'),\n",
    " ('school,', 'soccer'),\n",
    " ('soccer', 'practice'),\n",
    " ('practice', 'and'),\n",
    " ('and', 'other'),\n",
    " ('other', 'activities.')]\n",
    "```"
   ]
  },
  {
   "cell_type": "code",
   "execution_count": 6,
   "id": "c9838a00-539c-4b52-9f07-69e98c1509a8",
   "metadata": {},
   "outputs": [],
   "source": [
    "def find_bigrams(sentence):\n",
    "    \"\"\"Returns a list of all bigrams\n",
    "    INPUT: str, sentence or paragrah of strings\n",
    "    OUTPUT: list, list of all bigrams\n",
    "    \"\"\"\n",
    "    \n",
    "    word_list = sentence.split()\n",
    "    bigram_list = []\n",
    "    \n",
    "    for i in range(len(word_list) - 1):\n",
    "        bigram = (word_list[i].strip().lower(), word_list[i+1].strip().lower())\n",
    "        bigram_list.append(bigram)\n",
    "    return bigram_list"
   ]
  },
  {
   "cell_type": "code",
   "execution_count": 7,
   "id": "670af943-7271-423d-b13d-4736297fa126",
   "metadata": {},
   "outputs": [
    {
     "data": {
      "text/plain": [
       "[('have', 'free'),\n",
       " ('free', 'hours'),\n",
       " ('hours', 'and'),\n",
       " ('and', 'love'),\n",
       " ('love', 'children?'),\n",
       " ('children?', 'drive'),\n",
       " ('drive', 'kids'),\n",
       " ('kids', 'to'),\n",
       " ('to', 'school,'),\n",
       " ('school,', 'soccer'),\n",
       " ('soccer', 'practice'),\n",
       " ('practice', 'and'),\n",
       " ('and', 'other'),\n",
       " ('other', 'activities.')]"
      ]
     },
     "execution_count": 7,
     "metadata": {},
     "output_type": "execute_result"
    }
   ],
   "source": [
    "sentence = \"\"\"\n",
    "Have free hours and love children? \n",
    "Drive kids to school, soccer practice \n",
    "and other activities.\n",
    "\"\"\"\n",
    "find_bigrams(sentence)"
   ]
  },
  {
   "cell_type": "markdown",
   "id": "86ab06d9-038b-495e-b497-42f71d22cb9f",
   "metadata": {},
   "source": [
    "## Recurring Character\n",
    "\n",
    "Given a string, write a function recurring_char to find its first recurring character. Return None if there is no recurring character.\n",
    "\n",
    "Treat upper and lower case letters as distinct characters.\n",
    "\n",
    "Assume the input string includes no spaces.\n",
    "\n",
    "**Example 1:**\n",
    "\n",
    "**Input:**\n",
    "```\n",
    "input = \"interviewquery\"\n",
    "```\n",
    "**Output:**\n",
    "```\n",
    "output = \"i\"\n",
    "```\n",
    "**Example 2:**\n",
    "\n",
    "**Input:**\n",
    "```\n",
    "input = \"interv\"\n",
    "```\n",
    "**Output:**\n",
    "```\n",
    "output = None\n",
    "```"
   ]
  },
  {
   "cell_type": "code",
   "execution_count": 13,
   "id": "450bd877-9b58-4a37-8a9f-166724eb915e",
   "metadata": {},
   "outputs": [],
   "source": [
    "def recurring_char(input):\n",
    "    for i in range(len(input)):\n",
    "        if input[i] in input[i+1:]:\n",
    "            return input[i]\n",
    "        else:\n",
    "            return None"
   ]
  },
  {
   "cell_type": "code",
   "execution_count": 12,
   "id": "01173214-81a3-42c0-ad32-da2111d4f6fe",
   "metadata": {},
   "outputs": [
    {
     "data": {
      "text/plain": [
       "'i'"
      ]
     },
     "execution_count": 12,
     "metadata": {},
     "output_type": "execute_result"
    }
   ],
   "source": [
    "input = \"interviewquery\"\n",
    "recurring_char(input)"
   ]
  },
  {
   "cell_type": "markdown",
   "id": "a375ff3e-b706-4248-9f77-09fed94efa92",
   "metadata": {},
   "source": [
    "## Merge Sorted Lists\n",
    "\n",
    "Given two sorted lists, write a function to merge them into one sorted list.\n",
    "\n",
    "Bonus: What’s the time complexity?\n",
    "\n",
    "**Example:**\n",
    "\n",
    "**Input:**\n",
    "```\n",
    "list1 = [1,2,5]\n",
    "list2 = [2,4,6]\n",
    "```\n",
    "**Output:**\n",
    "```\n",
    "def merge_list(list1,list2) -> [1,2,2,4,5,6]\n",
    "```"
   ]
  },
  {
   "cell_type": "code",
   "execution_count": 50,
   "id": "2c144dc1-5690-460f-99b5-1cd81984fbe8",
   "metadata": {},
   "outputs": [],
   "source": [
    "import numpy as np\n",
    "def merge_list(list1, list2):\n",
    "    \"\"\"Merge two sorted lists into one sorted list.\n",
    "    \"\"\"\n",
    "    l = list1+list2\n",
    "    l.sort()\n",
    "    return l"
   ]
  },
  {
   "cell_type": "code",
   "execution_count": 51,
   "id": "dba93746-6ff2-4878-ac13-6b30773228ce",
   "metadata": {},
   "outputs": [
    {
     "name": "stdout",
     "output_type": "stream",
     "text": [
      "[1, 2, 2, 4, 5, 6]\n"
     ]
    }
   ],
   "source": [
    "list1 = [1,2,5]\n",
    "list2 = [2,4,6]\n",
    "print(merge_list(list1,list2))"
   ]
  },
  {
   "cell_type": "markdown",
   "id": "e3fccc6c-0094-4467-9a9c-b3147a7f7915",
   "metadata": {},
   "source": [
    "## Permutation Palindrome\n",
    "\n",
    "Given a string str, write a function perm_palindrome to determine whether there exists a permutation of str that is a palindrome.\n",
    "\n",
    "**Example:**\n",
    "\n",
    "**Input:**\n",
    "```\n",
    "str = 'carerac'\n",
    "def perm_palindrome(str) -> True\n",
    "```\n",
    "“carerac” returns True since it can be rearranged to form “racecar” which is a palindrome."
   ]
  },
  {
   "cell_type": "code",
   "execution_count": 53,
   "id": "911eb65f-cded-4f98-9e24-494c7c748ebc",
   "metadata": {},
   "outputs": [],
   "source": [
    "from collections import Counter\n",
    "\n",
    "def perm_palindrome(str):\n",
    "    \"\"\"Determine whether there exists a permutation of str that is a palindrome\n",
    "    \"\"\"\n",
    "    c = Counter(str)\n",
    "    num_odds = 0 \n",
    "\n",
    "    for char, count in c.items():\n",
    "        if count % 2 != 0:\n",
    "            num_odds += 1\n",
    "\n",
    "    return num_odds <= 1"
   ]
  },
  {
   "cell_type": "code",
   "execution_count": 54,
   "id": "2ad2b958-a56f-4411-a722-231e320069c4",
   "metadata": {},
   "outputs": [
    {
     "data": {
      "text/plain": [
       "True"
      ]
     },
     "execution_count": 54,
     "metadata": {},
     "output_type": "execute_result"
    }
   ],
   "source": [
    "str = 'carerac'\n",
    "perm_palindrome(str)"
   ]
  },
  {
   "cell_type": "markdown",
   "id": "b9aae461-ee24-427d-9596-5998d4ed5eed",
   "metadata": {},
   "source": [
    "## Equivalent Index\n",
    "\n",
    "Given a list of integers, find the index at which the sum of the left half of the list is equal to the right half.\n",
    "\n",
    "If there is no index where this condition is satisfied return -1.\n",
    "\n",
    "**Example 1:**\n",
    "\n",
    "**Input:**\n",
    "```\n",
    "nums = [1, 7, 3, 5, 6]\n",
    "```\n",
    "**Output:**\n",
    "```\n",
    "equivalent_index(nums) -> 2\n",
    "```\n",
    "**Example 2:**\n",
    "\n",
    "**Input:**\n",
    "```\n",
    "nums = [1,3,5]\n",
    "```\n",
    "**Output:**\n",
    "```\n",
    "equivalent_index(nums) -> -1\n",
    "```"
   ]
  },
  {
   "cell_type": "code",
   "execution_count": 18,
   "id": "037315bd-6147-4f4d-b0a2-efaf29d353c5",
   "metadata": {},
   "outputs": [],
   "source": [
    "def equivalent_index(nums):\n",
    "    \"\"\"Find the index at which the sum of the left half of the list is equal to the right half.\n",
    "    \"\"\"\n",
    "    \n",
    "    for i in range(len(nums)):\n",
    "        left = nums[:i+1]\n",
    "        right = nums[i+1:] \n",
    "        if sum(left) == sum(right):\n",
    "            return i\n",
    "    return -1"
   ]
  },
  {
   "cell_type": "code",
   "execution_count": 19,
   "id": "93a0ebcd-7ba8-495d-b76a-959b8ef52d4a",
   "metadata": {},
   "outputs": [
    {
     "data": {
      "text/plain": [
       "2"
      ]
     },
     "execution_count": 19,
     "metadata": {},
     "output_type": "execute_result"
    }
   ],
   "source": [
    "nums = [1, 7, 3, 5, 6]\n",
    "equivalent_index(nums)"
   ]
  },
  {
   "cell_type": "code",
   "execution_count": 20,
   "id": "24b03a90-9340-44b9-b307-7f14e3aaa39f",
   "metadata": {},
   "outputs": [
    {
     "data": {
      "text/plain": [
       "-1"
      ]
     },
     "execution_count": 20,
     "metadata": {},
     "output_type": "execute_result"
    }
   ],
   "source": [
    "nums = [1,3,5]\n",
    "equivalent_index(nums)"
   ]
  },
  {
   "cell_type": "markdown",
   "id": "c93cbc47-1464-4098-9406-4bfda7098ebc",
   "metadata": {},
   "source": [
    "## Over 100 Dollars\n",
    "\n",
    "You’re given two dataframes: transactions and products.\n",
    "\n",
    "The transactions dataframe contains transaction ids, product ids, and the total amount of each product sold.\n",
    "\n",
    "The products dataframe contains product ids and prices.\n",
    "\n",
    "Write a function to return a dataframe containing every transaction with a total value of over $100. Include the total value of the transaction as a new column in the dataframe."
   ]
  },
  {
   "cell_type": "code",
   "execution_count": 21,
   "id": "2f799c02-08d0-450c-a8a3-b03a73f09f6e",
   "metadata": {},
   "outputs": [],
   "source": [
    "import pandas as pd\n",
    "\n",
    "transactions = {\"transaction_id\" : [1, 2, 3, 4, 5], \"product_id\" : [101, 102, 103, 104, 105], \"amount\" : [3, 5, 8, 3, 2]}\n",
    "\n",
    "products = {\"product_id\" : [101, 102, 103, 104, 105], \"price\" : [20.00, 21.00, 15.00, 16.00, 52.00]}\n",
    "\n",
    "df_transactions = pd.DataFrame(transactions)\n",
    "\n",
    "df_products = pd.DataFrame(products)"
   ]
  },
  {
   "cell_type": "code",
   "execution_count": 31,
   "id": "39ca1f12-39b9-4686-8f83-d44d3799f4cf",
   "metadata": {},
   "outputs": [],
   "source": [
    "def over100(df_transactions, df_products):\n",
    "    \"\"\"Return a dataframe containing every transaction with a total value of over $100\n",
    "    \"\"\"\n",
    "    df = df_transactions.merge(df_products, on=\"product_id\")\n",
    "    df[\"total_value\"] = df.amount * df.price\n",
    "    df = df[df.total_value > 100]\n",
    "    df = df.drop(\"price\", axis=1)\n",
    "    return df"
   ]
  },
  {
   "cell_type": "code",
   "execution_count": 30,
   "id": "669d7626-fdf6-497b-9023-1ac7f3ac6b6a",
   "metadata": {},
   "outputs": [
    {
     "data": {
      "text/html": [
       "<div>\n",
       "<style scoped>\n",
       "    .dataframe tbody tr th:only-of-type {\n",
       "        vertical-align: middle;\n",
       "    }\n",
       "\n",
       "    .dataframe tbody tr th {\n",
       "        vertical-align: top;\n",
       "    }\n",
       "\n",
       "    .dataframe thead th {\n",
       "        text-align: right;\n",
       "    }\n",
       "</style>\n",
       "<table border=\"1\" class=\"dataframe\">\n",
       "  <thead>\n",
       "    <tr style=\"text-align: right;\">\n",
       "      <th></th>\n",
       "      <th>transaction_id</th>\n",
       "      <th>product_id</th>\n",
       "      <th>amount</th>\n",
       "      <th>total_value</th>\n",
       "    </tr>\n",
       "  </thead>\n",
       "  <tbody>\n",
       "    <tr>\n",
       "      <th>1</th>\n",
       "      <td>2</td>\n",
       "      <td>102</td>\n",
       "      <td>5</td>\n",
       "      <td>105.0</td>\n",
       "    </tr>\n",
       "    <tr>\n",
       "      <th>2</th>\n",
       "      <td>3</td>\n",
       "      <td>103</td>\n",
       "      <td>8</td>\n",
       "      <td>120.0</td>\n",
       "    </tr>\n",
       "    <tr>\n",
       "      <th>4</th>\n",
       "      <td>5</td>\n",
       "      <td>105</td>\n",
       "      <td>2</td>\n",
       "      <td>104.0</td>\n",
       "    </tr>\n",
       "  </tbody>\n",
       "</table>\n",
       "</div>"
      ],
      "text/plain": [
       "   transaction_id  product_id  amount  total_value\n",
       "1               2         102       5        105.0\n",
       "2               3         103       8        120.0\n",
       "4               5         105       2        104.0"
      ]
     },
     "execution_count": 30,
     "metadata": {},
     "output_type": "execute_result"
    }
   ],
   "source": [
    "over100(df_transactions, df_products)"
   ]
  },
  {
   "cell_type": "markdown",
   "id": "6b62ea62-fed9-445a-b7e3-b95cdb337db0",
   "metadata": {},
   "source": [
    "## Good Grades and Favorite Colors\n",
    "\n",
    "You’re given a dataframe of students named `students_df`\n",
    "\n",
    "Write a function named grades_colors to select only the rows where the student’s favorite color is green or red and their grade is above 90."
   ]
  },
  {
   "cell_type": "code",
   "execution_count": 41,
   "id": "74b0b8b7-b0da-4b0d-8634-7455a0468519",
   "metadata": {},
   "outputs": [],
   "source": [
    "import pandas as pd\n",
    "\n",
    "students = {\"name\" : [\"Tim Voss\", \"Nicole Johnson\", \"Elsa Williams\", \"John James\", \"Catherine Jones\"], \"age\" : [19, 20, 21, 20, 23], \"favorite_color\" : [\"red\", \"yellow\", \"green\", \"blue\", \"green\"], \"grade\" : [91, 95, 82, 75, 93]}\n",
    "\n",
    "students_df = pd.DataFrame(students)"
   ]
  },
  {
   "cell_type": "code",
   "execution_count": 51,
   "id": "56097d61-060f-41a4-a161-c9121a6ba202",
   "metadata": {},
   "outputs": [],
   "source": [
    "import numpy as np\n",
    "def grades_colors(students_df):\n",
    "    color_filter = np.logical_or(students_df.favorite_color == \"red\", students_df.favorite_color == \"green\")\n",
    "    grade_filter = students_df.grade > 90\n",
    "    return students_df[color_filter & grade_filter]"
   ]
  },
  {
   "cell_type": "code",
   "execution_count": 52,
   "id": "7128294d-1071-493a-87ae-e1f16ddce856",
   "metadata": {},
   "outputs": [
    {
     "data": {
      "text/html": [
       "<div>\n",
       "<style scoped>\n",
       "    .dataframe tbody tr th:only-of-type {\n",
       "        vertical-align: middle;\n",
       "    }\n",
       "\n",
       "    .dataframe tbody tr th {\n",
       "        vertical-align: top;\n",
       "    }\n",
       "\n",
       "    .dataframe thead th {\n",
       "        text-align: right;\n",
       "    }\n",
       "</style>\n",
       "<table border=\"1\" class=\"dataframe\">\n",
       "  <thead>\n",
       "    <tr style=\"text-align: right;\">\n",
       "      <th></th>\n",
       "      <th>name</th>\n",
       "      <th>age</th>\n",
       "      <th>favorite_color</th>\n",
       "      <th>grade</th>\n",
       "    </tr>\n",
       "  </thead>\n",
       "  <tbody>\n",
       "    <tr>\n",
       "      <th>0</th>\n",
       "      <td>Tim Voss</td>\n",
       "      <td>19</td>\n",
       "      <td>red</td>\n",
       "      <td>91</td>\n",
       "    </tr>\n",
       "    <tr>\n",
       "      <th>4</th>\n",
       "      <td>Catherine Jones</td>\n",
       "      <td>23</td>\n",
       "      <td>green</td>\n",
       "      <td>93</td>\n",
       "    </tr>\n",
       "  </tbody>\n",
       "</table>\n",
       "</div>"
      ],
      "text/plain": [
       "              name  age favorite_color  grade\n",
       "0         Tim Voss   19            red     91\n",
       "4  Catherine Jones   23          green     93"
      ]
     },
     "execution_count": 52,
     "metadata": {},
     "output_type": "execute_result"
    }
   ],
   "source": [
    "grades_colors(students_df)"
   ]
  },
  {
   "cell_type": "markdown",
   "id": "bf19e780-97be-4a62-bd21-fd72096e9b8a",
   "metadata": {},
   "source": [
    "## Generate Normal Distribution\n",
    "\n",
    "Write a function to generate N samples from a normal distribution and plot the histogram. You may omit the plot to test your code."
   ]
  },
  {
   "cell_type": "code",
   "execution_count": 55,
   "id": "a2f90338-4e88-47dd-ae77-0ddebf0c2fd9",
   "metadata": {},
   "outputs": [
    {
     "data": {
      "text/plain": [
       "<scipy.stats._distn_infrastructure.rv_frozen at 0x7fbbdd754c40>"
      ]
     },
     "execution_count": 55,
     "metadata": {},
     "output_type": "execute_result"
    }
   ],
   "source": [
    "import scipy.stats\n",
    "import matplotlib.pyplot as plt\n",
    "\n",
    "def norm_dist(N):\n",
    "    dist = scipy.stats.norm(0, 1)\n",
    "    samples = dist.rvs(N)\n",
    "    plt.hist(samples)\n",
    "    plt.xlabel(str(N)+' samples')\n",
    "    plt.ylabel('Count')\n",
    "    plt.show()\n"
   ]
  },
  {
   "cell_type": "code",
   "execution_count": null,
   "id": "7152e199-33d9-4e49-af47-8a6d9b22508a",
   "metadata": {},
   "outputs": [],
   "source": []
  }
 ],
 "metadata": {
  "kernelspec": {
   "display_name": "Python 3 (ipykernel)",
   "language": "python",
   "name": "python3"
  },
  "language_info": {
   "codemirror_mode": {
    "name": "ipython",
    "version": 3
   },
   "file_extension": ".py",
   "mimetype": "text/x-python",
   "name": "python",
   "nbconvert_exporter": "python",
   "pygments_lexer": "ipython3",
   "version": "3.8.12"
  }
 },
 "nbformat": 4,
 "nbformat_minor": 5
}
