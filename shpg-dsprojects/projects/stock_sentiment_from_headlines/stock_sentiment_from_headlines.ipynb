{
 "cells": [
  {
   "cell_type": "markdown",
   "id": "bbd1e21f-c09f-4305-b8f1-52283fbbba23",
   "metadata": {},
   "source": [
    "# Stock Sentiment Analysis from News Headlines\n",
    "\n",
    "<p>This notebook generates investing insights by applying sentiment analysis on financial news headlines from <a href=\"https://finviz.com\">FINVIZ.com</a>. Using a natural language processing< technique, we can understand the emotion behind the headlines and predict whether the market <em>feels</em> good or bad about a stock. This enables us to make educated guesses on how certain stocks will perform and trade accordingly.</p>\n",
    "\n",
    "<p>Why headlines? And why from FINVIZ?</p>\n",
    "FinViz makes market information accessible and provides a lot of data in visual snapshots.\n",
    "<li>Headlines, which have similar length, are easier to parse and group than full articles, which vary in length.</li>\n",
    "<li>FINVIZ has a list of trusted websites, and headlines from these sites tend to be more consistent in their jargon than those from independent bloggers. <b>Consistent textual patterns will improve the sentiment analysis.</b></li>\n",
    "</ol>\n",
    "<br>\n",
    "<p><strong>Disclaimer: Investing in the stock market involves risk and can lead to monetary loss. The content in this notebook is purely for educational purposes and should not to be taken as financial advice.</strong> </p>"
   ]
  },
  {
   "cell_type": "code",
   "execution_count": 53,
   "id": "ddf86b5d-3064-4465-b0a1-a1f5a27b5aea",
   "metadata": {},
   "outputs": [],
   "source": [
    "# Import libraries\n",
    "import pandas as pd\n",
    "import numpy as np\n",
    "from datetime import datetime\n",
    "import matplotlib.pyplot as plt\n",
    "plt.style.use(\"fivethirtyeight\")\n",
    "import seaborn as sns\n",
    "%matplotlib inline\n",
    "# https://github.com/mariostoev/finviz\n",
    "import finviz\n",
    "import nltk\n",
    "# NLTK VADER for sentiment analysis\n",
    "from nltk.sentiment.vader import SentimentIntensityAnalyzer"
   ]
  },
  {
   "cell_type": "code",
   "execution_count": 42,
   "id": "83227241-ce96-407d-8a75-f2c93808a976",
   "metadata": {},
   "outputs": [],
   "source": [
    "# Tickers of Stocks we want to investigate\n",
    "TICKER_LIST = ['AMZN', 'GOOG']"
   ]
  },
  {
   "cell_type": "markdown",
   "id": "0cdcdd7b-7ef8-4d00-8475-a3624c6817bc",
   "metadata": {},
   "source": [
    "## finviz-api\n",
    "\n",
    "We will be using an unofficial [finviz-API](https://github.com/mariostoev/finviz) made by [Mario Stoev](https://github.com/mariostoev) to get the news headlines for each stock.\n",
    "\n",
    "finviz.get_news returns list of sets containing containing:\n",
    "1. Datetime\n",
    "2. Headline\n",
    "3. URL\n",
    "4. Source"
   ]
  },
  {
   "cell_type": "code",
   "execution_count": 43,
   "id": "bd572a57-d7ea-451f-8da0-d3f2579e8576",
   "metadata": {},
   "outputs": [],
   "source": [
    "def get_news(ticker):\n",
    "    \"\"\"\n",
    "    Returns a list of sets containing news headline and url\n",
    "    \n",
    "    :param ticker: stock symbol\n",
    "    :return: list\n",
    "    \"\"\"\n",
    "    news = finviz.get_news(ticker)\n",
    "    return news"
   ]
  },
  {
   "cell_type": "code",
   "execution_count": 44,
   "id": "17e60a3c-8cc5-47da-9c20-b513dac9e750",
   "metadata": {},
   "outputs": [
    {
     "data": {
      "text/plain": [
       "datetime.time(8, 4)"
      ]
     },
     "execution_count": 44,
     "metadata": {},
     "output_type": "execute_result"
    }
   ],
   "source": [
    "# Example\n",
    "e = get_news('AAPL')[0][0]\n",
    "datetime.strptime(e, '%Y-%m-%d %H:%M').time()"
   ]
  },
  {
   "cell_type": "code",
   "execution_count": 45,
   "id": "408debff-12e7-4f08-936b-f0552c59e44a",
   "metadata": {},
   "outputs": [],
   "source": [
    "# Hold the parsed news into a list\n",
    "parsed_news = []\n",
    "\n",
    "for ticker in TICKER_LIST:\n",
    "    try:\n",
    "        news_array = get_news(ticker)\n",
    "        for news_set in news_array:\n",
    "            datetime = datetime.strptime(news_set[0], '%Y-%m-%d %H:%M')\n",
    "            date = datetime.date()\n",
    "            time = datetime.time()\n",
    "            headline = news_set[1]\n",
    "            parsed_news.append([ticker, date, time, headline])\n",
    "    except:\n",
    "        pass"
   ]
  },
  {
   "cell_type": "code",
   "execution_count": 46,
   "id": "6bcc193d-2448-40e2-b04e-31dc36048a0d",
   "metadata": {},
   "outputs": [
    {
     "data": {
      "text/plain": [
       "[['AMZN',\n",
       "  datetime.date(2022, 5, 24),\n",
       "  datetime.time(7, 35),\n",
       "  'Missed Out on Tesla? Cathie Wood Has a New Top Growth Stock'],\n",
       " ['AMZN',\n",
       "  datetime.date(2022, 5, 24),\n",
       "  datetime.time(6, 25),\n",
       "  \"Netflix doesn't have a 'natural investor base' right now: analyst\"],\n",
       " ['AMZN',\n",
       "  datetime.date(2022, 5, 24),\n",
       "  datetime.time(2, 45),\n",
       "  \"FOCUS-Netflix goes to 'Tollywood' and beyond for long-sought India growth\"]]"
      ]
     },
     "execution_count": 46,
     "metadata": {},
     "output_type": "execute_result"
    }
   ],
   "source": [
    "parsed_news[:3]"
   ]
  },
  {
   "cell_type": "markdown",
   "id": "fd763b09-0a6f-487b-8447-74c407c3a5f9",
   "metadata": {},
   "source": [
    "## Sentiment analysis is very sensitive to context\n",
    "\n",
    "For example, \"This is so addictive!\" often means something positive if the context is a video game you are enjoying with your friends, but it very often means something negative when we are talking about opioids. \n",
    "\n",
    "Financial journalists have their own lingo. Let's add some new words and sentiment values to our lexicon to make NLTK think like a financial journalist. "
   ]
  },
  {
   "cell_type": "code",
   "execution_count": 47,
   "id": "849de325-9c22-4f5a-9ad7-0dcbc1a84480",
   "metadata": {},
   "outputs": [],
   "source": [
    "nltk.download('vader_lexicon')"
   ]
  },
  {
   "cell_type": "code",
   "execution_count": 48,
   "id": "16f1994f-adc9-480c-9552-9655b7e2351f",
   "metadata": {},
   "outputs": [],
   "source": [
    "# New words and values\n",
    "new_words = {\n",
    "    'crushes': 10,\n",
    "    'beats': 5,\n",
    "    'misses': -5,\n",
    "    'trouble': -10,\n",
    "    'falls': -100,\n",
    "}\n",
    "# Instantiate the sentiment intensity analyzer with the existing lexicon\n",
    "vader = SentimentIntensityAnalyzer()\n",
    "# Update the lexicon\n",
    "vader.lexicon.update(new_words)"
   ]
  },
  {
   "cell_type": "code",
   "execution_count": 49,
   "id": "8be4853c-9476-4f1f-9573-89982588eeba",
   "metadata": {},
   "outputs": [],
   "source": [
    "# Use these column names\n",
    "columns = ['ticker', 'date', 'time', 'headline']\n",
    "# Convert the list of lists into a DataFrame\n",
    "scored_news = pd.DataFrame(parsed_news, columns=columns)\n",
    "# Iterate through the headlines and get the polarity scores\n",
    "scores = [vader.polarity_scores(headline) for headline in scored_news.headline.values]\n",
    "# Convert the list of dicts into a DataFrame\n",
    "scores_df = pd.DataFrame(scores)\n",
    "# Join the DataFrames\n",
    "scored_news = pd.concat([scored_news, scores_df], axis=1)\n",
    "# Convert the date column from string to datetime\n",
    "scored_news['date'] = scored_news.date"
   ]
  },
  {
   "cell_type": "code",
   "execution_count": 56,
   "id": "19429e2f-12b3-4d40-82ae-01564bb5b19e",
   "metadata": {},
   "outputs": [
    {
     "data": {
      "image/png": "[encoded data removed]",
      "text/plain": [
       "<Figure size 432x288 with 1 Axes>"
      ]
     },
     "metadata": {
      "needs_background": "light"
     },
     "output_type": "display_data"
    }
   ],
   "source": [
    "# Group by date and ticker columns from scored_news and calculate the mean\n",
    "mean_c = scored_news.groupby(['date', 'ticker']).mean()\n",
    "# Unstack the column ticker\n",
    "mean_c = mean_c.unstack(level=1)\n",
    "# Get the cross-section of compound in the 'columns' axis\n",
    "mean_c = mean_c.xs('compound', axis=1)\n",
    "# Plot a bar chart with pandas\n",
    "mean_c.plot.bar()\n",
    "plt.title(\"Vader compound scores by date for each ticker\", fontsize=16)\n",
    "plt.ylabel(\"score\")\n",
    "plt.show()"
   ]
  },
  {
   "cell_type": "code",
   "execution_count": null,
   "id": "b45445a1-7eb7-44c0-b2bd-baca6ee95dcd",
   "metadata": {},
   "outputs": [],
   "source": []
  },
  {
   "cell_type": "code",
   "execution_count": null,
   "id": "ea657bed-4d54-43d0-afb3-ada5eab63c9d",
   "metadata": {},
   "outputs": [],
   "source": []
  }
 ],
 "metadata": {
  "kernelspec": {
   "display_name": "Python 3 (ipykernel)",
   "language": "python",
   "name": "python3"
  },
  "language_info": {
   "codemirror_mode": {
    "name": "ipython",
    "version": 3
   },
   "file_extension": ".py",
   "mimetype": "text/x-python",
   "name": "python",
   "nbconvert_exporter": "python",
   "pygments_lexer": "ipython3",
   "version": "3.8.12"
  }
 },
 "nbformat": 4,
 "nbformat_minor": 5
}
