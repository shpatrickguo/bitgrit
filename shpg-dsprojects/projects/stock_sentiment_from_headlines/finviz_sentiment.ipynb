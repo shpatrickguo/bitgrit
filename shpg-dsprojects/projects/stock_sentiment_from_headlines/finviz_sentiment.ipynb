{
 "cells": [
  {
   "cell_type": "markdown",
   "id": "bbd1e21f-c09f-4305-b8f1-52283fbbba23",
   "metadata": {},
   "source": [
    "# Stock Sentiment Analysis from News Headlines\n",
    "\n",
    "<p>This notebook generates investing insights by applying sentiment analysis on financial news headlines from <a href=\"https://finviz.com\">FINVIZ.com</a>. Using a natural language processing< technique, we can understand the emotion behind the headlines and predict whether the market <em>feels</em> good or bad about a stock. This enables us to make educated guesses on how certain stocks will perform and trade accordingly.</p>\n",
    "\n",
    "<p>Why headlines? And why from FINVIZ?</p>\n",
    "FinViz makes market information accessible and provides a lot of data in visual snapshots.\n",
    "<li>Headlines, which have similar length, are easier to parse and group than full articles, which vary in length.</li>\n",
    "<li>FINVIZ has a list of trusted websites, and headlines from these sites tend to be more consistent in their jargon than those from independent bloggers. <b>Consistent textual patterns will improve the sentiment analysis.</b></li>\n",
    "</ol>\n",
    "<br>\n",
    "<p><strong>Disclaimer: Investing in the stock market involves risk and can lead to monetary loss. The content in this notebook is purely for educational purposes and should not to be taken as financial advice.</strong> </p>"
   ]
  },
  {
   "cell_type": "code",
   "execution_count": 17,
   "id": "ddf86b5d-3064-4465-b0a1-a1f5a27b5aea",
   "metadata": {},
   "outputs": [],
   "source": [
    "# Import libraries\n",
    "import pandas as pd\n",
    "import numpy as np\n",
    "from datetime import datetime\n",
    "import matplotlib.pyplot as plt\n",
    "plt.style.use(\"fivethirtyeight\")\n",
    "%matplotlib inline\n",
    "# https://github.com/mariostoev/finviz\n",
    "import finviz\n",
    "import nltk\n",
    "# NLTK VADER for sentiment analysis\n",
    "from nltk.sentiment.vader import SentimentIntensityAnalyzer"
   ]
  },
  {
   "cell_type": "code",
   "execution_count": 2,
   "id": "83227241-ce96-407d-8a75-f2c93808a976",
   "metadata": {},
   "outputs": [],
   "source": [
    "# Tickers of Stocks we want to investigate\n",
    "TICKER_LIST = ['EBAY', 'F', 'FL', 'FB', 'TSLR', 'TWTR', 'AMZN', 'GOOG']"
   ]
  },
  {
   "cell_type": "markdown",
   "id": "0cdcdd7b-7ef8-4d00-8475-a3624c6817bc",
   "metadata": {},
   "source": [
    "## finviz-api\n",
    "\n",
    "We will be using an unofficial [finviz-API](https://github.com/mariostoev/finviz) made by [Mario Stoev](https://github.com/mariostoev) to get the news headlines for each stock.\n",
    "\n",
    "finviz.get_news returns list of sets containing containing:\n",
    "1. Datetime\n",
    "2. Headline\n",
    "3. URL\n",
    "4. Source"
   ]
  },
  {
   "cell_type": "code",
   "execution_count": 9,
   "id": "bd572a57-d7ea-451f-8da0-d3f2579e8576",
   "metadata": {},
   "outputs": [],
   "source": [
    "def get_news(ticker):\n",
    "    \"\"\"\n",
    "    Returns a list of sets containing news headline and url\n",
    "    \n",
    "    :param ticker: stock symbol\n",
    "    :return: list\n",
    "    \"\"\"\n",
    "    news = finviz.get_news(ticker)\n",
    "    return news"
   ]
  },
  {
   "cell_type": "code",
   "execution_count": 20,
   "id": "17e60a3c-8cc5-47da-9c20-b513dac9e750",
   "metadata": {},
   "outputs": [
    {
     "data": {
      "text/plain": [
       "datetime.datetime(2022, 5, 24, 5, 6)"
      ]
     },
     "execution_count": 20,
     "metadata": {},
     "output_type": "execute_result"
    }
   ],
   "source": [
    "# Example\n",
    "e = get_news('AAPL')[0][0]\n"
   ]
  },
  {
   "cell_type": "code",
   "execution_count": null,
   "id": "408debff-12e7-4f08-936b-f0552c59e44a",
   "metadata": {},
   "outputs": [],
   "source": [
    "# Hold the parsed news into a list\n",
    "parsed_news = []\n",
    "\n",
    "for ticker in TICKER_LIST:\n",
    "    news_set = get_news(ticker)\n",
    "    datetime = datetime.strptime(news_set[0], '%Y-%m-%d %H:%M')\n",
    "    headline = news_set[1]"
   ]
  }
 ],
 "metadata": {
  "kernelspec": {
   "display_name": "Python 3 (ipykernel)",
   "language": "python",
   "name": "python3"
  },
  "language_info": {
   "codemirror_mode": {
    "name": "ipython",
    "version": 3
   },
   "file_extension": ".py",
   "mimetype": "text/x-python",
   "name": "python",
   "nbconvert_exporter": "python",
   "pygments_lexer": "ipython3",
   "version": "3.8.12"
  }
 },
 "nbformat": 4,
 "nbformat_minor": 5
}
