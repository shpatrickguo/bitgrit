{
 "cells": [
  {
   "cell_type": "markdown",
   "id": "f8b70d12",
   "metadata": {},
   "source": [
    "# Finding the best chocolate bars\n",
    "\n",
    "## 📖 Background\n",
    "A specialty foods import company wants to expand into gourmet chocolate bars. Let's research this market to inform the initial approach to potential suppliers.\n",
    "\n",
    "After finding valuable chocolate bar ratings online, we will need to explore if the chocolate bars with the highest ratings share any characteristics that could help narrow down the search for suppliers (e.g., cacao percentage, bean country of origin, etc.)"
   ]
  },
  {
   "cell_type": "markdown",
   "id": "bb4cd736",
   "metadata": {},
   "source": [
    "## 💾 The data\n",
    "\n",
    "#### The data file contains the following information ([source](https://flavorsofcacao.com)):\n",
    "- \"id\" - id number of the review\n",
    "- \"manufacturer\" - Name of the bar manufacturer\n",
    "- \"company_location\" - Location of the manufacturer\n",
    "- \"year_reviewed\" - From 2006 to 2021\n",
    "- \"bean_origin\" - Country of origin of the cacao beans\n",
    "- \"bar_name\" - Name of the chocolate bar\n",
    "- \"cocoa_percent\" - Cocoa content of the bar (%)\n",
    "- \"num_ingredients\" - Number of ingredients\n",
    "- \"ingredients\" - B (Beans), S (Sugar), S* (Sweetener other than sugar or beet sugar), C (Cocoa Butter), (V) Vanilla, (L) Lecithin, (Sa) Salt\n",
    "- \"review\" - Summary of most memorable characteristics of the chocolate bar\n",
    "- \"rating\" - 1.0-1.9 Unpleasant, 2.0-2.9 Disappointing, 3.0-3.49 Recommended, 3.5-3.9 Highly Recommended, 4.0-5.0 Oustanding\n",
    "\n",
    "***Acknowledgments**: Brady Brelinski, Manhattan Chocolate Society*"
   ]
  },
  {
   "cell_type": "markdown",
   "id": "6c0744d0",
   "metadata": {
    "tags": []
   },
   "source": [
    "## 💪 Challenge\n",
    "This notebooks aims to report on the following questions:\n",
    "\n",
    "1. What is the average rating by country of origin?\n",
    "2. How many bars were reviewed for each of those countries?\n",
    "3. Create plots to visualize findings for questions 1 and 2.\n",
    "4. Is the cacao bean's origin an indicator of quality? \n",
    "5. [Optional] How does cocoa content relate to rating? What is the average cocoa content for bars with higher ratings (above 3.5)?\n",
    "6. [Optional 2] Your research indicates that some consumers want to avoid bars with lecithin. Compare the average rating of bars with and without lecithin (L in the ingredients).\n",
    "7. Summarize your findings."
   ]
  },
  {
   "cell_type": "markdown",
   "id": "171c0786-c900-4e44-95c8-8f69203a1e37",
   "metadata": {},
   "source": [
    "## Summary\n",
    "\n",
    "- The average rating by country of origin ranges from 2.71 to 3.63. The country with the highest average rating is Tobago, whereas the lowest is Puerto Rico.\n",
    "- The highest numbers of bars were reviewed for the country Venezulea with 253 bars reviewed.\n",
    "- Cocoa bean's country of origin is not an indicator of quality.\n",
    "- Cocoa percent and rating is not correlated. The average cocao content for bars with higher ratings (above 3.5) is 71.108.\n",
    "- The average rating of bars without Lecithin is higher than bars with the ingredient."
   ]
  },
  {
   "cell_type": "markdown",
   "id": "04a2378f-3020-4b4f-817f-78010024fbe8",
   "metadata": {},
   "source": [
    "## Imports"
   ]
  },
  {
   "cell_type": "code",
   "execution_count": 1,
   "id": "a396c338-3ade-41f2-8fe2-4653f4f0bb3a",
   "metadata": {},
   "outputs": [],
   "source": [
    "import numpy as np\n",
    "import pandas as pd\n",
    "import matplotlib.pyplot as plt\n",
    "import seaborn as sns\n",
    "from scipy.stats import pearsonr\n",
    "sns.set(rc = {'figure.figsize':(20,5)})\n",
    "plt.style.use('ggplot')"
   ]
  },
  {
   "cell_type": "code",
   "execution_count": 2,
   "id": "650bf9b4-8b36-45f6-8118-a9305d39fa7f",
   "metadata": {},
   "outputs": [],
   "source": [
    "# Function to display value on seaborn barplot\n",
    "def show_values_on_bars(axs):\n",
    "    def _show_on_single_plot(ax):        \n",
    "        for p in ax.patches:\n",
    "            _x = p.get_x() + p.get_width() / 2\n",
    "            _y = p.get_y() + p.get_height() + 0.05\n",
    "            value = '{:.2f}'.format(p.get_height())\n",
    "            ax.text(_x, _y, value, ha=\"center\") \n",
    "\n",
    "    if isinstance(axs, np.ndarray):\n",
    "        for idx, ax in np.ndenumerate(axs):\n",
    "            _show_on_single_plot(ax)\n",
    "    else:\n",
    "        _show_on_single_plot(axs)"
   ]
  },
  {
   "cell_type": "markdown",
   "id": "bb23857f-e1de-4ee7-8e85-4d47ce485e52",
   "metadata": {
    "tags": []
   },
   "source": [
    "## Load Data"
   ]
  },
  {
   "cell_type": "code",
   "execution_count": 3,
   "id": "70a3b9bd",
   "metadata": {},
   "outputs": [
    {
     "data": {
      "application/com.datacamp.data-table.v1+json": {
       "is_truncated": false,
       "table": {
        "data": [
         {
          "bar_name": "Kokoa Kamili, batch 1",
          "bean_origin": "Tanzania",
          "cocoa_percent": 76,
          "company_location": "U.S.A.",
          "id": 2454,
          "ingredients": "B,S,C",
          "manufacturer": "5150",
          "num_ingredients": 3,
          "rating": 3.25,
          "review": "rich cocoa, fatty, bready",
          "year_reviewed": 2019
         },
         {
          "bar_name": "Zorzal, batch 1",
          "bean_origin": "Dominican Republic",
          "cocoa_percent": 76,
          "company_location": "U.S.A.",
          "id": 2458,
          "ingredients": "B,S,C",
          "manufacturer": "5150",
          "num_ingredients": 3,
          "rating": 3.5,
          "review": "cocoa, vegetal, savory",
          "year_reviewed": 2019
         },
         {
          "bar_name": "Bejofo Estate, batch 1",
          "bean_origin": "Madagascar",
          "cocoa_percent": 76,
          "company_location": "U.S.A.",
          "id": 2454,
          "ingredients": "B,S,C",
          "manufacturer": "5150",
          "num_ingredients": 3,
          "rating": 3.75,
          "review": "cocoa, blackberry, full body",
          "year_reviewed": 2019
         },
         {
          "bar_name": "Matasawalevu, batch 1",
          "bean_origin": "Fiji",
          "cocoa_percent": 68,
          "company_location": "U.S.A.",
          "id": 2542,
          "ingredients": "B,S,C",
          "manufacturer": "5150",
          "num_ingredients": 3,
          "rating": 3,
          "review": "chewy, off, rubbery",
          "year_reviewed": 2021
         },
         {
          "bar_name": "Sur del Lago, batch 1",
          "bean_origin": "Venezuela",
          "cocoa_percent": 72,
          "company_location": "U.S.A.",
          "id": 2546,
          "ingredients": "B,S,C",
          "manufacturer": "5150",
          "num_ingredients": 3,
          "rating": 3,
          "review": "fatty, earthy, moss, nutty,chalky",
          "year_reviewed": 2021
         }
        ],
        "schema": {
         "fields": [
          {
           "name": "id",
           "type": "integer"
          },
          {
           "name": "manufacturer",
           "type": "string"
          },
          {
           "name": "company_location",
           "type": "string"
          },
          {
           "name": "year_reviewed",
           "type": "integer"
          },
          {
           "name": "bean_origin",
           "type": "string"
          },
          {
           "name": "bar_name",
           "type": "string"
          },
          {
           "name": "cocoa_percent",
           "type": "number"
          },
          {
           "name": "num_ingredients",
           "type": "number"
          },
          {
           "name": "ingredients",
           "type": "string"
          },
          {
           "name": "review",
           "type": "string"
          },
          {
           "name": "rating",
           "type": "number"
          }
         ],
         "pandas_version": "0.20.0"
        }
       },
       "total_rows": 5
      },
      "text/html": [
       "<div>\n",
       "<style scoped>\n",
       "    .dataframe tbody tr th:only-of-type {\n",
       "        vertical-align: middle;\n",
       "    }\n",
       "\n",
       "    .dataframe tbody tr th {\n",
       "        vertical-align: top;\n",
       "    }\n",
       "\n",
       "    .dataframe thead th {\n",
       "        text-align: right;\n",
       "    }\n",
       "</style>\n",
       "<table border=\"1\" class=\"dataframe\">\n",
       "  <thead>\n",
       "    <tr style=\"text-align: right;\">\n",
       "      <th></th>\n",
       "      <th>manufacturer</th>\n",
       "      <th>company_location</th>\n",
       "      <th>year_reviewed</th>\n",
       "      <th>bean_origin</th>\n",
       "      <th>bar_name</th>\n",
       "      <th>cocoa_percent</th>\n",
       "      <th>num_ingredients</th>\n",
       "      <th>ingredients</th>\n",
       "      <th>review</th>\n",
       "      <th>rating</th>\n",
       "    </tr>\n",
       "    <tr>\n",
       "      <th>id</th>\n",
       "      <th></th>\n",
       "      <th></th>\n",
       "      <th></th>\n",
       "      <th></th>\n",
       "      <th></th>\n",
       "      <th></th>\n",
       "      <th></th>\n",
       "      <th></th>\n",
       "      <th></th>\n",
       "      <th></th>\n",
       "    </tr>\n",
       "  </thead>\n",
       "  <tbody>\n",
       "    <tr>\n",
       "      <th>2454</th>\n",
       "      <td>5150</td>\n",
       "      <td>U.S.A.</td>\n",
       "      <td>2019</td>\n",
       "      <td>Tanzania</td>\n",
       "      <td>Kokoa Kamili, batch 1</td>\n",
       "      <td>76.0</td>\n",
       "      <td>3.0</td>\n",
       "      <td>B,S,C</td>\n",
       "      <td>rich cocoa, fatty, bready</td>\n",
       "      <td>3.25</td>\n",
       "    </tr>\n",
       "    <tr>\n",
       "      <th>2458</th>\n",
       "      <td>5150</td>\n",
       "      <td>U.S.A.</td>\n",
       "      <td>2019</td>\n",
       "      <td>Dominican Republic</td>\n",
       "      <td>Zorzal, batch 1</td>\n",
       "      <td>76.0</td>\n",
       "      <td>3.0</td>\n",
       "      <td>B,S,C</td>\n",
       "      <td>cocoa, vegetal, savory</td>\n",
       "      <td>3.50</td>\n",
       "    </tr>\n",
       "    <tr>\n",
       "      <th>2454</th>\n",
       "      <td>5150</td>\n",
       "      <td>U.S.A.</td>\n",
       "      <td>2019</td>\n",
       "      <td>Madagascar</td>\n",
       "      <td>Bejofo Estate, batch 1</td>\n",
       "      <td>76.0</td>\n",
       "      <td>3.0</td>\n",
       "      <td>B,S,C</td>\n",
       "      <td>cocoa, blackberry, full body</td>\n",
       "      <td>3.75</td>\n",
       "    </tr>\n",
       "    <tr>\n",
       "      <th>2542</th>\n",
       "      <td>5150</td>\n",
       "      <td>U.S.A.</td>\n",
       "      <td>2021</td>\n",
       "      <td>Fiji</td>\n",
       "      <td>Matasawalevu, batch 1</td>\n",
       "      <td>68.0</td>\n",
       "      <td>3.0</td>\n",
       "      <td>B,S,C</td>\n",
       "      <td>chewy, off, rubbery</td>\n",
       "      <td>3.00</td>\n",
       "    </tr>\n",
       "    <tr>\n",
       "      <th>2546</th>\n",
       "      <td>5150</td>\n",
       "      <td>U.S.A.</td>\n",
       "      <td>2021</td>\n",
       "      <td>Venezuela</td>\n",
       "      <td>Sur del Lago, batch 1</td>\n",
       "      <td>72.0</td>\n",
       "      <td>3.0</td>\n",
       "      <td>B,S,C</td>\n",
       "      <td>fatty, earthy, moss, nutty,chalky</td>\n",
       "      <td>3.00</td>\n",
       "    </tr>\n",
       "  </tbody>\n",
       "</table>\n",
       "</div>"
      ],
      "text/plain": [
       "     manufacturer company_location  year_reviewed         bean_origin  \\\n",
       "id                                                                      \n",
       "2454         5150           U.S.A.           2019            Tanzania   \n",
       "2458         5150           U.S.A.           2019  Dominican Republic   \n",
       "2454         5150           U.S.A.           2019          Madagascar   \n",
       "2542         5150           U.S.A.           2021                Fiji   \n",
       "2546         5150           U.S.A.           2021           Venezuela   \n",
       "\n",
       "                    bar_name  cocoa_percent  num_ingredients ingredients  \\\n",
       "id                                                                         \n",
       "2454   Kokoa Kamili, batch 1           76.0              3.0       B,S,C   \n",
       "2458         Zorzal, batch 1           76.0              3.0       B,S,C   \n",
       "2454  Bejofo Estate, batch 1           76.0              3.0       B,S,C   \n",
       "2542   Matasawalevu, batch 1           68.0              3.0       B,S,C   \n",
       "2546   Sur del Lago, batch 1           72.0              3.0       B,S,C   \n",
       "\n",
       "                                 review  rating  \n",
       "id                                               \n",
       "2454          rich cocoa, fatty, bready    3.25  \n",
       "2458             cocoa, vegetal, savory    3.50  \n",
       "2454       cocoa, blackberry, full body    3.75  \n",
       "2542                chewy, off, rubbery    3.00  \n",
       "2546  fatty, earthy, moss, nutty,chalky    3.00  "
      ]
     },
     "execution_count": 3,
     "metadata": {},
     "output_type": "execute_result"
    }
   ],
   "source": [
    "# Reading in the data\n",
    "df = pd.read_csv('data/chocolate_bars.csv')\n",
    "# Set id as index\n",
    "df.set_index('id', inplace=True)\n",
    "# Take a look at the first datapoints\n",
    "df.head()"
   ]
  },
  {
   "cell_type": "markdown",
   "id": "8979215e-3dfe-42f1-b809-21dc7999ff86",
   "metadata": {},
   "source": [
    "## Data Size and Structure\n",
    "\n",
    "- Dataset comprises of 2530 observations and 10 columns, of which some are categorical and numerical.\n",
    "- `num_ingredients` and `ingredients` contains null values.\n",
    "- There are no duplicated values."
   ]
  },
  {
   "cell_type": "code",
   "execution_count": 4,
   "id": "a3de0fa2-3f14-47e9-b1bd-ee76a84baf61",
   "metadata": {},
   "outputs": [
    {
     "name": "stdout",
     "output_type": "stream",
     "text": [
      "Shape: (2530, 10)\n"
     ]
    }
   ],
   "source": [
    "print(f'Shape: {df.shape}')"
   ]
  },
  {
   "cell_type": "code",
   "execution_count": 5,
   "id": "8b2b76bd-64ac-4701-bfd6-06e6f47f56c3",
   "metadata": {},
   "outputs": [
    {
     "name": "stdout",
     "output_type": "stream",
     "text": [
      "<class 'pandas.core.frame.DataFrame'>\n",
      "Int64Index: 2530 entries, 2454 to 2170\n",
      "Data columns (total 10 columns):\n",
      " #   Column            Non-Null Count  Dtype  \n",
      "---  ------            --------------  -----  \n",
      " 0   manufacturer      2530 non-null   object \n",
      " 1   company_location  2530 non-null   object \n",
      " 2   year_reviewed     2530 non-null   int64  \n",
      " 3   bean_origin       2530 non-null   object \n",
      " 4   bar_name          2530 non-null   object \n",
      " 5   cocoa_percent     2530 non-null   float64\n",
      " 6   num_ingredients   2443 non-null   float64\n",
      " 7   ingredients       2443 non-null   object \n",
      " 8   review            2530 non-null   object \n",
      " 9   rating            2530 non-null   float64\n",
      "dtypes: float64(3), int64(1), object(6)\n",
      "memory usage: 217.4+ KB\n"
     ]
    }
   ],
   "source": [
    "df.info()"
   ]
  },
  {
   "cell_type": "code",
   "execution_count": 6,
   "id": "d67fc9b6-4ca1-45e1-b29c-24709ff71e65",
   "metadata": {},
   "outputs": [
    {
     "data": {
      "application/com.datacamp.data-table.v1+json": {
       "is_truncated": false,
       "table": {
        "data": [
         {
          "cocoa_percent": 2530,
          "index": "count",
          "num_ingredients": 2443,
          "rating": 2530,
          "year_reviewed": 2530
         },
         {
          "cocoa_percent": 71.6397233202,
          "index": "mean",
          "num_ingredients": 3.0413426115,
          "rating": 3.1963438735,
          "year_reviewed": 2014.3743083004
         },
         {
          "cocoa_percent": 5.6167242291,
          "index": "std",
          "num_ingredients": 0.9137283104,
          "rating": 0.4453213042,
          "year_reviewed": 3.9682672708
         },
         {
          "cocoa_percent": 42,
          "index": "min",
          "num_ingredients": 1,
          "rating": 1,
          "year_reviewed": 2006
         },
         {
          "cocoa_percent": 70,
          "index": "25%",
          "num_ingredients": 2,
          "rating": 3,
          "year_reviewed": 2012
         },
         {
          "cocoa_percent": 70,
          "index": "50%",
          "num_ingredients": 3,
          "rating": 3.25,
          "year_reviewed": 2015
         },
         {
          "cocoa_percent": 74,
          "index": "75%",
          "num_ingredients": 4,
          "rating": 3.5,
          "year_reviewed": 2018
         },
         {
          "cocoa_percent": 100,
          "index": "max",
          "num_ingredients": 6,
          "rating": 4,
          "year_reviewed": 2021
         }
        ],
        "schema": {
         "fields": [
          {
           "name": "index",
           "type": "string"
          },
          {
           "name": "year_reviewed",
           "type": "number"
          },
          {
           "name": "cocoa_percent",
           "type": "number"
          },
          {
           "name": "num_ingredients",
           "type": "number"
          },
          {
           "name": "rating",
           "type": "number"
          }
         ],
         "pandas_version": "0.20.0",
         "primaryKey": [
          "index"
         ]
        }
       },
       "total_rows": 8
      },
      "text/html": [
       "<div>\n",
       "<style scoped>\n",
       "    .dataframe tbody tr th:only-of-type {\n",
       "        vertical-align: middle;\n",
       "    }\n",
       "\n",
       "    .dataframe tbody tr th {\n",
       "        vertical-align: top;\n",
       "    }\n",
       "\n",
       "    .dataframe thead th {\n",
       "        text-align: right;\n",
       "    }\n",
       "</style>\n",
       "<table border=\"1\" class=\"dataframe\">\n",
       "  <thead>\n",
       "    <tr style=\"text-align: right;\">\n",
       "      <th></th>\n",
       "      <th>year_reviewed</th>\n",
       "      <th>cocoa_percent</th>\n",
       "      <th>num_ingredients</th>\n",
       "      <th>rating</th>\n",
       "    </tr>\n",
       "  </thead>\n",
       "  <tbody>\n",
       "    <tr>\n",
       "      <th>count</th>\n",
       "      <td>2530.000000</td>\n",
       "      <td>2530.000000</td>\n",
       "      <td>2443.000000</td>\n",
       "      <td>2530.000000</td>\n",
       "    </tr>\n",
       "    <tr>\n",
       "      <th>mean</th>\n",
       "      <td>2014.374308</td>\n",
       "      <td>71.639723</td>\n",
       "      <td>3.041343</td>\n",
       "      <td>3.196344</td>\n",
       "    </tr>\n",
       "    <tr>\n",
       "      <th>std</th>\n",
       "      <td>3.968267</td>\n",
       "      <td>5.616724</td>\n",
       "      <td>0.913728</td>\n",
       "      <td>0.445321</td>\n",
       "    </tr>\n",
       "    <tr>\n",
       "      <th>min</th>\n",
       "      <td>2006.000000</td>\n",
       "      <td>42.000000</td>\n",
       "      <td>1.000000</td>\n",
       "      <td>1.000000</td>\n",
       "    </tr>\n",
       "    <tr>\n",
       "      <th>25%</th>\n",
       "      <td>2012.000000</td>\n",
       "      <td>70.000000</td>\n",
       "      <td>2.000000</td>\n",
       "      <td>3.000000</td>\n",
       "    </tr>\n",
       "    <tr>\n",
       "      <th>50%</th>\n",
       "      <td>2015.000000</td>\n",
       "      <td>70.000000</td>\n",
       "      <td>3.000000</td>\n",
       "      <td>3.250000</td>\n",
       "    </tr>\n",
       "    <tr>\n",
       "      <th>75%</th>\n",
       "      <td>2018.000000</td>\n",
       "      <td>74.000000</td>\n",
       "      <td>4.000000</td>\n",
       "      <td>3.500000</td>\n",
       "    </tr>\n",
       "    <tr>\n",
       "      <th>max</th>\n",
       "      <td>2021.000000</td>\n",
       "      <td>100.000000</td>\n",
       "      <td>6.000000</td>\n",
       "      <td>4.000000</td>\n",
       "    </tr>\n",
       "  </tbody>\n",
       "</table>\n",
       "</div>"
      ],
      "text/plain": [
       "       year_reviewed  cocoa_percent  num_ingredients       rating\n",
       "count    2530.000000    2530.000000      2443.000000  2530.000000\n",
       "mean     2014.374308      71.639723         3.041343     3.196344\n",
       "std         3.968267       5.616724         0.913728     0.445321\n",
       "min      2006.000000      42.000000         1.000000     1.000000\n",
       "25%      2012.000000      70.000000         2.000000     3.000000\n",
       "50%      2015.000000      70.000000         3.000000     3.250000\n",
       "75%      2018.000000      74.000000         4.000000     3.500000\n",
       "max      2021.000000     100.000000         6.000000     4.000000"
      ]
     },
     "execution_count": 6,
     "metadata": {},
     "output_type": "execute_result"
    }
   ],
   "source": [
    "df.describe()"
   ]
  },
  {
   "cell_type": "code",
   "execution_count": 7,
   "id": "b353e17c-8b95-45e8-8635-2816f10941fe",
   "metadata": {},
   "outputs": [
    {
     "data": {
      "text/plain": [
       "manufacturer         0\n",
       "company_location     0\n",
       "year_reviewed        0\n",
       "bean_origin          0\n",
       "bar_name             0\n",
       "cocoa_percent        0\n",
       "num_ingredients     87\n",
       "ingredients         87\n",
       "review               0\n",
       "rating               0\n",
       "dtype: int64"
      ]
     },
     "execution_count": 7,
     "metadata": {},
     "output_type": "execute_result"
    }
   ],
   "source": [
    "df.isnull().sum()"
   ]
  },
  {
   "cell_type": "code",
   "execution_count": 8,
   "id": "ee8f6c8f-6534-4bee-ad1a-e1935529b589",
   "metadata": {},
   "outputs": [
    {
     "data": {
      "text/plain": [
       "0"
      ]
     },
     "execution_count": 8,
     "metadata": {},
     "output_type": "execute_result"
    }
   ],
   "source": [
    "df.duplicated().sum()"
   ]
  },
  {
   "cell_type": "markdown",
   "id": "58f430bb-7d96-4646-952b-5802c50be03e",
   "metadata": {},
   "source": [
    "## Missing Data\n",
    "\n",
    "For the 87 records that have missing information. If `ingredients` is NaN, then `num_ingredients` is also NaN. Therefore `num_ingredients` is MNAR (missing not at random)."
   ]
  },
  {
   "cell_type": "code",
   "execution_count": 9,
   "id": "b3418946-1e0b-422c-9a9a-7a59a1e29b65",
   "metadata": {},
   "outputs": [
    {
     "data": {
      "application/com.datacamp.data-table.v1+json": {
       "is_truncated": false,
       "table": {
        "data": [
         {
          "bar_name": "Maranon",
          "bean_origin": "Peru",
          "cocoa_percent": 70,
          "company_location": "Russia",
          "id": 1964,
          "ingredients": null,
          "manufacturer": "Amazing Cacao",
          "num_ingredients": null,
          "rating": 3,
          "review": "raisins, pungent",
          "year_reviewed": 2017
         },
         {
          "bar_name": "Platan Bajo",
          "bean_origin": "Peru",
          "cocoa_percent": 70,
          "company_location": "Russia",
          "id": 1964,
          "ingredients": null,
          "manufacturer": "Amazing Cacao",
          "num_ingredients": null,
          "rating": 3.5,
          "review": "few grits, blackcherry, licorice",
          "year_reviewed": 2017
         },
         {
          "bar_name": "Venezuela",
          "bean_origin": "Venezuela",
          "cocoa_percent": 100,
          "company_location": "U.K.",
          "id": 486,
          "ingredients": null,
          "manufacturer": "Artisan du Chocolat",
          "num_ingredients": null,
          "rating": 1.75,
          "review": "very nutty, very bitter",
          "year_reviewed": 2010
         },
         {
          "bar_name": "One Hundred",
          "bean_origin": "Blend",
          "cocoa_percent": 100,
          "company_location": "France",
          "id": 81,
          "ingredients": null,
          "manufacturer": "Bonnat",
          "num_ingredients": null,
          "rating": 1.5,
          "review": "acidic, bitter, dry",
          "year_reviewed": 2006
         },
         {
          "bar_name": "El Oro, Hacienda de Oro",
          "bean_origin": "Ecuador",
          "cocoa_percent": 100,
          "company_location": "Ecuador",
          "id": 341,
          "ingredients": null,
          "manufacturer": "Bouga Cacao (Tulicorp)",
          "num_ingredients": null,
          "rating": 1.5,
          "review": "cardboard, very bitter, floral",
          "year_reviewed": 2009
         },
         {
          "bar_name": "Maya Mountain",
          "bean_origin": "Belize",
          "cocoa_percent": 70,
          "company_location": "U.S.A.",
          "id": 1267,
          "ingredients": null,
          "manufacturer": "Bowler Man",
          "num_ingredients": null,
          "rating": 2.75,
          "review": "sandy, vanilla, candy-like",
          "year_reviewed": 2014
         },
         {
          "bar_name": "Conacado",
          "bean_origin": "Dominican Republic",
          "cocoa_percent": 70,
          "company_location": "U.S.A.",
          "id": 1271,
          "ingredients": null,
          "manufacturer": "Bowler Man",
          "num_ingredients": null,
          "rating": 2.75,
          "review": "gritty, sweet, mild coffee",
          "year_reviewed": 2014
         },
         {
          "bar_name": "Ghana",
          "bean_origin": "Ghana",
          "cocoa_percent": 70,
          "company_location": "South Korea",
          "id": 2084,
          "ingredients": null,
          "manufacturer": "Cacaodada",
          "num_ingredients": null,
          "rating": 3,
          "review": "high astringent, earthy",
          "year_reviewed": 2018
         },
         {
          "bar_name": "Dominican Republic",
          "bean_origin": "Dominican Republic",
          "cocoa_percent": 70,
          "company_location": "South Korea",
          "id": 2084,
          "ingredients": null,
          "manufacturer": "Cacaodada",
          "num_ingredients": null,
          "rating": 3.25,
          "review": "creamy, complex, astingent",
          "year_reviewed": 2018
         },
         {
          "bar_name": "Ecuador",
          "bean_origin": "Ecuador",
          "cocoa_percent": 70,
          "company_location": "South Korea",
          "id": 2084,
          "ingredients": null,
          "manufacturer": "Cacaodada",
          "num_ingredients": null,
          "rating": 3.5,
          "review": "floral, rum",
          "year_reviewed": 2018
         },
         {
          "bar_name": "Baking",
          "bean_origin": "Ecuador",
          "cocoa_percent": 70,
          "company_location": "Belgium",
          "id": 141,
          "ingredients": null,
          "manufacturer": "Callebaut",
          "num_ingredients": null,
          "rating": 1,
          "review": "bitter, cocoa",
          "year_reviewed": 2007
         },
         {
          "bar_name": "Grenade",
          "bean_origin": "Grenada",
          "cocoa_percent": 60,
          "company_location": "Belgium",
          "id": 296,
          "ingredients": null,
          "manufacturer": "Callebaut",
          "num_ingredients": null,
          "rating": 2.75,
          "review": "sweet, metallic, vanilla",
          "year_reviewed": 2008
         },
         {
          "bar_name": "Equateur",
          "bean_origin": "Ecuador",
          "cocoa_percent": 72,
          "company_location": "France",
          "id": 404,
          "ingredients": null,
          "manufacturer": "Cemoi",
          "num_ingredients": null,
          "rating": 2.75,
          "review": "sticky, mild mint, bitter",
          "year_reviewed": 2009
         },
         {
          "bar_name": "Blend No. 1",
          "bean_origin": "Blend",
          "cocoa_percent": 70,
          "company_location": "France",
          "id": 672,
          "ingredients": null,
          "manufacturer": "Chloe Chocolat",
          "num_ingredients": null,
          "rating": 3.5,
          "review": "cocoa, subtle peanut butter",
          "year_reviewed": 2011
         },
         {
          "bar_name": "Patanemo",
          "bean_origin": "Venezuela",
          "cocoa_percent": 77,
          "company_location": "Japan",
          "id": 1454,
          "ingredients": null,
          "manufacturer": "ChocoReko",
          "num_ingredients": null,
          "rating": 3,
          "review": "coarse, vegetal, nibby",
          "year_reviewed": 2015
         },
         {
          "bar_name": "Chiapas, Lacandon Jungle, Oaxacom Mtn",
          "bean_origin": "Mexico",
          "cocoa_percent": 65,
          "company_location": "Canada",
          "id": 682,
          "ingredients": null,
          "manufacturer": "Chocosol",
          "num_ingredients": null,
          "rating": 3.25,
          "review": "rustic,sweet, brownie, banana",
          "year_reviewed": 2011
         },
         {
          "bar_name": "Maranon Canyon, Fortunato No. 4",
          "bean_origin": "Peru",
          "cocoa_percent": 68,
          "company_location": "Canada",
          "id": 666,
          "ingredients": null,
          "manufacturer": "Christopher Morel (Felchlin)",
          "num_ingredients": null,
          "rating": 3.75,
          "review": "oily, citrus, orange",
          "year_reviewed": 2011
         },
         {
          "bar_name": "Principe, Sao Tome & Principe",
          "bean_origin": "Blend",
          "cocoa_percent": 100,
          "company_location": "Sao Tome",
          "id": 252,
          "ingredients": null,
          "manufacturer": "Claudio Corallo",
          "num_ingredients": null,
          "rating": 1,
          "review": "chalky, musty, very bitter",
          "year_reviewed": 2008
         },
         {
          "bar_name": "Carenero Superior",
          "bean_origin": "Venezuela",
          "cocoa_percent": 80,
          "company_location": "Argentina",
          "id": 292,
          "ingredients": null,
          "manufacturer": "Compania de Chocolate (Salgado)",
          "num_ingredients": null,
          "rating": 2.75,
          "review": "very sour, mildly bitter",
          "year_reviewed": 2008
         },
         {
          "bar_name": "Esmeraldas",
          "bean_origin": "Ecuador",
          "cocoa_percent": 88,
          "company_location": "Argentina",
          "id": 296,
          "ingredients": null,
          "manufacturer": "Compania de Chocolate (Salgado)",
          "num_ingredients": null,
          "rating": 2.75,
          "review": "slightly burnt, mildly bitter",
          "year_reviewed": 2008
         },
         {
          "bar_name": "Moxos",
          "bean_origin": "Bolivia",
          "cocoa_percent": 72,
          "company_location": "Argentina",
          "id": 292,
          "ingredients": null,
          "manufacturer": "Compania de Chocolate (Salgado)",
          "num_ingredients": null,
          "rating": 3.25,
          "review": "dry, coffee, sour",
          "year_reviewed": 2008
         },
         {
          "bar_name": "Ocumare",
          "bean_origin": "Venezuela",
          "cocoa_percent": 70,
          "company_location": "Argentina",
          "id": 292,
          "ingredients": null,
          "manufacturer": "Compania de Chocolate (Salgado)",
          "num_ingredients": null,
          "rating": 3.75,
          "review": "minty, nutty, nutmeg",
          "year_reviewed": 2008
         },
         {
          "bar_name": "Sur del Lago",
          "bean_origin": "Venezuela",
          "cocoa_percent": 70,
          "company_location": "Argentina",
          "id": 579,
          "ingredients": null,
          "manufacturer": "Compania de Chocolate (Salgado)",
          "num_ingredients": null,
          "rating": 3.25,
          "review": "cocoa then roasted nut",
          "year_reviewed": 2010
         },
         {
          "bar_name": "Ecuador Puristique",
          "bean_origin": "Ecuador",
          "cocoa_percent": 100,
          "company_location": "Germany",
          "id": 817,
          "ingredients": null,
          "manufacturer": "Coppeneur",
          "num_ingredients": null,
          "rating": 1.5,
          "review": "high intensity bitter",
          "year_reviewed": 2012
         },
         {
          "bar_name": "Sensations Intense",
          "bean_origin": "Blend",
          "cocoa_percent": 70,
          "company_location": "Belgium",
          "id": 48,
          "ingredients": null,
          "manufacturer": "Cote d' Or (Kraft)",
          "num_ingredients": null,
          "rating": 1,
          "review": "this is not chocolate",
          "year_reviewed": 2006
         },
         {
          "bar_name": "O'ahu Island, N. Shore, Waialua Estate",
          "bean_origin": "U.S.A.",
          "cocoa_percent": 70,
          "company_location": "U.S.A.",
          "id": 311,
          "ingredients": null,
          "manufacturer": "Dole (Guittard)",
          "num_ingredients": null,
          "rating": 3.75,
          "review": "creamy, nutty, fruity",
          "year_reviewed": 2009
         },
         {
          "bar_name": "IL100, H. San Jose, batch NDL3A01",
          "bean_origin": "Venezuela",
          "cocoa_percent": 100,
          "company_location": "Italy",
          "id": 1109,
          "ingredients": null,
          "manufacturer": "Domori",
          "num_ingredients": null,
          "rating": 3,
          "review": "smooth, fruit, coffee, bitter",
          "year_reviewed": 2013
         },
         {
          "bar_name": "Madagascar",
          "bean_origin": "Madagascar",
          "cocoa_percent": 82,
          "company_location": "France",
          "id": 841,
          "ingredients": null,
          "manufacturer": "Durand",
          "num_ingredients": null,
          "rating": 2.75,
          "review": "fatty, muted",
          "year_reviewed": 2012
         },
         {
          "bar_name": "Terreiro Velho P., Sao Tome & Principe",
          "bean_origin": "Blend",
          "cocoa_percent": 80,
          "company_location": "Spain",
          "id": 565,
          "ingredients": null,
          "manufacturer": "Enric Rovira (Claudio Corallo)",
          "num_ingredients": null,
          "rating": 3.25,
          "review": "unrefined, crumbly, sweet",
          "year_reviewed": 2010
         },
         {
          "bar_name": "one hundred",
          "bean_origin": "Blend",
          "cocoa_percent": 100,
          "company_location": "Canada",
          "id": 1205,
          "ingredients": null,
          "manufacturer": "Habitual",
          "num_ingredients": null,
          "rating": 2,
          "review": "unrefined, bitter, earthy",
          "year_reviewed": 2014
         },
         {
          "bar_name": "South America and Africa",
          "bean_origin": "Blend",
          "cocoa_percent": 70,
          "company_location": "Australia",
          "id": 701,
          "ingredients": null,
          "manufacturer": "Haigh",
          "num_ingredients": null,
          "rating": 3,
          "review": "vanilla, chocolate milk",
          "year_reviewed": 2011
         },
         {
          "bar_name": "Island Growers, 2012, 120hr c., batch 13080",
          "bean_origin": "St. Lucia",
          "cocoa_percent": 100,
          "company_location": "U.K.",
          "id": 1113,
          "ingredients": null,
          "manufacturer": "Hotel Chocolat",
          "num_ingredients": null,
          "rating": 1.75,
          "review": "pastey, bitter, unfixable",
          "year_reviewed": 2013
         },
         {
          "bar_name": "Uganda",
          "bean_origin": "Uganda",
          "cocoa_percent": 80,
          "company_location": "U.K.",
          "id": 296,
          "ingredients": null,
          "manufacturer": "Hotel Chocolat (Coppeneur)",
          "num_ingredients": null,
          "rating": 2.5,
          "review": "charred, espresso",
          "year_reviewed": 2008
         },
         {
          "bar_name": "Ecuador",
          "bean_origin": "Ecuador",
          "cocoa_percent": 70,
          "company_location": "U.K.",
          "id": 552,
          "ingredients": null,
          "manufacturer": "Hotel Chocolat (Coppeneur)",
          "num_ingredients": null,
          "rating": 2.75,
          "review": "spicy, sour, burning",
          "year_reviewed": 2010
         },
         {
          "bar_name": "Santo Domingo",
          "bean_origin": "Dominican Republic",
          "cocoa_percent": 70,
          "company_location": "U.K.",
          "id": 552,
          "ingredients": null,
          "manufacturer": "Hotel Chocolat (Coppeneur)",
          "num_ingredients": null,
          "rating": 3,
          "review": "earthy, woody, sour mint",
          "year_reviewed": 2010
         },
         {
          "bar_name": "Chanchamayo, Pichanadi, 2012, 60hr c., b.13092",
          "bean_origin": "Peru",
          "cocoa_percent": 100,
          "company_location": "U.K.",
          "id": 1109,
          "ingredients": null,
          "manufacturer": "Hotel Chocolat (Coppeneur)",
          "num_ingredients": null,
          "rating": 2.75,
          "review": "spice,cocoa, tolerable bitter",
          "year_reviewed": 2013
         },
         {
          "bar_name": "Conacado, 2012, 120hr c.batch 13092",
          "bean_origin": "Dominican Republic",
          "cocoa_percent": 100,
          "company_location": "U.K.",
          "id": 1113,
          "ingredients": null,
          "manufacturer": "Hotel Chocolat (Coppeneur)",
          "num_ingredients": null,
          "rating": 2.75,
          "review": "trop. Fruit, coffee, bitter",
          "year_reviewed": 2013
         },
         {
          "bar_name": "Vanuatu",
          "bean_origin": "Vanuatu",
          "cocoa_percent": 65,
          "company_location": "Germany",
          "id": 387,
          "ingredients": null,
          "manufacturer": "Kakao",
          "num_ingredients": null,
          "rating": 3.75,
          "review": "cocoa, strong distinct spice",
          "year_reviewed": 2009
         },
         {
          "bar_name": "Peru",
          "bean_origin": "Peru",
          "cocoa_percent": 64,
          "company_location": "Germany",
          "id": 837,
          "ingredients": null,
          "manufacturer": "Kakao",
          "num_ingredients": null,
          "rating": 2.5,
          "review": "chewy, vanilla, metallic",
          "year_reviewed": 2012
         },
         {
          "bar_name": "Noir",
          "bean_origin": "Blend",
          "cocoa_percent": 70,
          "company_location": "France",
          "id": 404,
          "ingredients": null,
          "manufacturer": "Kaoka (Cemoi)",
          "num_ingredients": null,
          "rating": 2.75,
          "review": "mild bitter and chemical off",
          "year_reviewed": 2009
         },
         {
          "bar_name": "Ecuador",
          "bean_origin": "Ecuador",
          "cocoa_percent": 80,
          "company_location": "France",
          "id": 423,
          "ingredients": null,
          "manufacturer": "Kaoka (Cemoi)",
          "num_ingredients": null,
          "rating": 2.75,
          "review": "spicy, floral, bitter",
          "year_reviewed": 2009
         },
         {
          "bar_name": "Lumas, 2015 Harvest, Batch 6, brown sugar",
          "bean_origin": "Peru",
          "cocoa_percent": 70,
          "company_location": "Japan",
          "id": 1892,
          "ingredients": null,
          "manufacturer": "La Chocolaterie Nanairo",
          "num_ingredients": null,
          "rating": 2.25,
          "review": "molasses, cardboard, off note",
          "year_reviewed": 2016
         },
         {
          "bar_name": "Lumas, 2015 Harvest, Batch 7",
          "bean_origin": "Peru",
          "cocoa_percent": 70,
          "company_location": "Japan",
          "id": 1892,
          "ingredients": null,
          "manufacturer": "La Chocolaterie Nanairo",
          "num_ingredients": null,
          "rating": 2.5,
          "review": "metallic, cardboard, fruit",
          "year_reviewed": 2016
         },
         {
          "bar_name": "Belize, 2014 Harvest, Batch 9",
          "bean_origin": "Belize",
          "cocoa_percent": 70,
          "company_location": "Japan",
          "id": 1892,
          "ingredients": null,
          "manufacturer": "La Chocolaterie Nanairo",
          "num_ingredients": null,
          "rating": 3,
          "review": "nutty, fatty",
          "year_reviewed": 2016
         },
         {
          "bar_name": "Tumbes, 2013 Harvest, Batch 8",
          "bean_origin": "Peru",
          "cocoa_percent": 70,
          "company_location": "Japan",
          "id": 1892,
          "ingredients": null,
          "manufacturer": "La Chocolaterie Nanairo",
          "num_ingredients": null,
          "rating": 3,
          "review": "grit, earthy, musty",
          "year_reviewed": 2016
         },
         {
          "bar_name": "Peruvian Amazon",
          "bean_origin": "Peru",
          "cocoa_percent": 72,
          "company_location": "Peru",
          "id": 721,
          "ingredients": null,
          "manufacturer": "La Oroquidea",
          "num_ingredients": null,
          "rating": 2.5,
          "review": "peanut butter, burnt rubber",
          "year_reviewed": 2011
         },
         {
          "bar_name": "Vinces",
          "bean_origin": "Ecuador",
          "cocoa_percent": 60,
          "company_location": "Ecuador",
          "id": 713,
          "ingredients": null,
          "manufacturer": "La Pepa de Oro",
          "num_ingredients": null,
          "rating": 3.25,
          "review": "sweet, fudgey, tang",
          "year_reviewed": 2011
         },
         {
          "bar_name": "Catongo",
          "bean_origin": "Brazil",
          "cocoa_percent": 70,
          "company_location": "Brazil",
          "id": 927,
          "ingredients": null,
          "manufacturer": "Lajedo do Ouro",
          "num_ingredients": null,
          "rating": 3.5,
          "review": "floral, caramel",
          "year_reviewed": 2012
         },
         {
          "bar_name": "Tanzania",
          "bean_origin": "Tanzania",
          "cocoa_percent": 75,
          "company_location": "U.S.A.",
          "id": 327,
          "ingredients": null,
          "manufacturer": "Lake Champlain (Callebaut)",
          "num_ingredients": null,
          "rating": 2.5,
          "review": "dry, roasty, toffee",
          "year_reviewed": 2009
         },
         {
          "bar_name": "Peru",
          "bean_origin": "Peru",
          "cocoa_percent": 55,
          "company_location": "Peru",
          "id": 552,
          "ingredients": null,
          "manufacturer": "Machu Picchu Trading Co.",
          "num_ingredients": null,
          "rating": 2.25,
          "review": "extremely sweet, vanilla",
          "year_reviewed": 2010
         },
         {
          "bar_name": "Peru",
          "bean_origin": "Peru",
          "cocoa_percent": 70,
          "company_location": "Peru",
          "id": 721,
          "ingredients": null,
          "manufacturer": "Machu Picchu Trading Co.",
          "num_ingredients": null,
          "rating": 1.5,
          "review": "vanilla, strong chemical",
          "year_reviewed": 2011
         },
         {
          "bar_name": "Matina 1-6, prototype",
          "bean_origin": "Costa Rica",
          "cocoa_percent": 65,
          "company_location": "U.S.A.",
          "id": 537,
          "ingredients": null,
          "manufacturer": "Mars",
          "num_ingredients": null,
          "rating": 3,
          "review": "intense orange, floral",
          "year_reviewed": 2010
         },
         {
          "bar_name": "Ivory Coast, prototype",
          "bean_origin": "Ivory Coast",
          "cocoa_percent": 65,
          "company_location": "U.S.A.",
          "id": 544,
          "ingredients": null,
          "manufacturer": "Mars",
          "num_ingredients": null,
          "rating": 3,
          "review": "chewy, earthy, spicy",
          "year_reviewed": 2010
         },
         {
          "bar_name": "Nigeria, prototype",
          "bean_origin": "Nigeria",
          "cocoa_percent": 65,
          "company_location": "U.S.A.",
          "id": 544,
          "ingredients": null,
          "manufacturer": "Mars",
          "num_ingredients": null,
          "rating": 3.25,
          "review": "cocoa, earth, wheat",
          "year_reviewed": 2010
         },
         {
          "bar_name": "Ghana, prototype",
          "bean_origin": "Ghana",
          "cocoa_percent": 65,
          "company_location": "U.S.A.",
          "id": 544,
          "ingredients": null,
          "manufacturer": "Mars",
          "num_ingredients": null,
          "rating": 3.5,
          "review": "intense, dark berry, cocoa",
          "year_reviewed": 2010
         },
         {
          "bar_name": "Tumaco",
          "bean_origin": "Colombia",
          "cocoa_percent": 65,
          "company_location": "Colombia",
          "id": 955,
          "ingredients": null,
          "manufacturer": "Mita",
          "num_ingredients": null,
          "rating": 2.5,
          "review": "vanilla, artificial, sweet",
          "year_reviewed": 2012
         },
         {
          "bar_name": "Papaua New Guinea",
          "bean_origin": "Papua New Guinea",
          "cocoa_percent": 70,
          "company_location": "Australia",
          "id": 1391,
          "ingredients": null,
          "manufacturer": "Monsieur Truffe",
          "num_ingredients": null,
          "rating": 3.25,
          "review": "smoke, ham, sour milk",
          "year_reviewed": 2014
         },
         {
          "bar_name": "Manabi",
          "bean_origin": "Ecuador",
          "cocoa_percent": 70,
          "company_location": "Ecuador",
          "id": 1654,
          "ingredients": null,
          "manufacturer": "Montecristi",
          "num_ingredients": null,
          "rating": 3.25,
          "review": "spicy, smoke, sour",
          "year_reviewed": 2015
         },
         {
          "bar_name": "Manabi",
          "bean_origin": "Ecuador",
          "cocoa_percent": 63,
          "company_location": "Ecuador",
          "id": 1654,
          "ingredients": null,
          "manufacturer": "Montecristi",
          "num_ingredients": null,
          "rating": 3.5,
          "review": "spicy, sweet, fragrant",
          "year_reviewed": 2015
         },
         {
          "bar_name": "Manabi",
          "bean_origin": "Ecuador",
          "cocoa_percent": 85,
          "company_location": "Ecuador",
          "id": 1658,
          "ingredients": null,
          "manufacturer": "Montecristi",
          "num_ingredients": null,
          "rating": 3.5,
          "review": "spicy, fragrant, bitter",
          "year_reviewed": 2015
         },
         {
          "bar_name": "Criollo Blend",
          "bean_origin": "U.S.A.",
          "cocoa_percent": 85,
          "company_location": "U.S.A.",
          "id": 1007,
          "ingredients": null,
          "manufacturer": "Nanea",
          "num_ingredients": null,
          "rating": 3.5,
          "review": "sandy, spicy, earthy",
          "year_reviewed": 2013
         },
         {
          "bar_name": "Venezuela",
          "bean_origin": "Venezuela",
          "cocoa_percent": 70,
          "company_location": "U.S.A.",
          "id": 837,
          "ingredients": null,
          "manufacturer": "Noir d' Ebine",
          "num_ingredients": null,
          "rating": 3,
          "review": "sweet, candy like, dairy",
          "year_reviewed": 2012
         },
         {
          "bar_name": "Ecuador",
          "bean_origin": "Ecuador",
          "cocoa_percent": 70,
          "company_location": "U.S.A.",
          "id": 841,
          "ingredients": null,
          "manufacturer": "Noir d' Ebine",
          "num_ingredients": null,
          "rating": 3,
          "review": "sweet, spicy, cocoa",
          "year_reviewed": 2012
         },
         {
          "bar_name": "Raw",
          "bean_origin": "Ecuador",
          "cocoa_percent": 100,
          "company_location": "Ecuador",
          "id": 266,
          "ingredients": null,
          "manufacturer": "Pacari",
          "num_ingredients": null,
          "rating": 2,
          "review": "bitter, earthy",
          "year_reviewed": 2008
         },
         {
          "bar_name": "Ecuador",
          "bean_origin": "Ecuador",
          "cocoa_percent": 75,
          "company_location": "Ecuador",
          "id": 565,
          "ingredients": null,
          "manufacturer": "Rancho San Jacinto",
          "num_ingredients": null,
          "rating": 3,
          "review": "slightly dry and super spicey",
          "year_reviewed": 2010
         },
         {
          "bar_name": "Raw",
          "bean_origin": "Peru",
          "cocoa_percent": 70,
          "company_location": "Poland",
          "id": 867,
          "ingredients": null,
          "manufacturer": "Raw Cocoa",
          "num_ingredients": null,
          "rating": 2.5,
          "review": "smooth, green, vegetal",
          "year_reviewed": 2012
         },
         {
          "bar_name": "Gru Grococo, St. Andrews",
          "bean_origin": "Grenada",
          "cocoa_percent": 66,
          "company_location": "U.K.",
          "id": 923,
          "ingredients": null,
          "manufacturer": "Rococo (Grenada Chocolate Co.)",
          "num_ingredients": null,
          "rating": 3.5,
          "review": "earthy, mild nutty",
          "year_reviewed": 2012
         },
         {
          "bar_name": "100 percent",
          "bean_origin": "Blend",
          "cocoa_percent": 100,
          "company_location": "Italy",
          "id": 615,
          "ingredients": null,
          "manufacturer": "S.A.I.D.",
          "num_ingredients": null,
          "rating": 1.5,
          "review": "sticky, intense, very bitter",
          "year_reviewed": 2010
         },
         {
          "bar_name": "Samana",
          "bean_origin": "Dominican Republic",
          "cocoa_percent": 70,
          "company_location": "Italy",
          "id": 615,
          "ingredients": null,
          "manufacturer": "S.A.I.D.",
          "num_ingredients": null,
          "rating": 3,
          "review": "fudgey, astringent, sour",
          "year_reviewed": 2010
         },
         {
          "bar_name": "Malgascio",
          "bean_origin": "Madagascar",
          "cocoa_percent": 64,
          "company_location": "Italy",
          "id": 607,
          "ingredients": null,
          "manufacturer": "S.A.I.D.",
          "num_ingredients": null,
          "rating": 3.5,
          "review": "sandy, subtle fruit then cocoa",
          "year_reviewed": 2010
         },
         {
          "bar_name": "Carribean, Arawak",
          "bean_origin": "Blend",
          "cocoa_percent": 72,
          "company_location": "Italy",
          "id": 615,
          "ingredients": null,
          "manufacturer": "S.A.I.D.",
          "num_ingredients": null,
          "rating": 3.5,
          "review": "fatty, cocoa, nutty",
          "year_reviewed": 2010
         },
         {
          "bar_name": "Latino",
          "bean_origin": "Blend",
          "cocoa_percent": 72,
          "company_location": "Italy",
          "id": 615,
          "ingredients": null,
          "manufacturer": "S.A.I.D.",
          "num_ingredients": null,
          "rating": 3.5,
          "review": "sandy, sweet, spice",
          "year_reviewed": 2010
         },
         {
          "bar_name": "Peru",
          "bean_origin": "Peru",
          "cocoa_percent": 70,
          "company_location": "U.S.A.",
          "id": 911,
          "ingredients": null,
          "manufacturer": "Sibu Sura",
          "num_ingredients": null,
          "rating": 2.5,
          "review": "sandy, sweet, vanilla",
          "year_reviewed": 2012
         },
         {
          "bar_name": "Peru, Ecuador",
          "bean_origin": "Blend",
          "cocoa_percent": 99,
          "company_location": "U.S.A.",
          "id": 915,
          "ingredients": null,
          "manufacturer": "TCHO",
          "num_ingredients": null,
          "rating": 3.25,
          "review": "spicy, ginger, bitter",
          "year_reviewed": 2012
         },
         {
          "bar_name": "Roxborough, Tobago",
          "bean_origin": "Tobago",
          "cocoa_percent": 70,
          "company_location": "France",
          "id": 895,
          "ingredients": null,
          "manufacturer": "Tobago Estate (Pralus)",
          "num_ingredients": null,
          "rating": 4,
          "review": "smooth, wild berries",
          "year_reviewed": 2012
         },
         {
          "bar_name": "Ambanja, Tsara Valley",
          "bean_origin": "Madagascar",
          "cocoa_percent": 72,
          "company_location": "Madagascar",
          "id": 753,
          "ingredients": null,
          "manufacturer": "Tsara (Cinagra)",
          "num_ingredients": null,
          "rating": 3.5,
          "review": "cocoa, mild fruit",
          "year_reviewed": 2011
         },
         {
          "bar_name": "Dominican Republic",
          "bean_origin": "Dominican Republic",
          "cocoa_percent": 63,
          "company_location": "France",
          "id": 709,
          "ingredients": null,
          "manufacturer": "Un Dimanche A Paris",
          "num_ingredients": null,
          "rating": 3.75,
          "review": "spicy and rich",
          "year_reviewed": 2011
         },
         {
          "bar_name": "Manhattan",
          "bean_origin": "Ghana",
          "cocoa_percent": 72,
          "company_location": "U.S.A.",
          "id": 963,
          "ingredients": null,
          "manufacturer": "Vanleer (Barry Callebaut)",
          "num_ingredients": null,
          "rating": 2.5,
          "review": "sour vanila, heavy roast",
          "year_reviewed": 2012
         },
         {
          "bar_name": "Napa",
          "bean_origin": "Ghana",
          "cocoa_percent": 65,
          "company_location": "U.S.A.",
          "id": 963,
          "ingredients": null,
          "manufacturer": "Vanleer (Barry Callebaut)",
          "num_ingredients": null,
          "rating": 2.75,
          "review": "oily, caramel \"rolo\", sweet",
          "year_reviewed": 2012
         },
         {
          "bar_name": "Madagascar",
          "bean_origin": "Madagascar",
          "cocoa_percent": 70,
          "company_location": "Madagascar",
          "id": 404,
          "ingredients": null,
          "manufacturer": "Vao Vao (Chocolaterie Robert)",
          "num_ingredients": null,
          "rating": 3,
          "review": "oily, fatty, citrus",
          "year_reviewed": 2009
         },
         {
          "bar_name": "Madagascar w/ nibs",
          "bean_origin": "Madagascar",
          "cocoa_percent": 68,
          "company_location": "Madagascar",
          "id": 404,
          "ingredients": null,
          "manufacturer": "Vao Vao (Chocolaterie Robert)",
          "num_ingredients": null,
          "rating": 3,
          "review": "oily, nutty, fatty",
          "year_reviewed": 2009
         },
         {
          "bar_name": "Madagascar",
          "bean_origin": "Madagascar",
          "cocoa_percent": 64,
          "company_location": "Madagascar",
          "id": 404,
          "ingredients": null,
          "manufacturer": "Vao Vao (Chocolaterie Robert)",
          "num_ingredients": null,
          "rating": 3.25,
          "review": "sandy, mild citrus, sweet",
          "year_reviewed": 2009
         },
         {
          "bar_name": "Los Rios, Rancho Grande 2004/2007",
          "bean_origin": "Ecuador",
          "cocoa_percent": 100,
          "company_location": "U.S.A.",
          "id": 153,
          "ingredients": null,
          "manufacturer": "Vintage Plantations (Tulicorp)",
          "num_ingredients": null,
          "rating": 2,
          "review": "bland, mild fruit, strong bitter",
          "year_reviewed": 2007
         },
         {
          "bar_name": "Los Rios, Rancho Grande 2004/2007",
          "bean_origin": "Ecuador",
          "cocoa_percent": 90,
          "company_location": "U.S.A.",
          "id": 153,
          "ingredients": null,
          "manufacturer": "Vintage Plantations (Tulicorp)",
          "num_ingredients": null,
          "rating": 2,
          "review": "some fruit, strong bitter",
          "year_reviewed": 2007
         },
         {
          "bar_name": "Los Rios, Rancho Grande 2004/2007",
          "bean_origin": "Ecuador",
          "cocoa_percent": 75,
          "company_location": "U.S.A.",
          "id": 153,
          "ingredients": null,
          "manufacturer": "Vintage Plantations (Tulicorp)",
          "num_ingredients": null,
          "rating": 3,
          "review": "cocoa,earthy,very astringent",
          "year_reviewed": 2007
         },
         {
          "bar_name": "Ghana",
          "bean_origin": "Ghana",
          "cocoa_percent": 72,
          "company_location": "New Zealand",
          "id": 733,
          "ingredients": null,
          "manufacturer": "Whittakers",
          "num_ingredients": null,
          "rating": 2.5,
          "review": "sticky, dry, vanilla dominates",
          "year_reviewed": 2011
         },
         {
          "bar_name": "Java, Indonesian Black",
          "bean_origin": "Indonesia",
          "cocoa_percent": 100,
          "company_location": "U.K.",
          "id": 1109,
          "ingredients": null,
          "manufacturer": "Willie's Cacao",
          "num_ingredients": null,
          "rating": 2.25,
          "review": "fruit, strong smoke, bitter",
          "year_reviewed": 2013
         }
        ],
        "schema": {
         "fields": [
          {
           "name": "id",
           "type": "integer"
          },
          {
           "name": "manufacturer",
           "type": "string"
          },
          {
           "name": "company_location",
           "type": "string"
          },
          {
           "name": "year_reviewed",
           "type": "integer"
          },
          {
           "name": "bean_origin",
           "type": "string"
          },
          {
           "name": "bar_name",
           "type": "string"
          },
          {
           "name": "cocoa_percent",
           "type": "number"
          },
          {
           "name": "num_ingredients",
           "type": "number"
          },
          {
           "name": "ingredients",
           "type": "string"
          },
          {
           "name": "review",
           "type": "string"
          },
          {
           "name": "rating",
           "type": "number"
          }
         ],
         "pandas_version": "0.20.0"
        }
       },
       "total_rows": 87
      },
      "text/html": [
       "<div>\n",
       "<style scoped>\n",
       "    .dataframe tbody tr th:only-of-type {\n",
       "        vertical-align: middle;\n",
       "    }\n",
       "\n",
       "    .dataframe tbody tr th {\n",
       "        vertical-align: top;\n",
       "    }\n",
       "\n",
       "    .dataframe thead th {\n",
       "        text-align: right;\n",
       "    }\n",
       "</style>\n",
       "<table border=\"1\" class=\"dataframe\">\n",
       "  <thead>\n",
       "    <tr style=\"text-align: right;\">\n",
       "      <th></th>\n",
       "      <th>manufacturer</th>\n",
       "      <th>company_location</th>\n",
       "      <th>year_reviewed</th>\n",
       "      <th>bean_origin</th>\n",
       "      <th>bar_name</th>\n",
       "      <th>cocoa_percent</th>\n",
       "      <th>num_ingredients</th>\n",
       "      <th>ingredients</th>\n",
       "      <th>review</th>\n",
       "      <th>rating</th>\n",
       "    </tr>\n",
       "    <tr>\n",
       "      <th>id</th>\n",
       "      <th></th>\n",
       "      <th></th>\n",
       "      <th></th>\n",
       "      <th></th>\n",
       "      <th></th>\n",
       "      <th></th>\n",
       "      <th></th>\n",
       "      <th></th>\n",
       "      <th></th>\n",
       "      <th></th>\n",
       "    </tr>\n",
       "  </thead>\n",
       "  <tbody>\n",
       "    <tr>\n",
       "      <th>1964</th>\n",
       "      <td>Amazing Cacao</td>\n",
       "      <td>Russia</td>\n",
       "      <td>2017</td>\n",
       "      <td>Peru</td>\n",
       "      <td>Maranon</td>\n",
       "      <td>70.0</td>\n",
       "      <td>NaN</td>\n",
       "      <td>NaN</td>\n",
       "      <td>raisins, pungent</td>\n",
       "      <td>3.00</td>\n",
       "    </tr>\n",
       "    <tr>\n",
       "      <th>1964</th>\n",
       "      <td>Amazing Cacao</td>\n",
       "      <td>Russia</td>\n",
       "      <td>2017</td>\n",
       "      <td>Peru</td>\n",
       "      <td>Platan Bajo</td>\n",
       "      <td>70.0</td>\n",
       "      <td>NaN</td>\n",
       "      <td>NaN</td>\n",
       "      <td>few grits, blackcherry, licorice</td>\n",
       "      <td>3.50</td>\n",
       "    </tr>\n",
       "    <tr>\n",
       "      <th>486</th>\n",
       "      <td>Artisan du Chocolat</td>\n",
       "      <td>U.K.</td>\n",
       "      <td>2010</td>\n",
       "      <td>Venezuela</td>\n",
       "      <td>Venezuela</td>\n",
       "      <td>100.0</td>\n",
       "      <td>NaN</td>\n",
       "      <td>NaN</td>\n",
       "      <td>very nutty, very bitter</td>\n",
       "      <td>1.75</td>\n",
       "    </tr>\n",
       "    <tr>\n",
       "      <th>81</th>\n",
       "      <td>Bonnat</td>\n",
       "      <td>France</td>\n",
       "      <td>2006</td>\n",
       "      <td>Blend</td>\n",
       "      <td>One Hundred</td>\n",
       "      <td>100.0</td>\n",
       "      <td>NaN</td>\n",
       "      <td>NaN</td>\n",
       "      <td>acidic, bitter, dry</td>\n",
       "      <td>1.50</td>\n",
       "    </tr>\n",
       "    <tr>\n",
       "      <th>341</th>\n",
       "      <td>Bouga Cacao (Tulicorp)</td>\n",
       "      <td>Ecuador</td>\n",
       "      <td>2009</td>\n",
       "      <td>Ecuador</td>\n",
       "      <td>El Oro, Hacienda de Oro</td>\n",
       "      <td>100.0</td>\n",
       "      <td>NaN</td>\n",
       "      <td>NaN</td>\n",
       "      <td>cardboard, very bitter, floral</td>\n",
       "      <td>1.50</td>\n",
       "    </tr>\n",
       "    <tr>\n",
       "      <th>...</th>\n",
       "      <td>...</td>\n",
       "      <td>...</td>\n",
       "      <td>...</td>\n",
       "      <td>...</td>\n",
       "      <td>...</td>\n",
       "      <td>...</td>\n",
       "      <td>...</td>\n",
       "      <td>...</td>\n",
       "      <td>...</td>\n",
       "      <td>...</td>\n",
       "    </tr>\n",
       "    <tr>\n",
       "      <th>153</th>\n",
       "      <td>Vintage Plantations (Tulicorp)</td>\n",
       "      <td>U.S.A.</td>\n",
       "      <td>2007</td>\n",
       "      <td>Ecuador</td>\n",
       "      <td>Los Rios, Rancho Grande 2004/2007</td>\n",
       "      <td>100.0</td>\n",
       "      <td>NaN</td>\n",
       "      <td>NaN</td>\n",
       "      <td>bland, mild fruit, strong bitter</td>\n",
       "      <td>2.00</td>\n",
       "    </tr>\n",
       "    <tr>\n",
       "      <th>153</th>\n",
       "      <td>Vintage Plantations (Tulicorp)</td>\n",
       "      <td>U.S.A.</td>\n",
       "      <td>2007</td>\n",
       "      <td>Ecuador</td>\n",
       "      <td>Los Rios, Rancho Grande 2004/2007</td>\n",
       "      <td>90.0</td>\n",
       "      <td>NaN</td>\n",
       "      <td>NaN</td>\n",
       "      <td>some fruit, strong bitter</td>\n",
       "      <td>2.00</td>\n",
       "    </tr>\n",
       "    <tr>\n",
       "      <th>153</th>\n",
       "      <td>Vintage Plantations (Tulicorp)</td>\n",
       "      <td>U.S.A.</td>\n",
       "      <td>2007</td>\n",
       "      <td>Ecuador</td>\n",
       "      <td>Los Rios, Rancho Grande 2004/2007</td>\n",
       "      <td>75.0</td>\n",
       "      <td>NaN</td>\n",
       "      <td>NaN</td>\n",
       "      <td>cocoa,earthy,very astringent</td>\n",
       "      <td>3.00</td>\n",
       "    </tr>\n",
       "    <tr>\n",
       "      <th>733</th>\n",
       "      <td>Whittakers</td>\n",
       "      <td>New Zealand</td>\n",
       "      <td>2011</td>\n",
       "      <td>Ghana</td>\n",
       "      <td>Ghana</td>\n",
       "      <td>72.0</td>\n",
       "      <td>NaN</td>\n",
       "      <td>NaN</td>\n",
       "      <td>sticky, dry, vanilla dominates</td>\n",
       "      <td>2.50</td>\n",
       "    </tr>\n",
       "    <tr>\n",
       "      <th>1109</th>\n",
       "      <td>Willie's Cacao</td>\n",
       "      <td>U.K.</td>\n",
       "      <td>2013</td>\n",
       "      <td>Indonesia</td>\n",
       "      <td>Java, Indonesian Black</td>\n",
       "      <td>100.0</td>\n",
       "      <td>NaN</td>\n",
       "      <td>NaN</td>\n",
       "      <td>fruit, strong smoke, bitter</td>\n",
       "      <td>2.25</td>\n",
       "    </tr>\n",
       "  </tbody>\n",
       "</table>\n",
       "<p>87 rows × 10 columns</p>\n",
       "</div>"
      ],
      "text/plain": [
       "                        manufacturer company_location  year_reviewed  \\\n",
       "id                                                                     \n",
       "1964                   Amazing Cacao           Russia           2017   \n",
       "1964                   Amazing Cacao           Russia           2017   \n",
       "486              Artisan du Chocolat             U.K.           2010   \n",
       "81                            Bonnat           France           2006   \n",
       "341           Bouga Cacao (Tulicorp)          Ecuador           2009   \n",
       "...                              ...              ...            ...   \n",
       "153   Vintage Plantations (Tulicorp)           U.S.A.           2007   \n",
       "153   Vintage Plantations (Tulicorp)           U.S.A.           2007   \n",
       "153   Vintage Plantations (Tulicorp)           U.S.A.           2007   \n",
       "733                       Whittakers      New Zealand           2011   \n",
       "1109                  Willie's Cacao             U.K.           2013   \n",
       "\n",
       "     bean_origin                           bar_name  cocoa_percent  \\\n",
       "id                                                                   \n",
       "1964        Peru                            Maranon           70.0   \n",
       "1964        Peru                        Platan Bajo           70.0   \n",
       "486    Venezuela                          Venezuela          100.0   \n",
       "81         Blend                        One Hundred          100.0   \n",
       "341      Ecuador            El Oro, Hacienda de Oro          100.0   \n",
       "...          ...                                ...            ...   \n",
       "153      Ecuador  Los Rios, Rancho Grande 2004/2007          100.0   \n",
       "153      Ecuador  Los Rios, Rancho Grande 2004/2007           90.0   \n",
       "153      Ecuador  Los Rios, Rancho Grande 2004/2007           75.0   \n",
       "733        Ghana                              Ghana           72.0   \n",
       "1109   Indonesia             Java, Indonesian Black          100.0   \n",
       "\n",
       "      num_ingredients ingredients                            review  rating  \n",
       "id                                                                           \n",
       "1964              NaN         NaN                  raisins, pungent    3.00  \n",
       "1964              NaN         NaN  few grits, blackcherry, licorice    3.50  \n",
       "486               NaN         NaN           very nutty, very bitter    1.75  \n",
       "81                NaN         NaN               acidic, bitter, dry    1.50  \n",
       "341               NaN         NaN    cardboard, very bitter, floral    1.50  \n",
       "...               ...         ...                               ...     ...  \n",
       "153               NaN         NaN  bland, mild fruit, strong bitter    2.00  \n",
       "153               NaN         NaN         some fruit, strong bitter    2.00  \n",
       "153               NaN         NaN      cocoa,earthy,very astringent    3.00  \n",
       "733               NaN         NaN    sticky, dry, vanilla dominates    2.50  \n",
       "1109              NaN         NaN       fruit, strong smoke, bitter    2.25  \n",
       "\n",
       "[87 rows x 10 columns]"
      ]
     },
     "execution_count": 9,
     "metadata": {},
     "output_type": "execute_result"
    }
   ],
   "source": [
    "df[df.num_ingredients.isnull() & df.ingredients.isnull()]"
   ]
  },
  {
   "cell_type": "markdown",
   "id": "0a65585c-4161-4e80-b405-7c5e6a70eeac",
   "metadata": {},
   "source": [
    "## Exploratory Data Analysis\n",
    "\n",
    "- `rating` has a left skewed distribution, where most ratings are around 3-4, recommended and highly recommended.\n",
    "- Most cholocolate bars have 3 ingredients and a cocoa percent between 60-90%."
   ]
  },
  {
   "cell_type": "code",
   "execution_count": 10,
   "id": "2f5490f3-ab4e-4773-abce-4718765d5951",
   "metadata": {},
   "outputs": [
    {
     "data": {
      "image/png": "[encoded data removed]",
      "text/plain": [
       "<Figure size 720x720 with 20 Axes>"
      ]
     },
     "metadata": {},
     "output_type": "display_data"
    }
   ],
   "source": [
    "ax = sns.pairplot(df)\n",
    "plt.show()"
   ]
  },
  {
   "cell_type": "markdown",
   "id": "ecd75eb9-a840-4347-b2d0-83abafefd684",
   "metadata": {},
   "source": [
    "## 1. What is the average rating by country of origin?\n",
    "\n",
    "The average rating by country of origin ranges from 2.71 to 3.63. <br>\n",
    "The country with the highest average rating is Tobago, whereas the lowest is Puerto Rico."
   ]
  },
  {
   "cell_type": "code",
   "execution_count": 11,
   "id": "9f0f535a-1e23-4d3d-81aa-f7dd7be0271a",
   "metadata": {},
   "outputs": [
    {
     "data": {
      "application/com.datacamp.data-table.v1+json": {
       "is_truncated": false,
       "table": {
        "data": [
         {
          "bean_origin": "Tobago",
          "index": 54,
          "rating": 3.625
         },
         {
          "bean_origin": "China",
          "index": 7,
          "rating": 3.5
         },
         {
          "bean_origin": "Sao Tome & Principe",
          "index": 42,
          "rating": 3.5
         },
         {
          "bean_origin": "Solomon Islands",
          "index": 44,
          "rating": 3.45
         },
         {
          "bean_origin": "Congo",
          "index": 9,
          "rating": 3.3181818182
         },
         {
          "bean_origin": "Thailand",
          "index": 53,
          "rating": 3.3
         },
         {
          "bean_origin": "Cuba",
          "index": 11,
          "rating": 3.2916666667
         },
         {
          "bean_origin": "Vietnam",
          "index": 61,
          "rating": 3.2876712329
         },
         {
          "bean_origin": "Papua New Guinea",
          "index": 35,
          "rating": 3.28
         },
         {
          "bean_origin": "Madagascar",
          "index": 28,
          "rating": 3.2669491525
         },
         {
          "bean_origin": "Haiti",
          "index": 21,
          "rating": 3.2666666667
         },
         {
          "bean_origin": "Brazil",
          "index": 4,
          "rating": 3.2628205128
         },
         {
          "bean_origin": "Guatemala",
          "index": 20,
          "rating": 3.2580645161
         },
         {
          "bean_origin": "Nicaragua",
          "index": 32,
          "rating": 3.255
         },
         {
          "bean_origin": "Gabon",
          "index": 17,
          "rating": 3.25
         },
         {
          "bean_origin": "Sulawesi",
          "index": 48,
          "rating": 3.25
         },
         {
          "bean_origin": "Suriname",
          "index": 50,
          "rating": 3.25
         },
         {
          "bean_origin": "Australia",
          "index": 0,
          "rating": 3.25
         },
         {
          "bean_origin": "Trinidad",
          "index": 56,
          "rating": 3.244047619
         },
         {
          "bean_origin": "U.S.A.",
          "index": 57,
          "rating": 3.2424242424
         },
         {
          "bean_origin": "Honduras",
          "index": 22,
          "rating": 3.24
         },
         {
          "bean_origin": "Tanzania",
          "index": 52,
          "rating": 3.2341772152
         },
         {
          "bean_origin": "Belize",
          "index": 1,
          "rating": 3.2335526316
         },
         {
          "bean_origin": "Venezuela",
          "index": 60,
          "rating": 3.2312252964
         },
         {
          "bean_origin": "Dominican Republic",
          "index": 13,
          "rating": 3.2157079646
         },
         {
          "bean_origin": "Jamaica",
          "index": 26,
          "rating": 3.1979166667
         },
         {
          "bean_origin": "Peru",
          "index": 36,
          "rating": 3.1977459016
         },
         {
          "bean_origin": "Colombia",
          "index": 8,
          "rating": 3.1962025316
         },
         {
          "bean_origin": "Bolivia",
          "index": 3,
          "rating": 3.18125
         },
         {
          "bean_origin": "Mexico",
          "index": 31,
          "rating": 3.1681818182
         },
         {
          "bean_origin": "Ecuador",
          "index": 14,
          "rating": 3.1643835616
         },
         {
          "bean_origin": "India",
          "index": 23,
          "rating": 3.1642857143
         },
         {
          "bean_origin": "Costa Rica",
          "index": 10,
          "rating": 3.1511627907
         },
         {
          "bean_origin": "Ghana",
          "index": 18,
          "rating": 3.1341463415
         },
         {
          "bean_origin": "Philippines",
          "index": 37,
          "rating": 3.125
         },
         {
          "bean_origin": "Vanuatu",
          "index": 59,
          "rating": 3.1153846154
         },
         {
          "bean_origin": "Indonesia",
          "index": 24,
          "rating": 3.1125
         },
         {
          "bean_origin": "Panama",
          "index": 34,
          "rating": 3.1111111111
         },
         {
          "bean_origin": "Malaysia",
          "index": 29,
          "rating": 3.09375
         },
         {
          "bean_origin": "Togo",
          "index": 55,
          "rating": 3.0833333333
         },
         {
          "bean_origin": "Liberia",
          "index": 27,
          "rating": 3.0833333333
         },
         {
          "bean_origin": "Cameroon",
          "index": 6,
          "rating": 3.0833333333
         },
         {
          "bean_origin": "Samoa",
          "index": 40,
          "rating": 3.0833333333
         },
         {
          "bean_origin": "Sao Tome",
          "index": 41,
          "rating": 3.0714285714
         },
         {
          "bean_origin": "Uganda",
          "index": 58,
          "rating": 3.0657894737
         },
         {
          "bean_origin": "Fiji",
          "index": 16,
          "rating": 3.0625
         },
         {
          "bean_origin": "Blend",
          "index": 2,
          "rating": 3.0384615385
         },
         {
          "bean_origin": "Grenada",
          "index": 19,
          "rating": 3.0263157895
         },
         {
          "bean_origin": "DR Congo",
          "index": 12,
          "rating": 3
         },
         {
          "bean_origin": "Sumatra",
          "index": 49,
          "rating": 3
         },
         {
          "bean_origin": "Burma",
          "index": 5,
          "rating": 3
         },
         {
          "bean_origin": "El Salvador",
          "index": 15,
          "rating": 3
         },
         {
          "bean_origin": "Nigeria",
          "index": 33,
          "rating": 3
         },
         {
          "bean_origin": "St. Lucia",
          "index": 46,
          "rating": 2.95
         },
         {
          "bean_origin": "Taiwan",
          "index": 51,
          "rating": 2.875
         },
         {
          "bean_origin": "Sri Lanka",
          "index": 45,
          "rating": 2.875
         },
         {
          "bean_origin": "Ivory Coast",
          "index": 25,
          "rating": 2.8571428571
         },
         {
          "bean_origin": "Sierra Leone",
          "index": 43,
          "rating": 2.75
         },
         {
          "bean_origin": "St.Vincent-Grenadines",
          "index": 47,
          "rating": 2.75
         },
         {
          "bean_origin": "Principe",
          "index": 38,
          "rating": 2.75
         },
         {
          "bean_origin": "Martinique",
          "index": 30,
          "rating": 2.75
         },
         {
          "bean_origin": "Puerto Rico",
          "index": 39,
          "rating": 2.7142857143
         }
        ],
        "schema": {
         "fields": [
          {
           "name": "index",
           "type": "integer"
          },
          {
           "name": "bean_origin",
           "type": "string"
          },
          {
           "name": "rating",
           "type": "number"
          }
         ],
         "pandas_version": "0.20.0",
         "primaryKey": [
          "index"
         ]
        }
       },
       "total_rows": 62
      },
      "text/html": [
       "<div>\n",
       "<style scoped>\n",
       "    .dataframe tbody tr th:only-of-type {\n",
       "        vertical-align: middle;\n",
       "    }\n",
       "\n",
       "    .dataframe tbody tr th {\n",
       "        vertical-align: top;\n",
       "    }\n",
       "\n",
       "    .dataframe thead th {\n",
       "        text-align: right;\n",
       "    }\n",
       "</style>\n",
       "<table border=\"1\" class=\"dataframe\">\n",
       "  <thead>\n",
       "    <tr style=\"text-align: right;\">\n",
       "      <th></th>\n",
       "      <th>bean_origin</th>\n",
       "      <th>rating</th>\n",
       "    </tr>\n",
       "  </thead>\n",
       "  <tbody>\n",
       "    <tr>\n",
       "      <th>54</th>\n",
       "      <td>Tobago</td>\n",
       "      <td>3.625000</td>\n",
       "    </tr>\n",
       "    <tr>\n",
       "      <th>7</th>\n",
       "      <td>China</td>\n",
       "      <td>3.500000</td>\n",
       "    </tr>\n",
       "    <tr>\n",
       "      <th>42</th>\n",
       "      <td>Sao Tome &amp; Principe</td>\n",
       "      <td>3.500000</td>\n",
       "    </tr>\n",
       "    <tr>\n",
       "      <th>44</th>\n",
       "      <td>Solomon Islands</td>\n",
       "      <td>3.450000</td>\n",
       "    </tr>\n",
       "    <tr>\n",
       "      <th>9</th>\n",
       "      <td>Congo</td>\n",
       "      <td>3.318182</td>\n",
       "    </tr>\n",
       "    <tr>\n",
       "      <th>...</th>\n",
       "      <td>...</td>\n",
       "      <td>...</td>\n",
       "    </tr>\n",
       "    <tr>\n",
       "      <th>43</th>\n",
       "      <td>Sierra Leone</td>\n",
       "      <td>2.750000</td>\n",
       "    </tr>\n",
       "    <tr>\n",
       "      <th>47</th>\n",
       "      <td>St.Vincent-Grenadines</td>\n",
       "      <td>2.750000</td>\n",
       "    </tr>\n",
       "    <tr>\n",
       "      <th>38</th>\n",
       "      <td>Principe</td>\n",
       "      <td>2.750000</td>\n",
       "    </tr>\n",
       "    <tr>\n",
       "      <th>30</th>\n",
       "      <td>Martinique</td>\n",
       "      <td>2.750000</td>\n",
       "    </tr>\n",
       "    <tr>\n",
       "      <th>39</th>\n",
       "      <td>Puerto Rico</td>\n",
       "      <td>2.714286</td>\n",
       "    </tr>\n",
       "  </tbody>\n",
       "</table>\n",
       "<p>62 rows × 2 columns</p>\n",
       "</div>"
      ],
      "text/plain": [
       "              bean_origin    rating\n",
       "54                 Tobago  3.625000\n",
       "7                   China  3.500000\n",
       "42    Sao Tome & Principe  3.500000\n",
       "44        Solomon Islands  3.450000\n",
       "9                   Congo  3.318182\n",
       "..                    ...       ...\n",
       "43           Sierra Leone  2.750000\n",
       "47  St.Vincent-Grenadines  2.750000\n",
       "38               Principe  2.750000\n",
       "30             Martinique  2.750000\n",
       "39            Puerto Rico  2.714286\n",
       "\n",
       "[62 rows x 2 columns]"
      ]
     },
     "execution_count": 11,
     "metadata": {},
     "output_type": "execute_result"
    }
   ],
   "source": [
    "avg_rating_by_origin = (\n",
    "    df\n",
    "    .groupby(\"bean_origin\")\n",
    "    .rating.mean()\n",
    "    .reset_index()\n",
    "    .sort_values(by=\"rating\", ascending=False)\n",
    ")\n",
    "avg_rating_by_origin"
   ]
  },
  {
   "cell_type": "code",
   "execution_count": 12,
   "id": "04be1eb2-d450-4bdb-9493-f36fcab2dc40",
   "metadata": {},
   "outputs": [
    {
     "data": {
      "image/png": "[encoded data removed]",
      "text/plain": [
       "<Figure size 1440x360 with 1 Axes>"
      ]
     },
     "metadata": {},
     "output_type": "display_data"
    }
   ],
   "source": [
    "ax = sns.barplot(x=\"bean_origin\", y=\"rating\", data=avg_rating_by_origin[0:8])\n",
    "show_values_on_bars(ax)\n",
    "plt.title(\"Top 8 average rating by country of origin\", fontsize=20)\n",
    "plt.xlabel(\"Country of Origin\", fontsize=16)\n",
    "plt.ylabel(\"Average rating\", fontsize=16)\n",
    "plt.show()"
   ]
  },
  {
   "cell_type": "markdown",
   "id": "648d4c53-c3d4-4096-9e7d-dbcbf265f6e2",
   "metadata": {},
   "source": [
    "## 2. How many bars were reviewed for each of those countries?\n",
    "\n",
    "The highest numbers of bars were reviewed for the country Venezulea with 253 bars reviewed."
   ]
  },
  {
   "cell_type": "code",
   "execution_count": 13,
   "id": "7cea6718-e996-4670-ba37-e7a97c193604",
   "metadata": {},
   "outputs": [
    {
     "data": {
      "application/com.datacamp.data-table.v1+json": {
       "is_truncated": false,
       "table": {
        "data": [
         {
          "bean_origin": "Venezuela",
          "index": 60,
          "no. of bars reviewed": 253
         },
         {
          "bean_origin": "Peru",
          "index": 36,
          "no. of bars reviewed": 244
         },
         {
          "bean_origin": "Dominican Republic",
          "index": 13,
          "no. of bars reviewed": 226
         },
         {
          "bean_origin": "Ecuador",
          "index": 14,
          "no. of bars reviewed": 219
         },
         {
          "bean_origin": "Madagascar",
          "index": 28,
          "no. of bars reviewed": 177
         },
         {
          "bean_origin": "Blend",
          "index": 2,
          "no. of bars reviewed": 156
         },
         {
          "bean_origin": "Nicaragua",
          "index": 32,
          "no. of bars reviewed": 100
         },
         {
          "bean_origin": "Bolivia",
          "index": 3,
          "no. of bars reviewed": 80
         },
         {
          "bean_origin": "Tanzania",
          "index": 52,
          "no. of bars reviewed": 79
         },
         {
          "bean_origin": "Colombia",
          "index": 8,
          "no. of bars reviewed": 79
         },
         {
          "bean_origin": "Brazil",
          "index": 4,
          "no. of bars reviewed": 78
         },
         {
          "bean_origin": "Belize",
          "index": 1,
          "no. of bars reviewed": 76
         },
         {
          "bean_origin": "Vietnam",
          "index": 61,
          "no. of bars reviewed": 73
         },
         {
          "bean_origin": "Guatemala",
          "index": 20,
          "no. of bars reviewed": 62
         },
         {
          "bean_origin": "Mexico",
          "index": 31,
          "no. of bars reviewed": 55
         },
         {
          "bean_origin": "Papua New Guinea",
          "index": 35,
          "no. of bars reviewed": 50
         },
         {
          "bean_origin": "Costa Rica",
          "index": 10,
          "no. of bars reviewed": 43
         },
         {
          "bean_origin": "Trinidad",
          "index": 56,
          "no. of bars reviewed": 42
         },
         {
          "bean_origin": "Ghana",
          "index": 18,
          "no. of bars reviewed": 41
         },
         {
          "bean_origin": "India",
          "index": 23,
          "no. of bars reviewed": 35
         },
         {
          "bean_origin": "U.S.A.",
          "index": 57,
          "no. of bars reviewed": 33
         },
         {
          "bean_origin": "Haiti",
          "index": 21,
          "no. of bars reviewed": 30
         },
         {
          "bean_origin": "Honduras",
          "index": 22,
          "no. of bars reviewed": 25
         },
         {
          "bean_origin": "Philippines",
          "index": 37,
          "no. of bars reviewed": 24
         },
         {
          "bean_origin": "Jamaica",
          "index": 26,
          "no. of bars reviewed": 24
         },
         {
          "bean_origin": "Indonesia",
          "index": 24,
          "no. of bars reviewed": 20
         },
         {
          "bean_origin": "Grenada",
          "index": 19,
          "no. of bars reviewed": 19
         },
         {
          "bean_origin": "Uganda",
          "index": 58,
          "no. of bars reviewed": 19
         },
         {
          "bean_origin": "Fiji",
          "index": 16,
          "no. of bars reviewed": 16
         },
         {
          "bean_origin": "Sao Tome",
          "index": 41,
          "no. of bars reviewed": 14
         },
         {
          "bean_origin": "Vanuatu",
          "index": 59,
          "no. of bars reviewed": 13
         },
         {
          "bean_origin": "Cuba",
          "index": 11,
          "no. of bars reviewed": 12
         },
         {
          "bean_origin": "Congo",
          "index": 9,
          "no. of bars reviewed": 11
         },
         {
          "bean_origin": "Solomon Islands",
          "index": 44,
          "no. of bars reviewed": 10
         },
         {
          "bean_origin": "St. Lucia",
          "index": 46,
          "no. of bars reviewed": 10
         },
         {
          "bean_origin": "Panama",
          "index": 34,
          "no. of bars reviewed": 9
         },
         {
          "bean_origin": "Malaysia",
          "index": 29,
          "no. of bars reviewed": 8
         },
         {
          "bean_origin": "Puerto Rico",
          "index": 39,
          "no. of bars reviewed": 7
         },
         {
          "bean_origin": "Ivory Coast",
          "index": 25,
          "no. of bars reviewed": 7
         },
         {
          "bean_origin": "El Salvador",
          "index": 15,
          "no. of bars reviewed": 6
         },
         {
          "bean_origin": "Thailand",
          "index": 53,
          "no. of bars reviewed": 5
         },
         {
          "bean_origin": "Sierra Leone",
          "index": 43,
          "no. of bars reviewed": 4
         },
         {
          "bean_origin": "Cameroon",
          "index": 6,
          "no. of bars reviewed": 3
         },
         {
          "bean_origin": "Togo",
          "index": 55,
          "no. of bars reviewed": 3
         },
         {
          "bean_origin": "Australia",
          "index": 0,
          "no. of bars reviewed": 3
         },
         {
          "bean_origin": "Liberia",
          "index": 27,
          "no. of bars reviewed": 3
         },
         {
          "bean_origin": "Samoa",
          "index": 40,
          "no. of bars reviewed": 3
         },
         {
          "bean_origin": "Nigeria",
          "index": 33,
          "no. of bars reviewed": 3
         },
         {
          "bean_origin": "Sri Lanka",
          "index": 45,
          "no. of bars reviewed": 2
         },
         {
          "bean_origin": "Taiwan",
          "index": 51,
          "no. of bars reviewed": 2
         },
         {
          "bean_origin": "Sao Tome & Principe",
          "index": 42,
          "no. of bars reviewed": 2
         },
         {
          "bean_origin": "Tobago",
          "index": 54,
          "no. of bars reviewed": 2
         },
         {
          "bean_origin": "Martinique",
          "index": 30,
          "no. of bars reviewed": 1
         },
         {
          "bean_origin": "Burma",
          "index": 5,
          "no. of bars reviewed": 1
         },
         {
          "bean_origin": "Gabon",
          "index": 17,
          "no. of bars reviewed": 1
         },
         {
          "bean_origin": "DR Congo",
          "index": 12,
          "no. of bars reviewed": 1
         },
         {
          "bean_origin": "China",
          "index": 7,
          "no. of bars reviewed": 1
         },
         {
          "bean_origin": "Suriname",
          "index": 50,
          "no. of bars reviewed": 1
         },
         {
          "bean_origin": "Sumatra",
          "index": 49,
          "no. of bars reviewed": 1
         },
         {
          "bean_origin": "Sulawesi",
          "index": 48,
          "no. of bars reviewed": 1
         },
         {
          "bean_origin": "St.Vincent-Grenadines",
          "index": 47,
          "no. of bars reviewed": 1
         },
         {
          "bean_origin": "Principe",
          "index": 38,
          "no. of bars reviewed": 1
         }
        ],
        "schema": {
         "fields": [
          {
           "name": "index",
           "type": "integer"
          },
          {
           "name": "bean_origin",
           "type": "string"
          },
          {
           "name": "no. of bars reviewed",
           "type": "integer"
          }
         ],
         "pandas_version": "0.20.0",
         "primaryKey": [
          "index"
         ]
        }
       },
       "total_rows": 62
      },
      "text/html": [
       "<div>\n",
       "<style scoped>\n",
       "    .dataframe tbody tr th:only-of-type {\n",
       "        vertical-align: middle;\n",
       "    }\n",
       "\n",
       "    .dataframe tbody tr th {\n",
       "        vertical-align: top;\n",
       "    }\n",
       "\n",
       "    .dataframe thead th {\n",
       "        text-align: right;\n",
       "    }\n",
       "</style>\n",
       "<table border=\"1\" class=\"dataframe\">\n",
       "  <thead>\n",
       "    <tr style=\"text-align: right;\">\n",
       "      <th></th>\n",
       "      <th>bean_origin</th>\n",
       "      <th>no. of bars reviewed</th>\n",
       "    </tr>\n",
       "  </thead>\n",
       "  <tbody>\n",
       "    <tr>\n",
       "      <th>60</th>\n",
       "      <td>Venezuela</td>\n",
       "      <td>253</td>\n",
       "    </tr>\n",
       "    <tr>\n",
       "      <th>36</th>\n",
       "      <td>Peru</td>\n",
       "      <td>244</td>\n",
       "    </tr>\n",
       "    <tr>\n",
       "      <th>13</th>\n",
       "      <td>Dominican Republic</td>\n",
       "      <td>226</td>\n",
       "    </tr>\n",
       "    <tr>\n",
       "      <th>14</th>\n",
       "      <td>Ecuador</td>\n",
       "      <td>219</td>\n",
       "    </tr>\n",
       "    <tr>\n",
       "      <th>28</th>\n",
       "      <td>Madagascar</td>\n",
       "      <td>177</td>\n",
       "    </tr>\n",
       "    <tr>\n",
       "      <th>...</th>\n",
       "      <td>...</td>\n",
       "      <td>...</td>\n",
       "    </tr>\n",
       "    <tr>\n",
       "      <th>50</th>\n",
       "      <td>Suriname</td>\n",
       "      <td>1</td>\n",
       "    </tr>\n",
       "    <tr>\n",
       "      <th>49</th>\n",
       "      <td>Sumatra</td>\n",
       "      <td>1</td>\n",
       "    </tr>\n",
       "    <tr>\n",
       "      <th>48</th>\n",
       "      <td>Sulawesi</td>\n",
       "      <td>1</td>\n",
       "    </tr>\n",
       "    <tr>\n",
       "      <th>47</th>\n",
       "      <td>St.Vincent-Grenadines</td>\n",
       "      <td>1</td>\n",
       "    </tr>\n",
       "    <tr>\n",
       "      <th>38</th>\n",
       "      <td>Principe</td>\n",
       "      <td>1</td>\n",
       "    </tr>\n",
       "  </tbody>\n",
       "</table>\n",
       "<p>62 rows × 2 columns</p>\n",
       "</div>"
      ],
      "text/plain": [
       "              bean_origin  no. of bars reviewed\n",
       "60              Venezuela                   253\n",
       "36                   Peru                   244\n",
       "13     Dominican Republic                   226\n",
       "14                Ecuador                   219\n",
       "28             Madagascar                   177\n",
       "..                    ...                   ...\n",
       "50               Suriname                     1\n",
       "49                Sumatra                     1\n",
       "48               Sulawesi                     1\n",
       "47  St.Vincent-Grenadines                     1\n",
       "38               Principe                     1\n",
       "\n",
       "[62 rows x 2 columns]"
      ]
     },
     "execution_count": 13,
     "metadata": {},
     "output_type": "execute_result"
    }
   ],
   "source": [
    "bar_count_by_origin = (df\n",
    "                       .groupby(\"bean_origin\")\n",
    "                       .bar_name.count()\n",
    "                       .reset_index()\n",
    "                       .sort_values(by='bar_name', ascending=False)\n",
    "                       .rename({\"bar_name\": \"no. of bars reviewed\"}, axis=1)\n",
    "                      )\n",
    "bar_count_by_origin"
   ]
  },
  {
   "cell_type": "code",
   "execution_count": 14,
   "id": "92942da2-db0e-4df7-b26a-b01181b9e609",
   "metadata": {},
   "outputs": [
    {
     "data": {
      "image/png": "[encoded data removed]",
      "text/plain": [
       "<Figure size 1440x360 with 1 Axes>"
      ]
     },
     "metadata": {},
     "output_type": "display_data"
    }
   ],
   "source": [
    "ax = sns.barplot(x=\"bean_origin\",y=\"no. of bars reviewed\", data=bar_count_by_origin[0:8])\n",
    "show_values_on_bars(ax)\n",
    "plt.title(\"Number of bars reviewed by country of origin\", fontsize=20)\n",
    "plt.xlabel(\"Country of Origin\", fontsize=16)\n",
    "plt.ylabel(\"Number of bars reviewed\", fontsize=16)\n",
    "plt.show()"
   ]
  },
  {
   "cell_type": "markdown",
   "id": "4b8210ff-4311-469c-a594-fef17ffdae71",
   "metadata": {},
   "source": [
    "## 3. Is the cacao bean's origin an indicator of quality?\n",
    "\n",
    "Cocoa bean's country of origin is not an indicator of quality."
   ]
  },
  {
   "cell_type": "code",
   "execution_count": 15,
   "id": "16b399fa-680a-42f1-829d-c77dbee3a6a3",
   "metadata": {},
   "outputs": [
    {
     "data": {
      "image/png": "[encoded data removed]",
      "text/plain": [
       "<Figure size 1440x360 with 1 Axes>"
      ]
     },
     "metadata": {},
     "output_type": "display_data"
    }
   ],
   "source": [
    "sns.boxplot(y=\"rating\", x=\"bean_origin\", data=df)\n",
    "plt.xticks(rotation=90)\n",
    "plt.title(\"Rating of bean by country of origin\", fontsize=20)\n",
    "plt.xlabel(\"Country of Origin\", fontsize=16)\n",
    "plt.ylabel(\"Rating\", fontsize=16)\n",
    "plt.show()"
   ]
  },
  {
   "cell_type": "markdown",
   "id": "a7682d1b-a2c7-4adf-af98-e99d4424c5a6",
   "metadata": {},
   "source": [
    "## 4. How does cocoa content relate to rating? \n",
    "\n",
    "`cocoa_percent` and `rating` is not correlated."
   ]
  },
  {
   "cell_type": "code",
   "execution_count": 16,
   "id": "d8032aa4-b985-47a3-b9ff-a2e060ad1fe6",
   "metadata": {},
   "outputs": [
    {
     "name": "stdout",
     "output_type": "stream",
     "text": [
      "Pearsons correlation: -0.147\n"
     ]
    },
    {
     "data": {
      "image/png": "[encoded data removed]",
      "text/plain": [
       "<Figure size 1440x360 with 1 Axes>"
      ]
     },
     "metadata": {},
     "output_type": "display_data"
    }
   ],
   "source": [
    "# calculate Pearson's correlation\n",
    "corr, _ = pearsonr(df.rating, df.cocoa_percent)\n",
    "print('Pearsons correlation: %.3f' % corr)\n",
    "\n",
    "sns.scatterplot(y=\"rating\", x=\"cocoa_percent\", data=df)\n",
    "plt.title(\"Rating of bean by cocao content\", fontsize=20)\n",
    "plt.xlabel(\"Cocao Content %\", fontsize=16)\n",
    "plt.ylabel(\"Rating\", fontsize=16)\n",
    "plt.show()"
   ]
  },
  {
   "cell_type": "markdown",
   "id": "025cce8a-aefc-4e8f-89cb-892a07709856",
   "metadata": {},
   "source": [
    "## 4.5 What is the average cocoa content for bars with higher ratings (above 3.5)?"
   ]
  },
  {
   "cell_type": "code",
   "execution_count": 17,
   "id": "87751ce8-afe2-4b08-b813-23ff238cf02e",
   "metadata": {},
   "outputs": [
    {
     "data": {
      "text/plain": [
       "71.108"
      ]
     },
     "execution_count": 17,
     "metadata": {},
     "output_type": "execute_result"
    }
   ],
   "source": [
    "np.round(df[df['rating']>=3.5].cocoa_percent.mean(), 3)"
   ]
  },
  {
   "cell_type": "markdown",
   "id": "fba98722-d5fb-44ab-b432-f45caf5d64fa",
   "metadata": {},
   "source": [
    "## 5. Compare the average rating of bars with and without lecithin (L in the ingredients).\n",
    "\n",
    "Some consumers want to avoid bars with lecithin.\n",
    "\n",
    "The average rating of bars without Lecithin is higher than bars with the ingredient."
   ]
  },
  {
   "cell_type": "code",
   "execution_count": 18,
   "id": "8dd2eebf-b4d9-439d-bfc1-36d529a06638",
   "metadata": {},
   "outputs": [
    {
     "name": "stdout",
     "output_type": "stream",
     "text": [
      "Average rating with lecithin: 3.151\n",
      "Average rating without lecithin: 3.225\n"
     ]
    }
   ],
   "source": [
    "df = df.dropna()\n",
    "contains_L = df[\"ingredients\"].str.contains(\"L\")\n",
    "avg_rating_with_L = round(df[contains_L].rating.mean(), 3)\n",
    "avg_rating_without_L = round(df[~contains_L].rating.mean(), 3)\n",
    "print(f\"Average rating with lecithin: {avg_rating_with_L}\")\n",
    "print(f\"Average rating without lecithin: {avg_rating_without_L}\")"
   ]
  },
  {
   "cell_type": "code",
   "execution_count": null,
   "id": "6064e64d-648d-46b8-84d4-9a405277ff80",
   "metadata": {},
   "outputs": [],
   "source": []
  }
 ],
 "metadata": {
  "kernelspec": {
   "display_name": "Python 3 (ipykernel)",
   "language": "python",
   "name": "python3"
  },
  "language_info": {
   "codemirror_mode": {
    "name": "ipython",
    "version": 3
   },
   "file_extension": ".py",
   "mimetype": "text/x-python",
   "name": "python",
   "nbconvert_exporter": "python",
   "pygments_lexer": "ipython3",
   "version": "3.8.10"
  }
 },
 "nbformat": 4,
 "nbformat_minor": 5
}
