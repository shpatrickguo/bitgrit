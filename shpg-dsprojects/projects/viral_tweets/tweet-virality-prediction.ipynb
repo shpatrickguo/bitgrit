{
 "cells": [
  {
   "cell_type": "markdown",
   "metadata": {},
   "source": [
    "# Viral Tweets Prediction Challenge\n",
    "Develop a machine learning model to predict the virality level of each tweet based on attributes such as tweet content, media attached to the tweet, and date/time published.\n",
    "\n",
    "In this notebook:\n",
    "- Data processing: one-hot encoding + cyclical encoding for categorical features. Normalization.\n",
    "- LASSO regression for feature selection\n",
    "- Memory footprint reduction of data\n",
    "- Hyperparmeter tuning with RandomizedSearchCV\n",
    "- Building LightGBM classifier model for prediction\n",
    "- Feature importance visualization\n",
    "\n",
    "## Environment details \n",
    "**OS:** macOS Big Sur 11.4  \n",
    "**Memory:** 16 GB 2133 MHz LPDDR3  \n",
    "**Disk Space:** 1 TB Flask Stroage  \n",
    "**CPU/GPU:** Intel HD Graphics 530 1536 MB  \n",
    "\n",
    "### Which data files are being used?\n",
    "- train_tweets.csv\n",
    "- train_tweets_vectorized_media.csv\n",
    "- train_tweets_vectorized_text.csv\n",
    "- users.csv\n",
    "- user_vectorized_descriptions.csv\n",
    "- user_vectorized_profile_images.csv\n",
    "- test_tweets.csv\n",
    "- test_tweets_vectorized_media.csv\n",
    "- test_tweets_vectorized_text.csv\n",
    "\n",
    "### How are these files processed?\n",
    "- Filling missing topic_ids with ['0']\n",
    "- One hot encoding for categorical variables\n",
    "- Cyclical encoding for hour\n",
    "\n",
    "### What is the algorithm used and what are its main hyperparameters?\n",
    "Used Lightgbm Classifier:  \n",
    "``` LGBMClassifier(colsample_bytree=0.7076074093370144, min_child_samples=105,\n",
    "               min_child_weight=1e-05, num_leaves=26, reg_alpha=5, reg_lambda=5,\n",
    "               subsample=0.7468773130235173) ```"
   ]
  },
  {
   "cell_type": "markdown",
   "metadata": {},
   "source": [
    "# Import libraries"
   ]
  },
  {
   "cell_type": "code",
   "execution_count": 4,
   "metadata": {},
   "outputs": [],
   "source": [
    "#!pip install lightgbm"
   ]
  },
  {
   "cell_type": "code",
   "execution_count": 5,
   "metadata": {
    "tags": []
   },
   "outputs": [],
   "source": [
    "import pandas as pd\n",
    "import numpy as np\n",
    "import timeit\n",
    "import collections\n",
    "import warnings\n",
    "warnings.simplefilter(action='ignore', category=FutureWarning)\n",
    "\n",
    "# Visualization\n",
    "import seaborn as sns\n",
    "import matplotlib.pyplot as plt\n",
    "%matplotlib inline\n",
    "plt.style.use('ggplot')\n",
    "\n",
    "# Preprocessing + Feature Selection\n",
    "from sklearn import preprocessing\n",
    "from sklearn.feature_selection import SelectFromModel\n",
    "from sklearn.linear_model import LogisticRegression\n",
    "\n",
    "# Model Building\n",
    "from sklearn.model_selection import train_test_split\n",
    "import lightgbm as lgb\n",
    "\n",
    "# Hyperparameter tuning \n",
    "from sklearn.model_selection import RandomizedSearchCV\n",
    "from scipy.stats import randint as sp_randint\n",
    "from scipy.stats import uniform as sp_uniform\n",
    "\n",
    "# Metrics\n",
    "from sklearn.metrics import accuracy_score"
   ]
  },
  {
   "cell_type": "code",
   "execution_count": 6,
   "metadata": {
    "tags": [],
    "vscode": {
     "languageId": "markdown"
    }
   },
   "outputs": [],
   "source": [
    "# Function takes the minimum and the maximum of each column and changes the data type to what is optimal for the column.\n",
    "def reduce_mem_usage(df, verbose=True):\n",
    "    numerics = ['int8','int16', 'int32', 'int64', 'float16', 'float32', 'float64']\n",
    "    start_mem = df.memory_usage().sum() / 1024**2    \n",
    "    for col in df.columns:\n",
    "        col_type = df[col].dtypes\n",
    "        if col_type in numerics:\n",
    "            c_min = df[col].min()\n",
    "            c_max = df[col].max()\n",
    "            if str(col_type)[:3] == 'int':\n",
    "                if c_min > np.iinfo(np.int8).min and c_max < np.iinfo(np.int8).max:\n",
    "                    df[col] = df[col].astype(np.int8)\n",
    "                elif c_min > np.iinfo(np.int16).min and c_max < np.iinfo(np.int16).max:\n",
    "                    df[col] = df[col].astype(np.int16)\n",
    "                elif c_min > np.iinfo(np.int32).min and c_max < np.iinfo(np.int32).max:\n",
    "                    df[col] = df[col].astype(np.int32)\n",
    "                elif c_min > np.iinfo(np.int64).min and c_max < np.iinfo(np.int64).max:\n",
    "                    df[col] = df[col].astype(np.int64)  \n",
    "            else:\n",
    "                if c_min > np.finfo(np.float16).min and c_max < np.finfo(np.float16).max:\n",
    "                    df[col] = df[col].astype(np.float16)\n",
    "                elif c_min > np.finfo(np.float32).min and c_max < np.finfo(np.float32).max:\n",
    "                    df[col] = df[col].astype(np.float32)\n",
    "                else:\n",
    "                    df[col] = df[col].astype(np.float64)    \n",
    "    end_mem = df.memory_usage().sum() / 1024**2\n",
    "    if verbose: print('Mem. usage decreased to {:5.2f} Mb ({:.1f}% reduction)'.format(end_mem, 100 * (start_mem - end_mem) / start_mem))\n",
    "    return df"
   ]
  },
  {
   "cell_type": "markdown",
   "metadata": {},
   "source": [
    "# Data retrieval"
   ]
  },
  {
   "cell_type": "code",
   "execution_count": 8,
   "metadata": {
    "tags": []
   },
   "outputs": [],
   "source": [
    "# Kagge storage path\n",
    "path = \"data/\"\n",
    "\n",
    "# Training datasets\n",
    "train_tweets = pd.read_csv(path + 'Tweets/train_tweets.csv')\n",
    "train_tweets_vectorized_media = pd.read_csv(path + 'Tweets/train_tweets_vectorized_media.csv')\n",
    "train_tweets_vectorized_text = pd.read_csv(path + 'Tweets/train_tweets_vectorized_text.csv')\n",
    "\n",
    "# Test dataset\n",
    "test_tweets = pd.read_csv(path + 'Tweets/test_tweets.csv')\n",
    "test_tweets_vectorized_media = pd.read_csv(path + 'Tweets/test_tweets_vectorized_media.csv')\n",
    "test_tweets_vectorized_text = pd.read_csv(path + 'Tweets/test_tweets_vectorized_text.csv')\n",
    "\n",
    "# User dataset\n",
    "users = pd.read_csv(path + 'Users/users.csv')\n",
    "user_vectorized_descriptions = pd.read_csv(path + 'Users/user_vectorized_descriptions.csv')\n",
    "user_vectorized_profile_images = pd.read_csv(path + 'Users/user_vectorized_profile_images.csv')\n",
    "\n",
    "# Solutions format\n",
    "solutions_format = pd.read_csv(path + \"solution_format.csv\")"
   ]
  },
  {
   "cell_type": "markdown",
   "metadata": {},
   "source": [
    "# Dimensions of Data"
   ]
  },
  {
   "cell_type": "code",
   "execution_count": 9,
   "metadata": {
    "tags": []
   },
   "outputs": [
    {
     "name": "stdout",
     "output_type": "stream",
     "text": [
      "Dimensions:\n",
      "Train tweets: (29625, 14)\n",
      "Train tweets vectorized media: (21010, 2050)\n",
      "Train tweets vectorized text: (29625, 769)\n",
      "\n",
      "Test tweets: (12697, 13)\n",
      "Test tweets vectorized media: (8946, 2050)\n",
      "Test tweets vectorized text: (12697, 769)\n",
      "\n",
      "Users: (52, 11)\n",
      "User vectorized descriptions: (52, 769)\n",
      "User vectorized profile images: (52, 2049)\n"
     ]
    }
   ],
   "source": [
    "# print dimensions of data\n",
    "print('Dimensions:')\n",
    "print('Train tweets:', train_tweets.shape)\n",
    "print('Train tweets vectorized media:', train_tweets_vectorized_media.shape)\n",
    "print('Train tweets vectorized text:', train_tweets_vectorized_text.shape)\n",
    "print()\n",
    "\n",
    "print('Test tweets:', test_tweets.shape)\n",
    "print('Test tweets vectorized media:', test_tweets_vectorized_media.shape)\n",
    "print('Test tweets vectorized text:', test_tweets_vectorized_text.shape)\n",
    "print()\n",
    "\n",
    "print('Users:', users.shape)\n",
    "print('User vectorized descriptions:', user_vectorized_descriptions.shape)\n",
    "print('User vectorized profile images:', user_vectorized_profile_images.shape)"
   ]
  },
  {
   "cell_type": "markdown",
   "metadata": {},
   "source": [
    "The dimensions for ```Users``` are smaller than ```Tweets```, which indicate that the users in the dataset may have multiple tweets.    \n",
    "Vectorized text has the same number of rows as tweets, meaning that all tweets have text.  \n",
    "Vectorized media has fewer rows than tweets, indicating that not all tweets have media or that some tweets have multiple media.  \n",
    "All ```Users``` have descriptions and profile images."
   ]
  },
  {
   "cell_type": "markdown",
   "metadata": {},
   "source": [
    "# Exploratory Data Analysis\n",
    "## Train Tweets"
   ]
  },
  {
   "cell_type": "code",
   "execution_count": 10,
   "metadata": {
    "tags": []
   },
   "outputs": [
    {
     "data": {
      "text/html": [
       "<div>\n",
       "<style scoped>\n",
       "    .dataframe tbody tr th:only-of-type {\n",
       "        vertical-align: middle;\n",
       "    }\n",
       "\n",
       "    .dataframe tbody tr th {\n",
       "        vertical-align: top;\n",
       "    }\n",
       "\n",
       "    .dataframe thead th {\n",
       "        text-align: right;\n",
       "    }\n",
       "</style>\n",
       "<table border=\"1\" class=\"dataframe\">\n",
       "  <thead>\n",
       "    <tr style=\"text-align: right;\">\n",
       "      <th></th>\n",
       "      <th>tweet_id</th>\n",
       "      <th>tweet_user_id</th>\n",
       "      <th>tweet_created_at_year</th>\n",
       "      <th>tweet_created_at_month</th>\n",
       "      <th>tweet_created_at_day</th>\n",
       "      <th>tweet_created_at_hour</th>\n",
       "      <th>tweet_hashtag_count</th>\n",
       "      <th>tweet_url_count</th>\n",
       "      <th>tweet_mention_count</th>\n",
       "      <th>tweet_has_attachment</th>\n",
       "      <th>tweet_attachment_class</th>\n",
       "      <th>tweet_language_id</th>\n",
       "      <th>tweet_topic_ids</th>\n",
       "      <th>virality</th>\n",
       "    </tr>\n",
       "  </thead>\n",
       "  <tbody>\n",
       "    <tr>\n",
       "      <th>0</th>\n",
       "      <td>34698</td>\n",
       "      <td>10</td>\n",
       "      <td>2015</td>\n",
       "      <td>12</td>\n",
       "      <td>5</td>\n",
       "      <td>3</td>\n",
       "      <td>2.0</td>\n",
       "      <td>1.0</td>\n",
       "      <td>0.0</td>\n",
       "      <td>False</td>\n",
       "      <td>C</td>\n",
       "      <td>0</td>\n",
       "      <td>['36', '36', '36', '36', '36', '36', '37', '37...</td>\n",
       "      <td>3</td>\n",
       "    </tr>\n",
       "    <tr>\n",
       "      <th>1</th>\n",
       "      <td>24644</td>\n",
       "      <td>4</td>\n",
       "      <td>2020</td>\n",
       "      <td>6</td>\n",
       "      <td>19</td>\n",
       "      <td>0</td>\n",
       "      <td>0.0</td>\n",
       "      <td>1.0</td>\n",
       "      <td>0.0</td>\n",
       "      <td>False</td>\n",
       "      <td>C</td>\n",
       "      <td>0</td>\n",
       "      <td>['43', '78', '79', '80', '80', '89', '98', '99...</td>\n",
       "      <td>3</td>\n",
       "    </tr>\n",
       "    <tr>\n",
       "      <th>2</th>\n",
       "      <td>36321</td>\n",
       "      <td>54</td>\n",
       "      <td>2019</td>\n",
       "      <td>6</td>\n",
       "      <td>2</td>\n",
       "      <td>15</td>\n",
       "      <td>2.0</td>\n",
       "      <td>3.0</td>\n",
       "      <td>0.0</td>\n",
       "      <td>True</td>\n",
       "      <td>A</td>\n",
       "      <td>0</td>\n",
       "      <td>['79', '80', '98', '98', '98', '99', '99', '10...</td>\n",
       "      <td>1</td>\n",
       "    </tr>\n",
       "    <tr>\n",
       "      <th>3</th>\n",
       "      <td>2629</td>\n",
       "      <td>42</td>\n",
       "      <td>2020</td>\n",
       "      <td>9</td>\n",
       "      <td>6</td>\n",
       "      <td>17</td>\n",
       "      <td>0.0</td>\n",
       "      <td>1.0</td>\n",
       "      <td>1.0</td>\n",
       "      <td>True</td>\n",
       "      <td>A</td>\n",
       "      <td>0</td>\n",
       "      <td>['43', '79', '80', '98', '99', '99', '79', '80']</td>\n",
       "      <td>2</td>\n",
       "    </tr>\n",
       "    <tr>\n",
       "      <th>4</th>\n",
       "      <td>28169</td>\n",
       "      <td>32</td>\n",
       "      <td>2020</td>\n",
       "      <td>11</td>\n",
       "      <td>4</td>\n",
       "      <td>17</td>\n",
       "      <td>2.0</td>\n",
       "      <td>1.0</td>\n",
       "      <td>0.0</td>\n",
       "      <td>True</td>\n",
       "      <td>A</td>\n",
       "      <td>0</td>\n",
       "      <td>['79', '80', '98', '99', '43', '89']</td>\n",
       "      <td>2</td>\n",
       "    </tr>\n",
       "  </tbody>\n",
       "</table>\n",
       "</div>"
      ],
      "text/plain": [
       "   tweet_id  tweet_user_id  tweet_created_at_year  tweet_created_at_month  \\\n",
       "0     34698             10                   2015                      12   \n",
       "1     24644              4                   2020                       6   \n",
       "2     36321             54                   2019                       6   \n",
       "3      2629             42                   2020                       9   \n",
       "4     28169             32                   2020                      11   \n",
       "\n",
       "   tweet_created_at_day  tweet_created_at_hour  tweet_hashtag_count  \\\n",
       "0                     5                      3                  2.0   \n",
       "1                    19                      0                  0.0   \n",
       "2                     2                     15                  2.0   \n",
       "3                     6                     17                  0.0   \n",
       "4                     4                     17                  2.0   \n",
       "\n",
       "   tweet_url_count  tweet_mention_count  tweet_has_attachment  \\\n",
       "0              1.0                  0.0                 False   \n",
       "1              1.0                  0.0                 False   \n",
       "2              3.0                  0.0                  True   \n",
       "3              1.0                  1.0                  True   \n",
       "4              1.0                  0.0                  True   \n",
       "\n",
       "  tweet_attachment_class  tweet_language_id  \\\n",
       "0                      C                  0   \n",
       "1                      C                  0   \n",
       "2                      A                  0   \n",
       "3                      A                  0   \n",
       "4                      A                  0   \n",
       "\n",
       "                                     tweet_topic_ids  virality  \n",
       "0  ['36', '36', '36', '36', '36', '36', '37', '37...         3  \n",
       "1  ['43', '78', '79', '80', '80', '89', '98', '99...         3  \n",
       "2  ['79', '80', '98', '98', '98', '99', '99', '10...         1  \n",
       "3   ['43', '79', '80', '98', '99', '99', '79', '80']         2  \n",
       "4               ['79', '80', '98', '99', '43', '89']         2  "
      ]
     },
     "execution_count": 10,
     "metadata": {},
     "output_type": "execute_result"
    }
   ],
   "source": [
    "train_tweets.head()"
   ]
  },
  {
   "cell_type": "markdown",
   "metadata": {},
   "source": [
    "Primary Keys: ```tweet_id```, ```tweet_user_id```. There are 11 Features. Target variable: ```virality```. Tweet data are connected thorugh ```tweet_id```."
   ]
  },
  {
   "cell_type": "code",
   "execution_count": 11,
   "metadata": {
    "tags": []
   },
   "outputs": [
    {
     "name": "stdout",
     "output_type": "stream",
     "text": [
      "<class 'pandas.core.frame.DataFrame'>\n",
      "RangeIndex: 29625 entries, 0 to 29624\n",
      "Data columns (total 14 columns):\n",
      " #   Column                  Non-Null Count  Dtype  \n",
      "---  ------                  --------------  -----  \n",
      " 0   tweet_id                29625 non-null  int64  \n",
      " 1   tweet_user_id           29625 non-null  int64  \n",
      " 2   tweet_created_at_year   29625 non-null  int64  \n",
      " 3   tweet_created_at_month  29625 non-null  int64  \n",
      " 4   tweet_created_at_day    29625 non-null  int64  \n",
      " 5   tweet_created_at_hour   29625 non-null  int64  \n",
      " 6   tweet_hashtag_count     29625 non-null  float64\n",
      " 7   tweet_url_count         29625 non-null  float64\n",
      " 8   tweet_mention_count     29625 non-null  float64\n",
      " 9   tweet_has_attachment    29625 non-null  bool   \n",
      " 10  tweet_attachment_class  29625 non-null  object \n",
      " 11  tweet_language_id       29625 non-null  int64  \n",
      " 12  tweet_topic_ids         25340 non-null  object \n",
      " 13  virality                29625 non-null  int64  \n",
      "dtypes: bool(1), float64(3), int64(8), object(2)\n",
      "memory usage: 3.0+ MB\n"
     ]
    }
   ],
   "source": [
    "train_tweets.info()"
   ]
  },
  {
   "cell_type": "markdown",
   "metadata": {},
   "source": [
    "### Tweet Creation Date\n",
    "tweet_created_at_year  \n",
    "tweet_created_at_day  \n",
    "tweet_created_at_month  \n",
    "tweet_created_at_hour"
   ]
  },
  {
   "cell_type": "code",
   "execution_count": 12,
   "metadata": {
    "tags": []
   },
   "outputs": [
    {
     "data": {
      "image/png": "[encoded data removed]",
      "text/plain": [
       "<Figure size 864x576 with 4 Axes>"
      ]
     },
     "metadata": {},
     "output_type": "display_data"
    }
   ],
   "source": [
    "fig, axs = plt.subplots(2, 2, figsize=(12, 8))\n",
    "sns.histplot(train_tweets, x = 'tweet_created_at_year', discrete = True, ax = axs[0,0])\n",
    "sns.histplot(train_tweets, x = 'tweet_created_at_day', discrete = True, ax = axs[0,1])\n",
    "sns.histplot(train_tweets, x = 'tweet_created_at_month', discrete = True, ax = axs[1,0])\n",
    "sns.histplot(train_tweets, x = 'tweet_created_at_hour', discrete = True, ax = axs[1,1])\n",
    "plt.show()"
   ]
  },
  {
   "cell_type": "markdown",
   "metadata": {},
   "source": [
    "- The histplot for ```tweet_created_at_year``` shows a left skeweed distribution between 2013-2020 where each subsequent year has more tweets created. Note that this data was produced during 2021, so the count for ```tweet_created_at_year``` for 2021 does not account for the full year unlike others.\n",
    "- The histplot for ```tweet_created_at_month``` show that December is the month with the highest number of tweets created. The lowest being March.\n",
    "- The histplot for ```tweet_created_at_day``` generally has a uniform distribution. The highest being 27th, perhaps because February have 28 days. The 31st is an outlier because not all months have 31 days. \n",
    "- The histplot for ```tweet_created_at_hour``` show a cyclical distribution where most tweets are created during the afternoon/evening, the highest being 4pm. The least amount where created late at night/early in the morning."
   ]
  },
  {
   "cell_type": "markdown",
   "metadata": {},
   "source": [
    "### Tweet Message Content\n",
    "tweet_hashtag_count  \n",
    "tweet_url_count  \n",
    "tweet_mention_count"
   ]
  },
  {
   "cell_type": "code",
   "execution_count": 13,
   "metadata": {
    "tags": []
   },
   "outputs": [
    {
     "data": {
      "image/png": "[encoded data removed]",
      "text/plain": [
       "<Figure size 864x864 with 3 Axes>"
      ]
     },
     "metadata": {},
     "output_type": "display_data"
    }
   ],
   "source": [
    "fig, axs = plt.subplots(3, 1, figsize=(12, 12))\n",
    "sns.histplot(x = 'tweet_hashtag_count', data = train_tweets, discrete = True, ax = axs[0])\n",
    "sns.histplot(x = 'tweet_url_count', data = train_tweets, discrete = True, ax = axs[1])\n",
    "sns.histplot(x = 'tweet_mention_count', data = train_tweets, discrete = True, ax = axs[2])\n",
    "plt.show()"
   ]
  },
  {
   "cell_type": "markdown",
   "metadata": {},
   "source": [
    "- The histplot for ```tweet_hashtag_count``` is right skewed where most tweets have zero hashtags and less tweets have more hashtags.\n",
    "- The histplot for ```tweet_url_count``` shows that most tweets have one URL, and not many tweets have a high number of tweets.\n",
    "- The histplot for ```tweet_mention_count``` is right skewed where most tweets have zero mentions and less tweets have multiple hashtags."
   ]
  },
  {
   "cell_type": "markdown",
   "metadata": {},
   "source": [
    "### Tweet Attatchment\n",
    "tweet_has_attachment   \n",
    "tweet_attachment_class"
   ]
  },
  {
   "cell_type": "code",
   "execution_count": 14,
   "metadata": {
    "tags": []
   },
   "outputs": [
    {
     "data": {
      "image/png": "[encoded data removed]",
      "text/plain": [
       "<Figure size 720x720 with 2 Axes>"
      ]
     },
     "metadata": {},
     "output_type": "display_data"
    }
   ],
   "source": [
    "fig, axs = plt.subplots(2, 1, figsize=(10, 10))\n",
    "sns.countplot(x = 'tweet_has_attachment', data = train_tweets, ax = axs[0])\n",
    "sns.countplot(x = 'tweet_attachment_class', data = train_tweets, ax = axs[1])\n",
    "plt.show()"
   ]
  },
  {
   "cell_type": "markdown",
   "metadata": {},
   "source": [
    "- The countplot for ```tweet_has_attachment``` shows that more tweets have an attachment, such as media.\n",
    "- The countplot for ```tweet_attachment_class``` shows that most tweets have an attachment class A, and very few tweets have attachment class B."
   ]
  },
  {
   "cell_type": "markdown",
   "metadata": {},
   "source": [
    "### Tweet Language"
   ]
  },
  {
   "cell_type": "code",
   "execution_count": 15,
   "metadata": {
    "tags": []
   },
   "outputs": [
    {
     "data": {
      "image/png": "[encoded data removed]",
      "text/plain": [
       "<Figure size 576x216 with 1 Axes>"
      ]
     },
     "metadata": {},
     "output_type": "display_data"
    }
   ],
   "source": [
    "fig, axs = plt.subplots(1, 1, figsize=(8, 3))\n",
    "sns.countplot(x = 'tweet_language_id', data = train_tweets, ax = axs)\n",
    "plt.show()"
   ]
  },
  {
   "cell_type": "markdown",
   "metadata": {},
   "source": [
    "- The countplot for ```tweet_language_id``` shows a high amount of tweets in language_id 0, which is presumed to be english. Very few tweets in this datset are in other languages."
   ]
  },
  {
   "cell_type": "markdown",
   "metadata": {},
   "source": [
    "### Tweet Virality"
   ]
  },
  {
   "cell_type": "code",
   "execution_count": 16,
   "metadata": {
    "tags": []
   },
   "outputs": [
    {
     "data": {
      "image/png": "[encoded data removed]",
      "text/plain": [
       "<Figure size 432x288 with 1 Axes>"
      ]
     },
     "metadata": {},
     "output_type": "display_data"
    }
   ],
   "source": [
    "sns.countplot(x = 'virality', data = train_tweets)\n",
    "plt.show()"
   ]
  },
  {
   "cell_type": "markdown",
   "metadata": {},
   "source": [
    "- The countplot for ```virality``` shows the virality of tweets where 1 is low whereas 5 is high. Most tweets have a virality of 1.\n",
    "\n",
    "Since there are 5 values in ```virality```, this means that this is a multi-class classification problem."
   ]
  },
  {
   "cell_type": "markdown",
   "metadata": {},
   "source": [
    "### Correlation Matrix"
   ]
  },
  {
   "cell_type": "code",
   "execution_count": 17,
   "metadata": {
    "tags": []
   },
   "outputs": [
    {
     "data": {
      "image/png": "[encoded data removed]",
      "text/plain": [
       "<Figure size 432x288 with 2 Axes>"
      ]
     },
     "metadata": {},
     "output_type": "display_data"
    }
   ],
   "source": [
    "corrmat = train_tweets.corr()[2:] \n",
    "sns.heatmap(corrmat, square=True);"
   ]
  },
  {
   "cell_type": "markdown",
   "metadata": {},
   "source": [
    "The heatmap shows that some features have correlation with each other. ```tweet_url_count``` and ```tweet_has_attachment``` has the highest correlation with each other."
   ]
  },
  {
   "cell_type": "code",
   "execution_count": 18,
   "metadata": {
    "tags": []
   },
   "outputs": [
    {
     "data": {
      "text/plain": [
       "tweet_created_at_year    -0.096487\n",
       "tweet_hashtag_count      -0.083262\n",
       "tweet_mention_count      -0.081958\n",
       "tweet_created_at_month   -0.063757\n",
       "tweet_url_count          -0.047833\n",
       "tweet_language_id         0.030416\n",
       "tweet_created_at_hour    -0.028583\n",
       "tweet_created_at_day      0.017518\n",
       "tweet_has_attachment      0.005401\n",
       "Name: virality, dtype: float64"
      ]
     },
     "execution_count": 18,
     "metadata": {},
     "output_type": "execute_result"
    }
   ],
   "source": [
    "df_corr = train_tweets.corr()['virality'][2:-1]\n",
    "top_features = df_corr.sort_values(ascending=False, key=abs)\n",
    "top_features"
   ]
  },
  {
   "cell_type": "markdown",
   "metadata": {},
   "source": [
    "The correlation numbers show a low correlation between virality and features, meaning they cannot be used linearly to predict virality."
   ]
  },
  {
   "cell_type": "markdown",
   "metadata": {},
   "source": [
    "## Train Tweets Vecotrized Media"
   ]
  },
  {
   "cell_type": "code",
   "execution_count": 19,
   "metadata": {
    "tags": []
   },
   "outputs": [
    {
     "name": "stdout",
     "output_type": "stream",
     "text": [
      "<class 'pandas.core.frame.DataFrame'>\n",
      "RangeIndex: 21010 entries, 0 to 21009\n",
      "Columns: 2050 entries, media_id to img_feature_2047\n",
      "dtypes: float64(2048), int64(1), object(1)\n",
      "memory usage: 328.6+ MB\n"
     ]
    }
   ],
   "source": [
    "train_tweets_vectorized_media.info()"
   ]
  },
  {
   "cell_type": "markdown",
   "metadata": {},
   "source": [
    "Primary Keys: ```media_id```, ```tweet_id```. There are 2048 Features. Tweet data are connected thorugh ```tweet_id```."
   ]
  },
  {
   "cell_type": "markdown",
   "metadata": {},
   "source": [
    "## Train Tweets Vectorized Text"
   ]
  },
  {
   "cell_type": "code",
   "execution_count": 20,
   "metadata": {
    "tags": []
   },
   "outputs": [
    {
     "name": "stdout",
     "output_type": "stream",
     "text": [
      "<class 'pandas.core.frame.DataFrame'>\n",
      "RangeIndex: 29625 entries, 0 to 29624\n",
      "Columns: 769 entries, tweet_id to feature_767\n",
      "dtypes: float64(768), int64(1)\n",
      "memory usage: 173.8 MB\n"
     ]
    }
   ],
   "source": [
    "train_tweets_vectorized_text.info()"
   ]
  },
  {
   "cell_type": "markdown",
   "metadata": {},
   "source": [
    "Primary Keys: ```tweet_id```. There are 768 Features. Tweet data are connected thorugh ```tweet_id```.\n",
    "\n",
    "Each column in Vectorized Text/Media represents one coordinate in the numeric feature space"
   ]
  },
  {
   "cell_type": "markdown",
   "metadata": {},
   "source": [
    "## Users"
   ]
  },
  {
   "cell_type": "code",
   "execution_count": 21,
   "metadata": {
    "tags": []
   },
   "outputs": [
    {
     "name": "stdout",
     "output_type": "stream",
     "text": [
      "<class 'pandas.core.frame.DataFrame'>\n",
      "RangeIndex: 52 entries, 0 to 51\n",
      "Data columns (total 11 columns):\n",
      " #   Column                 Non-Null Count  Dtype\n",
      "---  ------                 --------------  -----\n",
      " 0   user_id                52 non-null     int64\n",
      " 1   user_like_count        52 non-null     int64\n",
      " 2   user_followers_count   52 non-null     int64\n",
      " 3   user_following_count   52 non-null     int64\n",
      " 4   user_listed_on_count   52 non-null     int64\n",
      " 5   user_has_location      52 non-null     bool \n",
      " 6   user_tweet_count       52 non-null     int64\n",
      " 7   user_has_url           52 non-null     bool \n",
      " 8   user_verified          52 non-null     int64\n",
      " 9   user_created_at_year   52 non-null     int64\n",
      " 10  user_created_at_month  52 non-null     int64\n",
      "dtypes: bool(2), int64(9)\n",
      "memory usage: 3.9 KB\n"
     ]
    }
   ],
   "source": [
    "users.info()"
   ]
  },
  {
   "cell_type": "markdown",
   "metadata": {},
   "source": [
    "Primary Keys: ```user_id```. There are 10 Features. User data are connected thorugh ```user_id```."
   ]
  },
  {
   "cell_type": "markdown",
   "metadata": {},
   "source": [
    "### User Count\n",
    "user_like_count  \n",
    "user_followers_count  \n",
    "user_following_count  \n",
    "user_listed_on_count  \n",
    "user_tweet_count"
   ]
  },
  {
   "cell_type": "code",
   "execution_count": 22,
   "metadata": {
    "tags": []
   },
   "outputs": [
    {
     "data": {
      "image/png": "[encoded data removed]",
      "text/plain": [
       "<Figure size 1296x576 with 6 Axes>"
      ]
     },
     "metadata": {},
     "output_type": "display_data"
    }
   ],
   "source": [
    "fig, axs = plt.subplots(2, 3, figsize=(18, 8))\n",
    "sns.histplot(users, x = 'user_like_count', ax = axs[0,0])\n",
    "sns.histplot(users, x = 'user_followers_count', ax = axs[0,1])\n",
    "sns.histplot(users, x = 'user_following_count', ax = axs[0,2])\n",
    "sns.histplot(users, x = 'user_listed_on_count', ax = axs[1,0])\n",
    "sns.histplot(users, x = 'user_tweet_count', ax = axs[1,1])\n",
    "axs[1][2].set_visible(False)\n",
    "plt.show()"
   ]
  },
  {
   "cell_type": "markdown",
   "metadata": {},
   "source": [
    "- The histplot for ```user_like_count``` is right skewed. A large propotion of users have between 0-2500 likes.\n",
    "- The histplot for ```user_follower_count``` is right skewed. A large propotion of users have between 0-10000 followers.\n",
    "- The histplot for ```user_following_count``` is right skewed. A large propotion of users follow between 0-1000 accounts.\n",
    "- The histplot for ```user_listed_on_count``` is right skewed. A large propotion of users are listed on between 0-5000 lists.\n",
    "- The histplot for ```user_tweet_count``` is right skewed. A large propotion of users have between 0-10000 tweeets."
   ]
  },
  {
   "cell_type": "markdown",
   "metadata": {},
   "source": [
    "### User Creation Date"
   ]
  },
  {
   "cell_type": "code",
   "execution_count": 23,
   "metadata": {
    "tags": []
   },
   "outputs": [
    {
     "data": {
      "image/png": "[encoded data removed]",
      "text/plain": [
       "<Figure size 864x576 with 2 Axes>"
      ]
     },
     "metadata": {},
     "output_type": "display_data"
    }
   ],
   "source": [
    "fig, axs = plt.subplots(2, 1, figsize=(12, 8))\n",
    "sns.histplot(users, x = 'user_created_at_year', discrete = True, ax = axs[0])\n",
    "sns.histplot(users, x = 'user_created_at_month', discrete = True, ax = axs[1])\n",
    "plt.show()"
   ]
  },
  {
   "cell_type": "markdown",
   "metadata": {},
   "source": [
    "- The histplot for ```user_created_at_year``` shows that most users were created in 2011.\n",
    "- The histplot for ```user_created_at_month``` shows that most users were created in August. 0 users were creaed in March, which may explain why March has the lowest tweets created."
   ]
  },
  {
   "cell_type": "markdown",
   "metadata": {},
   "source": [
    "### User Has\n",
    "user_has_location  \n",
    "user_has_url  \n",
    "user_verified"
   ]
  },
  {
   "cell_type": "code",
   "execution_count": 24,
   "metadata": {
    "tags": []
   },
   "outputs": [
    {
     "data": {
      "image/png": "[encoded data removed]",
      "text/plain": [
       "<Figure size 1152x432 with 3 Axes>"
      ]
     },
     "metadata": {},
     "output_type": "display_data"
    }
   ],
   "source": [
    "fig, axs = plt.subplots(1, 3, figsize=(16, 6))\n",
    "sns.countplot(x = 'user_has_location', data = users, ax = axs[0])\n",
    "sns.countplot(x = 'user_has_url', data = users, ax = axs[1])\n",
    "sns.countplot(x = 'user_verified', data = users, ax = axs[2])\n",
    "plt.show()"
   ]
  },
  {
   "cell_type": "markdown",
   "metadata": {},
   "source": [
    "For the binary data: most of the users have their location and url listed on their accounts. Most of them are not verified."
   ]
  },
  {
   "cell_type": "markdown",
   "metadata": {},
   "source": [
    "## User Vectorized Descriptions"
   ]
  },
  {
   "cell_type": "code",
   "execution_count": 25,
   "metadata": {
    "tags": []
   },
   "outputs": [
    {
     "name": "stdout",
     "output_type": "stream",
     "text": [
      "<class 'pandas.core.frame.DataFrame'>\n",
      "RangeIndex: 52 entries, 0 to 51\n",
      "Columns: 769 entries, user_id to feature_767\n",
      "dtypes: float64(768), int64(1)\n",
      "memory usage: 312.5 KB\n"
     ]
    }
   ],
   "source": [
    "user_vectorized_descriptions.info()"
   ]
  },
  {
   "cell_type": "markdown",
   "metadata": {},
   "source": [
    "Primary Keys: ```user_id```. There are 768 Features. User data are connected thorugh ```user_id```.\n",
    "\n",
    "Vectorized descriptions and vectorized text have the same number of features."
   ]
  },
  {
   "cell_type": "markdown",
   "metadata": {},
   "source": [
    "## User Vectorized Profile Images"
   ]
  },
  {
   "cell_type": "code",
   "execution_count": 26,
   "metadata": {
    "tags": []
   },
   "outputs": [
    {
     "name": "stdout",
     "output_type": "stream",
     "text": [
      "<class 'pandas.core.frame.DataFrame'>\n",
      "RangeIndex: 52 entries, 0 to 51\n",
      "Columns: 2049 entries, user_id to feature_2047\n",
      "dtypes: float64(2048), int64(1)\n",
      "memory usage: 832.5 KB\n"
     ]
    }
   ],
   "source": [
    "user_vectorized_profile_images.info()"
   ]
  },
  {
   "cell_type": "markdown",
   "metadata": {},
   "source": [
    "Primary Keys: ```user_id```. There are 2048 Features. User data are connected thorugh ```user_id```.\n",
    "\n",
    "Vectorized media and vectorized profile images have the same number of features."
   ]
  },
  {
   "cell_type": "markdown",
   "metadata": {},
   "source": [
    "# Data Preprocessing & Wrangling"
   ]
  },
  {
   "cell_type": "code",
   "execution_count": 27,
   "metadata": {
    "tags": []
   },
   "outputs": [
    {
     "data": {
      "text/plain": [
       "tweet_id                     0\n",
       "tweet_user_id                0\n",
       "tweet_created_at_year        0\n",
       "tweet_created_at_month       0\n",
       "tweet_created_at_day         0\n",
       "tweet_created_at_hour        0\n",
       "tweet_hashtag_count          0\n",
       "tweet_url_count              0\n",
       "tweet_mention_count          0\n",
       "tweet_has_attachment         0\n",
       "tweet_attachment_class       0\n",
       "tweet_language_id            0\n",
       "tweet_topic_ids           4285\n",
       "virality                     0\n",
       "dtype: int64"
      ]
     },
     "execution_count": 27,
     "metadata": {},
     "output_type": "execute_result"
    }
   ],
   "source": [
    "train_tweets.isnull().sum()"
   ]
  },
  {
   "cell_type": "markdown",
   "metadata": {},
   "source": [
    "Only ```tweet_topic_ids``` have null values. These will treated as another tweet_topic_id by filling them with another id such as ```[\"0\"]```. (The number does not matter as long as it is distinct from other values)."
   ]
  },
  {
   "cell_type": "code",
   "execution_count": 28,
   "metadata": {
    "tags": []
   },
   "outputs": [],
   "source": [
    "train_tweets.fillna({'tweet_topic_ids':\"['0']\"}, inplace=True)"
   ]
  },
  {
   "cell_type": "markdown",
   "metadata": {
    "execution": {
     "iopub.execute_input": "2021-06-24T20:38:21.728422Z",
     "iopub.status.busy": "2021-06-24T20:38:21.728025Z",
     "iopub.status.idle": "2021-06-24T20:38:22.517514Z",
     "shell.execute_reply": "2021-06-24T20:38:22.516478Z",
     "shell.execute_reply.started": "2021-06-24T20:38:21.728388Z"
    }
   },
   "source": [
    "The rest of the data files do not have non-null values."
   ]
  },
  {
   "cell_type": "markdown",
   "metadata": {},
   "source": [
    "## Categorical Variables\n",
    "### Train Tweets\n",
    "#### One-hot encoding"
   ]
  },
  {
   "cell_type": "code",
   "execution_count": 29,
   "metadata": {
    "tags": []
   },
   "outputs": [],
   "source": [
    "# Split topic ids\n",
    "topic_ids = (\n",
    "    train_tweets.tweet_topic_ids.str.strip('[]').str.split('\\s*,\\s*').explode().str.get_dummies().sum(level=0).add_prefix('topic_id_')\n",
    ") \n",
    "topic_ids.rename(columns = lambda x: x.replace(\"'\", \"\"), inplace=True)"
   ]
  },
  {
   "cell_type": "code",
   "execution_count": 30,
   "metadata": {
    "tags": []
   },
   "outputs": [],
   "source": [
    "year = pd.get_dummies(train_tweets.tweet_created_at_year, prefix='year')\n",
    "month = pd.get_dummies(train_tweets.tweet_created_at_month , prefix='month')\n",
    "day = pd.get_dummies(train_tweets.tweet_created_at_day, prefix='day')\n",
    "attachment = pd.get_dummies(train_tweets.tweet_attachment_class, prefix='attatchment')\n",
    "language = pd.get_dummies(train_tweets.tweet_language_id, prefix='language')"
   ]
  },
  {
   "cell_type": "markdown",
   "metadata": {},
   "source": [
    "#### Cyclical Encoding\n",
    "From histplot we saw that hours have a cyclical distribution so we will us cyclical encoding."
   ]
  },
  {
   "cell_type": "code",
   "execution_count": 31,
   "metadata": {
    "tags": []
   },
   "outputs": [],
   "source": [
    "hour_sin = np.sin(2 * np.pi * train_tweets['tweet_created_at_hour']/24.0)\n",
    "hour_sin.name = 'hour_sin'\n",
    "hour_cos = np.cos(2 * np.pi * train_tweets['tweet_created_at_hour']/24.0)\n",
    "hour_cos.name = 'hour_cos'"
   ]
  },
  {
   "cell_type": "code",
   "execution_count": 32,
   "metadata": {
    "tags": []
   },
   "outputs": [
    {
     "data": {
      "text/html": [
       "<div>\n",
       "<style scoped>\n",
       "    .dataframe tbody tr th:only-of-type {\n",
       "        vertical-align: middle;\n",
       "    }\n",
       "\n",
       "    .dataframe tbody tr th {\n",
       "        vertical-align: top;\n",
       "    }\n",
       "\n",
       "    .dataframe thead th {\n",
       "        text-align: right;\n",
       "    }\n",
       "</style>\n",
       "<table border=\"1\" class=\"dataframe\">\n",
       "  <thead>\n",
       "    <tr style=\"text-align: right;\">\n",
       "      <th></th>\n",
       "      <th>tweet_id</th>\n",
       "      <th>tweet_user_id</th>\n",
       "      <th>tweet_hashtag_count</th>\n",
       "      <th>tweet_url_count</th>\n",
       "      <th>tweet_mention_count</th>\n",
       "      <th>tweet_has_attachment</th>\n",
       "      <th>virality</th>\n",
       "      <th>topic_id_0</th>\n",
       "      <th>topic_id_100</th>\n",
       "      <th>topic_id_101</th>\n",
       "      <th>...</th>\n",
       "      <th>language_22</th>\n",
       "      <th>language_23</th>\n",
       "      <th>language_24</th>\n",
       "      <th>language_25</th>\n",
       "      <th>language_27</th>\n",
       "      <th>language_28</th>\n",
       "      <th>language_29</th>\n",
       "      <th>language_30</th>\n",
       "      <th>hour_sin</th>\n",
       "      <th>hour_cos</th>\n",
       "    </tr>\n",
       "  </thead>\n",
       "  <tbody>\n",
       "    <tr>\n",
       "      <th>0</th>\n",
       "      <td>34698</td>\n",
       "      <td>10</td>\n",
       "      <td>2.0</td>\n",
       "      <td>1.0</td>\n",
       "      <td>0.0</td>\n",
       "      <td>False</td>\n",
       "      <td>3</td>\n",
       "      <td>0</td>\n",
       "      <td>0</td>\n",
       "      <td>0</td>\n",
       "      <td>...</td>\n",
       "      <td>0</td>\n",
       "      <td>0</td>\n",
       "      <td>0</td>\n",
       "      <td>0</td>\n",
       "      <td>0</td>\n",
       "      <td>0</td>\n",
       "      <td>0</td>\n",
       "      <td>0</td>\n",
       "      <td>0.707107</td>\n",
       "      <td>0.707107</td>\n",
       "    </tr>\n",
       "    <tr>\n",
       "      <th>1</th>\n",
       "      <td>24644</td>\n",
       "      <td>4</td>\n",
       "      <td>0.0</td>\n",
       "      <td>1.0</td>\n",
       "      <td>0.0</td>\n",
       "      <td>False</td>\n",
       "      <td>3</td>\n",
       "      <td>0</td>\n",
       "      <td>1</td>\n",
       "      <td>0</td>\n",
       "      <td>...</td>\n",
       "      <td>0</td>\n",
       "      <td>0</td>\n",
       "      <td>0</td>\n",
       "      <td>0</td>\n",
       "      <td>0</td>\n",
       "      <td>0</td>\n",
       "      <td>0</td>\n",
       "      <td>0</td>\n",
       "      <td>0.000000</td>\n",
       "      <td>1.000000</td>\n",
       "    </tr>\n",
       "    <tr>\n",
       "      <th>2</th>\n",
       "      <td>36321</td>\n",
       "      <td>54</td>\n",
       "      <td>2.0</td>\n",
       "      <td>3.0</td>\n",
       "      <td>0.0</td>\n",
       "      <td>True</td>\n",
       "      <td>1</td>\n",
       "      <td>0</td>\n",
       "      <td>2</td>\n",
       "      <td>0</td>\n",
       "      <td>...</td>\n",
       "      <td>0</td>\n",
       "      <td>0</td>\n",
       "      <td>0</td>\n",
       "      <td>0</td>\n",
       "      <td>0</td>\n",
       "      <td>0</td>\n",
       "      <td>0</td>\n",
       "      <td>0</td>\n",
       "      <td>-0.707107</td>\n",
       "      <td>-0.707107</td>\n",
       "    </tr>\n",
       "    <tr>\n",
       "      <th>3</th>\n",
       "      <td>2629</td>\n",
       "      <td>42</td>\n",
       "      <td>0.0</td>\n",
       "      <td>1.0</td>\n",
       "      <td>1.0</td>\n",
       "      <td>True</td>\n",
       "      <td>2</td>\n",
       "      <td>0</td>\n",
       "      <td>0</td>\n",
       "      <td>0</td>\n",
       "      <td>...</td>\n",
       "      <td>0</td>\n",
       "      <td>0</td>\n",
       "      <td>0</td>\n",
       "      <td>0</td>\n",
       "      <td>0</td>\n",
       "      <td>0</td>\n",
       "      <td>0</td>\n",
       "      <td>0</td>\n",
       "      <td>-0.965926</td>\n",
       "      <td>-0.258819</td>\n",
       "    </tr>\n",
       "    <tr>\n",
       "      <th>4</th>\n",
       "      <td>28169</td>\n",
       "      <td>32</td>\n",
       "      <td>2.0</td>\n",
       "      <td>1.0</td>\n",
       "      <td>0.0</td>\n",
       "      <td>True</td>\n",
       "      <td>2</td>\n",
       "      <td>0</td>\n",
       "      <td>0</td>\n",
       "      <td>0</td>\n",
       "      <td>...</td>\n",
       "      <td>0</td>\n",
       "      <td>0</td>\n",
       "      <td>0</td>\n",
       "      <td>0</td>\n",
       "      <td>0</td>\n",
       "      <td>0</td>\n",
       "      <td>0</td>\n",
       "      <td>0</td>\n",
       "      <td>-0.965926</td>\n",
       "      <td>-0.258819</td>\n",
       "    </tr>\n",
       "  </tbody>\n",
       "</table>\n",
       "<p>5 rows × 151 columns</p>\n",
       "</div>"
      ],
      "text/plain": [
       "   tweet_id  tweet_user_id  tweet_hashtag_count  tweet_url_count  \\\n",
       "0     34698             10                  2.0              1.0   \n",
       "1     24644              4                  0.0              1.0   \n",
       "2     36321             54                  2.0              3.0   \n",
       "3      2629             42                  0.0              1.0   \n",
       "4     28169             32                  2.0              1.0   \n",
       "\n",
       "   tweet_mention_count  tweet_has_attachment  virality  topic_id_0  \\\n",
       "0                  0.0                 False         3           0   \n",
       "1                  0.0                 False         3           0   \n",
       "2                  0.0                  True         1           0   \n",
       "3                  1.0                  True         2           0   \n",
       "4                  0.0                  True         2           0   \n",
       "\n",
       "   topic_id_100  topic_id_101  ...  language_22  language_23  language_24  \\\n",
       "0             0             0  ...            0            0            0   \n",
       "1             1             0  ...            0            0            0   \n",
       "2             2             0  ...            0            0            0   \n",
       "3             0             0  ...            0            0            0   \n",
       "4             0             0  ...            0            0            0   \n",
       "\n",
       "   language_25  language_27  language_28  language_29  language_30  hour_sin  \\\n",
       "0            0            0            0            0            0  0.707107   \n",
       "1            0            0            0            0            0  0.000000   \n",
       "2            0            0            0            0            0 -0.707107   \n",
       "3            0            0            0            0            0 -0.965926   \n",
       "4            0            0            0            0            0 -0.965926   \n",
       "\n",
       "   hour_cos  \n",
       "0  0.707107  \n",
       "1  1.000000  \n",
       "2 -0.707107  \n",
       "3 -0.258819  \n",
       "4 -0.258819  \n",
       "\n",
       "[5 rows x 151 columns]"
      ]
     },
     "execution_count": 32,
     "metadata": {},
     "output_type": "execute_result"
    }
   ],
   "source": [
    "# Join encoded data to train data.\n",
    "columns_drop = [\n",
    "                \"tweet_topic_ids\",\n",
    "                \"tweet_created_at_year\",\n",
    "                \"tweet_created_at_month\",\n",
    "                \"tweet_created_at_day\",\n",
    "                \"tweet_attachment_class\",\n",
    "                \"tweet_language_id\",\n",
    "                \"tweet_created_at_hour\",\n",
    "               ]\n",
    "encoded = [topic_ids, year, month, day, attachment, language, hour_sin, hour_cos]\n",
    "\n",
    "train_tweets_final = train_tweets.drop(columns_drop, 1).join(encoded)\n",
    "train_tweets_final.head()"
   ]
  },
  {
   "cell_type": "markdown",
   "metadata": {},
   "source": [
    "### Users\n",
    "#### One-hot encoding"
   ]
  },
  {
   "cell_type": "code",
   "execution_count": 33,
   "metadata": {
    "tags": []
   },
   "outputs": [],
   "source": [
    "year = pd.get_dummies(users.user_created_at_year, prefix='year')\n",
    "month = pd.get_dummies(users.user_created_at_month , prefix='month')"
   ]
  },
  {
   "cell_type": "code",
   "execution_count": 34,
   "metadata": {
    "tags": []
   },
   "outputs": [
    {
     "data": {
      "text/html": [
       "<div>\n",
       "<style scoped>\n",
       "    .dataframe tbody tr th:only-of-type {\n",
       "        vertical-align: middle;\n",
       "    }\n",
       "\n",
       "    .dataframe tbody tr th {\n",
       "        vertical-align: top;\n",
       "    }\n",
       "\n",
       "    .dataframe thead th {\n",
       "        text-align: right;\n",
       "    }\n",
       "</style>\n",
       "<table border=\"1\" class=\"dataframe\">\n",
       "  <thead>\n",
       "    <tr style=\"text-align: right;\">\n",
       "      <th></th>\n",
       "      <th>user_id</th>\n",
       "      <th>user_like_count</th>\n",
       "      <th>user_followers_count</th>\n",
       "      <th>user_following_count</th>\n",
       "      <th>user_listed_on_count</th>\n",
       "      <th>user_has_location</th>\n",
       "      <th>user_tweet_count</th>\n",
       "      <th>user_has_url</th>\n",
       "      <th>user_verified</th>\n",
       "      <th>year_2008</th>\n",
       "      <th>...</th>\n",
       "      <th>month_2</th>\n",
       "      <th>month_4</th>\n",
       "      <th>month_5</th>\n",
       "      <th>month_6</th>\n",
       "      <th>month_7</th>\n",
       "      <th>month_8</th>\n",
       "      <th>month_9</th>\n",
       "      <th>month_10</th>\n",
       "      <th>month_11</th>\n",
       "      <th>month_12</th>\n",
       "    </tr>\n",
       "  </thead>\n",
       "  <tbody>\n",
       "    <tr>\n",
       "      <th>0</th>\n",
       "      <td>0</td>\n",
       "      <td>1164</td>\n",
       "      <td>48720</td>\n",
       "      <td>70469</td>\n",
       "      <td>5956</td>\n",
       "      <td>True</td>\n",
       "      <td>14122</td>\n",
       "      <td>True</td>\n",
       "      <td>0</td>\n",
       "      <td>0</td>\n",
       "      <td>...</td>\n",
       "      <td>0</td>\n",
       "      <td>0</td>\n",
       "      <td>0</td>\n",
       "      <td>0</td>\n",
       "      <td>0</td>\n",
       "      <td>1</td>\n",
       "      <td>0</td>\n",
       "      <td>0</td>\n",
       "      <td>0</td>\n",
       "      <td>0</td>\n",
       "    </tr>\n",
       "    <tr>\n",
       "      <th>1</th>\n",
       "      <td>1</td>\n",
       "      <td>3914</td>\n",
       "      <td>85361</td>\n",
       "      <td>2171</td>\n",
       "      <td>5943</td>\n",
       "      <td>False</td>\n",
       "      <td>6957</td>\n",
       "      <td>False</td>\n",
       "      <td>0</td>\n",
       "      <td>0</td>\n",
       "      <td>...</td>\n",
       "      <td>0</td>\n",
       "      <td>0</td>\n",
       "      <td>0</td>\n",
       "      <td>0</td>\n",
       "      <td>0</td>\n",
       "      <td>0</td>\n",
       "      <td>1</td>\n",
       "      <td>0</td>\n",
       "      <td>0</td>\n",
       "      <td>0</td>\n",
       "    </tr>\n",
       "    <tr>\n",
       "      <th>2</th>\n",
       "      <td>2</td>\n",
       "      <td>8292</td>\n",
       "      <td>200944</td>\n",
       "      <td>1416</td>\n",
       "      <td>8379</td>\n",
       "      <td>True</td>\n",
       "      <td>83485</td>\n",
       "      <td>True</td>\n",
       "      <td>0</td>\n",
       "      <td>0</td>\n",
       "      <td>...</td>\n",
       "      <td>0</td>\n",
       "      <td>0</td>\n",
       "      <td>0</td>\n",
       "      <td>1</td>\n",
       "      <td>0</td>\n",
       "      <td>0</td>\n",
       "      <td>0</td>\n",
       "      <td>0</td>\n",
       "      <td>0</td>\n",
       "      <td>0</td>\n",
       "    </tr>\n",
       "    <tr>\n",
       "      <th>3</th>\n",
       "      <td>3</td>\n",
       "      <td>1770</td>\n",
       "      <td>15385</td>\n",
       "      <td>4572</td>\n",
       "      <td>1866</td>\n",
       "      <td>True</td>\n",
       "      <td>12265</td>\n",
       "      <td>True</td>\n",
       "      <td>0</td>\n",
       "      <td>0</td>\n",
       "      <td>...</td>\n",
       "      <td>0</td>\n",
       "      <td>0</td>\n",
       "      <td>0</td>\n",
       "      <td>0</td>\n",
       "      <td>0</td>\n",
       "      <td>1</td>\n",
       "      <td>0</td>\n",
       "      <td>0</td>\n",
       "      <td>0</td>\n",
       "      <td>0</td>\n",
       "    </tr>\n",
       "    <tr>\n",
       "      <th>4</th>\n",
       "      <td>4</td>\n",
       "      <td>15311</td>\n",
       "      <td>459083</td>\n",
       "      <td>1021</td>\n",
       "      <td>7368</td>\n",
       "      <td>False</td>\n",
       "      <td>121193</td>\n",
       "      <td>False</td>\n",
       "      <td>0</td>\n",
       "      <td>0</td>\n",
       "      <td>...</td>\n",
       "      <td>0</td>\n",
       "      <td>0</td>\n",
       "      <td>0</td>\n",
       "      <td>1</td>\n",
       "      <td>0</td>\n",
       "      <td>0</td>\n",
       "      <td>0</td>\n",
       "      <td>0</td>\n",
       "      <td>0</td>\n",
       "      <td>0</td>\n",
       "    </tr>\n",
       "  </tbody>\n",
       "</table>\n",
       "<p>5 rows × 27 columns</p>\n",
       "</div>"
      ],
      "text/plain": [
       "   user_id  user_like_count  user_followers_count  user_following_count  \\\n",
       "0        0             1164                 48720                 70469   \n",
       "1        1             3914                 85361                  2171   \n",
       "2        2             8292                200944                  1416   \n",
       "3        3             1770                 15385                  4572   \n",
       "4        4            15311                459083                  1021   \n",
       "\n",
       "   user_listed_on_count  user_has_location  user_tweet_count  user_has_url  \\\n",
       "0                  5956               True             14122          True   \n",
       "1                  5943              False              6957         False   \n",
       "2                  8379               True             83485          True   \n",
       "3                  1866               True             12265          True   \n",
       "4                  7368              False            121193         False   \n",
       "\n",
       "   user_verified  year_2008  ...  month_2  month_4  month_5  month_6  month_7  \\\n",
       "0              0          0  ...        0        0        0        0        0   \n",
       "1              0          0  ...        0        0        0        0        0   \n",
       "2              0          0  ...        0        0        0        1        0   \n",
       "3              0          0  ...        0        0        0        0        0   \n",
       "4              0          0  ...        0        0        0        1        0   \n",
       "\n",
       "   month_8  month_9  month_10  month_11  month_12  \n",
       "0        1        0         0         0         0  \n",
       "1        0        1         0         0         0  \n",
       "2        0        0         0         0         0  \n",
       "3        1        0         0         0         0  \n",
       "4        0        0         0         0         0  \n",
       "\n",
       "[5 rows x 27 columns]"
      ]
     },
     "execution_count": 34,
     "metadata": {},
     "output_type": "execute_result"
    }
   ],
   "source": [
    "# Join encoded data to train data.\n",
    "columns_drop = [\n",
    "                \"user_created_at_year\",\n",
    "                \"user_created_at_month\",\n",
    "               ]\n",
    "dfs = [year, month]\n",
    "\n",
    "users_final = users.drop(columns_drop, 1).join(dfs)\n",
    "users_final.head()"
   ]
  },
  {
   "cell_type": "markdown",
   "metadata": {},
   "source": [
    "## Normalize Data\n",
    "Machine learning algorithms perform better or converage faster when the features are on a small scale. Let's normalize the counts.\n",
    "### Train Tweets"
   ]
  },
  {
   "cell_type": "code",
   "execution_count": 35,
   "metadata": {
    "tags": []
   },
   "outputs": [
    {
     "data": {
      "text/html": [
       "<div>\n",
       "<style scoped>\n",
       "    .dataframe tbody tr th:only-of-type {\n",
       "        vertical-align: middle;\n",
       "    }\n",
       "\n",
       "    .dataframe tbody tr th {\n",
       "        vertical-align: top;\n",
       "    }\n",
       "\n",
       "    .dataframe thead th {\n",
       "        text-align: right;\n",
       "    }\n",
       "</style>\n",
       "<table border=\"1\" class=\"dataframe\">\n",
       "  <thead>\n",
       "    <tr style=\"text-align: right;\">\n",
       "      <th></th>\n",
       "      <th>tweet_id</th>\n",
       "      <th>tweet_user_id</th>\n",
       "      <th>tweet_hashtag_count</th>\n",
       "      <th>tweet_url_count</th>\n",
       "      <th>tweet_mention_count</th>\n",
       "      <th>tweet_has_attachment</th>\n",
       "      <th>virality</th>\n",
       "      <th>topic_id_0</th>\n",
       "      <th>topic_id_100</th>\n",
       "      <th>topic_id_101</th>\n",
       "      <th>...</th>\n",
       "      <th>language_22</th>\n",
       "      <th>language_23</th>\n",
       "      <th>language_24</th>\n",
       "      <th>language_25</th>\n",
       "      <th>language_27</th>\n",
       "      <th>language_28</th>\n",
       "      <th>language_29</th>\n",
       "      <th>language_30</th>\n",
       "      <th>hour_sin</th>\n",
       "      <th>hour_cos</th>\n",
       "    </tr>\n",
       "  </thead>\n",
       "  <tbody>\n",
       "    <tr>\n",
       "      <th>0</th>\n",
       "      <td>34698</td>\n",
       "      <td>10</td>\n",
       "      <td>0.007533</td>\n",
       "      <td>0.003707</td>\n",
       "      <td>0.000000</td>\n",
       "      <td>False</td>\n",
       "      <td>3</td>\n",
       "      <td>0</td>\n",
       "      <td>0</td>\n",
       "      <td>0</td>\n",
       "      <td>...</td>\n",
       "      <td>0</td>\n",
       "      <td>0</td>\n",
       "      <td>0</td>\n",
       "      <td>0</td>\n",
       "      <td>0</td>\n",
       "      <td>0</td>\n",
       "      <td>0</td>\n",
       "      <td>0</td>\n",
       "      <td>0.707107</td>\n",
       "      <td>0.707107</td>\n",
       "    </tr>\n",
       "    <tr>\n",
       "      <th>1</th>\n",
       "      <td>24644</td>\n",
       "      <td>4</td>\n",
       "      <td>0.000000</td>\n",
       "      <td>0.003707</td>\n",
       "      <td>0.000000</td>\n",
       "      <td>False</td>\n",
       "      <td>3</td>\n",
       "      <td>0</td>\n",
       "      <td>1</td>\n",
       "      <td>0</td>\n",
       "      <td>...</td>\n",
       "      <td>0</td>\n",
       "      <td>0</td>\n",
       "      <td>0</td>\n",
       "      <td>0</td>\n",
       "      <td>0</td>\n",
       "      <td>0</td>\n",
       "      <td>0</td>\n",
       "      <td>0</td>\n",
       "      <td>0.000000</td>\n",
       "      <td>1.000000</td>\n",
       "    </tr>\n",
       "    <tr>\n",
       "      <th>2</th>\n",
       "      <td>36321</td>\n",
       "      <td>54</td>\n",
       "      <td>0.007533</td>\n",
       "      <td>0.011122</td>\n",
       "      <td>0.000000</td>\n",
       "      <td>True</td>\n",
       "      <td>1</td>\n",
       "      <td>0</td>\n",
       "      <td>2</td>\n",
       "      <td>0</td>\n",
       "      <td>...</td>\n",
       "      <td>0</td>\n",
       "      <td>0</td>\n",
       "      <td>0</td>\n",
       "      <td>0</td>\n",
       "      <td>0</td>\n",
       "      <td>0</td>\n",
       "      <td>0</td>\n",
       "      <td>0</td>\n",
       "      <td>-0.707107</td>\n",
       "      <td>-0.707107</td>\n",
       "    </tr>\n",
       "    <tr>\n",
       "      <th>3</th>\n",
       "      <td>2629</td>\n",
       "      <td>42</td>\n",
       "      <td>0.000000</td>\n",
       "      <td>0.003707</td>\n",
       "      <td>0.004852</td>\n",
       "      <td>True</td>\n",
       "      <td>2</td>\n",
       "      <td>0</td>\n",
       "      <td>0</td>\n",
       "      <td>0</td>\n",
       "      <td>...</td>\n",
       "      <td>0</td>\n",
       "      <td>0</td>\n",
       "      <td>0</td>\n",
       "      <td>0</td>\n",
       "      <td>0</td>\n",
       "      <td>0</td>\n",
       "      <td>0</td>\n",
       "      <td>0</td>\n",
       "      <td>-0.965926</td>\n",
       "      <td>-0.258819</td>\n",
       "    </tr>\n",
       "    <tr>\n",
       "      <th>4</th>\n",
       "      <td>28169</td>\n",
       "      <td>32</td>\n",
       "      <td>0.007533</td>\n",
       "      <td>0.003707</td>\n",
       "      <td>0.000000</td>\n",
       "      <td>True</td>\n",
       "      <td>2</td>\n",
       "      <td>0</td>\n",
       "      <td>0</td>\n",
       "      <td>0</td>\n",
       "      <td>...</td>\n",
       "      <td>0</td>\n",
       "      <td>0</td>\n",
       "      <td>0</td>\n",
       "      <td>0</td>\n",
       "      <td>0</td>\n",
       "      <td>0</td>\n",
       "      <td>0</td>\n",
       "      <td>0</td>\n",
       "      <td>-0.965926</td>\n",
       "      <td>-0.258819</td>\n",
       "    </tr>\n",
       "  </tbody>\n",
       "</table>\n",
       "<p>5 rows × 151 columns</p>\n",
       "</div>"
      ],
      "text/plain": [
       "   tweet_id  tweet_user_id  tweet_hashtag_count  tweet_url_count  \\\n",
       "0     34698             10             0.007533         0.003707   \n",
       "1     24644              4             0.000000         0.003707   \n",
       "2     36321             54             0.007533         0.011122   \n",
       "3      2629             42             0.000000         0.003707   \n",
       "4     28169             32             0.007533         0.003707   \n",
       "\n",
       "   tweet_mention_count  tweet_has_attachment  virality  topic_id_0  \\\n",
       "0             0.000000                 False         3           0   \n",
       "1             0.000000                 False         3           0   \n",
       "2             0.000000                  True         1           0   \n",
       "3             0.004852                  True         2           0   \n",
       "4             0.000000                  True         2           0   \n",
       "\n",
       "   topic_id_100  topic_id_101  ...  language_22  language_23  language_24  \\\n",
       "0             0             0  ...            0            0            0   \n",
       "1             1             0  ...            0            0            0   \n",
       "2             2             0  ...            0            0            0   \n",
       "3             0             0  ...            0            0            0   \n",
       "4             0             0  ...            0            0            0   \n",
       "\n",
       "   language_25  language_27  language_28  language_29  language_30  hour_sin  \\\n",
       "0            0            0            0            0            0  0.707107   \n",
       "1            0            0            0            0            0  0.000000   \n",
       "2            0            0            0            0            0 -0.707107   \n",
       "3            0            0            0            0            0 -0.965926   \n",
       "4            0            0            0            0            0 -0.965926   \n",
       "\n",
       "   hour_cos  \n",
       "0  0.707107  \n",
       "1  1.000000  \n",
       "2 -0.707107  \n",
       "3 -0.258819  \n",
       "4 -0.258819  \n",
       "\n",
       "[5 rows x 151 columns]"
      ]
     },
     "execution_count": 35,
     "metadata": {},
     "output_type": "execute_result"
    }
   ],
   "source": [
    "# Normalize using reprocessing.normalize\n",
    "scaled_tweet_hashtag_count = preprocessing.normalize([train_tweets_final[\"tweet_hashtag_count\"]])\n",
    "train_tweets_final[\"tweet_hashtag_count\"] = scaled_tweet_hashtag_count[0]\n",
    "\n",
    "scaled_tweet_url_count = preprocessing.normalize([train_tweets_final[\"tweet_url_count\"]])\n",
    "train_tweets_final[\"tweet_url_count\"] = scaled_tweet_url_count[0]\n",
    "\n",
    "scaled_tweet_mention_count = preprocessing.normalize([train_tweets_final[\"tweet_mention_count\"]])\n",
    "train_tweets_final[\"tweet_mention_count\"] = scaled_tweet_mention_count[0]\n",
    "train_tweets_final.head()"
   ]
  },
  {
   "cell_type": "markdown",
   "metadata": {},
   "source": [
    "### User"
   ]
  },
  {
   "cell_type": "code",
   "execution_count": 36,
   "metadata": {
    "tags": []
   },
   "outputs": [
    {
     "data": {
      "text/html": [
       "<div>\n",
       "<style scoped>\n",
       "    .dataframe tbody tr th:only-of-type {\n",
       "        vertical-align: middle;\n",
       "    }\n",
       "\n",
       "    .dataframe tbody tr th {\n",
       "        vertical-align: top;\n",
       "    }\n",
       "\n",
       "    .dataframe thead th {\n",
       "        text-align: right;\n",
       "    }\n",
       "</style>\n",
       "<table border=\"1\" class=\"dataframe\">\n",
       "  <thead>\n",
       "    <tr style=\"text-align: right;\">\n",
       "      <th></th>\n",
       "      <th>user_id</th>\n",
       "      <th>user_like_count</th>\n",
       "      <th>user_followers_count</th>\n",
       "      <th>user_following_count</th>\n",
       "      <th>user_listed_on_count</th>\n",
       "      <th>user_has_location</th>\n",
       "      <th>user_tweet_count</th>\n",
       "      <th>user_has_url</th>\n",
       "      <th>user_verified</th>\n",
       "      <th>year_2008</th>\n",
       "      <th>...</th>\n",
       "      <th>month_2</th>\n",
       "      <th>month_4</th>\n",
       "      <th>month_5</th>\n",
       "      <th>month_6</th>\n",
       "      <th>month_7</th>\n",
       "      <th>month_8</th>\n",
       "      <th>month_9</th>\n",
       "      <th>month_10</th>\n",
       "      <th>month_11</th>\n",
       "      <th>month_12</th>\n",
       "    </tr>\n",
       "  </thead>\n",
       "  <tbody>\n",
       "    <tr>\n",
       "      <th>0</th>\n",
       "      <td>0</td>\n",
       "      <td>0.021992</td>\n",
       "      <td>0.015328</td>\n",
       "      <td>0.060170</td>\n",
       "      <td>0.079637</td>\n",
       "      <td>True</td>\n",
       "      <td>0.022790</td>\n",
       "      <td>True</td>\n",
       "      <td>0</td>\n",
       "      <td>0</td>\n",
       "      <td>...</td>\n",
       "      <td>0</td>\n",
       "      <td>0</td>\n",
       "      <td>0</td>\n",
       "      <td>0</td>\n",
       "      <td>0</td>\n",
       "      <td>1</td>\n",
       "      <td>0</td>\n",
       "      <td>0</td>\n",
       "      <td>0</td>\n",
       "      <td>0</td>\n",
       "    </tr>\n",
       "    <tr>\n",
       "      <th>1</th>\n",
       "      <td>1</td>\n",
       "      <td>0.073949</td>\n",
       "      <td>0.026856</td>\n",
       "      <td>0.001854</td>\n",
       "      <td>0.079463</td>\n",
       "      <td>False</td>\n",
       "      <td>0.011227</td>\n",
       "      <td>False</td>\n",
       "      <td>0</td>\n",
       "      <td>0</td>\n",
       "      <td>...</td>\n",
       "      <td>0</td>\n",
       "      <td>0</td>\n",
       "      <td>0</td>\n",
       "      <td>0</td>\n",
       "      <td>0</td>\n",
       "      <td>0</td>\n",
       "      <td>1</td>\n",
       "      <td>0</td>\n",
       "      <td>0</td>\n",
       "      <td>0</td>\n",
       "    </tr>\n",
       "    <tr>\n",
       "      <th>2</th>\n",
       "      <td>2</td>\n",
       "      <td>0.156666</td>\n",
       "      <td>0.063220</td>\n",
       "      <td>0.001209</td>\n",
       "      <td>0.112034</td>\n",
       "      <td>True</td>\n",
       "      <td>0.134730</td>\n",
       "      <td>True</td>\n",
       "      <td>0</td>\n",
       "      <td>0</td>\n",
       "      <td>...</td>\n",
       "      <td>0</td>\n",
       "      <td>0</td>\n",
       "      <td>0</td>\n",
       "      <td>1</td>\n",
       "      <td>0</td>\n",
       "      <td>0</td>\n",
       "      <td>0</td>\n",
       "      <td>0</td>\n",
       "      <td>0</td>\n",
       "      <td>0</td>\n",
       "    </tr>\n",
       "    <tr>\n",
       "      <th>3</th>\n",
       "      <td>3</td>\n",
       "      <td>0.033442</td>\n",
       "      <td>0.004840</td>\n",
       "      <td>0.003904</td>\n",
       "      <td>0.024950</td>\n",
       "      <td>True</td>\n",
       "      <td>0.019793</td>\n",
       "      <td>True</td>\n",
       "      <td>0</td>\n",
       "      <td>0</td>\n",
       "      <td>...</td>\n",
       "      <td>0</td>\n",
       "      <td>0</td>\n",
       "      <td>0</td>\n",
       "      <td>0</td>\n",
       "      <td>0</td>\n",
       "      <td>1</td>\n",
       "      <td>0</td>\n",
       "      <td>0</td>\n",
       "      <td>0</td>\n",
       "      <td>0</td>\n",
       "    </tr>\n",
       "    <tr>\n",
       "      <th>4</th>\n",
       "      <td>4</td>\n",
       "      <td>0.289280</td>\n",
       "      <td>0.144435</td>\n",
       "      <td>0.000872</td>\n",
       "      <td>0.098516</td>\n",
       "      <td>False</td>\n",
       "      <td>0.195583</td>\n",
       "      <td>False</td>\n",
       "      <td>0</td>\n",
       "      <td>0</td>\n",
       "      <td>...</td>\n",
       "      <td>0</td>\n",
       "      <td>0</td>\n",
       "      <td>0</td>\n",
       "      <td>1</td>\n",
       "      <td>0</td>\n",
       "      <td>0</td>\n",
       "      <td>0</td>\n",
       "      <td>0</td>\n",
       "      <td>0</td>\n",
       "      <td>0</td>\n",
       "    </tr>\n",
       "  </tbody>\n",
       "</table>\n",
       "<p>5 rows × 27 columns</p>\n",
       "</div>"
      ],
      "text/plain": [
       "   user_id  user_like_count  user_followers_count  user_following_count  \\\n",
       "0        0         0.021992              0.015328              0.060170   \n",
       "1        1         0.073949              0.026856              0.001854   \n",
       "2        2         0.156666              0.063220              0.001209   \n",
       "3        3         0.033442              0.004840              0.003904   \n",
       "4        4         0.289280              0.144435              0.000872   \n",
       "\n",
       "   user_listed_on_count  user_has_location  user_tweet_count  user_has_url  \\\n",
       "0              0.079637               True          0.022790          True   \n",
       "1              0.079463              False          0.011227         False   \n",
       "2              0.112034               True          0.134730          True   \n",
       "3              0.024950               True          0.019793          True   \n",
       "4              0.098516              False          0.195583         False   \n",
       "\n",
       "   user_verified  year_2008  ...  month_2  month_4  month_5  month_6  month_7  \\\n",
       "0              0          0  ...        0        0        0        0        0   \n",
       "1              0          0  ...        0        0        0        0        0   \n",
       "2              0          0  ...        0        0        0        1        0   \n",
       "3              0          0  ...        0        0        0        0        0   \n",
       "4              0          0  ...        0        0        0        1        0   \n",
       "\n",
       "   month_8  month_9  month_10  month_11  month_12  \n",
       "0        1        0         0         0         0  \n",
       "1        0        1         0         0         0  \n",
       "2        0        0         0         0         0  \n",
       "3        1        0         0         0         0  \n",
       "4        0        0         0         0         0  \n",
       "\n",
       "[5 rows x 27 columns]"
      ]
     },
     "execution_count": 36,
     "metadata": {},
     "output_type": "execute_result"
    }
   ],
   "source": [
    "users_final[\"user_like_count\"] = preprocessing.normalize([users_final[\"user_like_count\"]])[0]\n",
    "users_final[\"user_followers_count\"] = preprocessing.normalize([users_final[\"user_followers_count\"]])[0]\n",
    "users_final[\"user_following_count\"] = preprocessing.normalize([users_final[\"user_following_count\"]])[0]\n",
    "users_final[\"user_listed_on_count\"] = preprocessing.normalize([users_final[\"user_listed_on_count\"]])[0]\n",
    "users_final[\"user_tweet_count\"] = preprocessing.normalize([users_final[\"user_tweet_count\"]])[0]\n",
    "users_final.head()"
   ]
  },
  {
   "cell_type": "markdown",
   "metadata": {},
   "source": [
    "# Feature Selection\n",
    "Fit a LASSO regression on our dataset and only consider features that have a conefficient different from 0. This reduce the number of features and helps the model generalize better for future datasets.\n",
    "## Train Tweets Media"
   ]
  },
  {
   "cell_type": "code",
   "execution_count": 37,
   "metadata": {
    "tags": []
   },
   "outputs": [
    {
     "name": "stdout",
     "output_type": "stream",
     "text": [
      "train_tweets shape: (29625, 14)\n",
      "train_tweets_vectorized_media shape: (21010, 2050)\n"
     ]
    },
    {
     "data": {
      "text/html": [
       "<div>\n",
       "<style scoped>\n",
       "    .dataframe tbody tr th:only-of-type {\n",
       "        vertical-align: middle;\n",
       "    }\n",
       "\n",
       "    .dataframe tbody tr th {\n",
       "        vertical-align: top;\n",
       "    }\n",
       "\n",
       "    .dataframe thead th {\n",
       "        text-align: right;\n",
       "    }\n",
       "</style>\n",
       "<table border=\"1\" class=\"dataframe\">\n",
       "  <thead>\n",
       "    <tr style=\"text-align: right;\">\n",
       "      <th></th>\n",
       "      <th>virality</th>\n",
       "      <th>media_id</th>\n",
       "      <th>img_feature_0</th>\n",
       "      <th>img_feature_1</th>\n",
       "      <th>img_feature_2</th>\n",
       "      <th>img_feature_3</th>\n",
       "      <th>img_feature_4</th>\n",
       "      <th>img_feature_5</th>\n",
       "      <th>img_feature_6</th>\n",
       "      <th>img_feature_7</th>\n",
       "      <th>...</th>\n",
       "      <th>img_feature_2038</th>\n",
       "      <th>img_feature_2039</th>\n",
       "      <th>img_feature_2040</th>\n",
       "      <th>img_feature_2041</th>\n",
       "      <th>img_feature_2042</th>\n",
       "      <th>img_feature_2043</th>\n",
       "      <th>img_feature_2044</th>\n",
       "      <th>img_feature_2045</th>\n",
       "      <th>img_feature_2046</th>\n",
       "      <th>img_feature_2047</th>\n",
       "    </tr>\n",
       "  </thead>\n",
       "  <tbody>\n",
       "    <tr>\n",
       "      <th>0</th>\n",
       "      <td>1</td>\n",
       "      <td>00001_00000</td>\n",
       "      <td>0.290614</td>\n",
       "      <td>0.150803</td>\n",
       "      <td>0.008313</td>\n",
       "      <td>0.040887</td>\n",
       "      <td>0.0</td>\n",
       "      <td>0.000000</td>\n",
       "      <td>0.214209</td>\n",
       "      <td>0.000792</td>\n",
       "      <td>...</td>\n",
       "      <td>0.000000</td>\n",
       "      <td>0.249240</td>\n",
       "      <td>0.040368</td>\n",
       "      <td>0.101314</td>\n",
       "      <td>0.000000</td>\n",
       "      <td>0.069272</td>\n",
       "      <td>0.167507</td>\n",
       "      <td>0.044617</td>\n",
       "      <td>0.383093</td>\n",
       "      <td>0.097627</td>\n",
       "    </tr>\n",
       "    <tr>\n",
       "      <th>1</th>\n",
       "      <td>2</td>\n",
       "      <td>00004_00003</td>\n",
       "      <td>0.038251</td>\n",
       "      <td>0.036437</td>\n",
       "      <td>0.000000</td>\n",
       "      <td>0.015076</td>\n",
       "      <td>0.0</td>\n",
       "      <td>0.046953</td>\n",
       "      <td>0.648170</td>\n",
       "      <td>0.026476</td>\n",
       "      <td>...</td>\n",
       "      <td>0.024564</td>\n",
       "      <td>0.035555</td>\n",
       "      <td>0.369353</td>\n",
       "      <td>0.000000</td>\n",
       "      <td>0.133307</td>\n",
       "      <td>0.000000</td>\n",
       "      <td>0.000000</td>\n",
       "      <td>0.017894</td>\n",
       "      <td>0.816972</td>\n",
       "      <td>0.058774</td>\n",
       "    </tr>\n",
       "    <tr>\n",
       "      <th>2</th>\n",
       "      <td>1</td>\n",
       "      <td>00005_00004</td>\n",
       "      <td>0.506981</td>\n",
       "      <td>0.305467</td>\n",
       "      <td>0.036150</td>\n",
       "      <td>0.114539</td>\n",
       "      <td>0.0</td>\n",
       "      <td>0.146888</td>\n",
       "      <td>0.584753</td>\n",
       "      <td>0.157468</td>\n",
       "      <td>...</td>\n",
       "      <td>0.000000</td>\n",
       "      <td>0.131493</td>\n",
       "      <td>0.268107</td>\n",
       "      <td>0.000000</td>\n",
       "      <td>0.036761</td>\n",
       "      <td>0.008600</td>\n",
       "      <td>0.018883</td>\n",
       "      <td>0.024825</td>\n",
       "      <td>0.123289</td>\n",
       "      <td>0.000000</td>\n",
       "    </tr>\n",
       "    <tr>\n",
       "      <th>3</th>\n",
       "      <td>1</td>\n",
       "      <td>00008_00007</td>\n",
       "      <td>0.000000</td>\n",
       "      <td>0.242857</td>\n",
       "      <td>0.000000</td>\n",
       "      <td>0.068217</td>\n",
       "      <td>0.0</td>\n",
       "      <td>0.117847</td>\n",
       "      <td>0.000000</td>\n",
       "      <td>0.000000</td>\n",
       "      <td>...</td>\n",
       "      <td>0.095629</td>\n",
       "      <td>0.221957</td>\n",
       "      <td>0.133745</td>\n",
       "      <td>0.023491</td>\n",
       "      <td>0.000000</td>\n",
       "      <td>0.000000</td>\n",
       "      <td>0.000000</td>\n",
       "      <td>0.065544</td>\n",
       "      <td>1.030737</td>\n",
       "      <td>0.010370</td>\n",
       "    </tr>\n",
       "    <tr>\n",
       "      <th>4</th>\n",
       "      <td>1</td>\n",
       "      <td>00009_00008</td>\n",
       "      <td>0.000000</td>\n",
       "      <td>0.141986</td>\n",
       "      <td>0.000000</td>\n",
       "      <td>0.000983</td>\n",
       "      <td>0.0</td>\n",
       "      <td>0.013148</td>\n",
       "      <td>0.066999</td>\n",
       "      <td>0.008579</td>\n",
       "      <td>...</td>\n",
       "      <td>0.000000</td>\n",
       "      <td>0.480097</td>\n",
       "      <td>0.361314</td>\n",
       "      <td>0.026121</td>\n",
       "      <td>0.000000</td>\n",
       "      <td>0.000000</td>\n",
       "      <td>0.000000</td>\n",
       "      <td>0.001085</td>\n",
       "      <td>0.653569</td>\n",
       "      <td>0.007591</td>\n",
       "    </tr>\n",
       "  </tbody>\n",
       "</table>\n",
       "<p>5 rows × 2050 columns</p>\n",
       "</div>"
      ],
      "text/plain": [
       "   virality     media_id  img_feature_0  img_feature_1  img_feature_2  \\\n",
       "0         1  00001_00000       0.290614       0.150803       0.008313   \n",
       "1         2  00004_00003       0.038251       0.036437       0.000000   \n",
       "2         1  00005_00004       0.506981       0.305467       0.036150   \n",
       "3         1  00008_00007       0.000000       0.242857       0.000000   \n",
       "4         1  00009_00008       0.000000       0.141986       0.000000   \n",
       "\n",
       "   img_feature_3  img_feature_4  img_feature_5  img_feature_6  img_feature_7  \\\n",
       "0       0.040887            0.0       0.000000       0.214209       0.000792   \n",
       "1       0.015076            0.0       0.046953       0.648170       0.026476   \n",
       "2       0.114539            0.0       0.146888       0.584753       0.157468   \n",
       "3       0.068217            0.0       0.117847       0.000000       0.000000   \n",
       "4       0.000983            0.0       0.013148       0.066999       0.008579   \n",
       "\n",
       "   ...  img_feature_2038  img_feature_2039  img_feature_2040  \\\n",
       "0  ...          0.000000          0.249240          0.040368   \n",
       "1  ...          0.024564          0.035555          0.369353   \n",
       "2  ...          0.000000          0.131493          0.268107   \n",
       "3  ...          0.095629          0.221957          0.133745   \n",
       "4  ...          0.000000          0.480097          0.361314   \n",
       "\n",
       "   img_feature_2041  img_feature_2042  img_feature_2043  img_feature_2044  \\\n",
       "0          0.101314          0.000000          0.069272          0.167507   \n",
       "1          0.000000          0.133307          0.000000          0.000000   \n",
       "2          0.000000          0.036761          0.008600          0.018883   \n",
       "3          0.023491          0.000000          0.000000          0.000000   \n",
       "4          0.026121          0.000000          0.000000          0.000000   \n",
       "\n",
       "   img_feature_2045  img_feature_2046  img_feature_2047  \n",
       "0          0.044617          0.383093          0.097627  \n",
       "1          0.017894          0.816972          0.058774  \n",
       "2          0.024825          0.123289          0.000000  \n",
       "3          0.065544          1.030737          0.010370  \n",
       "4          0.001085          0.653569          0.007591  \n",
       "\n",
       "[5 rows x 2050 columns]"
      ]
     },
     "execution_count": 37,
     "metadata": {},
     "output_type": "execute_result"
    }
   ],
   "source": [
    "print(\"train_tweets shape:\", train_tweets.shape)\n",
    "print(\"train_tweets_vectorized_media shape:\", train_tweets_vectorized_media.shape)\n",
    "\n",
    "# Match row number between train tweets and vectorized media\n",
    "vectorized_media_df = pd.merge(train_tweets, train_tweets_vectorized_media, on='tweet_id', how='right')\n",
    "# Drop extra columns\n",
    "vectorized_media_df.drop(train_tweets.columns.difference(['virality']), axis=1, inplace=True)\n",
    "vectorized_media_df.head()"
   ]
  },
  {
   "cell_type": "code",
   "execution_count": 38,
   "metadata": {
    "tags": []
   },
   "outputs": [
    {
     "name": "stdout",
     "output_type": "stream",
     "text": [
      "Time:  128.135930375\n"
     ]
    },
    {
     "data": {
      "text/plain": [
       "Counter({True: 2046, False: 2})"
      ]
     },
     "execution_count": 38,
     "metadata": {},
     "output_type": "execute_result"
    }
   ],
   "source": [
    "# Set the target as well as dependent variables from image data.\n",
    "y = vectorized_media_df['virality']\n",
    "x = vectorized_media_df.loc[:, vectorized_media_df.columns.str.contains(\"img_\")] \n",
    "\n",
    "# Run Lasso regression for feature selection.\n",
    "sel_model = SelectFromModel(LogisticRegression(C=1, penalty='l1', solver='liblinear'))\n",
    "\n",
    "# time the model fitting\n",
    "start = timeit.default_timer()\n",
    "\n",
    "# Fit the trained model on our data\n",
    "sel_model.fit(x, y)\n",
    "\n",
    "stop = timeit.default_timer()\n",
    "print('Time: ', stop - start) \n",
    "\n",
    "# get index of good features\n",
    "sel_index = sel_model.get_support()\n",
    "\n",
    "# count the no of columns selected\n",
    "counter = collections.Counter(sel_model.get_support())\n",
    "counter"
   ]
  },
  {
   "cell_type": "code",
   "execution_count": 39,
   "metadata": {
    "tags": []
   },
   "outputs": [
    {
     "data": {
      "text/html": [
       "<div>\n",
       "<style scoped>\n",
       "    .dataframe tbody tr th:only-of-type {\n",
       "        vertical-align: middle;\n",
       "    }\n",
       "\n",
       "    .dataframe tbody tr th {\n",
       "        vertical-align: top;\n",
       "    }\n",
       "\n",
       "    .dataframe thead th {\n",
       "        text-align: right;\n",
       "    }\n",
       "</style>\n",
       "<table border=\"1\" class=\"dataframe\">\n",
       "  <thead>\n",
       "    <tr style=\"text-align: right;\">\n",
       "      <th></th>\n",
       "      <th>media_id</th>\n",
       "      <th>tweet_id</th>\n",
       "      <th>img_feature_0</th>\n",
       "      <th>img_feature_1</th>\n",
       "      <th>img_feature_2</th>\n",
       "      <th>img_feature_3</th>\n",
       "      <th>img_feature_4</th>\n",
       "      <th>img_feature_5</th>\n",
       "      <th>img_feature_6</th>\n",
       "      <th>img_feature_7</th>\n",
       "      <th>...</th>\n",
       "      <th>img_feature_2038</th>\n",
       "      <th>img_feature_2039</th>\n",
       "      <th>img_feature_2040</th>\n",
       "      <th>img_feature_2041</th>\n",
       "      <th>img_feature_2042</th>\n",
       "      <th>img_feature_2043</th>\n",
       "      <th>img_feature_2044</th>\n",
       "      <th>img_feature_2045</th>\n",
       "      <th>img_feature_2046</th>\n",
       "      <th>img_feature_2047</th>\n",
       "    </tr>\n",
       "  </thead>\n",
       "  <tbody>\n",
       "    <tr>\n",
       "      <th>0</th>\n",
       "      <td>00001_00000</td>\n",
       "      <td>1</td>\n",
       "      <td>0.290614</td>\n",
       "      <td>0.150803</td>\n",
       "      <td>0.008313</td>\n",
       "      <td>0.040887</td>\n",
       "      <td>0.0</td>\n",
       "      <td>0.000000</td>\n",
       "      <td>0.214209</td>\n",
       "      <td>0.000792</td>\n",
       "      <td>...</td>\n",
       "      <td>0.000000</td>\n",
       "      <td>0.249240</td>\n",
       "      <td>0.040368</td>\n",
       "      <td>0.101314</td>\n",
       "      <td>0.000000</td>\n",
       "      <td>0.069272</td>\n",
       "      <td>0.167507</td>\n",
       "      <td>0.044617</td>\n",
       "      <td>0.383093</td>\n",
       "      <td>0.097627</td>\n",
       "    </tr>\n",
       "    <tr>\n",
       "      <th>1</th>\n",
       "      <td>00004_00003</td>\n",
       "      <td>4</td>\n",
       "      <td>0.038251</td>\n",
       "      <td>0.036437</td>\n",
       "      <td>0.000000</td>\n",
       "      <td>0.015076</td>\n",
       "      <td>0.0</td>\n",
       "      <td>0.046953</td>\n",
       "      <td>0.648170</td>\n",
       "      <td>0.026476</td>\n",
       "      <td>...</td>\n",
       "      <td>0.024564</td>\n",
       "      <td>0.035555</td>\n",
       "      <td>0.369353</td>\n",
       "      <td>0.000000</td>\n",
       "      <td>0.133307</td>\n",
       "      <td>0.000000</td>\n",
       "      <td>0.000000</td>\n",
       "      <td>0.017894</td>\n",
       "      <td>0.816972</td>\n",
       "      <td>0.058774</td>\n",
       "    </tr>\n",
       "    <tr>\n",
       "      <th>2</th>\n",
       "      <td>00005_00004</td>\n",
       "      <td>5</td>\n",
       "      <td>0.506981</td>\n",
       "      <td>0.305467</td>\n",
       "      <td>0.036150</td>\n",
       "      <td>0.114539</td>\n",
       "      <td>0.0</td>\n",
       "      <td>0.146888</td>\n",
       "      <td>0.584753</td>\n",
       "      <td>0.157468</td>\n",
       "      <td>...</td>\n",
       "      <td>0.000000</td>\n",
       "      <td>0.131493</td>\n",
       "      <td>0.268107</td>\n",
       "      <td>0.000000</td>\n",
       "      <td>0.036761</td>\n",
       "      <td>0.008600</td>\n",
       "      <td>0.018883</td>\n",
       "      <td>0.024825</td>\n",
       "      <td>0.123289</td>\n",
       "      <td>0.000000</td>\n",
       "    </tr>\n",
       "    <tr>\n",
       "      <th>3</th>\n",
       "      <td>00008_00007</td>\n",
       "      <td>8</td>\n",
       "      <td>0.000000</td>\n",
       "      <td>0.242857</td>\n",
       "      <td>0.000000</td>\n",
       "      <td>0.068217</td>\n",
       "      <td>0.0</td>\n",
       "      <td>0.117847</td>\n",
       "      <td>0.000000</td>\n",
       "      <td>0.000000</td>\n",
       "      <td>...</td>\n",
       "      <td>0.095629</td>\n",
       "      <td>0.221957</td>\n",
       "      <td>0.133745</td>\n",
       "      <td>0.023491</td>\n",
       "      <td>0.000000</td>\n",
       "      <td>0.000000</td>\n",
       "      <td>0.000000</td>\n",
       "      <td>0.065544</td>\n",
       "      <td>1.030737</td>\n",
       "      <td>0.010370</td>\n",
       "    </tr>\n",
       "    <tr>\n",
       "      <th>4</th>\n",
       "      <td>00009_00008</td>\n",
       "      <td>9</td>\n",
       "      <td>0.000000</td>\n",
       "      <td>0.141986</td>\n",
       "      <td>0.000000</td>\n",
       "      <td>0.000983</td>\n",
       "      <td>0.0</td>\n",
       "      <td>0.013148</td>\n",
       "      <td>0.066999</td>\n",
       "      <td>0.008579</td>\n",
       "      <td>...</td>\n",
       "      <td>0.000000</td>\n",
       "      <td>0.480097</td>\n",
       "      <td>0.361314</td>\n",
       "      <td>0.026121</td>\n",
       "      <td>0.000000</td>\n",
       "      <td>0.000000</td>\n",
       "      <td>0.000000</td>\n",
       "      <td>0.001085</td>\n",
       "      <td>0.653569</td>\n",
       "      <td>0.007591</td>\n",
       "    </tr>\n",
       "  </tbody>\n",
       "</table>\n",
       "<p>5 rows × 2048 columns</p>\n",
       "</div>"
      ],
      "text/plain": [
       "      media_id  tweet_id  img_feature_0  img_feature_1  img_feature_2  \\\n",
       "0  00001_00000         1       0.290614       0.150803       0.008313   \n",
       "1  00004_00003         4       0.038251       0.036437       0.000000   \n",
       "2  00005_00004         5       0.506981       0.305467       0.036150   \n",
       "3  00008_00007         8       0.000000       0.242857       0.000000   \n",
       "4  00009_00008         9       0.000000       0.141986       0.000000   \n",
       "\n",
       "   img_feature_3  img_feature_4  img_feature_5  img_feature_6  img_feature_7  \\\n",
       "0       0.040887            0.0       0.000000       0.214209       0.000792   \n",
       "1       0.015076            0.0       0.046953       0.648170       0.026476   \n",
       "2       0.114539            0.0       0.146888       0.584753       0.157468   \n",
       "3       0.068217            0.0       0.117847       0.000000       0.000000   \n",
       "4       0.000983            0.0       0.013148       0.066999       0.008579   \n",
       "\n",
       "   ...  img_feature_2038  img_feature_2039  img_feature_2040  \\\n",
       "0  ...          0.000000          0.249240          0.040368   \n",
       "1  ...          0.024564          0.035555          0.369353   \n",
       "2  ...          0.000000          0.131493          0.268107   \n",
       "3  ...          0.095629          0.221957          0.133745   \n",
       "4  ...          0.000000          0.480097          0.361314   \n",
       "\n",
       "   img_feature_2041  img_feature_2042  img_feature_2043  img_feature_2044  \\\n",
       "0          0.101314          0.000000          0.069272          0.167507   \n",
       "1          0.000000          0.133307          0.000000          0.000000   \n",
       "2          0.000000          0.036761          0.008600          0.018883   \n",
       "3          0.023491          0.000000          0.000000          0.000000   \n",
       "4          0.026121          0.000000          0.000000          0.000000   \n",
       "\n",
       "   img_feature_2045  img_feature_2046  img_feature_2047  \n",
       "0          0.044617          0.383093          0.097627  \n",
       "1          0.017894          0.816972          0.058774  \n",
       "2          0.024825          0.123289          0.000000  \n",
       "3          0.065544          1.030737          0.010370  \n",
       "4          0.001085          0.653569          0.007591  \n",
       "\n",
       "[5 rows x 2048 columns]"
      ]
     },
     "execution_count": 39,
     "metadata": {},
     "output_type": "execute_result"
    }
   ],
   "source": [
    "media_ind_df = pd.DataFrame(x[x.columns[(sel_index)]])\n",
    "train_tweets_media_final = pd.concat([train_tweets_vectorized_media[['media_id', 'tweet_id']], media_ind_df], axis=1)\n",
    "train_tweets_media_final.head()"
   ]
  },
  {
   "cell_type": "markdown",
   "metadata": {},
   "source": [
    "## Train Tweets Text"
   ]
  },
  {
   "cell_type": "code",
   "execution_count": 40,
   "metadata": {
    "tags": []
   },
   "outputs": [
    {
     "name": "stdout",
     "output_type": "stream",
     "text": [
      "train_tweets shape: (29625, 14)\n",
      "train_tweets_vectorized_text: (21010, 2050)\n"
     ]
    },
    {
     "data": {
      "text/html": [
       "<div>\n",
       "<style scoped>\n",
       "    .dataframe tbody tr th:only-of-type {\n",
       "        vertical-align: middle;\n",
       "    }\n",
       "\n",
       "    .dataframe tbody tr th {\n",
       "        vertical-align: top;\n",
       "    }\n",
       "\n",
       "    .dataframe thead th {\n",
       "        text-align: right;\n",
       "    }\n",
       "</style>\n",
       "<table border=\"1\" class=\"dataframe\">\n",
       "  <thead>\n",
       "    <tr style=\"text-align: right;\">\n",
       "      <th></th>\n",
       "      <th>virality</th>\n",
       "      <th>feature_0</th>\n",
       "      <th>feature_1</th>\n",
       "      <th>feature_2</th>\n",
       "      <th>feature_3</th>\n",
       "      <th>feature_4</th>\n",
       "      <th>feature_5</th>\n",
       "      <th>feature_6</th>\n",
       "      <th>feature_7</th>\n",
       "      <th>feature_8</th>\n",
       "      <th>...</th>\n",
       "      <th>feature_758</th>\n",
       "      <th>feature_759</th>\n",
       "      <th>feature_760</th>\n",
       "      <th>feature_761</th>\n",
       "      <th>feature_762</th>\n",
       "      <th>feature_763</th>\n",
       "      <th>feature_764</th>\n",
       "      <th>feature_765</th>\n",
       "      <th>feature_766</th>\n",
       "      <th>feature_767</th>\n",
       "    </tr>\n",
       "  </thead>\n",
       "  <tbody>\n",
       "    <tr>\n",
       "      <th>0</th>\n",
       "      <td>1</td>\n",
       "      <td>0.125605</td>\n",
       "      <td>-0.136067</td>\n",
       "      <td>-0.121691</td>\n",
       "      <td>-0.160296</td>\n",
       "      <td>-0.074407</td>\n",
       "      <td>0.119014</td>\n",
       "      <td>-0.343523</td>\n",
       "      <td>-0.289790</td>\n",
       "      <td>-0.037007</td>\n",
       "      <td>...</td>\n",
       "      <td>0.215511</td>\n",
       "      <td>-0.330016</td>\n",
       "      <td>-0.143669</td>\n",
       "      <td>-0.017097</td>\n",
       "      <td>0.211852</td>\n",
       "      <td>0.009358</td>\n",
       "      <td>0.205395</td>\n",
       "      <td>-0.100113</td>\n",
       "      <td>0.013015</td>\n",
       "      <td>0.053247</td>\n",
       "    </tr>\n",
       "    <tr>\n",
       "      <th>1</th>\n",
       "      <td>1</td>\n",
       "      <td>0.064982</td>\n",
       "      <td>-0.116850</td>\n",
       "      <td>0.034871</td>\n",
       "      <td>-0.090357</td>\n",
       "      <td>-0.067459</td>\n",
       "      <td>0.030954</td>\n",
       "      <td>-0.361263</td>\n",
       "      <td>-0.294617</td>\n",
       "      <td>-0.077854</td>\n",
       "      <td>...</td>\n",
       "      <td>0.193301</td>\n",
       "      <td>-0.391395</td>\n",
       "      <td>-0.120417</td>\n",
       "      <td>-0.072493</td>\n",
       "      <td>0.188275</td>\n",
       "      <td>-0.084694</td>\n",
       "      <td>0.152518</td>\n",
       "      <td>-0.109684</td>\n",
       "      <td>0.034304</td>\n",
       "      <td>0.018237</td>\n",
       "    </tr>\n",
       "    <tr>\n",
       "      <th>2</th>\n",
       "      <td>2</td>\n",
       "      <td>0.051160</td>\n",
       "      <td>-0.076732</td>\n",
       "      <td>0.005174</td>\n",
       "      <td>-0.071699</td>\n",
       "      <td>-0.204004</td>\n",
       "      <td>0.034764</td>\n",
       "      <td>-0.320014</td>\n",
       "      <td>-0.231828</td>\n",
       "      <td>-0.121784</td>\n",
       "      <td>...</td>\n",
       "      <td>0.163904</td>\n",
       "      <td>-0.299526</td>\n",
       "      <td>-0.099811</td>\n",
       "      <td>-0.049208</td>\n",
       "      <td>0.170104</td>\n",
       "      <td>-0.125188</td>\n",
       "      <td>0.111381</td>\n",
       "      <td>-0.180564</td>\n",
       "      <td>-0.061082</td>\n",
       "      <td>0.142650</td>\n",
       "    </tr>\n",
       "    <tr>\n",
       "      <th>3</th>\n",
       "      <td>1</td>\n",
       "      <td>0.127061</td>\n",
       "      <td>-0.063152</td>\n",
       "      <td>0.010520</td>\n",
       "      <td>0.000385</td>\n",
       "      <td>-0.146983</td>\n",
       "      <td>-0.099981</td>\n",
       "      <td>-0.382142</td>\n",
       "      <td>-0.287832</td>\n",
       "      <td>-0.129653</td>\n",
       "      <td>...</td>\n",
       "      <td>0.168049</td>\n",
       "      <td>-0.355778</td>\n",
       "      <td>-0.150411</td>\n",
       "      <td>-0.067176</td>\n",
       "      <td>0.216000</td>\n",
       "      <td>-0.076183</td>\n",
       "      <td>0.158889</td>\n",
       "      <td>-0.057773</td>\n",
       "      <td>-0.079182</td>\n",
       "      <td>0.057414</td>\n",
       "    </tr>\n",
       "    <tr>\n",
       "      <th>4</th>\n",
       "      <td>1</td>\n",
       "      <td>0.144889</td>\n",
       "      <td>-0.084671</td>\n",
       "      <td>0.147057</td>\n",
       "      <td>-0.068760</td>\n",
       "      <td>-0.024226</td>\n",
       "      <td>0.081921</td>\n",
       "      <td>-0.362943</td>\n",
       "      <td>-0.288691</td>\n",
       "      <td>-0.121206</td>\n",
       "      <td>...</td>\n",
       "      <td>0.212959</td>\n",
       "      <td>-0.389882</td>\n",
       "      <td>-0.157168</td>\n",
       "      <td>-0.051536</td>\n",
       "      <td>0.129986</td>\n",
       "      <td>-0.021489</td>\n",
       "      <td>0.184418</td>\n",
       "      <td>-0.058603</td>\n",
       "      <td>-0.023088</td>\n",
       "      <td>0.084837</td>\n",
       "    </tr>\n",
       "  </tbody>\n",
       "</table>\n",
       "<p>5 rows × 769 columns</p>\n",
       "</div>"
      ],
      "text/plain": [
       "   virality  feature_0  feature_1  feature_2  feature_3  feature_4  feature_5  \\\n",
       "0         1   0.125605  -0.136067  -0.121691  -0.160296  -0.074407   0.119014   \n",
       "1         1   0.064982  -0.116850   0.034871  -0.090357  -0.067459   0.030954   \n",
       "2         2   0.051160  -0.076732   0.005174  -0.071699  -0.204004   0.034764   \n",
       "3         1   0.127061  -0.063152   0.010520   0.000385  -0.146983  -0.099981   \n",
       "4         1   0.144889  -0.084671   0.147057  -0.068760  -0.024226   0.081921   \n",
       "\n",
       "   feature_6  feature_7  feature_8  ...  feature_758  feature_759  \\\n",
       "0  -0.343523  -0.289790  -0.037007  ...     0.215511    -0.330016   \n",
       "1  -0.361263  -0.294617  -0.077854  ...     0.193301    -0.391395   \n",
       "2  -0.320014  -0.231828  -0.121784  ...     0.163904    -0.299526   \n",
       "3  -0.382142  -0.287832  -0.129653  ...     0.168049    -0.355778   \n",
       "4  -0.362943  -0.288691  -0.121206  ...     0.212959    -0.389882   \n",
       "\n",
       "   feature_760  feature_761  feature_762  feature_763  feature_764  \\\n",
       "0    -0.143669    -0.017097     0.211852     0.009358     0.205395   \n",
       "1    -0.120417    -0.072493     0.188275    -0.084694     0.152518   \n",
       "2    -0.099811    -0.049208     0.170104    -0.125188     0.111381   \n",
       "3    -0.150411    -0.067176     0.216000    -0.076183     0.158889   \n",
       "4    -0.157168    -0.051536     0.129986    -0.021489     0.184418   \n",
       "\n",
       "   feature_765  feature_766  feature_767  \n",
       "0    -0.100113     0.013015     0.053247  \n",
       "1    -0.109684     0.034304     0.018237  \n",
       "2    -0.180564    -0.061082     0.142650  \n",
       "3    -0.057773    -0.079182     0.057414  \n",
       "4    -0.058603    -0.023088     0.084837  \n",
       "\n",
       "[5 rows x 769 columns]"
      ]
     },
     "execution_count": 40,
     "metadata": {},
     "output_type": "execute_result"
    }
   ],
   "source": [
    "print(\"train_tweets shape:\", train_tweets.shape)\n",
    "print(\"train_tweets_vectorized_text:\", train_tweets_vectorized_media.shape)\n",
    "\n",
    "# Match row number between train tweets and vectorized text\n",
    "vectorized_text_df = pd.merge(train_tweets, train_tweets_vectorized_text, on='tweet_id', how='right')\n",
    "# Drop extra columns\n",
    "vectorized_text_df.drop(train_tweets.columns.difference(['virality']), axis=1, inplace=True)\n",
    "vectorized_text_df.head()"
   ]
  },
  {
   "cell_type": "code",
   "execution_count": 41,
   "metadata": {
    "tags": []
   },
   "outputs": [
    {
     "name": "stdout",
     "output_type": "stream",
     "text": [
      "Time:  393.13100087399994\n"
     ]
    },
    {
     "data": {
      "text/plain": [
       "Counter({True: 670, False: 98})"
      ]
     },
     "execution_count": 41,
     "metadata": {},
     "output_type": "execute_result"
    }
   ],
   "source": [
    "# Set the target as well as dependent variables from image data.\n",
    "y = vectorized_text_df['virality']\n",
    "x = vectorized_text_df.loc[:, train_tweets_vectorized_text.columns.str.contains(\"feature_\")] \n",
    "\n",
    "# time the model fitting\n",
    "start = timeit.default_timer()\n",
    "\n",
    "# Fit the trained model on our data\n",
    "sel_model.fit(x, y)\n",
    "\n",
    "stop = timeit.default_timer()\n",
    "print('Time: ', stop - start) \n",
    "\n",
    "# get index of good features\n",
    "sel_index = sel_model.get_support()\n",
    "\n",
    "# count the no of columns selected\n",
    "counter = collections.Counter(sel_model.get_support())\n",
    "counter"
   ]
  },
  {
   "cell_type": "code",
   "execution_count": 42,
   "metadata": {
    "tags": []
   },
   "outputs": [
    {
     "data": {
      "text/html": [
       "<div>\n",
       "<style scoped>\n",
       "    .dataframe tbody tr th:only-of-type {\n",
       "        vertical-align: middle;\n",
       "    }\n",
       "\n",
       "    .dataframe tbody tr th {\n",
       "        vertical-align: top;\n",
       "    }\n",
       "\n",
       "    .dataframe thead th {\n",
       "        text-align: right;\n",
       "    }\n",
       "</style>\n",
       "<table border=\"1\" class=\"dataframe\">\n",
       "  <thead>\n",
       "    <tr style=\"text-align: right;\">\n",
       "      <th></th>\n",
       "      <th>tweet_id</th>\n",
       "      <th>feature_0</th>\n",
       "      <th>feature_1</th>\n",
       "      <th>feature_2</th>\n",
       "      <th>feature_3</th>\n",
       "      <th>feature_4</th>\n",
       "      <th>feature_5</th>\n",
       "      <th>feature_6</th>\n",
       "      <th>feature_7</th>\n",
       "      <th>feature_8</th>\n",
       "      <th>...</th>\n",
       "      <th>feature_758</th>\n",
       "      <th>feature_759</th>\n",
       "      <th>feature_760</th>\n",
       "      <th>feature_761</th>\n",
       "      <th>feature_762</th>\n",
       "      <th>feature_763</th>\n",
       "      <th>feature_764</th>\n",
       "      <th>feature_765</th>\n",
       "      <th>feature_766</th>\n",
       "      <th>feature_767</th>\n",
       "    </tr>\n",
       "  </thead>\n",
       "  <tbody>\n",
       "    <tr>\n",
       "      <th>0</th>\n",
       "      <td>0</td>\n",
       "      <td>0.125605</td>\n",
       "      <td>-0.136067</td>\n",
       "      <td>-0.121691</td>\n",
       "      <td>-0.160296</td>\n",
       "      <td>-0.074407</td>\n",
       "      <td>0.119014</td>\n",
       "      <td>-0.343523</td>\n",
       "      <td>-0.289790</td>\n",
       "      <td>-0.037007</td>\n",
       "      <td>...</td>\n",
       "      <td>0.215511</td>\n",
       "      <td>-0.330016</td>\n",
       "      <td>-0.143669</td>\n",
       "      <td>-0.017097</td>\n",
       "      <td>0.211852</td>\n",
       "      <td>0.009358</td>\n",
       "      <td>0.205395</td>\n",
       "      <td>-0.100113</td>\n",
       "      <td>0.013015</td>\n",
       "      <td>0.053247</td>\n",
       "    </tr>\n",
       "    <tr>\n",
       "      <th>1</th>\n",
       "      <td>1</td>\n",
       "      <td>0.064982</td>\n",
       "      <td>-0.116850</td>\n",
       "      <td>0.034871</td>\n",
       "      <td>-0.090357</td>\n",
       "      <td>-0.067459</td>\n",
       "      <td>0.030954</td>\n",
       "      <td>-0.361263</td>\n",
       "      <td>-0.294617</td>\n",
       "      <td>-0.077854</td>\n",
       "      <td>...</td>\n",
       "      <td>0.193301</td>\n",
       "      <td>-0.391395</td>\n",
       "      <td>-0.120417</td>\n",
       "      <td>-0.072493</td>\n",
       "      <td>0.188275</td>\n",
       "      <td>-0.084694</td>\n",
       "      <td>0.152518</td>\n",
       "      <td>-0.109684</td>\n",
       "      <td>0.034304</td>\n",
       "      <td>0.018237</td>\n",
       "    </tr>\n",
       "    <tr>\n",
       "      <th>2</th>\n",
       "      <td>4</td>\n",
       "      <td>0.051160</td>\n",
       "      <td>-0.076732</td>\n",
       "      <td>0.005174</td>\n",
       "      <td>-0.071699</td>\n",
       "      <td>-0.204004</td>\n",
       "      <td>0.034764</td>\n",
       "      <td>-0.320014</td>\n",
       "      <td>-0.231828</td>\n",
       "      <td>-0.121784</td>\n",
       "      <td>...</td>\n",
       "      <td>0.163904</td>\n",
       "      <td>-0.299526</td>\n",
       "      <td>-0.099811</td>\n",
       "      <td>-0.049208</td>\n",
       "      <td>0.170104</td>\n",
       "      <td>-0.125188</td>\n",
       "      <td>0.111381</td>\n",
       "      <td>-0.180564</td>\n",
       "      <td>-0.061082</td>\n",
       "      <td>0.142650</td>\n",
       "    </tr>\n",
       "    <tr>\n",
       "      <th>3</th>\n",
       "      <td>5</td>\n",
       "      <td>0.127061</td>\n",
       "      <td>-0.063152</td>\n",
       "      <td>0.010520</td>\n",
       "      <td>0.000385</td>\n",
       "      <td>-0.146983</td>\n",
       "      <td>-0.099981</td>\n",
       "      <td>-0.382142</td>\n",
       "      <td>-0.287832</td>\n",
       "      <td>-0.129653</td>\n",
       "      <td>...</td>\n",
       "      <td>0.168049</td>\n",
       "      <td>-0.355778</td>\n",
       "      <td>-0.150411</td>\n",
       "      <td>-0.067176</td>\n",
       "      <td>0.216000</td>\n",
       "      <td>-0.076183</td>\n",
       "      <td>0.158889</td>\n",
       "      <td>-0.057773</td>\n",
       "      <td>-0.079182</td>\n",
       "      <td>0.057414</td>\n",
       "    </tr>\n",
       "    <tr>\n",
       "      <th>4</th>\n",
       "      <td>8</td>\n",
       "      <td>0.144889</td>\n",
       "      <td>-0.084671</td>\n",
       "      <td>0.147057</td>\n",
       "      <td>-0.068760</td>\n",
       "      <td>-0.024226</td>\n",
       "      <td>0.081921</td>\n",
       "      <td>-0.362943</td>\n",
       "      <td>-0.288691</td>\n",
       "      <td>-0.121206</td>\n",
       "      <td>...</td>\n",
       "      <td>0.212959</td>\n",
       "      <td>-0.389882</td>\n",
       "      <td>-0.157168</td>\n",
       "      <td>-0.051536</td>\n",
       "      <td>0.129986</td>\n",
       "      <td>-0.021489</td>\n",
       "      <td>0.184418</td>\n",
       "      <td>-0.058603</td>\n",
       "      <td>-0.023088</td>\n",
       "      <td>0.084837</td>\n",
       "    </tr>\n",
       "  </tbody>\n",
       "</table>\n",
       "<p>5 rows × 671 columns</p>\n",
       "</div>"
      ],
      "text/plain": [
       "   tweet_id  feature_0  feature_1  feature_2  feature_3  feature_4  feature_5  \\\n",
       "0         0   0.125605  -0.136067  -0.121691  -0.160296  -0.074407   0.119014   \n",
       "1         1   0.064982  -0.116850   0.034871  -0.090357  -0.067459   0.030954   \n",
       "2         4   0.051160  -0.076732   0.005174  -0.071699  -0.204004   0.034764   \n",
       "3         5   0.127061  -0.063152   0.010520   0.000385  -0.146983  -0.099981   \n",
       "4         8   0.144889  -0.084671   0.147057  -0.068760  -0.024226   0.081921   \n",
       "\n",
       "   feature_6  feature_7  feature_8  ...  feature_758  feature_759  \\\n",
       "0  -0.343523  -0.289790  -0.037007  ...     0.215511    -0.330016   \n",
       "1  -0.361263  -0.294617  -0.077854  ...     0.193301    -0.391395   \n",
       "2  -0.320014  -0.231828  -0.121784  ...     0.163904    -0.299526   \n",
       "3  -0.382142  -0.287832  -0.129653  ...     0.168049    -0.355778   \n",
       "4  -0.362943  -0.288691  -0.121206  ...     0.212959    -0.389882   \n",
       "\n",
       "   feature_760  feature_761  feature_762  feature_763  feature_764  \\\n",
       "0    -0.143669    -0.017097     0.211852     0.009358     0.205395   \n",
       "1    -0.120417    -0.072493     0.188275    -0.084694     0.152518   \n",
       "2    -0.099811    -0.049208     0.170104    -0.125188     0.111381   \n",
       "3    -0.150411    -0.067176     0.216000    -0.076183     0.158889   \n",
       "4    -0.157168    -0.051536     0.129986    -0.021489     0.184418   \n",
       "\n",
       "   feature_765  feature_766  feature_767  \n",
       "0    -0.100113     0.013015     0.053247  \n",
       "1    -0.109684     0.034304     0.018237  \n",
       "2    -0.180564    -0.061082     0.142650  \n",
       "3    -0.057773    -0.079182     0.057414  \n",
       "4    -0.058603    -0.023088     0.084837  \n",
       "\n",
       "[5 rows x 671 columns]"
      ]
     },
     "execution_count": 42,
     "metadata": {},
     "output_type": "execute_result"
    }
   ],
   "source": [
    "text_ind_df = pd.DataFrame(x[x.columns[(sel_index)]])\n",
    "train_tweets_text_final = pd.concat([train_tweets_vectorized_text[['tweet_id']], text_ind_df], axis=1)\n",
    "train_tweets_text_final.head()"
   ]
  },
  {
   "cell_type": "markdown",
   "metadata": {},
   "source": [
    "## User Descriptions"
   ]
  },
  {
   "cell_type": "code",
   "execution_count": 43,
   "metadata": {
    "tags": []
   },
   "outputs": [],
   "source": [
    "# Find the median virality for each user to reduce features\n",
    "average_virality_df = train_tweets.groupby('tweet_user_id').agg(pd.Series.median)['virality']"
   ]
  },
  {
   "cell_type": "markdown",
   "metadata": {},
   "source": [
    "Obtain median of virality since each user may have multiple tweets."
   ]
  },
  {
   "cell_type": "code",
   "execution_count": 44,
   "metadata": {
    "tags": []
   },
   "outputs": [
    {
     "data": {
      "text/html": [
       "<div>\n",
       "<style scoped>\n",
       "    .dataframe tbody tr th:only-of-type {\n",
       "        vertical-align: middle;\n",
       "    }\n",
       "\n",
       "    .dataframe tbody tr th {\n",
       "        vertical-align: top;\n",
       "    }\n",
       "\n",
       "    .dataframe thead th {\n",
       "        text-align: right;\n",
       "    }\n",
       "</style>\n",
       "<table border=\"1\" class=\"dataframe\">\n",
       "  <thead>\n",
       "    <tr style=\"text-align: right;\">\n",
       "      <th></th>\n",
       "      <th>virality</th>\n",
       "      <th>user_id</th>\n",
       "      <th>feature_0</th>\n",
       "      <th>feature_1</th>\n",
       "      <th>feature_2</th>\n",
       "      <th>feature_3</th>\n",
       "      <th>feature_4</th>\n",
       "      <th>feature_5</th>\n",
       "      <th>feature_6</th>\n",
       "      <th>feature_7</th>\n",
       "      <th>...</th>\n",
       "      <th>feature_758</th>\n",
       "      <th>feature_759</th>\n",
       "      <th>feature_760</th>\n",
       "      <th>feature_761</th>\n",
       "      <th>feature_762</th>\n",
       "      <th>feature_763</th>\n",
       "      <th>feature_764</th>\n",
       "      <th>feature_765</th>\n",
       "      <th>feature_766</th>\n",
       "      <th>feature_767</th>\n",
       "    </tr>\n",
       "  </thead>\n",
       "  <tbody>\n",
       "    <tr>\n",
       "      <th>0</th>\n",
       "      <td>1.0</td>\n",
       "      <td>0</td>\n",
       "      <td>0.132536</td>\n",
       "      <td>-0.137393</td>\n",
       "      <td>-0.064037</td>\n",
       "      <td>-0.118342</td>\n",
       "      <td>-0.130279</td>\n",
       "      <td>0.048067</td>\n",
       "      <td>-0.421301</td>\n",
       "      <td>-0.313038</td>\n",
       "      <td>...</td>\n",
       "      <td>0.238264</td>\n",
       "      <td>-0.315408</td>\n",
       "      <td>-0.159851</td>\n",
       "      <td>-0.003840</td>\n",
       "      <td>0.213492</td>\n",
       "      <td>0.002498</td>\n",
       "      <td>0.177574</td>\n",
       "      <td>-0.136515</td>\n",
       "      <td>-0.012882</td>\n",
       "      <td>0.017399</td>\n",
       "    </tr>\n",
       "    <tr>\n",
       "      <th>1</th>\n",
       "      <td>2.0</td>\n",
       "      <td>1</td>\n",
       "      <td>0.107849</td>\n",
       "      <td>-0.168418</td>\n",
       "      <td>0.027251</td>\n",
       "      <td>-0.075079</td>\n",
       "      <td>-0.084762</td>\n",
       "      <td>0.076149</td>\n",
       "      <td>-0.390708</td>\n",
       "      <td>-0.271934</td>\n",
       "      <td>...</td>\n",
       "      <td>0.232922</td>\n",
       "      <td>-0.314534</td>\n",
       "      <td>-0.177011</td>\n",
       "      <td>-0.041710</td>\n",
       "      <td>0.209785</td>\n",
       "      <td>-0.023427</td>\n",
       "      <td>0.158203</td>\n",
       "      <td>-0.143221</td>\n",
       "      <td>0.030484</td>\n",
       "      <td>0.081693</td>\n",
       "    </tr>\n",
       "    <tr>\n",
       "      <th>2</th>\n",
       "      <td>1.0</td>\n",
       "      <td>2</td>\n",
       "      <td>0.122312</td>\n",
       "      <td>-0.159376</td>\n",
       "      <td>-0.073417</td>\n",
       "      <td>-0.149442</td>\n",
       "      <td>-0.122684</td>\n",
       "      <td>-0.005277</td>\n",
       "      <td>-0.351233</td>\n",
       "      <td>-0.297342</td>\n",
       "      <td>...</td>\n",
       "      <td>0.173621</td>\n",
       "      <td>-0.292476</td>\n",
       "      <td>-0.185078</td>\n",
       "      <td>-0.026784</td>\n",
       "      <td>0.184902</td>\n",
       "      <td>0.009539</td>\n",
       "      <td>0.217004</td>\n",
       "      <td>-0.091951</td>\n",
       "      <td>0.025304</td>\n",
       "      <td>0.058501</td>\n",
       "    </tr>\n",
       "    <tr>\n",
       "      <th>3</th>\n",
       "      <td>1.0</td>\n",
       "      <td>3</td>\n",
       "      <td>0.160509</td>\n",
       "      <td>-0.137915</td>\n",
       "      <td>-0.002524</td>\n",
       "      <td>-0.034696</td>\n",
       "      <td>0.028126</td>\n",
       "      <td>0.056299</td>\n",
       "      <td>-0.365196</td>\n",
       "      <td>-0.259523</td>\n",
       "      <td>...</td>\n",
       "      <td>0.205752</td>\n",
       "      <td>-0.300688</td>\n",
       "      <td>-0.133753</td>\n",
       "      <td>0.002206</td>\n",
       "      <td>0.245214</td>\n",
       "      <td>-0.056659</td>\n",
       "      <td>0.152064</td>\n",
       "      <td>-0.180211</td>\n",
       "      <td>0.022327</td>\n",
       "      <td>0.014688</td>\n",
       "    </tr>\n",
       "    <tr>\n",
       "      <th>4</th>\n",
       "      <td>3.0</td>\n",
       "      <td>4</td>\n",
       "      <td>0.099192</td>\n",
       "      <td>-0.140809</td>\n",
       "      <td>-0.012423</td>\n",
       "      <td>-0.150097</td>\n",
       "      <td>-0.120169</td>\n",
       "      <td>0.054078</td>\n",
       "      <td>-0.384291</td>\n",
       "      <td>-0.269650</td>\n",
       "      <td>...</td>\n",
       "      <td>0.179307</td>\n",
       "      <td>-0.367725</td>\n",
       "      <td>-0.217667</td>\n",
       "      <td>-0.064391</td>\n",
       "      <td>0.163382</td>\n",
       "      <td>-0.020638</td>\n",
       "      <td>0.181554</td>\n",
       "      <td>-0.200262</td>\n",
       "      <td>-0.074513</td>\n",
       "      <td>0.037301</td>\n",
       "    </tr>\n",
       "  </tbody>\n",
       "</table>\n",
       "<p>5 rows × 770 columns</p>\n",
       "</div>"
      ],
      "text/plain": [
       "   virality  user_id  feature_0  feature_1  feature_2  feature_3  feature_4  \\\n",
       "0       1.0        0   0.132536  -0.137393  -0.064037  -0.118342  -0.130279   \n",
       "1       2.0        1   0.107849  -0.168418   0.027251  -0.075079  -0.084762   \n",
       "2       1.0        2   0.122312  -0.159376  -0.073417  -0.149442  -0.122684   \n",
       "3       1.0        3   0.160509  -0.137915  -0.002524  -0.034696   0.028126   \n",
       "4       3.0        4   0.099192  -0.140809  -0.012423  -0.150097  -0.120169   \n",
       "\n",
       "   feature_5  feature_6  feature_7  ...  feature_758  feature_759  \\\n",
       "0   0.048067  -0.421301  -0.313038  ...     0.238264    -0.315408   \n",
       "1   0.076149  -0.390708  -0.271934  ...     0.232922    -0.314534   \n",
       "2  -0.005277  -0.351233  -0.297342  ...     0.173621    -0.292476   \n",
       "3   0.056299  -0.365196  -0.259523  ...     0.205752    -0.300688   \n",
       "4   0.054078  -0.384291  -0.269650  ...     0.179307    -0.367725   \n",
       "\n",
       "   feature_760  feature_761  feature_762  feature_763  feature_764  \\\n",
       "0    -0.159851    -0.003840     0.213492     0.002498     0.177574   \n",
       "1    -0.177011    -0.041710     0.209785    -0.023427     0.158203   \n",
       "2    -0.185078    -0.026784     0.184902     0.009539     0.217004   \n",
       "3    -0.133753     0.002206     0.245214    -0.056659     0.152064   \n",
       "4    -0.217667    -0.064391     0.163382    -0.020638     0.181554   \n",
       "\n",
       "   feature_765  feature_766  feature_767  \n",
       "0    -0.136515    -0.012882     0.017399  \n",
       "1    -0.143221     0.030484     0.081693  \n",
       "2    -0.091951     0.025304     0.058501  \n",
       "3    -0.180211     0.022327     0.014688  \n",
       "4    -0.200262    -0.074513     0.037301  \n",
       "\n",
       "[5 rows x 770 columns]"
      ]
     },
     "execution_count": 44,
     "metadata": {},
     "output_type": "execute_result"
    }
   ],
   "source": [
    "descriptions_df = pd.merge(average_virality_df, user_vectorized_descriptions, left_on='tweet_user_id', right_on='user_id', how='right')\n",
    "descriptions_df.head()"
   ]
  },
  {
   "cell_type": "code",
   "execution_count": 45,
   "metadata": {
    "tags": []
   },
   "outputs": [
    {
     "name": "stdout",
     "output_type": "stream",
     "text": [
      "Time:  0.010133559999985664\n"
     ]
    },
    {
     "data": {
      "text/plain": [
       "Counter({False: 768})"
      ]
     },
     "execution_count": 45,
     "metadata": {},
     "output_type": "execute_result"
    }
   ],
   "source": [
    "# Set the target as well as dependent variables from image data.\n",
    "y = descriptions_df['virality']\n",
    "x = descriptions_df.loc[:, descriptions_df.columns.str.contains(\"feature_\")] \n",
    "\n",
    "# time the model fitting\n",
    "start = timeit.default_timer()\n",
    "\n",
    "# Fit the trained model on our data\n",
    "sel_model.fit(x, y)\n",
    "\n",
    "stop = timeit.default_timer()\n",
    "print('Time: ', stop - start) \n",
    "\n",
    "# get index of good features\n",
    "sel_index = sel_model.get_support()\n",
    "\n",
    "# count the no of columns selected\n",
    "counter = collections.Counter(sel_model.get_support())\n",
    "counter"
   ]
  },
  {
   "cell_type": "code",
   "execution_count": 46,
   "metadata": {
    "tags": []
   },
   "outputs": [
    {
     "data": {
      "text/html": [
       "<div>\n",
       "<style scoped>\n",
       "    .dataframe tbody tr th:only-of-type {\n",
       "        vertical-align: middle;\n",
       "    }\n",
       "\n",
       "    .dataframe tbody tr th {\n",
       "        vertical-align: top;\n",
       "    }\n",
       "\n",
       "    .dataframe thead th {\n",
       "        text-align: right;\n",
       "    }\n",
       "</style>\n",
       "<table border=\"1\" class=\"dataframe\">\n",
       "  <thead>\n",
       "    <tr style=\"text-align: right;\">\n",
       "      <th></th>\n",
       "      <th>user_id</th>\n",
       "    </tr>\n",
       "  </thead>\n",
       "  <tbody>\n",
       "    <tr>\n",
       "      <th>0</th>\n",
       "      <td>0</td>\n",
       "    </tr>\n",
       "    <tr>\n",
       "      <th>1</th>\n",
       "      <td>1</td>\n",
       "    </tr>\n",
       "    <tr>\n",
       "      <th>2</th>\n",
       "      <td>2</td>\n",
       "    </tr>\n",
       "    <tr>\n",
       "      <th>3</th>\n",
       "      <td>3</td>\n",
       "    </tr>\n",
       "    <tr>\n",
       "      <th>4</th>\n",
       "      <td>4</td>\n",
       "    </tr>\n",
       "  </tbody>\n",
       "</table>\n",
       "</div>"
      ],
      "text/plain": [
       "   user_id\n",
       "0        0\n",
       "1        1\n",
       "2        2\n",
       "3        3\n",
       "4        4"
      ]
     },
     "execution_count": 46,
     "metadata": {},
     "output_type": "execute_result"
    }
   ],
   "source": [
    "desc_ind_df = pd.DataFrame(x[x.columns[(sel_index)]])\n",
    "user_descriptions_final = pd.concat([user_vectorized_descriptions[['user_id']], desc_ind_df], axis=1)\n",
    "user_descriptions_final.head()"
   ]
  },
  {
   "cell_type": "markdown",
   "metadata": {},
   "source": [
    "## User Profile Images"
   ]
  },
  {
   "cell_type": "code",
   "execution_count": 47,
   "metadata": {
    "tags": []
   },
   "outputs": [
    {
     "data": {
      "text/html": [
       "<div>\n",
       "<style scoped>\n",
       "    .dataframe tbody tr th:only-of-type {\n",
       "        vertical-align: middle;\n",
       "    }\n",
       "\n",
       "    .dataframe tbody tr th {\n",
       "        vertical-align: top;\n",
       "    }\n",
       "\n",
       "    .dataframe thead th {\n",
       "        text-align: right;\n",
       "    }\n",
       "</style>\n",
       "<table border=\"1\" class=\"dataframe\">\n",
       "  <thead>\n",
       "    <tr style=\"text-align: right;\">\n",
       "      <th></th>\n",
       "      <th>virality</th>\n",
       "      <th>user_id</th>\n",
       "      <th>feature_0</th>\n",
       "      <th>feature_1</th>\n",
       "      <th>feature_2</th>\n",
       "      <th>feature_3</th>\n",
       "      <th>feature_4</th>\n",
       "      <th>feature_5</th>\n",
       "      <th>feature_6</th>\n",
       "      <th>feature_7</th>\n",
       "      <th>...</th>\n",
       "      <th>feature_2038</th>\n",
       "      <th>feature_2039</th>\n",
       "      <th>feature_2040</th>\n",
       "      <th>feature_2041</th>\n",
       "      <th>feature_2042</th>\n",
       "      <th>feature_2043</th>\n",
       "      <th>feature_2044</th>\n",
       "      <th>feature_2045</th>\n",
       "      <th>feature_2046</th>\n",
       "      <th>feature_2047</th>\n",
       "    </tr>\n",
       "  </thead>\n",
       "  <tbody>\n",
       "    <tr>\n",
       "      <th>0</th>\n",
       "      <td>1.0</td>\n",
       "      <td>0</td>\n",
       "      <td>0.449126</td>\n",
       "      <td>0.000000</td>\n",
       "      <td>0.000000</td>\n",
       "      <td>0.0</td>\n",
       "      <td>0.006348</td>\n",
       "      <td>0.000000</td>\n",
       "      <td>0.059772</td>\n",
       "      <td>0.026143</td>\n",
       "      <td>...</td>\n",
       "      <td>0.202886</td>\n",
       "      <td>0.000000</td>\n",
       "      <td>0.414033</td>\n",
       "      <td>0.000000</td>\n",
       "      <td>0.001876</td>\n",
       "      <td>0.000000</td>\n",
       "      <td>0.00000</td>\n",
       "      <td>0.000000</td>\n",
       "      <td>0.192305</td>\n",
       "      <td>0.000009</td>\n",
       "    </tr>\n",
       "    <tr>\n",
       "      <th>1</th>\n",
       "      <td>2.0</td>\n",
       "      <td>1</td>\n",
       "      <td>0.017050</td>\n",
       "      <td>0.009737</td>\n",
       "      <td>0.002633</td>\n",
       "      <td>0.0</td>\n",
       "      <td>0.000000</td>\n",
       "      <td>0.000000</td>\n",
       "      <td>1.184751</td>\n",
       "      <td>0.000000</td>\n",
       "      <td>...</td>\n",
       "      <td>0.111723</td>\n",
       "      <td>0.086082</td>\n",
       "      <td>0.000000</td>\n",
       "      <td>0.000000</td>\n",
       "      <td>0.412172</td>\n",
       "      <td>0.000000</td>\n",
       "      <td>0.00000</td>\n",
       "      <td>0.254945</td>\n",
       "      <td>0.536927</td>\n",
       "      <td>0.460923</td>\n",
       "    </tr>\n",
       "    <tr>\n",
       "      <th>2</th>\n",
       "      <td>1.0</td>\n",
       "      <td>2</td>\n",
       "      <td>0.000000</td>\n",
       "      <td>0.068666</td>\n",
       "      <td>0.000000</td>\n",
       "      <td>0.0</td>\n",
       "      <td>0.000000</td>\n",
       "      <td>0.085349</td>\n",
       "      <td>0.349153</td>\n",
       "      <td>0.000000</td>\n",
       "      <td>...</td>\n",
       "      <td>0.000000</td>\n",
       "      <td>0.000000</td>\n",
       "      <td>0.000000</td>\n",
       "      <td>0.054352</td>\n",
       "      <td>0.000000</td>\n",
       "      <td>0.219981</td>\n",
       "      <td>0.00000</td>\n",
       "      <td>0.000000</td>\n",
       "      <td>0.150882</td>\n",
       "      <td>0.000000</td>\n",
       "    </tr>\n",
       "    <tr>\n",
       "      <th>3</th>\n",
       "      <td>1.0</td>\n",
       "      <td>3</td>\n",
       "      <td>0.000000</td>\n",
       "      <td>0.168951</td>\n",
       "      <td>0.118449</td>\n",
       "      <td>0.0</td>\n",
       "      <td>0.000000</td>\n",
       "      <td>0.000000</td>\n",
       "      <td>0.392767</td>\n",
       "      <td>0.000000</td>\n",
       "      <td>...</td>\n",
       "      <td>0.000000</td>\n",
       "      <td>0.168835</td>\n",
       "      <td>0.000000</td>\n",
       "      <td>0.000000</td>\n",
       "      <td>0.000000</td>\n",
       "      <td>0.000000</td>\n",
       "      <td>0.00000</td>\n",
       "      <td>0.000000</td>\n",
       "      <td>0.424234</td>\n",
       "      <td>0.000000</td>\n",
       "    </tr>\n",
       "    <tr>\n",
       "      <th>4</th>\n",
       "      <td>3.0</td>\n",
       "      <td>4</td>\n",
       "      <td>0.286990</td>\n",
       "      <td>0.299091</td>\n",
       "      <td>0.138534</td>\n",
       "      <td>0.0</td>\n",
       "      <td>0.000000</td>\n",
       "      <td>0.000000</td>\n",
       "      <td>0.360286</td>\n",
       "      <td>0.042764</td>\n",
       "      <td>...</td>\n",
       "      <td>0.163468</td>\n",
       "      <td>0.001998</td>\n",
       "      <td>0.224525</td>\n",
       "      <td>0.000000</td>\n",
       "      <td>0.235216</td>\n",
       "      <td>0.000000</td>\n",
       "      <td>0.01757</td>\n",
       "      <td>0.000000</td>\n",
       "      <td>0.059346</td>\n",
       "      <td>0.000000</td>\n",
       "    </tr>\n",
       "  </tbody>\n",
       "</table>\n",
       "<p>5 rows × 2050 columns</p>\n",
       "</div>"
      ],
      "text/plain": [
       "   virality  user_id  feature_0  feature_1  feature_2  feature_3  feature_4  \\\n",
       "0       1.0        0   0.449126   0.000000   0.000000        0.0   0.006348   \n",
       "1       2.0        1   0.017050   0.009737   0.002633        0.0   0.000000   \n",
       "2       1.0        2   0.000000   0.068666   0.000000        0.0   0.000000   \n",
       "3       1.0        3   0.000000   0.168951   0.118449        0.0   0.000000   \n",
       "4       3.0        4   0.286990   0.299091   0.138534        0.0   0.000000   \n",
       "\n",
       "   feature_5  feature_6  feature_7  ...  feature_2038  feature_2039  \\\n",
       "0   0.000000   0.059772   0.026143  ...      0.202886      0.000000   \n",
       "1   0.000000   1.184751   0.000000  ...      0.111723      0.086082   \n",
       "2   0.085349   0.349153   0.000000  ...      0.000000      0.000000   \n",
       "3   0.000000   0.392767   0.000000  ...      0.000000      0.168835   \n",
       "4   0.000000   0.360286   0.042764  ...      0.163468      0.001998   \n",
       "\n",
       "   feature_2040  feature_2041  feature_2042  feature_2043  feature_2044  \\\n",
       "0      0.414033      0.000000      0.001876      0.000000       0.00000   \n",
       "1      0.000000      0.000000      0.412172      0.000000       0.00000   \n",
       "2      0.000000      0.054352      0.000000      0.219981       0.00000   \n",
       "3      0.000000      0.000000      0.000000      0.000000       0.00000   \n",
       "4      0.224525      0.000000      0.235216      0.000000       0.01757   \n",
       "\n",
       "   feature_2045  feature_2046  feature_2047  \n",
       "0      0.000000      0.192305      0.000009  \n",
       "1      0.254945      0.536927      0.460923  \n",
       "2      0.000000      0.150882      0.000000  \n",
       "3      0.000000      0.424234      0.000000  \n",
       "4      0.000000      0.059346      0.000000  \n",
       "\n",
       "[5 rows x 2050 columns]"
      ]
     },
     "execution_count": 47,
     "metadata": {},
     "output_type": "execute_result"
    }
   ],
   "source": [
    "profile_images_df = pd.merge(average_virality_df, user_vectorized_profile_images, left_on='tweet_user_id', right_on='user_id', how='right')\n",
    "profile_images_df.head()"
   ]
  },
  {
   "cell_type": "code",
   "execution_count": 48,
   "metadata": {
    "tags": []
   },
   "outputs": [
    {
     "name": "stdout",
     "output_type": "stream",
     "text": [
      "Time:  0.02619028700007675\n"
     ]
    },
    {
     "data": {
      "text/plain": [
       "Counter({False: 2002, True: 46})"
      ]
     },
     "execution_count": 48,
     "metadata": {},
     "output_type": "execute_result"
    }
   ],
   "source": [
    "# Set the target as well as dependent variables from image data.\n",
    "y = profile_images_df['virality']\n",
    "x = profile_images_df.loc[:, profile_images_df.columns.str.contains(\"feature_\")] \n",
    "\n",
    "# time the model fitting\n",
    "start = timeit.default_timer()\n",
    "\n",
    "# Fit the trained model on our data\n",
    "sel_model.fit(x, y)\n",
    "\n",
    "stop = timeit.default_timer()\n",
    "print('Time: ', stop - start) \n",
    "\n",
    "# get index of good features\n",
    "sel_index = sel_model.get_support()\n",
    "\n",
    "# count the no of columns selected\n",
    "counter = collections.Counter(sel_model.get_support())\n",
    "counter"
   ]
  },
  {
   "cell_type": "code",
   "execution_count": 49,
   "metadata": {
    "tags": []
   },
   "outputs": [
    {
     "data": {
      "text/html": [
       "<div>\n",
       "<style scoped>\n",
       "    .dataframe tbody tr th:only-of-type {\n",
       "        vertical-align: middle;\n",
       "    }\n",
       "\n",
       "    .dataframe tbody tr th {\n",
       "        vertical-align: top;\n",
       "    }\n",
       "\n",
       "    .dataframe thead th {\n",
       "        text-align: right;\n",
       "    }\n",
       "</style>\n",
       "<table border=\"1\" class=\"dataframe\">\n",
       "  <thead>\n",
       "    <tr style=\"text-align: right;\">\n",
       "      <th></th>\n",
       "      <th>user_id</th>\n",
       "      <th>feature_17</th>\n",
       "      <th>feature_27</th>\n",
       "      <th>feature_40</th>\n",
       "      <th>feature_61</th>\n",
       "      <th>feature_72</th>\n",
       "      <th>feature_86</th>\n",
       "      <th>feature_173</th>\n",
       "      <th>feature_317</th>\n",
       "      <th>feature_414</th>\n",
       "      <th>...</th>\n",
       "      <th>feature_1791</th>\n",
       "      <th>feature_1813</th>\n",
       "      <th>feature_1816</th>\n",
       "      <th>feature_1822</th>\n",
       "      <th>feature_1864</th>\n",
       "      <th>feature_1918</th>\n",
       "      <th>feature_1922</th>\n",
       "      <th>feature_1950</th>\n",
       "      <th>feature_1961</th>\n",
       "      <th>feature_1969</th>\n",
       "    </tr>\n",
       "  </thead>\n",
       "  <tbody>\n",
       "    <tr>\n",
       "      <th>0</th>\n",
       "      <td>0</td>\n",
       "      <td>0.119278</td>\n",
       "      <td>0.525636</td>\n",
       "      <td>0.900191</td>\n",
       "      <td>0.083202</td>\n",
       "      <td>0.329536</td>\n",
       "      <td>0.000521</td>\n",
       "      <td>0.000000</td>\n",
       "      <td>0.627162</td>\n",
       "      <td>0.091552</td>\n",
       "      <td>...</td>\n",
       "      <td>0.033612</td>\n",
       "      <td>0.107358</td>\n",
       "      <td>0.372768</td>\n",
       "      <td>0.007634</td>\n",
       "      <td>0.932529</td>\n",
       "      <td>0.114959</td>\n",
       "      <td>1.013090</td>\n",
       "      <td>0.649760</td>\n",
       "      <td>0.084254</td>\n",
       "      <td>1.045067</td>\n",
       "    </tr>\n",
       "    <tr>\n",
       "      <th>1</th>\n",
       "      <td>1</td>\n",
       "      <td>0.000000</td>\n",
       "      <td>0.117184</td>\n",
       "      <td>0.357163</td>\n",
       "      <td>0.095469</td>\n",
       "      <td>0.855587</td>\n",
       "      <td>0.198007</td>\n",
       "      <td>0.393067</td>\n",
       "      <td>1.099741</td>\n",
       "      <td>0.066106</td>\n",
       "      <td>...</td>\n",
       "      <td>0.133920</td>\n",
       "      <td>0.386295</td>\n",
       "      <td>0.014066</td>\n",
       "      <td>0.692967</td>\n",
       "      <td>0.749812</td>\n",
       "      <td>0.009956</td>\n",
       "      <td>0.044573</td>\n",
       "      <td>0.585450</td>\n",
       "      <td>0.136455</td>\n",
       "      <td>0.490154</td>\n",
       "    </tr>\n",
       "    <tr>\n",
       "      <th>2</th>\n",
       "      <td>2</td>\n",
       "      <td>0.000446</td>\n",
       "      <td>0.315113</td>\n",
       "      <td>0.409932</td>\n",
       "      <td>0.027620</td>\n",
       "      <td>1.140514</td>\n",
       "      <td>0.000000</td>\n",
       "      <td>0.000000</td>\n",
       "      <td>0.779874</td>\n",
       "      <td>0.061270</td>\n",
       "      <td>...</td>\n",
       "      <td>0.120005</td>\n",
       "      <td>0.069618</td>\n",
       "      <td>0.000000</td>\n",
       "      <td>0.077035</td>\n",
       "      <td>0.110357</td>\n",
       "      <td>0.041843</td>\n",
       "      <td>0.620970</td>\n",
       "      <td>0.327903</td>\n",
       "      <td>0.003597</td>\n",
       "      <td>0.305369</td>\n",
       "    </tr>\n",
       "    <tr>\n",
       "      <th>3</th>\n",
       "      <td>3</td>\n",
       "      <td>0.166473</td>\n",
       "      <td>0.024092</td>\n",
       "      <td>0.081909</td>\n",
       "      <td>0.005259</td>\n",
       "      <td>0.864800</td>\n",
       "      <td>0.000000</td>\n",
       "      <td>0.000000</td>\n",
       "      <td>0.739145</td>\n",
       "      <td>0.083874</td>\n",
       "      <td>...</td>\n",
       "      <td>0.184952</td>\n",
       "      <td>0.094760</td>\n",
       "      <td>0.046148</td>\n",
       "      <td>0.088233</td>\n",
       "      <td>0.332397</td>\n",
       "      <td>0.135303</td>\n",
       "      <td>0.062701</td>\n",
       "      <td>0.294951</td>\n",
       "      <td>0.000000</td>\n",
       "      <td>0.285678</td>\n",
       "    </tr>\n",
       "    <tr>\n",
       "      <th>4</th>\n",
       "      <td>4</td>\n",
       "      <td>0.349089</td>\n",
       "      <td>0.544103</td>\n",
       "      <td>1.188643</td>\n",
       "      <td>0.183290</td>\n",
       "      <td>0.792999</td>\n",
       "      <td>0.244120</td>\n",
       "      <td>0.246967</td>\n",
       "      <td>0.664849</td>\n",
       "      <td>0.181680</td>\n",
       "      <td>...</td>\n",
       "      <td>0.173362</td>\n",
       "      <td>0.026295</td>\n",
       "      <td>0.135455</td>\n",
       "      <td>0.000000</td>\n",
       "      <td>1.579148</td>\n",
       "      <td>0.016151</td>\n",
       "      <td>0.113244</td>\n",
       "      <td>0.672702</td>\n",
       "      <td>0.875126</td>\n",
       "      <td>0.149596</td>\n",
       "    </tr>\n",
       "  </tbody>\n",
       "</table>\n",
       "<p>5 rows × 47 columns</p>\n",
       "</div>"
      ],
      "text/plain": [
       "   user_id  feature_17  feature_27  feature_40  feature_61  feature_72  \\\n",
       "0        0    0.119278    0.525636    0.900191    0.083202    0.329536   \n",
       "1        1    0.000000    0.117184    0.357163    0.095469    0.855587   \n",
       "2        2    0.000446    0.315113    0.409932    0.027620    1.140514   \n",
       "3        3    0.166473    0.024092    0.081909    0.005259    0.864800   \n",
       "4        4    0.349089    0.544103    1.188643    0.183290    0.792999   \n",
       "\n",
       "   feature_86  feature_173  feature_317  feature_414  ...  feature_1791  \\\n",
       "0    0.000521     0.000000     0.627162     0.091552  ...      0.033612   \n",
       "1    0.198007     0.393067     1.099741     0.066106  ...      0.133920   \n",
       "2    0.000000     0.000000     0.779874     0.061270  ...      0.120005   \n",
       "3    0.000000     0.000000     0.739145     0.083874  ...      0.184952   \n",
       "4    0.244120     0.246967     0.664849     0.181680  ...      0.173362   \n",
       "\n",
       "   feature_1813  feature_1816  feature_1822  feature_1864  feature_1918  \\\n",
       "0      0.107358      0.372768      0.007634      0.932529      0.114959   \n",
       "1      0.386295      0.014066      0.692967      0.749812      0.009956   \n",
       "2      0.069618      0.000000      0.077035      0.110357      0.041843   \n",
       "3      0.094760      0.046148      0.088233      0.332397      0.135303   \n",
       "4      0.026295      0.135455      0.000000      1.579148      0.016151   \n",
       "\n",
       "   feature_1922  feature_1950  feature_1961  feature_1969  \n",
       "0      1.013090      0.649760      0.084254      1.045067  \n",
       "1      0.044573      0.585450      0.136455      0.490154  \n",
       "2      0.620970      0.327903      0.003597      0.305369  \n",
       "3      0.062701      0.294951      0.000000      0.285678  \n",
       "4      0.113244      0.672702      0.875126      0.149596  \n",
       "\n",
       "[5 rows x 47 columns]"
      ]
     },
     "execution_count": 49,
     "metadata": {},
     "output_type": "execute_result"
    }
   ],
   "source": [
    "user_prof_ind_df = pd.DataFrame(x[x.columns[(sel_index)]])\n",
    "user_profile_images_final = pd.concat([user_vectorized_profile_images[['user_id']], user_prof_ind_df], axis=1)\n",
    "user_profile_images_final.head()"
   ]
  },
  {
   "cell_type": "markdown",
   "metadata": {},
   "source": [
    "## Join all tables together"
   ]
  },
  {
   "cell_type": "code",
   "execution_count": 50,
   "metadata": {
    "tags": []
   },
   "outputs": [
    {
     "name": "stdout",
     "output_type": "stream",
     "text": [
      "Shape:\n",
      "train_tweets: (29625, 151)\n",
      "train_tweets_media: (21010, 2048)\n",
      "train_tweets_text: (29625, 671)\n",
      "\n",
      "user (52, 27)\n",
      "user_description (52, 1)\n",
      "user_profile (52, 47)\n"
     ]
    }
   ],
   "source": [
    "print(\"Shape:\")\n",
    "print(\"train_tweets:\", train_tweets_final.shape)\n",
    "print(\"train_tweets_media:\", train_tweets_media_final.shape) # join on tweet id\n",
    "print(\"train_tweets_text:\", train_tweets_text_final.shape) # join on tweet id\n",
    "print(\"\")\n",
    "print(\"user\", users_final.shape) \n",
    "print(\"user_description\", user_descriptions_final.shape) # join on user id\n",
    "print(\"user_profile\", user_profile_images_final.shape) # join on user id"
   ]
  },
  {
   "cell_type": "code",
   "execution_count": 51,
   "metadata": {
    "tags": []
   },
   "outputs": [
    {
     "data": {
      "text/html": [
       "<div>\n",
       "<style scoped>\n",
       "    .dataframe tbody tr th:only-of-type {\n",
       "        vertical-align: middle;\n",
       "    }\n",
       "\n",
       "    .dataframe tbody tr th {\n",
       "        vertical-align: top;\n",
       "    }\n",
       "\n",
       "    .dataframe thead th {\n",
       "        text-align: right;\n",
       "    }\n",
       "</style>\n",
       "<table border=\"1\" class=\"dataframe\">\n",
       "  <thead>\n",
       "    <tr style=\"text-align: right;\">\n",
       "      <th></th>\n",
       "      <th>tweet_id</th>\n",
       "      <th>text_feature_0</th>\n",
       "      <th>text_feature_1</th>\n",
       "      <th>text_feature_2</th>\n",
       "      <th>text_feature_3</th>\n",
       "      <th>text_feature_4</th>\n",
       "      <th>text_feature_5</th>\n",
       "      <th>text_feature_6</th>\n",
       "      <th>text_feature_7</th>\n",
       "      <th>text_feature_8</th>\n",
       "      <th>...</th>\n",
       "      <th>text_feature_758</th>\n",
       "      <th>text_feature_759</th>\n",
       "      <th>text_feature_760</th>\n",
       "      <th>text_feature_761</th>\n",
       "      <th>text_feature_762</th>\n",
       "      <th>text_feature_763</th>\n",
       "      <th>text_feature_764</th>\n",
       "      <th>text_feature_765</th>\n",
       "      <th>text_feature_766</th>\n",
       "      <th>text_feature_767</th>\n",
       "    </tr>\n",
       "  </thead>\n",
       "  <tbody>\n",
       "    <tr>\n",
       "      <th>0</th>\n",
       "      <td>0</td>\n",
       "      <td>0.125605</td>\n",
       "      <td>-0.136067</td>\n",
       "      <td>-0.121691</td>\n",
       "      <td>-0.160296</td>\n",
       "      <td>-0.074407</td>\n",
       "      <td>0.119014</td>\n",
       "      <td>-0.343523</td>\n",
       "      <td>-0.289790</td>\n",
       "      <td>-0.037007</td>\n",
       "      <td>...</td>\n",
       "      <td>0.215511</td>\n",
       "      <td>-0.330016</td>\n",
       "      <td>-0.143669</td>\n",
       "      <td>-0.017097</td>\n",
       "      <td>0.211852</td>\n",
       "      <td>0.009358</td>\n",
       "      <td>0.205395</td>\n",
       "      <td>-0.100113</td>\n",
       "      <td>0.013015</td>\n",
       "      <td>0.053247</td>\n",
       "    </tr>\n",
       "    <tr>\n",
       "      <th>1</th>\n",
       "      <td>1</td>\n",
       "      <td>0.064982</td>\n",
       "      <td>-0.116850</td>\n",
       "      <td>0.034871</td>\n",
       "      <td>-0.090357</td>\n",
       "      <td>-0.067459</td>\n",
       "      <td>0.030954</td>\n",
       "      <td>-0.361263</td>\n",
       "      <td>-0.294617</td>\n",
       "      <td>-0.077854</td>\n",
       "      <td>...</td>\n",
       "      <td>0.193301</td>\n",
       "      <td>-0.391395</td>\n",
       "      <td>-0.120417</td>\n",
       "      <td>-0.072493</td>\n",
       "      <td>0.188275</td>\n",
       "      <td>-0.084694</td>\n",
       "      <td>0.152518</td>\n",
       "      <td>-0.109684</td>\n",
       "      <td>0.034304</td>\n",
       "      <td>0.018237</td>\n",
       "    </tr>\n",
       "    <tr>\n",
       "      <th>2</th>\n",
       "      <td>4</td>\n",
       "      <td>0.051160</td>\n",
       "      <td>-0.076732</td>\n",
       "      <td>0.005174</td>\n",
       "      <td>-0.071699</td>\n",
       "      <td>-0.204004</td>\n",
       "      <td>0.034764</td>\n",
       "      <td>-0.320014</td>\n",
       "      <td>-0.231828</td>\n",
       "      <td>-0.121784</td>\n",
       "      <td>...</td>\n",
       "      <td>0.163904</td>\n",
       "      <td>-0.299526</td>\n",
       "      <td>-0.099811</td>\n",
       "      <td>-0.049208</td>\n",
       "      <td>0.170104</td>\n",
       "      <td>-0.125188</td>\n",
       "      <td>0.111381</td>\n",
       "      <td>-0.180564</td>\n",
       "      <td>-0.061082</td>\n",
       "      <td>0.142650</td>\n",
       "    </tr>\n",
       "    <tr>\n",
       "      <th>3</th>\n",
       "      <td>5</td>\n",
       "      <td>0.127061</td>\n",
       "      <td>-0.063152</td>\n",
       "      <td>0.010520</td>\n",
       "      <td>0.000385</td>\n",
       "      <td>-0.146983</td>\n",
       "      <td>-0.099981</td>\n",
       "      <td>-0.382142</td>\n",
       "      <td>-0.287832</td>\n",
       "      <td>-0.129653</td>\n",
       "      <td>...</td>\n",
       "      <td>0.168049</td>\n",
       "      <td>-0.355778</td>\n",
       "      <td>-0.150411</td>\n",
       "      <td>-0.067176</td>\n",
       "      <td>0.216000</td>\n",
       "      <td>-0.076183</td>\n",
       "      <td>0.158889</td>\n",
       "      <td>-0.057773</td>\n",
       "      <td>-0.079182</td>\n",
       "      <td>0.057414</td>\n",
       "    </tr>\n",
       "    <tr>\n",
       "      <th>4</th>\n",
       "      <td>8</td>\n",
       "      <td>0.144889</td>\n",
       "      <td>-0.084671</td>\n",
       "      <td>0.147057</td>\n",
       "      <td>-0.068760</td>\n",
       "      <td>-0.024226</td>\n",
       "      <td>0.081921</td>\n",
       "      <td>-0.362943</td>\n",
       "      <td>-0.288691</td>\n",
       "      <td>-0.121206</td>\n",
       "      <td>...</td>\n",
       "      <td>0.212959</td>\n",
       "      <td>-0.389882</td>\n",
       "      <td>-0.157168</td>\n",
       "      <td>-0.051536</td>\n",
       "      <td>0.129986</td>\n",
       "      <td>-0.021489</td>\n",
       "      <td>0.184418</td>\n",
       "      <td>-0.058603</td>\n",
       "      <td>-0.023088</td>\n",
       "      <td>0.084837</td>\n",
       "    </tr>\n",
       "  </tbody>\n",
       "</table>\n",
       "<p>5 rows × 671 columns</p>\n",
       "</div>"
      ],
      "text/plain": [
       "   tweet_id  text_feature_0  text_feature_1  text_feature_2  text_feature_3  \\\n",
       "0         0        0.125605       -0.136067       -0.121691       -0.160296   \n",
       "1         1        0.064982       -0.116850        0.034871       -0.090357   \n",
       "2         4        0.051160       -0.076732        0.005174       -0.071699   \n",
       "3         5        0.127061       -0.063152        0.010520        0.000385   \n",
       "4         8        0.144889       -0.084671        0.147057       -0.068760   \n",
       "\n",
       "   text_feature_4  text_feature_5  text_feature_6  text_feature_7  \\\n",
       "0       -0.074407        0.119014       -0.343523       -0.289790   \n",
       "1       -0.067459        0.030954       -0.361263       -0.294617   \n",
       "2       -0.204004        0.034764       -0.320014       -0.231828   \n",
       "3       -0.146983       -0.099981       -0.382142       -0.287832   \n",
       "4       -0.024226        0.081921       -0.362943       -0.288691   \n",
       "\n",
       "   text_feature_8  ...  text_feature_758  text_feature_759  text_feature_760  \\\n",
       "0       -0.037007  ...          0.215511         -0.330016         -0.143669   \n",
       "1       -0.077854  ...          0.193301         -0.391395         -0.120417   \n",
       "2       -0.121784  ...          0.163904         -0.299526         -0.099811   \n",
       "3       -0.129653  ...          0.168049         -0.355778         -0.150411   \n",
       "4       -0.121206  ...          0.212959         -0.389882         -0.157168   \n",
       "\n",
       "   text_feature_761  text_feature_762  text_feature_763  text_feature_764  \\\n",
       "0         -0.017097          0.211852          0.009358          0.205395   \n",
       "1         -0.072493          0.188275         -0.084694          0.152518   \n",
       "2         -0.049208          0.170104         -0.125188          0.111381   \n",
       "3         -0.067176          0.216000         -0.076183          0.158889   \n",
       "4         -0.051536          0.129986         -0.021489          0.184418   \n",
       "\n",
       "   text_feature_765  text_feature_766  text_feature_767  \n",
       "0         -0.100113          0.013015          0.053247  \n",
       "1         -0.109684          0.034304          0.018237  \n",
       "2         -0.180564         -0.061082          0.142650  \n",
       "3         -0.057773         -0.079182          0.057414  \n",
       "4         -0.058603         -0.023088          0.084837  \n",
       "\n",
       "[5 rows x 671 columns]"
      ]
     },
     "execution_count": 51,
     "metadata": {},
     "output_type": "execute_result"
    }
   ],
   "source": [
    "# tweets_vectorized_text and user_vectorized_profile_images has same column names. \n",
    "# rename columns in tweets_vectorized_text\n",
    "cols = train_tweets_text_final.columns[train_tweets_text_final.columns.str.contains('feature_')]\n",
    "train_tweets_text_final.rename(columns = dict(zip(cols, 'text_' + cols)), inplace=True)\n",
    "train_tweets_text_final.head()"
   ]
  },
  {
   "cell_type": "code",
   "execution_count": 52,
   "metadata": {
    "tags": []
   },
   "outputs": [],
   "source": [
    "# Group media by tweet_id (since there are multiple media id for a single tweet)\n",
    "media_df = train_tweets_media_final.groupby('tweet_id').mean()"
   ]
  },
  {
   "cell_type": "code",
   "execution_count": 53,
   "metadata": {
    "tags": []
   },
   "outputs": [
    {
     "data": {
      "text/html": [
       "<div>\n",
       "<style scoped>\n",
       "    .dataframe tbody tr th:only-of-type {\n",
       "        vertical-align: middle;\n",
       "    }\n",
       "\n",
       "    .dataframe tbody tr th {\n",
       "        vertical-align: top;\n",
       "    }\n",
       "\n",
       "    .dataframe thead th {\n",
       "        text-align: right;\n",
       "    }\n",
       "</style>\n",
       "<table border=\"1\" class=\"dataframe\">\n",
       "  <thead>\n",
       "    <tr style=\"text-align: right;\">\n",
       "      <th></th>\n",
       "      <th>tweet_id</th>\n",
       "      <th>text_text_feature_0</th>\n",
       "      <th>text_text_feature_1</th>\n",
       "      <th>text_text_feature_2</th>\n",
       "      <th>text_text_feature_3</th>\n",
       "      <th>text_text_feature_4</th>\n",
       "      <th>text_text_feature_5</th>\n",
       "      <th>text_text_feature_6</th>\n",
       "      <th>text_text_feature_7</th>\n",
       "      <th>text_text_feature_8</th>\n",
       "      <th>...</th>\n",
       "      <th>text_text_feature_758</th>\n",
       "      <th>text_text_feature_759</th>\n",
       "      <th>text_text_feature_760</th>\n",
       "      <th>text_text_feature_761</th>\n",
       "      <th>text_text_feature_762</th>\n",
       "      <th>text_text_feature_763</th>\n",
       "      <th>text_text_feature_764</th>\n",
       "      <th>text_text_feature_765</th>\n",
       "      <th>text_text_feature_766</th>\n",
       "      <th>text_text_feature_767</th>\n",
       "    </tr>\n",
       "  </thead>\n",
       "  <tbody>\n",
       "    <tr>\n",
       "      <th>0</th>\n",
       "      <td>0</td>\n",
       "      <td>0.125605</td>\n",
       "      <td>-0.136067</td>\n",
       "      <td>-0.121691</td>\n",
       "      <td>-0.160296</td>\n",
       "      <td>-0.074407</td>\n",
       "      <td>0.119014</td>\n",
       "      <td>-0.343523</td>\n",
       "      <td>-0.289790</td>\n",
       "      <td>-0.037007</td>\n",
       "      <td>...</td>\n",
       "      <td>0.215511</td>\n",
       "      <td>-0.330016</td>\n",
       "      <td>-0.143669</td>\n",
       "      <td>-0.017097</td>\n",
       "      <td>0.211852</td>\n",
       "      <td>0.009358</td>\n",
       "      <td>0.205395</td>\n",
       "      <td>-0.100113</td>\n",
       "      <td>0.013015</td>\n",
       "      <td>0.053247</td>\n",
       "    </tr>\n",
       "    <tr>\n",
       "      <th>1</th>\n",
       "      <td>1</td>\n",
       "      <td>0.064982</td>\n",
       "      <td>-0.116850</td>\n",
       "      <td>0.034871</td>\n",
       "      <td>-0.090357</td>\n",
       "      <td>-0.067459</td>\n",
       "      <td>0.030954</td>\n",
       "      <td>-0.361263</td>\n",
       "      <td>-0.294617</td>\n",
       "      <td>-0.077854</td>\n",
       "      <td>...</td>\n",
       "      <td>0.193301</td>\n",
       "      <td>-0.391395</td>\n",
       "      <td>-0.120417</td>\n",
       "      <td>-0.072493</td>\n",
       "      <td>0.188275</td>\n",
       "      <td>-0.084694</td>\n",
       "      <td>0.152518</td>\n",
       "      <td>-0.109684</td>\n",
       "      <td>0.034304</td>\n",
       "      <td>0.018237</td>\n",
       "    </tr>\n",
       "    <tr>\n",
       "      <th>2</th>\n",
       "      <td>4</td>\n",
       "      <td>0.051160</td>\n",
       "      <td>-0.076732</td>\n",
       "      <td>0.005174</td>\n",
       "      <td>-0.071699</td>\n",
       "      <td>-0.204004</td>\n",
       "      <td>0.034764</td>\n",
       "      <td>-0.320014</td>\n",
       "      <td>-0.231828</td>\n",
       "      <td>-0.121784</td>\n",
       "      <td>...</td>\n",
       "      <td>0.163904</td>\n",
       "      <td>-0.299526</td>\n",
       "      <td>-0.099811</td>\n",
       "      <td>-0.049208</td>\n",
       "      <td>0.170104</td>\n",
       "      <td>-0.125188</td>\n",
       "      <td>0.111381</td>\n",
       "      <td>-0.180564</td>\n",
       "      <td>-0.061082</td>\n",
       "      <td>0.142650</td>\n",
       "    </tr>\n",
       "    <tr>\n",
       "      <th>3</th>\n",
       "      <td>5</td>\n",
       "      <td>0.127061</td>\n",
       "      <td>-0.063152</td>\n",
       "      <td>0.010520</td>\n",
       "      <td>0.000385</td>\n",
       "      <td>-0.146983</td>\n",
       "      <td>-0.099981</td>\n",
       "      <td>-0.382142</td>\n",
       "      <td>-0.287832</td>\n",
       "      <td>-0.129653</td>\n",
       "      <td>...</td>\n",
       "      <td>0.168049</td>\n",
       "      <td>-0.355778</td>\n",
       "      <td>-0.150411</td>\n",
       "      <td>-0.067176</td>\n",
       "      <td>0.216000</td>\n",
       "      <td>-0.076183</td>\n",
       "      <td>0.158889</td>\n",
       "      <td>-0.057773</td>\n",
       "      <td>-0.079182</td>\n",
       "      <td>0.057414</td>\n",
       "    </tr>\n",
       "    <tr>\n",
       "      <th>4</th>\n",
       "      <td>8</td>\n",
       "      <td>0.144889</td>\n",
       "      <td>-0.084671</td>\n",
       "      <td>0.147057</td>\n",
       "      <td>-0.068760</td>\n",
       "      <td>-0.024226</td>\n",
       "      <td>0.081921</td>\n",
       "      <td>-0.362943</td>\n",
       "      <td>-0.288691</td>\n",
       "      <td>-0.121206</td>\n",
       "      <td>...</td>\n",
       "      <td>0.212959</td>\n",
       "      <td>-0.389882</td>\n",
       "      <td>-0.157168</td>\n",
       "      <td>-0.051536</td>\n",
       "      <td>0.129986</td>\n",
       "      <td>-0.021489</td>\n",
       "      <td>0.184418</td>\n",
       "      <td>-0.058603</td>\n",
       "      <td>-0.023088</td>\n",
       "      <td>0.084837</td>\n",
       "    </tr>\n",
       "  </tbody>\n",
       "</table>\n",
       "<p>5 rows × 671 columns</p>\n",
       "</div>"
      ],
      "text/plain": [
       "   tweet_id  text_text_feature_0  text_text_feature_1  text_text_feature_2  \\\n",
       "0         0             0.125605            -0.136067            -0.121691   \n",
       "1         1             0.064982            -0.116850             0.034871   \n",
       "2         4             0.051160            -0.076732             0.005174   \n",
       "3         5             0.127061            -0.063152             0.010520   \n",
       "4         8             0.144889            -0.084671             0.147057   \n",
       "\n",
       "   text_text_feature_3  text_text_feature_4  text_text_feature_5  \\\n",
       "0            -0.160296            -0.074407             0.119014   \n",
       "1            -0.090357            -0.067459             0.030954   \n",
       "2            -0.071699            -0.204004             0.034764   \n",
       "3             0.000385            -0.146983            -0.099981   \n",
       "4            -0.068760            -0.024226             0.081921   \n",
       "\n",
       "   text_text_feature_6  text_text_feature_7  text_text_feature_8  ...  \\\n",
       "0            -0.343523            -0.289790            -0.037007  ...   \n",
       "1            -0.361263            -0.294617            -0.077854  ...   \n",
       "2            -0.320014            -0.231828            -0.121784  ...   \n",
       "3            -0.382142            -0.287832            -0.129653  ...   \n",
       "4            -0.362943            -0.288691            -0.121206  ...   \n",
       "\n",
       "   text_text_feature_758  text_text_feature_759  text_text_feature_760  \\\n",
       "0               0.215511              -0.330016              -0.143669   \n",
       "1               0.193301              -0.391395              -0.120417   \n",
       "2               0.163904              -0.299526              -0.099811   \n",
       "3               0.168049              -0.355778              -0.150411   \n",
       "4               0.212959              -0.389882              -0.157168   \n",
       "\n",
       "   text_text_feature_761  text_text_feature_762  text_text_feature_763  \\\n",
       "0              -0.017097               0.211852               0.009358   \n",
       "1              -0.072493               0.188275              -0.084694   \n",
       "2              -0.049208               0.170104              -0.125188   \n",
       "3              -0.067176               0.216000              -0.076183   \n",
       "4              -0.051536               0.129986              -0.021489   \n",
       "\n",
       "   text_text_feature_764  text_text_feature_765  text_text_feature_766  \\\n",
       "0               0.205395              -0.100113               0.013015   \n",
       "1               0.152518              -0.109684               0.034304   \n",
       "2               0.111381              -0.180564              -0.061082   \n",
       "3               0.158889              -0.057773              -0.079182   \n",
       "4               0.184418              -0.058603              -0.023088   \n",
       "\n",
       "   text_text_feature_767  \n",
       "0               0.053247  \n",
       "1               0.018237  \n",
       "2               0.142650  \n",
       "3               0.057414  \n",
       "4               0.084837  \n",
       "\n",
       "[5 rows x 671 columns]"
      ]
     },
     "execution_count": 53,
     "metadata": {},
     "output_type": "execute_result"
    }
   ],
   "source": [
    "# tweets_vectorized_text and user_vectorized_profile_images has same column names. \n",
    "# rename columns in tweets_vectorized_text\n",
    "cols = train_tweets_text_final.columns[train_tweets_text_final.columns.str.contains('feature_')]\n",
    "train_tweets_text_final.rename(columns = dict(zip(cols, 'text_' + cols)), inplace=True)\n",
    "train_tweets_text_final.head()"
   ]
  },
  {
   "cell_type": "code",
   "execution_count": 54,
   "metadata": {
    "tags": []
   },
   "outputs": [
    {
     "data": {
      "text/plain": [
       "(29625, 2940)"
      ]
     },
     "execution_count": 54,
     "metadata": {},
     "output_type": "execute_result"
    }
   ],
   "source": [
    "# Merge all tables on the column 'user_id' for user data and tweet_id for tweet data\n",
    "\n",
    "# Join tweets data\n",
    "tweet_df = pd.merge(media_df, train_tweets_text_final, on = 'tweet_id', how = 'right')\n",
    "tweet_df.fillna(0, inplace=True)\n",
    "\n",
    "# Join users data\n",
    "user_df = pd.merge(users_final, user_profile_images_final, on='user_id')\n",
    "\n",
    "# Join tweets data on train_tweets\n",
    "tweet_df_final = pd.merge(train_tweets_final, tweet_df, on = 'tweet_id')\n",
    "\n",
    "# Join with the users data\n",
    "final_df = pd.merge(tweet_df_final, user_df, left_on = 'tweet_user_id', right_on='user_id')\n",
    "\n",
    "final_df.shape"
   ]
  },
  {
   "cell_type": "markdown",
   "metadata": {},
   "source": [
    "# Preprocessing Test Data\n",
    "The preprocessing done on the train data is replicated on the test data, so that our model we train using our train data is usable for our test data.\n",
    "## Test Tweets\n",
    "### Missing Values"
   ]
  },
  {
   "cell_type": "code",
   "execution_count": 55,
   "metadata": {
    "tags": []
   },
   "outputs": [
    {
     "data": {
      "text/plain": [
       "tweet_id                     0\n",
       "tweet_user_id                0\n",
       "tweet_created_at_year        0\n",
       "tweet_created_at_month       0\n",
       "tweet_created_at_day         0\n",
       "tweet_created_at_hour        0\n",
       "tweet_hashtag_count          0\n",
       "tweet_url_count              0\n",
       "tweet_mention_count          0\n",
       "tweet_has_attachment         0\n",
       "tweet_attachment_class       0\n",
       "tweet_language_id            0\n",
       "tweet_topic_ids           1802\n",
       "dtype: int64"
      ]
     },
     "execution_count": 55,
     "metadata": {},
     "output_type": "execute_result"
    }
   ],
   "source": [
    "test_tweets.isnull().sum()"
   ]
  },
  {
   "cell_type": "code",
   "execution_count": 56,
   "metadata": {
    "tags": []
   },
   "outputs": [],
   "source": [
    "# Fill missing values as done in Train Tweets\n",
    "test_tweets.fillna({'tweet_topic_ids':\"['0']\"}, inplace=True)"
   ]
  },
  {
   "cell_type": "markdown",
   "metadata": {},
   "source": [
    "### Encoding"
   ]
  },
  {
   "cell_type": "code",
   "execution_count": 57,
   "metadata": {
    "tags": []
   },
   "outputs": [],
   "source": [
    "# One hot Encoding\n",
    "topic_ids = (\n",
    "    test_tweets['tweet_topic_ids'].str.strip('[]').str.split('\\s*,\\s*').explode()\n",
    "    .str.get_dummies().sum(level=0).add_prefix('topic_id_')\n",
    ") \n",
    "topic_ids.rename(columns = lambda x: x.replace(\"'\", \"\"), inplace=True)"
   ]
  },
  {
   "cell_type": "code",
   "execution_count": 58,
   "metadata": {
    "tags": []
   },
   "outputs": [],
   "source": [
    "year = pd.get_dummies(test_tweets.tweet_created_at_year, prefix='year')\n",
    "month = pd.get_dummies(test_tweets.tweet_created_at_month , prefix='month')\n",
    "day = pd.get_dummies(test_tweets.tweet_created_at_day, prefix='day')\n",
    "attachment = pd.get_dummies(test_tweets.tweet_attachment_class, prefix='attatchment')\n",
    "language = pd.get_dummies(test_tweets.tweet_language_id, prefix='language')"
   ]
  },
  {
   "cell_type": "code",
   "execution_count": 59,
   "metadata": {
    "tags": []
   },
   "outputs": [],
   "source": [
    "# Cyclical encoding\n",
    "hour_sin = np.sin(2*np.pi*test_tweets['tweet_created_at_hour']/24.0)\n",
    "hour_sin.name = 'hour_sin'\n",
    "hour_cos = np.cos(2*np.pi*test_tweets['tweet_created_at_hour']/24.0)\n",
    "hour_cos.name = 'hour_cos'"
   ]
  },
  {
   "cell_type": "code",
   "execution_count": 60,
   "metadata": {
    "tags": []
   },
   "outputs": [
    {
     "data": {
      "text/html": [
       "<div>\n",
       "<style scoped>\n",
       "    .dataframe tbody tr th:only-of-type {\n",
       "        vertical-align: middle;\n",
       "    }\n",
       "\n",
       "    .dataframe tbody tr th {\n",
       "        vertical-align: top;\n",
       "    }\n",
       "\n",
       "    .dataframe thead th {\n",
       "        text-align: right;\n",
       "    }\n",
       "</style>\n",
       "<table border=\"1\" class=\"dataframe\">\n",
       "  <thead>\n",
       "    <tr style=\"text-align: right;\">\n",
       "      <th></th>\n",
       "      <th>tweet_id</th>\n",
       "      <th>tweet_user_id</th>\n",
       "      <th>tweet_hashtag_count</th>\n",
       "      <th>tweet_url_count</th>\n",
       "      <th>tweet_mention_count</th>\n",
       "      <th>tweet_has_attachment</th>\n",
       "      <th>topic_id_0</th>\n",
       "      <th>topic_id_100</th>\n",
       "      <th>topic_id_101</th>\n",
       "      <th>topic_id_104</th>\n",
       "      <th>...</th>\n",
       "      <th>language_19</th>\n",
       "      <th>language_20</th>\n",
       "      <th>language_21</th>\n",
       "      <th>language_23</th>\n",
       "      <th>language_24</th>\n",
       "      <th>language_25</th>\n",
       "      <th>language_26</th>\n",
       "      <th>language_29</th>\n",
       "      <th>hour_sin</th>\n",
       "      <th>hour_cos</th>\n",
       "    </tr>\n",
       "  </thead>\n",
       "  <tbody>\n",
       "    <tr>\n",
       "      <th>0</th>\n",
       "      <td>6238</td>\n",
       "      <td>13</td>\n",
       "      <td>5.0</td>\n",
       "      <td>2.0</td>\n",
       "      <td>0.0</td>\n",
       "      <td>True</td>\n",
       "      <td>0</td>\n",
       "      <td>0</td>\n",
       "      <td>0</td>\n",
       "      <td>0</td>\n",
       "      <td>...</td>\n",
       "      <td>0</td>\n",
       "      <td>0</td>\n",
       "      <td>0</td>\n",
       "      <td>0</td>\n",
       "      <td>0</td>\n",
       "      <td>0</td>\n",
       "      <td>0</td>\n",
       "      <td>0</td>\n",
       "      <td>0.500000</td>\n",
       "      <td>-8.660254e-01</td>\n",
       "    </tr>\n",
       "    <tr>\n",
       "      <th>1</th>\n",
       "      <td>37458</td>\n",
       "      <td>14</td>\n",
       "      <td>0.0</td>\n",
       "      <td>0.0</td>\n",
       "      <td>1.0</td>\n",
       "      <td>False</td>\n",
       "      <td>0</td>\n",
       "      <td>0</td>\n",
       "      <td>0</td>\n",
       "      <td>0</td>\n",
       "      <td>...</td>\n",
       "      <td>0</td>\n",
       "      <td>0</td>\n",
       "      <td>0</td>\n",
       "      <td>0</td>\n",
       "      <td>0</td>\n",
       "      <td>0</td>\n",
       "      <td>0</td>\n",
       "      <td>0</td>\n",
       "      <td>-1.000000</td>\n",
       "      <td>-1.836970e-16</td>\n",
       "    </tr>\n",
       "    <tr>\n",
       "      <th>2</th>\n",
       "      <td>23968</td>\n",
       "      <td>50</td>\n",
       "      <td>0.0</td>\n",
       "      <td>1.0</td>\n",
       "      <td>0.0</td>\n",
       "      <td>False</td>\n",
       "      <td>0</td>\n",
       "      <td>0</td>\n",
       "      <td>0</td>\n",
       "      <td>0</td>\n",
       "      <td>...</td>\n",
       "      <td>0</td>\n",
       "      <td>0</td>\n",
       "      <td>0</td>\n",
       "      <td>0</td>\n",
       "      <td>0</td>\n",
       "      <td>0</td>\n",
       "      <td>0</td>\n",
       "      <td>0</td>\n",
       "      <td>-0.866025</td>\n",
       "      <td>5.000000e-01</td>\n",
       "    </tr>\n",
       "    <tr>\n",
       "      <th>3</th>\n",
       "      <td>24137</td>\n",
       "      <td>50</td>\n",
       "      <td>0.0</td>\n",
       "      <td>1.0</td>\n",
       "      <td>1.0</td>\n",
       "      <td>False</td>\n",
       "      <td>0</td>\n",
       "      <td>0</td>\n",
       "      <td>0</td>\n",
       "      <td>0</td>\n",
       "      <td>...</td>\n",
       "      <td>0</td>\n",
       "      <td>0</td>\n",
       "      <td>0</td>\n",
       "      <td>0</td>\n",
       "      <td>0</td>\n",
       "      <td>0</td>\n",
       "      <td>0</td>\n",
       "      <td>0</td>\n",
       "      <td>-0.707107</td>\n",
       "      <td>7.071068e-01</td>\n",
       "    </tr>\n",
       "    <tr>\n",
       "      <th>4</th>\n",
       "      <td>8064</td>\n",
       "      <td>30</td>\n",
       "      <td>2.0</td>\n",
       "      <td>2.0</td>\n",
       "      <td>0.0</td>\n",
       "      <td>True</td>\n",
       "      <td>0</td>\n",
       "      <td>0</td>\n",
       "      <td>0</td>\n",
       "      <td>0</td>\n",
       "      <td>...</td>\n",
       "      <td>0</td>\n",
       "      <td>0</td>\n",
       "      <td>0</td>\n",
       "      <td>0</td>\n",
       "      <td>0</td>\n",
       "      <td>0</td>\n",
       "      <td>0</td>\n",
       "      <td>0</td>\n",
       "      <td>-0.866025</td>\n",
       "      <td>-5.000000e-01</td>\n",
       "    </tr>\n",
       "  </tbody>\n",
       "</table>\n",
       "<p>5 rows × 145 columns</p>\n",
       "</div>"
      ],
      "text/plain": [
       "   tweet_id  tweet_user_id  tweet_hashtag_count  tweet_url_count  \\\n",
       "0      6238             13                  5.0              2.0   \n",
       "1     37458             14                  0.0              0.0   \n",
       "2     23968             50                  0.0              1.0   \n",
       "3     24137             50                  0.0              1.0   \n",
       "4      8064             30                  2.0              2.0   \n",
       "\n",
       "   tweet_mention_count  tweet_has_attachment  topic_id_0  topic_id_100  \\\n",
       "0                  0.0                  True           0             0   \n",
       "1                  1.0                 False           0             0   \n",
       "2                  0.0                 False           0             0   \n",
       "3                  1.0                 False           0             0   \n",
       "4                  0.0                  True           0             0   \n",
       "\n",
       "   topic_id_101  topic_id_104  ...  language_19  language_20  language_21  \\\n",
       "0             0             0  ...            0            0            0   \n",
       "1             0             0  ...            0            0            0   \n",
       "2             0             0  ...            0            0            0   \n",
       "3             0             0  ...            0            0            0   \n",
       "4             0             0  ...            0            0            0   \n",
       "\n",
       "   language_23  language_24  language_25  language_26  language_29  hour_sin  \\\n",
       "0            0            0            0            0            0  0.500000   \n",
       "1            0            0            0            0            0 -1.000000   \n",
       "2            0            0            0            0            0 -0.866025   \n",
       "3            0            0            0            0            0 -0.707107   \n",
       "4            0            0            0            0            0 -0.866025   \n",
       "\n",
       "       hour_cos  \n",
       "0 -8.660254e-01  \n",
       "1 -1.836970e-16  \n",
       "2  5.000000e-01  \n",
       "3  7.071068e-01  \n",
       "4 -5.000000e-01  \n",
       "\n",
       "[5 rows x 145 columns]"
      ]
     },
     "execution_count": 60,
     "metadata": {},
     "output_type": "execute_result"
    }
   ],
   "source": [
    "columns_drop = [\n",
    "                \"tweet_topic_ids\",\n",
    "                \"tweet_created_at_year\",\n",
    "                \"tweet_created_at_month\",\n",
    "                \"tweet_created_at_day\",\n",
    "                \"tweet_attachment_class\",\n",
    "                \"tweet_language_id\",\n",
    "                \"tweet_created_at_hour\",\n",
    "              ]\n",
    "dfs = [\n",
    "        topic_ids,\n",
    "        year,\n",
    "        month,\n",
    "        day,\n",
    "        attachment,\n",
    "        language,\n",
    "        hour_sin,\n",
    "        hour_cos,\n",
    "      ]\n",
    "\n",
    "test_tweets_final = test_tweets.drop(columns_drop, 1).join(dfs)\n",
    "test_tweets_final.head()"
   ]
  },
  {
   "cell_type": "markdown",
   "metadata": {},
   "source": [
    "### Missing Columns"
   ]
  },
  {
   "cell_type": "code",
   "execution_count": 61,
   "metadata": {
    "tags": []
   },
   "outputs": [
    {
     "data": {
      "text/plain": [
       "{'language_26', 'topic_id_117', 'topic_id_123', 'topic_id_38'}"
      ]
     },
     "execution_count": 61,
     "metadata": {},
     "output_type": "execute_result"
    }
   ],
   "source": [
    "# Columns missing in train from test\n",
    "cols_test = set(test_tweets_final.columns) - set(train_tweets_final.columns)\n",
    "cols_test"
   ]
  },
  {
   "cell_type": "code",
   "execution_count": 62,
   "metadata": {
    "tags": []
   },
   "outputs": [],
   "source": [
    "for col in cols_test:\n",
    "    final_df[col] = 0"
   ]
  },
  {
   "cell_type": "code",
   "execution_count": 63,
   "metadata": {
    "tags": []
   },
   "outputs": [
    {
     "data": {
      "text/plain": [
       "{'language_14',\n",
       " 'language_15',\n",
       " 'language_16',\n",
       " 'language_17',\n",
       " 'language_22',\n",
       " 'language_27',\n",
       " 'language_28',\n",
       " 'language_30',\n",
       " 'topic_id_165'}"
      ]
     },
     "execution_count": 63,
     "metadata": {},
     "output_type": "execute_result"
    }
   ],
   "source": [
    "# Columns missing in test from train\n",
    "cols_train = set(train_tweets_final.columns) - set(test_tweets_final.columns)\n",
    "cols_train.remove('virality') # remove virality from columns to add to test\n",
    "cols_train"
   ]
  },
  {
   "cell_type": "code",
   "execution_count": 64,
   "metadata": {
    "tags": []
   },
   "outputs": [],
   "source": [
    "for col in cols_train:\n",
    "    test_tweets_final[col] = 0"
   ]
  },
  {
   "cell_type": "markdown",
   "metadata": {},
   "source": [
    "### Join data"
   ]
  },
  {
   "cell_type": "code",
   "execution_count": 65,
   "metadata": {
    "tags": []
   },
   "outputs": [
    {
     "data": {
      "text/plain": [
       "(12697, 2943)"
      ]
     },
     "execution_count": 65,
     "metadata": {},
     "output_type": "execute_result"
    }
   ],
   "source": [
    "test_tweets_media_final = pd.concat([test_tweets_vectorized_media[['media_id', 'tweet_id']], media_ind_df], axis=1)\n",
    "test_tweets_text_final = pd.concat([test_tweets_vectorized_text[['tweet_id']], text_ind_df], axis=1)\n",
    "\n",
    "media_df = test_tweets_media_final.groupby('tweet_id').mean()\n",
    "\n",
    "cols = test_tweets_text_final.columns[test_tweets_text_final.columns.str.contains('feature_')]\n",
    "test_tweets_text_final.rename(columns = dict(zip(cols, 'text_' + cols)), inplace=True)\n",
    "\n",
    "# Join tweets data\n",
    "tweet_df = pd.merge(media_df, test_tweets_text_final, on = 'tweet_id', how = 'right')\n",
    "tweet_df.fillna(0, inplace=True)\n",
    "\n",
    "# Join users data\n",
    "user_df = pd.merge(users_final, user_profile_images_final, on='user_id')\n",
    "\n",
    "# Join tweets data on train_tweets\n",
    "tweet_df_final = pd.merge(test_tweets_final, tweet_df, on = 'tweet_id')\n",
    "\n",
    "# Join with user data\n",
    "p_final_df = pd.merge(tweet_df_final, user_df, left_on = 'tweet_user_id', right_on='user_id')\n",
    "\n",
    "p_final_df.shape"
   ]
  },
  {
   "cell_type": "code",
   "execution_count": 66,
   "metadata": {
    "tags": []
   },
   "outputs": [
    {
     "data": {
      "text/plain": [
       "(29625, 2944)"
      ]
     },
     "execution_count": 66,
     "metadata": {},
     "output_type": "execute_result"
    }
   ],
   "source": [
    "final_df.shape "
   ]
  },
  {
   "cell_type": "markdown",
   "metadata": {},
   "source": [
    "Train has one more column than test because of virality column"
   ]
  },
  {
   "cell_type": "markdown",
   "metadata": {},
   "source": [
    "# Memory Footprint reduction.\n",
    "Function takes the minimum and the maximum of each column and changes the data type to what is optimal for the column. Implementation copied from [Eryk Lewson](https://towardsdatascience.com/make-working-with-large-dataframes-easier-at-least-for-your-memory-6f52b5f4b5c4)"
   ]
  },
  {
   "cell_type": "code",
   "execution_count": 67,
   "metadata": {
    "tags": []
   },
   "outputs": [
    {
     "ename": "FileNotFoundError",
     "evalue": "[Errno 2] No such file or directory: '../input/temp-twitter-virality/final_df.csv'",
     "output_type": "error",
     "traceback": [
      "\u001b[0;31m---------------------------------------------------------------------------\u001b[0m",
      "\u001b[0;31mFileNotFoundError\u001b[0m                         Traceback (most recent call last)",
      "\u001b[0;32m<timed exec>\u001b[0m in \u001b[0;36m<module>\u001b[0;34m\u001b[0m\n",
      "\u001b[0;32m~/.local/lib/python3.8/site-packages/pandas/util/_decorators.py\u001b[0m in \u001b[0;36mwrapper\u001b[0;34m(*args, **kwargs)\u001b[0m\n\u001b[1;32m    309\u001b[0m                     \u001b[0mstacklevel\u001b[0m\u001b[0;34m=\u001b[0m\u001b[0mstacklevel\u001b[0m\u001b[0;34m,\u001b[0m\u001b[0;34m\u001b[0m\u001b[0;34m\u001b[0m\u001b[0m\n\u001b[1;32m    310\u001b[0m                 )\n\u001b[0;32m--> 311\u001b[0;31m             \u001b[0;32mreturn\u001b[0m \u001b[0mfunc\u001b[0m\u001b[0;34m(\u001b[0m\u001b[0;34m*\u001b[0m\u001b[0margs\u001b[0m\u001b[0;34m,\u001b[0m \u001b[0;34m**\u001b[0m\u001b[0mkwargs\u001b[0m\u001b[0;34m)\u001b[0m\u001b[0;34m\u001b[0m\u001b[0;34m\u001b[0m\u001b[0m\n\u001b[0m\u001b[1;32m    312\u001b[0m \u001b[0;34m\u001b[0m\u001b[0m\n\u001b[1;32m    313\u001b[0m         \u001b[0;32mreturn\u001b[0m \u001b[0mwrapper\u001b[0m\u001b[0;34m\u001b[0m\u001b[0;34m\u001b[0m\u001b[0m\n",
      "\u001b[0;32m~/.local/lib/python3.8/site-packages/pandas/io/parsers/readers.py\u001b[0m in \u001b[0;36mread_csv\u001b[0;34m(filepath_or_buffer, sep, delimiter, header, names, index_col, usecols, squeeze, prefix, mangle_dupe_cols, dtype, engine, converters, true_values, false_values, skipinitialspace, skiprows, skipfooter, nrows, na_values, keep_default_na, na_filter, verbose, skip_blank_lines, parse_dates, infer_datetime_format, keep_date_col, date_parser, dayfirst, cache_dates, iterator, chunksize, compression, thousands, decimal, lineterminator, quotechar, quoting, doublequote, escapechar, comment, encoding, encoding_errors, dialect, error_bad_lines, warn_bad_lines, on_bad_lines, delim_whitespace, low_memory, memory_map, float_precision, storage_options)\u001b[0m\n\u001b[1;32m    678\u001b[0m     \u001b[0mkwds\u001b[0m\u001b[0;34m.\u001b[0m\u001b[0mupdate\u001b[0m\u001b[0;34m(\u001b[0m\u001b[0mkwds_defaults\u001b[0m\u001b[0;34m)\u001b[0m\u001b[0;34m\u001b[0m\u001b[0;34m\u001b[0m\u001b[0m\n\u001b[1;32m    679\u001b[0m \u001b[0;34m\u001b[0m\u001b[0m\n\u001b[0;32m--> 680\u001b[0;31m     \u001b[0;32mreturn\u001b[0m \u001b[0m_read\u001b[0m\u001b[0;34m(\u001b[0m\u001b[0mfilepath_or_buffer\u001b[0m\u001b[0;34m,\u001b[0m \u001b[0mkwds\u001b[0m\u001b[0;34m)\u001b[0m\u001b[0;34m\u001b[0m\u001b[0;34m\u001b[0m\u001b[0m\n\u001b[0m\u001b[1;32m    681\u001b[0m \u001b[0;34m\u001b[0m\u001b[0m\n\u001b[1;32m    682\u001b[0m \u001b[0;34m\u001b[0m\u001b[0m\n",
      "\u001b[0;32m~/.local/lib/python3.8/site-packages/pandas/io/parsers/readers.py\u001b[0m in \u001b[0;36m_read\u001b[0;34m(filepath_or_buffer, kwds)\u001b[0m\n\u001b[1;32m    573\u001b[0m \u001b[0;34m\u001b[0m\u001b[0m\n\u001b[1;32m    574\u001b[0m     \u001b[0;31m# Create the parser.\u001b[0m\u001b[0;34m\u001b[0m\u001b[0;34m\u001b[0m\u001b[0;34m\u001b[0m\u001b[0m\n\u001b[0;32m--> 575\u001b[0;31m     \u001b[0mparser\u001b[0m \u001b[0;34m=\u001b[0m \u001b[0mTextFileReader\u001b[0m\u001b[0;34m(\u001b[0m\u001b[0mfilepath_or_buffer\u001b[0m\u001b[0;34m,\u001b[0m \u001b[0;34m**\u001b[0m\u001b[0mkwds\u001b[0m\u001b[0;34m)\u001b[0m\u001b[0;34m\u001b[0m\u001b[0;34m\u001b[0m\u001b[0m\n\u001b[0m\u001b[1;32m    576\u001b[0m \u001b[0;34m\u001b[0m\u001b[0m\n\u001b[1;32m    577\u001b[0m     \u001b[0;32mif\u001b[0m \u001b[0mchunksize\u001b[0m \u001b[0;32mor\u001b[0m \u001b[0miterator\u001b[0m\u001b[0;34m:\u001b[0m\u001b[0;34m\u001b[0m\u001b[0;34m\u001b[0m\u001b[0m\n",
      "\u001b[0;32m~/.local/lib/python3.8/site-packages/pandas/io/parsers/readers.py\u001b[0m in \u001b[0;36m__init__\u001b[0;34m(self, f, engine, **kwds)\u001b[0m\n\u001b[1;32m    931\u001b[0m \u001b[0;34m\u001b[0m\u001b[0m\n\u001b[1;32m    932\u001b[0m         \u001b[0mself\u001b[0m\u001b[0;34m.\u001b[0m\u001b[0mhandles\u001b[0m\u001b[0;34m:\u001b[0m \u001b[0mIOHandles\u001b[0m \u001b[0;34m|\u001b[0m \u001b[0;32mNone\u001b[0m \u001b[0;34m=\u001b[0m \u001b[0;32mNone\u001b[0m\u001b[0;34m\u001b[0m\u001b[0;34m\u001b[0m\u001b[0m\n\u001b[0;32m--> 933\u001b[0;31m         \u001b[0mself\u001b[0m\u001b[0;34m.\u001b[0m\u001b[0m_engine\u001b[0m \u001b[0;34m=\u001b[0m \u001b[0mself\u001b[0m\u001b[0;34m.\u001b[0m\u001b[0m_make_engine\u001b[0m\u001b[0;34m(\u001b[0m\u001b[0mf\u001b[0m\u001b[0;34m,\u001b[0m \u001b[0mself\u001b[0m\u001b[0;34m.\u001b[0m\u001b[0mengine\u001b[0m\u001b[0;34m)\u001b[0m\u001b[0;34m\u001b[0m\u001b[0;34m\u001b[0m\u001b[0m\n\u001b[0m\u001b[1;32m    934\u001b[0m \u001b[0;34m\u001b[0m\u001b[0m\n\u001b[1;32m    935\u001b[0m     \u001b[0;32mdef\u001b[0m \u001b[0mclose\u001b[0m\u001b[0;34m(\u001b[0m\u001b[0mself\u001b[0m\u001b[0;34m)\u001b[0m\u001b[0;34m:\u001b[0m\u001b[0;34m\u001b[0m\u001b[0;34m\u001b[0m\u001b[0m\n",
      "\u001b[0;32m~/.local/lib/python3.8/site-packages/pandas/io/parsers/readers.py\u001b[0m in \u001b[0;36m_make_engine\u001b[0;34m(self, f, engine)\u001b[0m\n\u001b[1;32m   1215\u001b[0m             \u001b[0;31m# \"Union[str, PathLike[str], ReadCsvBuffer[bytes], ReadCsvBuffer[str]]\"\u001b[0m\u001b[0;34m\u001b[0m\u001b[0;34m\u001b[0m\u001b[0;34m\u001b[0m\u001b[0m\n\u001b[1;32m   1216\u001b[0m             \u001b[0;31m# , \"str\", \"bool\", \"Any\", \"Any\", \"Any\", \"Any\", \"Any\"\u001b[0m\u001b[0;34m\u001b[0m\u001b[0;34m\u001b[0m\u001b[0;34m\u001b[0m\u001b[0m\n\u001b[0;32m-> 1217\u001b[0;31m             self.handles = get_handle(  # type: ignore[call-overload]\n\u001b[0m\u001b[1;32m   1218\u001b[0m                 \u001b[0mf\u001b[0m\u001b[0;34m,\u001b[0m\u001b[0;34m\u001b[0m\u001b[0;34m\u001b[0m\u001b[0m\n\u001b[1;32m   1219\u001b[0m                 \u001b[0mmode\u001b[0m\u001b[0;34m,\u001b[0m\u001b[0;34m\u001b[0m\u001b[0;34m\u001b[0m\u001b[0m\n",
      "\u001b[0;32m~/.local/lib/python3.8/site-packages/pandas/io/common.py\u001b[0m in \u001b[0;36mget_handle\u001b[0;34m(path_or_buf, mode, encoding, compression, memory_map, is_text, errors, storage_options)\u001b[0m\n\u001b[1;32m    787\u001b[0m         \u001b[0;32mif\u001b[0m \u001b[0mioargs\u001b[0m\u001b[0;34m.\u001b[0m\u001b[0mencoding\u001b[0m \u001b[0;32mand\u001b[0m \u001b[0;34m\"b\"\u001b[0m \u001b[0;32mnot\u001b[0m \u001b[0;32min\u001b[0m \u001b[0mioargs\u001b[0m\u001b[0;34m.\u001b[0m\u001b[0mmode\u001b[0m\u001b[0;34m:\u001b[0m\u001b[0;34m\u001b[0m\u001b[0;34m\u001b[0m\u001b[0m\n\u001b[1;32m    788\u001b[0m             \u001b[0;31m# Encoding\u001b[0m\u001b[0;34m\u001b[0m\u001b[0;34m\u001b[0m\u001b[0;34m\u001b[0m\u001b[0m\n\u001b[0;32m--> 789\u001b[0;31m             handle = open(\n\u001b[0m\u001b[1;32m    790\u001b[0m                 \u001b[0mhandle\u001b[0m\u001b[0;34m,\u001b[0m\u001b[0;34m\u001b[0m\u001b[0;34m\u001b[0m\u001b[0m\n\u001b[1;32m    791\u001b[0m                 \u001b[0mioargs\u001b[0m\u001b[0;34m.\u001b[0m\u001b[0mmode\u001b[0m\u001b[0;34m,\u001b[0m\u001b[0;34m\u001b[0m\u001b[0;34m\u001b[0m\u001b[0m\n",
      "\u001b[0;31mFileNotFoundError\u001b[0m: [Errno 2] No such file or directory: '../input/temp-twitter-virality/final_df.csv'"
     ]
    }
   ],
   "source": [
    "%%time\n",
    "final_df = reduce_mem_usage(pd.read_csv(\"../input/temp-twitter-virality/final_df.csv\"))\n",
    "p_final_df = reduce_mem_usage(pd.read_csv(\"../input/temp-twitter-virality/p_final_df.csv\"))\n",
    "print(\"Shape of train set: \", final_df.shape)\n",
    "print(\"Shape of test set: \", p_final_df.shape)"
   ]
  },
  {
   "cell_type": "markdown",
   "metadata": {},
   "source": [
    "# Model fitting\n",
    "## Split the full sample into train/test (70/30)"
   ]
  },
  {
   "cell_type": "code",
   "execution_count": 68,
   "metadata": {
    "tags": []
   },
   "outputs": [
    {
     "name": "stdout",
     "output_type": "stream",
     "text": [
      "Training set shape  (23700, 2940)\n",
      "Test set shape  (5925, 2940)\n"
     ]
    }
   ],
   "source": [
    "X = final_df.drop(['virality', 'tweet_user_id', 'tweet_id', 'user_id'], axis=1)\n",
    "y = final_df['virality']\n",
    "\n",
    "# Train-Test Split\n",
    "X_train, X_test, y_train, y_test = train_test_split(X, y, test_size=0.20, random_state=314, stratify=y)\n",
    "print('Training set shape ', X_train.shape)\n",
    "print('Test set shape ', X_test.shape)"
   ]
  },
  {
   "cell_type": "markdown",
   "metadata": {},
   "source": [
    "## Hyperparameter tuning"
   ]
  },
  {
   "cell_type": "code",
   "execution_count": 69,
   "metadata": {
    "tags": []
   },
   "outputs": [],
   "source": [
    "# param_test = {'num_leaves': sp_randint(6, 50), \n",
    "#             'min_child_samples': sp_randint(100, 500), \n",
    "#             'min_child_weight': [1e-5, 1e-3, 1e-2, 1e-1, 1, 1e1, 1e2, 1e3, 1e4],\n",
    "#             'subsample': sp_uniform(loc=0.2, scale=0.8), \n",
    "#             'colsample_bytree': sp_uniform(loc=0.4, scale=0.6),\n",
    "#             'reg_alpha': [0, 1e-1, 1, 2, 5, 7, 10, 50, 100],\n",
    "#             'reg_lambda': [0, 1e-1, 1, 5, 10, 20, 50, 100]}\n",
    "\n",
    "#clf = lgb.LGBMClassifier(max_depth=-1, random_state=314, silent=True, metric='None', n_jobs=4, n_estimators=5000)\n",
    "#gs = RandomizedSearchCV(\n",
    "#    estimator=clf, param_distributions=param_test, \n",
    "#    n_iter=100,\n",
    "#    scoring= 'f1_macro',\n",
    "#    cv=3,\n",
    "#    refit=True,\n",
    "#    random_state=314,\n",
    "#    verbose=True)\n",
    "\n",
    "#gs.fit(X_train, y_train, **fit_params)\n",
    "#print('Best score reached: {} with params: {} '.format(gs.best_score_, gs.best_params_))"
   ]
  },
  {
   "cell_type": "markdown",
   "metadata": {},
   "source": [
    "Best score reached: 0.48236216974224616)  \n",
    "with params: {  \n",
    "'colsample_bytree': 0.7076074093370144,   \n",
    "'min_child_samples': 105,   \n",
    "'min_child_weight': 1e-05,   \n",
    "'num_leaves': 26,   \n",
    "'reg_alpha': 5,   \n",
    "'reg_lambda': 5,   \n",
    "'subsample': 0.7468773130235173  \n",
    "} "
   ]
  },
  {
   "cell_type": "code",
   "execution_count": 70,
   "metadata": {
    "tags": []
   },
   "outputs": [],
   "source": [
    "opt_params = {'num_leaves': 26,\n",
    "             'min_child_samples': 105,\n",
    "             'min_child_weight': 1e-05,\n",
    "             'subsample': 0.7468773130235173,\n",
    "             'colsample_bytree': 0.7076074093370144,\n",
    "             'reg_alpha': 5,\n",
    "             'reg_lambda': 5\n",
    "             }"
   ]
  },
  {
   "cell_type": "code",
   "execution_count": null,
   "metadata": {
    "tags": []
   },
   "outputs": [
    {
     "name": "stderr",
     "output_type": "stream",
     "text": [
      "/Users/simplypatrickg/.local/lib/python3.8/site-packages/lightgbm/sklearn.py:726: UserWarning: 'early_stopping_rounds' argument is deprecated and will be removed in a future release of LightGBM. Pass 'early_stopping()' callback via 'callbacks' argument instead.\n",
      "  _log_warning(\"'early_stopping_rounds' argument is deprecated and will be removed in a future release of LightGBM. \"\n"
     ]
    }
   ],
   "source": [
    "clf = lgb.LGBMClassifier(**opt_params)\n",
    "clf.fit(\n",
    "    X_train, y_train, \n",
    "    eval_set=[(X_train, y_train), (X_test, y_test)],\n",
    "    early_stopping_rounds=10#, verbose=0\n",
    ")"
   ]
  },
  {
   "cell_type": "code",
   "execution_count": null,
   "metadata": {
    "tags": []
   },
   "outputs": [],
   "source": [
    "# Prediction on the test dataset\n",
    "y_pred = clf.predict(X_test)\n",
    "\n",
    "# Base accuracy 66.45%\n",
    "# 0.6849 LGBMClassifier(max_depth=12, num_leaves=300)\n",
    "print('Accuracy score: {0:0.4f}'.format(accuracy_score(y_test, y_pred)))"
   ]
  },
  {
   "cell_type": "markdown",
   "metadata": {},
   "source": [
    "# Identify feature importance"
   ]
  },
  {
   "cell_type": "code",
   "execution_count": null,
   "metadata": {
    "tags": []
   },
   "outputs": [],
   "source": [
    "feature_imp = pd.DataFrame(sorted(zip(clf.feature_importances_,X.columns)), columns=['Value','Feature'])\n",
    "plt.figure(figsize=(10, 5))\n",
    "sns.barplot(x=\"Value\", y=\"Feature\", data=feature_imp.sort_values(by=\"Value\", ascending=False)[:10], color='blue')\n",
    "plt.show()"
   ]
  },
  {
   "cell_type": "markdown",
   "metadata": {},
   "source": [
    "# Fit model to Test data"
   ]
  },
  {
   "cell_type": "code",
   "execution_count": null,
   "metadata": {
    "tags": []
   },
   "outputs": [],
   "source": [
    "X = p_final_df.drop(['tweet_user_id', 'tweet_id', 'user_id'], axis=1)\n",
    "\n",
    "solution = clf.predict(X)\n",
    "solution_df = pd.concat([p_final_df[['tweet_id']], pd.DataFrame(solution, columns = ['virality'])], axis=1)\n",
    "solution_df.head()"
   ]
  },
  {
   "cell_type": "code",
   "execution_count": null,
   "metadata": {
    "tags": []
   },
   "outputs": [],
   "source": [
    "#solutions_format = pd.read_csv(\"../input/viral-tweets/Dataset/solution_format.csv\")\n",
    "solutions_format = solutions_format.drop([\"virality\"], axis=1)\n",
    "final_solution = solutions_format.merge(solution_df, left_on='tweet_id', right_on='tweet_id')\n",
    "final_solution"
   ]
  },
  {
   "cell_type": "code",
   "execution_count": null,
   "metadata": {
    "tags": []
   },
   "outputs": [],
   "source": [
    "final_solution.to_csv(\"final_solution.csv\", index=False)"
   ]
  },
  {
   "cell_type": "markdown",
   "metadata": {},
   "source": [
    "# Next Steps\n",
    "- More feature engineering\n",
    "- Further parameter tuning\n",
    "- Stacking ensemble ML models\n",
    "- Learning rate decay in LightGBM model training to improve convergence to the minimum"
   ]
  },
  {
   "cell_type": "code",
   "execution_count": null,
   "metadata": {},
   "outputs": [],
   "source": []
  }
 ],
 "metadata": {
  "kernelspec": {
   "display_name": "Python 3 (ipykernel)",
   "language": "python",
   "name": "python3"
  },
  "language_info": {
   "codemirror_mode": {
    "name": "ipython",
    "version": 3
   },
   "file_extension": ".py",
   "mimetype": "text/x-python",
   "name": "python",
   "nbconvert_exporter": "python",
   "pygments_lexer": "ipython3",
   "version": "3.8.12"
  }
 },
 "nbformat": 4,
 "nbformat_minor": 4
}
