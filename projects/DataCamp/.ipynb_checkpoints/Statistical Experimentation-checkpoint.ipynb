{
 "cells": [
  {
   "cell_type": "markdown",
   "id": "e418ee1a-0f30-4745-ac66-7ec55adcdb1f",
   "metadata": {},
   "source": [
    "# Statistical Experimentation"
   ]
  },
  {
   "cell_type": "code",
   "execution_count": 12,
   "id": "86bd6ad9-c9b6-43b0-94d6-2fbfa20be4fc",
   "metadata": {},
   "outputs": [
    {
     "name": "stdout",
     "output_type": "stream",
     "text": [
      "[31 63 56 13 28]\n"
     ]
    }
   ],
   "source": [
    "data = np.array([13, 28, 56, 31, 63])\n",
    "\n",
    "sample = np.random.choice(data, 5, replace=False)\n",
    "\n",
    "print(sample)"
   ]
  },
  {
   "cell_type": "code",
   "execution_count": 2,
   "id": "ed68fe2e-b933-440b-936b-fd2c4008c703",
   "metadata": {},
   "outputs": [
    {
     "name": "stdout",
     "output_type": "stream",
     "text": [
      "['A' 'B' 'B' 'A' 'B' 'B' 'B' 'B' 'A' 'B' 'B' 'A' 'B' 'B' 'B' 'A' 'B' 'B'\n",
      " 'B' 'B' 'B' 'A' 'A' 'A' 'A' 'B' 'B' 'B' 'B' 'B' 'A' 'B' 'A' 'A' 'B' 'A'\n",
      " 'B' 'A' 'A' 'A' 'A' 'B' 'A' 'B' 'A' 'A' 'A' 'A' 'B' 'A']\n"
     ]
    }
   ],
   "source": [
    "import numpy as np\n",
    "\n",
    "groups= ['A', 'B']\n",
    "\n",
    "assignment= np.random.choice(groups, 50)\n",
    "\n",
    "\n",
    "print(assignment)"
   ]
  },
  {
   "cell_type": "code",
   "execution_count": 3,
   "id": "f25e41ea-aefa-41df-b6a8-682db7855973",
   "metadata": {},
   "outputs": [
    {
     "name": "stdout",
     "output_type": "stream",
     "text": [
      "[ 6  3 10  7  4]\n"
     ]
    }
   ],
   "source": [
    "import numpy as np\n",
    "\n",
    "np.random.seed(42)\n",
    "\n",
    "sample = np.random.randint(0, 11, 5)\n",
    "print(sample)"
   ]
  },
  {
   "cell_type": "code",
   "execution_count": 5,
   "id": "44b172ee-8cf2-43ac-aaaf-f8f3c8186ae9",
   "metadata": {},
   "outputs": [
    {
     "name": "stdout",
     "output_type": "stream",
     "text": [
      "[28 56 56 56 63]\n"
     ]
    }
   ],
   "source": [
    "data = np.array([13, 28, 56, 31, 63])\n",
    "\n",
    "sample = np.random.choice(data, 5)\n",
    "\n",
    "print(sample)"
   ]
  },
  {
   "cell_type": "code",
   "execution_count": 7,
   "id": "f2ca6475-bd2e-4570-ba70-40b6bf5412fb",
   "metadata": {},
   "outputs": [
    {
     "name": "stdout",
     "output_type": "stream",
     "text": [
      "[11 14  7  8  9 11  8 10  7 11 11  8 12  6  7  8 10  5  3  9 13  8  6 13\n",
      " 12 13  9 14  8  8 12 15 13 13 10  8 15  9  7  8 13 15  8  7  9  6 16 10\n",
      " 18 10  8 11  3 15  6  7  9 11  8 12 10 11 12 16  8  7 13 10 15  8 11 11\n",
      "  5 10 11 12  8 11 11  5  8 13 11  7  8 11 15  8 14  6 16 11  6 14 12  9\n",
      " 10 13 15  9]\n"
     ]
    }
   ],
   "source": [
    "import numpy as np\n",
    "\n",
    "samples = np.random.poisson(10, 100)\n",
    "\n",
    "print(samples)"
   ]
  },
  {
   "cell_type": "code",
   "execution_count": 12,
   "id": "844f264b-c7de-4cfd-a089-df67c2a10e5c",
   "metadata": {},
   "outputs": [
    {
     "name": "stdout",
     "output_type": "stream",
     "text": [
      "['Lose' 'Lose' 'Lose' 'Lose' 'Lose' 'Lose' 'Lose' 'Lose' 'Win' 'Lose']\n"
     ]
    }
   ],
   "source": [
    "import numpy as np\n",
    "\n",
    "sample = np.random.choice([\"Win\", \"Lose\"], 10, p=(0.03, 0.97))\n",
    "\n",
    "print(sample)"
   ]
  },
  {
   "cell_type": "code",
   "execution_count": 17,
   "id": "9338e113-b1b8-4024-97e5-f8c373ad5a58",
   "metadata": {},
   "outputs": [
    {
     "name": "stdout",
     "output_type": "stream",
     "text": [
      "[6 5 4 4 6 6 6 6 3 5 3 5 5 7 4 3 3 6 5 3 3 6 3 6 6 3 3 8 4 4 6 8 8 6 4 3 6\n",
      " 5 5 7 3 5 2 5 3 3 3 6 6 5 8 4 4 7 4 8 2 8 2 7 5 9 3 5 8 5 6 6 5 6 5 7 2 4\n",
      " 8 7 5 5 4 4 5 4 5 3 8 8 6 5 4 6 6 3 7 6 8 6 5 5 7 7]\n"
     ]
    }
   ],
   "source": [
    "import numpy as np\n",
    "from scipy.stats import binom\n",
    "\n",
    "sample = binom.rvs(10, 0.5, loc=0, size=100)\n",
    "\n",
    "print(sample)"
   ]
  },
  {
   "cell_type": "code",
   "execution_count": 18,
   "id": "490d6f08-e675-4c22-ad1c-49fb14dbe232",
   "metadata": {},
   "outputs": [
    {
     "name": "stdout",
     "output_type": "stream",
     "text": [
      "[ 2  7  4  7  3  8  5  3 10  6  6  7  5  6  9  2  6  2  5  5  7  6  5  1\n",
      "  8  3  6  5  2  4  3  3  3  5  9  4  8  4  4  5  3 10  4  7  3  3  7  1\n",
      "  3  5]\n"
     ]
    }
   ],
   "source": [
    "import numpy as np\n",
    "\n",
    "seed = 121120\n",
    "np.random.seed(seed)\n",
    "\n",
    "\n",
    "print(np.random.poisson(5, 50))"
   ]
  },
  {
   "cell_type": "code",
   "execution_count": 20,
   "id": "a6ba5d35-e8f5-4e3d-8e97-bab2a54b65fe",
   "metadata": {},
   "outputs": [
    {
     "name": "stdout",
     "output_type": "stream",
     "text": [
      "[-1.03999015  1.50246117 -1.5778003  ...  1.26906225  1.84894874\n",
      " -0.07375503]\n"
     ]
    }
   ],
   "source": [
    "import numpy as np\n",
    "from scipy.stats import norm\n",
    "\n",
    "sample = norm.rvs(size=20000)\n",
    "\n",
    "print(sample)"
   ]
  },
  {
   "cell_type": "code",
   "execution_count": 22,
   "id": "47fc9724-82a6-4acc-a17c-e517ff41dd76",
   "metadata": {},
   "outputs": [
    {
     "name": "stdout",
     "output_type": "stream",
     "text": [
      "0.23167757463479827\n"
     ]
    }
   ],
   "source": [
    "from scipy.stats import norm\n",
    "\n",
    "prob = norm.cdf(60, 71, 15)\n",
    "\n",
    "print(prob)\n"
   ]
  },
  {
   "cell_type": "code",
   "execution_count": null,
   "id": "04041617-013b-4699-a6b2-ea061cf83b76",
   "metadata": {},
   "outputs": [],
   "source": []
  }
 ],
 "metadata": {
  "kernelspec": {
   "display_name": "Python 3 (ipykernel)",
   "language": "python",
   "name": "python3"
  },
  "language_info": {
   "codemirror_mode": {
    "name": "ipython",
    "version": 3
   },
   "file_extension": ".py",
   "mimetype": "text/x-python",
   "name": "python",
   "nbconvert_exporter": "python",
   "pygments_lexer": "ipython3",
   "version": "3.8.12"
  }
 },
 "nbformat": 4,
 "nbformat_minor": 5
}
