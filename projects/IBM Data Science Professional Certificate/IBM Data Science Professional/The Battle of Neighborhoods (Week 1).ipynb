{
 "cells": [
  {
   "cell_type": "markdown",
   "metadata": {},
   "source": [
    "# The Battle of Neighborhoods: Pop-ups in San Francisco"
   ]
  },
  {
   "cell_type": "code",
   "execution_count": 2,
   "metadata": {},
   "outputs": [],
   "source": [
    "import config as cfg\n",
    "import pandas as pd\n",
    "from sodapy import Socrata\n",
    "\n",
    "import requests\n",
    "from bs4 import BeautifulSoup\n",
    "import folium\n",
    "from geopy.geocoders import Nominatim\n",
    "from sklearn.cluster import KMeans\n",
    "import matplotlib.cm as cm\n",
    "import matplotlib.colors as colors\n",
    "\n",
    "pd.options.mode.chained_assignment = None"
   ]
  },
  {
   "cell_type": "markdown",
   "metadata": {},
   "source": [
    "### Table of Contents\n",
    "\n",
    "* [Introduction](#introduction)\n",
    "* [Data](#data)\n"
   ]
  },
  {
   "cell_type": "markdown",
   "metadata": {},
   "source": [
    "## Introduction: Business Problem <a class=\"anchor\" id=\"introduction\"></a>"
   ]
  },
  {
   "cell_type": "markdown",
   "metadata": {},
   "source": [
    "The Covid-19 pandemic continues to cause widespread economic distruption leading to the permanent closure of thousands of businesses. Now an increasing number of people have difficulty procuring food supplies as many eateries are shutting down. Restaraunts are trying to remain profitable despite loing a significant amount of business due to stay-in-shelter, no indoor seating, and social distancing amid health and safety concerns. However, some alternative eateries are continuing to operate and doing better than they imagined: food trucks. These services provide meals from motorized vehicles or carts. \n",
    "Food trucks also experience lower sales due to the absence of office workers and large decline of street traffic. Howver unlike restaurants that are fixed facilties, food trucks can quickly change location, menu and market. Operators have adapted by branching out into residential areas to capitalize on the large portion of people staying at home. Food truck sales fluctuate wildly depending on a number of factors, most of which depend on location. \n",
    "\n",
    "\n",
    "This report uses machine learning tools to assist **food trucks operators** looking for the best locations in San Francisco. Due to the absence of office workers, we will try to detect locations near **residential areas**. We are also interested in locations near the **workspaces of essential workers**. The report will use data science analysis to generate promising San Francisco neighborhoods based on these criteria. Advantages of each venue will be expressed so that the best location cna be chosen by stakeholders."
   ]
  },
  {
   "cell_type": "markdown",
   "metadata": {},
   "source": [
    "## Data <a class=\"anchor\" id=\"data\"></a>"
   ]
  },
  {
   "cell_type": "markdown",
   "metadata": {},
   "source": [
    "In San Francisco, food trucks must satisfy [DPW Order 182,101](https://www.sfpublicworks.org/sites/default/files/3858-DPW%20Order_182101-MFF.pdf) requirements to be a legal street-food vendor. Hence they can only operate in the approved zones shown in red on the Mobile Food Faculity Permit map:\n",
    "\n",
    "<img src=\"mff_rev_092014.jpg\" width=\"600\"/>\n",
    "\n",
    "The report will look at areas that are approved for food trucks by using [Mobile Food Facility Permits data](https://data.sfgov.org/Economy-and-Community/Mobile-Food-Facility-Permit/rqzj-sfat) provided by San Francisco Department of Public Works on DataSF."
   ]
  },
  {
   "cell_type": "markdown",
   "metadata": {},
   "source": [
    "Factors that will influence our recommendations:\n",
    "- Whether location is in an approved zone\n",
    "- The type and location of venues in the neighborhood\n",
    "\n",
    "We will use the Mobile Food Facility Permits data to define our venues in the approved zones. The data we will need are:\n",
    "- **facilitytype**: Type of facilty permitted: truck or push cart\n",
    "- **address**\n",
    "- **location**: Latitude and Longitude\n",
    "- **status**: Status of permit: Approved or Requested\n",
    "\n",
    "This will joined with location data from the FourSquare API, which provides venue data for those neighborhoods:"
   ]
  },
  {
   "cell_type": "markdown",
   "metadata": {},
   "source": [
    "### Neighborhood Candidates"
   ]
  },
  {
   "cell_type": "markdown",
   "metadata": {},
   "source": [
    "Let's create the latitude & longitude coordinates for centroids of our candidate neighborhoods from the Mobile Food Facility Permits data.\n",
    "\n",
    "We will filter the data to only show non-expired zones in **status** for food truck operators in **facilitytype** only."
   ]
  },
  {
   "cell_type": "code",
   "execution_count": 5,
   "metadata": {},
   "outputs": [],
   "source": [
    "client = Socrata(\"data.sfgov.org\",\n",
    "                cfg.datasf[\"App Token\"],\n",
    "                username=cfg.datasf[\"username\"],\n",
    "                password=cfg.datasf[\"password\"])\n",
    "results = client.get(\"rqzj-sfat\", limit=2000)\n",
    "results_df = pd.DataFrame.from_records(results)\n",
    "\n",
    "mff_df = results_df[[\"facilitytype\", \"address\", \"location\", 'status']] \n",
    "mff_df = mff_df.loc[mff_df['status'] == \"ISSUED\"]\n",
    "mff_df = mff_df.loc[mff_df['facilitytype'] == \"Truck\"]"
   ]
  },
  {
   "cell_type": "code",
   "execution_count": 6,
   "metadata": {},
   "outputs": [
    {
     "data": {
      "text/html": [
       "<div>\n",
       "<style scoped>\n",
       "    .dataframe tbody tr th:only-of-type {\n",
       "        vertical-align: middle;\n",
       "    }\n",
       "\n",
       "    .dataframe tbody tr th {\n",
       "        vertical-align: top;\n",
       "    }\n",
       "\n",
       "    .dataframe thead th {\n",
       "        text-align: right;\n",
       "    }\n",
       "</style>\n",
       "<table border=\"1\" class=\"dataframe\">\n",
       "  <thead>\n",
       "    <tr style=\"text-align: right;\">\n",
       "      <th></th>\n",
       "      <th>facilitytype</th>\n",
       "      <th>address</th>\n",
       "      <th>location</th>\n",
       "      <th>status</th>\n",
       "      <th>latitude</th>\n",
       "      <th>longitude</th>\n",
       "    </tr>\n",
       "  </thead>\n",
       "  <tbody>\n",
       "    <tr>\n",
       "      <th>187</th>\n",
       "      <td>Truck</td>\n",
       "      <td>727 SANSOME ST</td>\n",
       "      <td>{'latitude': '37.7969490060212', 'longitude': ...</td>\n",
       "      <td>ISSUED</td>\n",
       "      <td>37.7969490060212</td>\n",
       "      <td>-122.402183431894</td>\n",
       "    </tr>\n",
       "    <tr>\n",
       "      <th>188</th>\n",
       "      <td>Truck</td>\n",
       "      <td>400 CALIFORNIA ST</td>\n",
       "      <td>{'latitude': '37.793304275561', 'longitude': '...</td>\n",
       "      <td>ISSUED</td>\n",
       "      <td>37.793304275561</td>\n",
       "      <td>-122.401458998413</td>\n",
       "    </tr>\n",
       "    <tr>\n",
       "      <th>239</th>\n",
       "      <td>Truck</td>\n",
       "      <td>601 03RD ST</td>\n",
       "      <td>{'latitude': '37.7800771744392', 'longitude': ...</td>\n",
       "      <td>ISSUED</td>\n",
       "      <td>37.7800771744392</td>\n",
       "      <td>-122.393767294483</td>\n",
       "    </tr>\n",
       "  </tbody>\n",
       "</table>\n",
       "</div>"
      ],
      "text/plain": [
       "    facilitytype            address  \\\n",
       "187        Truck     727 SANSOME ST   \n",
       "188        Truck  400 CALIFORNIA ST   \n",
       "239        Truck        601 03RD ST   \n",
       "\n",
       "                                              location  status  \\\n",
       "187  {'latitude': '37.7969490060212', 'longitude': ...  ISSUED   \n",
       "188  {'latitude': '37.793304275561', 'longitude': '...  ISSUED   \n",
       "239  {'latitude': '37.7800771744392', 'longitude': ...  ISSUED   \n",
       "\n",
       "             latitude          longitude  \n",
       "187  37.7969490060212  -122.402183431894  \n",
       "188   37.793304275561  -122.401458998413  \n",
       "239  37.7800771744392  -122.393767294483  "
      ]
     },
     "execution_count": 6,
     "metadata": {},
     "output_type": "execute_result"
    }
   ],
   "source": [
    "latitudes = mff_df.loc[:,\"location\"].apply(lambda row: row.get('latitude'))\n",
    "longitudes = mff_df.loc[:,\"location\"].apply(lambda row: row.get('longitude'))\n",
    "mff_df['latitude'] = latitudes\n",
    "mff_df['longitude'] = longitudes\n",
    "mff_df.head()"
   ]
  },
  {
   "cell_type": "markdown",
   "metadata": {},
   "source": [
    "### Foursquare"
   ]
  },
  {
   "cell_type": "markdown",
   "metadata": {},
   "source": [
    "Now that we have our location candidates, we will use the Foursquare API to get info of the venues in each neighborhood."
   ]
  },
  {
   "cell_type": "code",
   "execution_count": 20,
   "metadata": {},
   "outputs": [],
   "source": [
    "CLIENT_ID = cfg.foursquare[\"Client Id\"]\n",
    "CLIENT_SECRET = cfg.foursquare[\"Client Secret\"]\n",
    "VERSION = '20210118'\n",
    "LIMIT = 100 \n",
    "radius = 500"
   ]
  },
  {
   "cell_type": "code",
   "execution_count": 17,
   "metadata": {},
   "outputs": [],
   "source": [
    "def getNearbyVenues(names, latitudes, longitudes, radius=500):\n",
    "    \n",
    "    venues_list=[]\n",
    "    for name, lat, lng in zip(names, latitudes, longitudes):\n",
    "        print(name)\n",
    "            \n",
    "        url = 'https://api.foursquare.com/v2/venues/explore?&client_id={}&client_secret={}&v={}&ll={},{}&radius={}&limit={}'.format(\n",
    "            CLIENT_ID, \n",
    "            CLIENT_SECRET, \n",
    "            VERSION, \n",
    "            lat, \n",
    "            lng, \n",
    "            radius, \n",
    "            LIMIT)\n",
    "            \n",
    "        results = requests.get(url).json()[\"response\"]['groups'][0]['items']\n",
    "        \n",
    "        venues_list.append([(\n",
    "            name, \n",
    "            lat, \n",
    "            lng, \n",
    "            v['venue']['name'], \n",
    "            v['venue']['location']['lat'], \n",
    "            v['venue']['location']['lng'],  \n",
    "            v['venue']['categories'][0]['name']) for v in results])\n",
    "\n",
    "    nearby_venues = pd.DataFrame([item for venue_list in venues_list for item in venue_list])\n",
    "    nearby_venues.columns = ['Neighborhood', \n",
    "                  'Neighborhood Latitude', \n",
    "                  'Neighborhood Longitude', \n",
    "                  'Venue', \n",
    "                  'Venue Latitude', \n",
    "                  'Venue Longitude', \n",
    "                  'Venue Category']\n",
    "    \n",
    "    return(nearby_venues)"
   ]
  },
  {
   "cell_type": "code",
   "execution_count": 18,
   "metadata": {},
   "outputs": [
    {
     "name": "stdout",
     "output_type": "stream",
     "text": [
      "727 SANSOME ST\n",
      "400 CALIFORNIA ST\n",
      "601 03RD ST\n"
     ]
    }
   ],
   "source": [
    "mff_venues = getNearbyVenues(\n",
    "    names = mff_df['address'],\n",
    "    latitudes = mff_df['latitude'],\n",
    "    longitudes = mff_df['longitude'],\n",
    ")"
   ]
  },
  {
   "cell_type": "code",
   "execution_count": 22,
   "metadata": {},
   "outputs": [
    {
     "data": {
      "text/html": [
       "<div>\n",
       "<style scoped>\n",
       "    .dataframe tbody tr th:only-of-type {\n",
       "        vertical-align: middle;\n",
       "    }\n",
       "\n",
       "    .dataframe tbody tr th {\n",
       "        vertical-align: top;\n",
       "    }\n",
       "\n",
       "    .dataframe thead th {\n",
       "        text-align: right;\n",
       "    }\n",
       "</style>\n",
       "<table border=\"1\" class=\"dataframe\">\n",
       "  <thead>\n",
       "    <tr style=\"text-align: right;\">\n",
       "      <th></th>\n",
       "      <th>Neighborhood</th>\n",
       "      <th>Neighborhood Latitude</th>\n",
       "      <th>Neighborhood Longitude</th>\n",
       "      <th>Venue</th>\n",
       "      <th>Venue Latitude</th>\n",
       "      <th>Venue Longitude</th>\n",
       "      <th>Venue Category</th>\n",
       "    </tr>\n",
       "  </thead>\n",
       "  <tbody>\n",
       "    <tr>\n",
       "      <th>0</th>\n",
       "      <td>727 SANSOME ST</td>\n",
       "      <td>37.7969490060212</td>\n",
       "      <td>-122.402183431894</td>\n",
       "      <td>Kusakabe</td>\n",
       "      <td>37.795498</td>\n",
       "      <td>-122.402952</td>\n",
       "      <td>Sushi Restaurant</td>\n",
       "    </tr>\n",
       "    <tr>\n",
       "      <th>1</th>\n",
       "      <td>727 SANSOME ST</td>\n",
       "      <td>37.7969490060212</td>\n",
       "      <td>-122.402183431894</td>\n",
       "      <td>Shinola</td>\n",
       "      <td>37.796092</td>\n",
       "      <td>-122.402913</td>\n",
       "      <td>Men's Store</td>\n",
       "    </tr>\n",
       "    <tr>\n",
       "      <th>2</th>\n",
       "      <td>727 SANSOME ST</td>\n",
       "      <td>37.7969490060212</td>\n",
       "      <td>-122.402183431894</td>\n",
       "      <td>Verjus</td>\n",
       "      <td>37.795579</td>\n",
       "      <td>-122.402675</td>\n",
       "      <td>Wine Bar</td>\n",
       "    </tr>\n",
       "    <tr>\n",
       "      <th>3</th>\n",
       "      <td>727 SANSOME ST</td>\n",
       "      <td>37.7969490060212</td>\n",
       "      <td>-122.402183431894</td>\n",
       "      <td>Cotogna</td>\n",
       "      <td>37.797346</td>\n",
       "      <td>-122.403624</td>\n",
       "      <td>Italian Restaurant</td>\n",
       "    </tr>\n",
       "    <tr>\n",
       "      <th>4</th>\n",
       "      <td>727 SANSOME ST</td>\n",
       "      <td>37.7969490060212</td>\n",
       "      <td>-122.402183431894</td>\n",
       "      <td>Kokkari Estiatorio</td>\n",
       "      <td>37.796883</td>\n",
       "      <td>-122.399655</td>\n",
       "      <td>Greek Restaurant</td>\n",
       "    </tr>\n",
       "  </tbody>\n",
       "</table>\n",
       "</div>"
      ],
      "text/plain": [
       "     Neighborhood Neighborhood Latitude Neighborhood Longitude  \\\n",
       "0  727 SANSOME ST      37.7969490060212      -122.402183431894   \n",
       "1  727 SANSOME ST      37.7969490060212      -122.402183431894   \n",
       "2  727 SANSOME ST      37.7969490060212      -122.402183431894   \n",
       "3  727 SANSOME ST      37.7969490060212      -122.402183431894   \n",
       "4  727 SANSOME ST      37.7969490060212      -122.402183431894   \n",
       "\n",
       "                Venue  Venue Latitude  Venue Longitude      Venue Category  \n",
       "0            Kusakabe       37.795498      -122.402952    Sushi Restaurant  \n",
       "1             Shinola       37.796092      -122.402913         Men's Store  \n",
       "2              Verjus       37.795579      -122.402675            Wine Bar  \n",
       "3             Cotogna       37.797346      -122.403624  Italian Restaurant  \n",
       "4  Kokkari Estiatorio       37.796883      -122.399655    Greek Restaurant  "
      ]
     },
     "execution_count": 22,
     "metadata": {},
     "output_type": "execute_result"
    }
   ],
   "source": [
    "mff_venues.head()"
   ]
  },
  {
   "cell_type": "code",
   "execution_count": null,
   "metadata": {},
   "outputs": [],
   "source": []
  }
 ],
 "metadata": {
  "kernelspec": {
   "display_name": "Python 3",
   "language": "python",
   "name": "python3"
  },
  "language_info": {
   "codemirror_mode": {
    "name": "ipython",
    "version": 3
   },
   "file_extension": ".py",
   "mimetype": "text/x-python",
   "name": "python",
   "nbconvert_exporter": "python",
   "pygments_lexer": "ipython3",
   "version": "3.8.3"
  }
 },
 "nbformat": 4,
 "nbformat_minor": 4
}
