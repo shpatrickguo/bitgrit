{
 "cells": [
  {
   "cell_type": "markdown",
   "id": "425c6eae-acfc-4552-bb4c-17f47cdfd77f",
   "metadata": {},
   "source": [
    "# [California road network](http://snap.stanford.edu/data/roadNet-CA.html)\n",
    "\n",
    "A road network of California. Intersections and endpoints are represented by nodes and the roads connecting these intersections or road endpoints are represented by undirected edges.\n",
    "\n",
    "## Source (citation)\n",
    "J. Leskovec, K. Lang, A. Dasgupta, M. Mahoney. [Community Structure in Large Networks: Natural Cluster Sizes and the Absence of Large Well-Defined Clusters.](http://arxiv.org/abs/0810.1355) Internet Mathematics 6(1) 29--123, 2009."
   ]
  },
  {
   "cell_type": "code",
   "execution_count": null,
   "id": "b6688d65-1359-4679-b9ea-fa56f02558d7",
   "metadata": {},
   "outputs": [],
   "source": []
  }
 ],
 "metadata": {
  "kernelspec": {
   "display_name": "Python 3 (ipykernel)",
   "language": "python",
   "name": "python3"
  },
  "language_info": {
   "codemirror_mode": {
    "name": "ipython",
    "version": 3
   },
   "file_extension": ".py",
   "mimetype": "text/x-python",
   "name": "python",
   "nbconvert_exporter": "python",
   "pygments_lexer": "ipython3",
   "version": "3.8.12"
  }
 },
 "nbformat": 4,
 "nbformat_minor": 5
}
