{
 "cells": [
  {
   "cell_type": "markdown",
   "metadata": {},
   "source": [
    "# Finding Optimal Locations for Food Truck Operators in San Francisco during Covid-19 Pandemic"
   ]
  },
  {
   "cell_type": "code",
   "execution_count": 1,
   "metadata": {},
   "outputs": [],
   "source": [
    "import config as cfg\n",
    "import pandas as pd\n",
    "from sodapy import Socrata\n",
    "import numpy as np\n",
    "\n",
    "import requests\n",
    "from bs4 import BeautifulSoup\n",
    "import folium\n",
    "from geopy.geocoders import Nominatim\n",
    "from sklearn.cluster import KMeans\n",
    "import matplotlib.cm as cm\n",
    "import matplotlib.colors as colors\n",
    "\n",
    "import pyproj\n",
    "\n",
    "pd.options.mode.chained_assignment = None"
   ]
  },
  {
   "cell_type": "markdown",
   "metadata": {},
   "source": [
    "### Table of Contents\n",
    "\n",
    "* [Introduction: Business Problem](#introduction)\n",
    "* [Data](#data)\n",
    "* [Methodology](#methodology)\n",
    "* [Analysis](#analysis)\n",
    "* [Results and Discussion](#results)\n",
    "* [Conclusion](#conclusion)"
   ]
  },
  {
   "cell_type": "markdown",
   "metadata": {},
   "source": [
    "## Introduction: Business Problem <a class=\"anchor\" id=\"introduction\"></a>"
   ]
  },
  {
   "cell_type": "markdown",
   "metadata": {},
   "source": [
    "The Covid-19 pandemic continues to cause widespread economic disruption leading to the permanent closure of thousands of businesses. Now an increasing number of people have difficulty procuring food supplies as many eateries are shutting down. Restaurants are trying to remain profitable despite losing a significant amount of business due to stay-in-shelter, no indoor seating, and social distancing amid health and safety concerns. However, some alternative eateries are continuing to operate and doing better than they imagined: food trucks. These services provide meals from motorized vehicles or carts. \n",
    "Food trucks also experience lower sales due to the absence of office workers and large decline of street traffic. However unlike restaurants that are fixed facilities, food trucks can quickly change location, menu and market. Operators have adapted by branching out into residential areas to capitalize on the large portion of people staying at home or nearby essential businesses such as hospitals.\n",
    "\n",
    "Food truck sales fluctuate wildly depending on a number of factors, most of which depend on location. This report uses machine learning tools to assist **food trucks operators** looking for the best locations in San Francisco. Due to the absence of office workers, we will try to detect locations near **residential areas**. We are also interested in locations near the **workspaces of essential workers**. The report will use data science analysis to generate promising San Francisco neighborhoods based on these criteria. Advantages of each venue will be expressed so that the best location can be chosen by stakeholders."
   ]
  },
  {
   "cell_type": "markdown",
   "metadata": {},
   "source": [
    "## Data <a class=\"anchor\" id=\"data\"></a>"
   ]
  },
  {
   "cell_type": "markdown",
   "metadata": {},
   "source": [
    "In San Francisco, food trucks must satisfy [DPW Order 182,101](https://www.sfpublicworks.org/sites/default/files/3858-DPW%20Order_182101-MFF.pdf) requirements to be a legal street-food vendor. Hence they can only operate in the approved zones shown in red on the Mobile Food Facility Permit map:\n",
    "\n",
    "<img src=\"mff_rev_092014.jpg\" width=\"600\"/>\n",
    "\n",
    "The report will look at areas that are approved for food trucks by using the latest [Mobile Food Facility Permits data](https://data.sfgov.org/Economy-and-Community/Mobile-Food-Facility-Permit/rqzj-sfat) provided by San Francisco Department of Public Works on DataSF."
   ]
  },
  {
   "cell_type": "markdown",
   "metadata": {},
   "source": [
    "Factors that will influence our recommendations:\n",
    "- Whether location is in an approved zone for food trucks\n",
    "- The type and location of venues in the neighborhood\n",
    "- Whether the nearby venues are essential businesses\n",
    "\n",
    "We will use the Mobile Food Facility Permits data to define our venues in the approved zones. The data we will need are:\n",
    "- **facilitytype**: Type of facility permitted: truck or push cart\n",
    "- **address**\n",
    "- **location**: Latitude and Longitude\n",
    "- **status**: Status of permit: Approved or Requested\n",
    "\n",
    "This will joined with location data from the FourSquare API, which provides venue data for those neighborhoods.\n",
    "\n",
    "We also need a list of essential businesses as defined by [sf.gov](https://sf.gov/check-if-business-essential)."
   ]
  },
  {
   "cell_type": "markdown",
   "metadata": {},
   "source": [
    "### Neighborhood Candidates"
   ]
  },
  {
   "cell_type": "markdown",
   "metadata": {},
   "source": [
    "Let's create the latitude and longitude coordinates for our candidate neighborhoods from the Mobile Food Facility Permits data.\n",
    "\n",
    "We will filter the data to only show issued zones in **status** for food truck operators in **facilitytype** only."
   ]
  },
  {
   "cell_type": "code",
   "execution_count": 2,
   "metadata": {},
   "outputs": [],
   "source": [
    "client = Socrata(\"data.sfgov.org\",\n",
    "                cfg.datasf[\"App Token\"],\n",
    "                username=cfg.datasf[\"username\"],\n",
    "                password=cfg.datasf[\"password\"])\n",
    "results = client.get(\"rqzj-sfat\", limit=2000)\n",
    "results_df = pd.DataFrame.from_records(results)\n",
    "\n",
    "#Clean data\n",
    "mff_df = results_df[[\"facilitytype\", \"address\", \"location\", 'status']] \n",
    "mff_df = mff_df.loc[mff_df['status'] == \"ISSUED\"]\n",
    "mff_df = mff_df.loc[mff_df['facilitytype'] == \"Truck\"]"
   ]
  },
  {
   "cell_type": "code",
   "execution_count": 3,
   "metadata": {},
   "outputs": [
    {
     "data": {
      "text/html": [
       "<div>\n",
       "<style scoped>\n",
       "    .dataframe tbody tr th:only-of-type {\n",
       "        vertical-align: middle;\n",
       "    }\n",
       "\n",
       "    .dataframe tbody tr th {\n",
       "        vertical-align: top;\n",
       "    }\n",
       "\n",
       "    .dataframe thead th {\n",
       "        text-align: right;\n",
       "    }\n",
       "</style>\n",
       "<table border=\"1\" class=\"dataframe\">\n",
       "  <thead>\n",
       "    <tr style=\"text-align: right;\">\n",
       "      <th></th>\n",
       "      <th>facilitytype</th>\n",
       "      <th>address</th>\n",
       "      <th>location</th>\n",
       "      <th>status</th>\n",
       "      <th>latitude</th>\n",
       "      <th>longitude</th>\n",
       "    </tr>\n",
       "  </thead>\n",
       "  <tbody>\n",
       "    <tr>\n",
       "      <th>49</th>\n",
       "      <td>Truck</td>\n",
       "      <td>601 03RD ST</td>\n",
       "      <td>{'latitude': '37.7800771744392', 'longitude': ...</td>\n",
       "      <td>ISSUED</td>\n",
       "      <td>37.7800771744392</td>\n",
       "      <td>-122.393767294483</td>\n",
       "    </tr>\n",
       "    <tr>\n",
       "      <th>58</th>\n",
       "      <td>Truck</td>\n",
       "      <td>400 CALIFORNIA ST</td>\n",
       "      <td>{'latitude': '37.793304275561', 'longitude': '...</td>\n",
       "      <td>ISSUED</td>\n",
       "      <td>37.793304275561</td>\n",
       "      <td>-122.401458998413</td>\n",
       "    </tr>\n",
       "    <tr>\n",
       "      <th>76</th>\n",
       "      <td>Truck</td>\n",
       "      <td>727 SANSOME ST</td>\n",
       "      <td>{'latitude': '37.7969490060212', 'longitude': ...</td>\n",
       "      <td>ISSUED</td>\n",
       "      <td>37.7969490060212</td>\n",
       "      <td>-122.402183431894</td>\n",
       "    </tr>\n",
       "  </tbody>\n",
       "</table>\n",
       "</div>"
      ],
      "text/plain": [
       "   facilitytype            address  \\\n",
       "49        Truck        601 03RD ST   \n",
       "58        Truck  400 CALIFORNIA ST   \n",
       "76        Truck     727 SANSOME ST   \n",
       "\n",
       "                                             location  status  \\\n",
       "49  {'latitude': '37.7800771744392', 'longitude': ...  ISSUED   \n",
       "58  {'latitude': '37.793304275561', 'longitude': '...  ISSUED   \n",
       "76  {'latitude': '37.7969490060212', 'longitude': ...  ISSUED   \n",
       "\n",
       "            latitude          longitude  \n",
       "49  37.7800771744392  -122.393767294483  \n",
       "58   37.793304275561  -122.401458998413  \n",
       "76  37.7969490060212  -122.402183431894  "
      ]
     },
     "execution_count": 3,
     "metadata": {},
     "output_type": "execute_result"
    }
   ],
   "source": [
    "#Split location to latitude and longitude\n",
    "latitudes = mff_df.loc[:,\"location\"].apply(lambda row: row.get('latitude'))\n",
    "longitudes = mff_df.loc[:,\"location\"].apply(lambda row: row.get('longitude'))\n",
    "mff_df['latitude'] = latitudes\n",
    "mff_df['longitude'] = longitudes\n",
    "mff_df.head()"
   ]
  },
  {
   "cell_type": "markdown",
   "metadata": {},
   "source": [
    "### Foursquare"
   ]
  },
  {
   "cell_type": "markdown",
   "metadata": {},
   "source": [
    "Now that we have our location candidates, we will use the Foursquare API to get info of the venues in each neighborhood. Due to request limitations for the number of places per neighborhood, the limit parameter is set to 100 and the radius parameter is set to 500."
   ]
  },
  {
   "cell_type": "code",
   "execution_count": 4,
   "metadata": {},
   "outputs": [],
   "source": [
    "CLIENT_ID = cfg.foursquare[\"Client Id\"]\n",
    "CLIENT_SECRET = cfg.foursquare[\"Client Secret\"]\n",
    "VERSION = '20210118'\n",
    "LIMIT = 100 \n",
    "radius = 500"
   ]
  },
  {
   "cell_type": "code",
   "execution_count": 5,
   "metadata": {},
   "outputs": [],
   "source": [
    "def getNearbyVenues(names, latitudes, longitudes, radius=500):\n",
    "    \n",
    "    venues_list=[]\n",
    "    for name, lat, lng in zip(names, latitudes, longitudes):\n",
    "        print(name)\n",
    "            \n",
    "        url = 'https://api.foursquare.com/v2/venues/explore?&client_id={}&client_secret={}&v={}&ll={},{}&radius={}&limit={}'.format(\n",
    "            CLIENT_ID, \n",
    "            CLIENT_SECRET, \n",
    "            VERSION, \n",
    "            lat, \n",
    "            lng, \n",
    "            radius, \n",
    "            LIMIT)\n",
    "            \n",
    "        results = requests.get(url).json()[\"response\"]['groups'][0]['items']\n",
    "        \n",
    "        venues_list.append([(\n",
    "            name, \n",
    "            lat, \n",
    "            lng, \n",
    "            v['venue']['name'], \n",
    "            v['venue']['location']['lat'], \n",
    "            v['venue']['location']['lng'],  \n",
    "            v['venue']['categories'][0]['name']) for v in results])\n",
    "\n",
    "    nearby_venues = pd.DataFrame([item for venue_list in venues_list for item in venue_list])\n",
    "    nearby_venues.columns = ['Neighborhood', \n",
    "                  'Neighborhood Latitude', \n",
    "                  'Neighborhood Longitude', \n",
    "                  'Venue', \n",
    "                  'Venue Latitude', \n",
    "                  'Venue Longitude', \n",
    "                  'Venue Category']\n",
    "    \n",
    "    return(nearby_venues)"
   ]
  },
  {
   "cell_type": "code",
   "execution_count": 6,
   "metadata": {},
   "outputs": [
    {
     "name": "stdout",
     "output_type": "stream",
     "text": [
      "601 03RD ST\n",
      "400 CALIFORNIA ST\n",
      "727 SANSOME ST\n"
     ]
    }
   ],
   "source": [
    "mff_venues = getNearbyVenues(\n",
    "    names = mff_df['address'],\n",
    "    latitudes = mff_df['latitude'],\n",
    "    longitudes = mff_df['longitude'],\n",
    ")"
   ]
  },
  {
   "cell_type": "code",
   "execution_count": 7,
   "metadata": {},
   "outputs": [
    {
     "data": {
      "text/html": [
       "<div>\n",
       "<style scoped>\n",
       "    .dataframe tbody tr th:only-of-type {\n",
       "        vertical-align: middle;\n",
       "    }\n",
       "\n",
       "    .dataframe tbody tr th {\n",
       "        vertical-align: top;\n",
       "    }\n",
       "\n",
       "    .dataframe thead th {\n",
       "        text-align: right;\n",
       "    }\n",
       "</style>\n",
       "<table border=\"1\" class=\"dataframe\">\n",
       "  <thead>\n",
       "    <tr style=\"text-align: right;\">\n",
       "      <th></th>\n",
       "      <th>Neighborhood</th>\n",
       "      <th>Neighborhood Latitude</th>\n",
       "      <th>Neighborhood Longitude</th>\n",
       "      <th>Venue</th>\n",
       "      <th>Venue Latitude</th>\n",
       "      <th>Venue Longitude</th>\n",
       "      <th>Venue Category</th>\n",
       "    </tr>\n",
       "  </thead>\n",
       "  <tbody>\n",
       "    <tr>\n",
       "      <th>0</th>\n",
       "      <td>601 03RD ST</td>\n",
       "      <td>37.7800771744392</td>\n",
       "      <td>-122.393767294483</td>\n",
       "      <td>Arc Light Apartments</td>\n",
       "      <td>37.779884</td>\n",
       "      <td>-122.392677</td>\n",
       "      <td>Residential Building (Apartment / Condo)</td>\n",
       "    </tr>\n",
       "    <tr>\n",
       "      <th>1</th>\n",
       "      <td>601 03RD ST</td>\n",
       "      <td>37.7800771744392</td>\n",
       "      <td>-122.393767294483</td>\n",
       "      <td>Golden Goat Coffee</td>\n",
       "      <td>37.780415</td>\n",
       "      <td>-122.394394</td>\n",
       "      <td>Coffee Shop</td>\n",
       "    </tr>\n",
       "    <tr>\n",
       "      <th>2</th>\n",
       "      <td>601 03RD ST</td>\n",
       "      <td>37.7800771744392</td>\n",
       "      <td>-122.393767294483</td>\n",
       "      <td>South Park</td>\n",
       "      <td>37.781650</td>\n",
       "      <td>-122.393899</td>\n",
       "      <td>Park</td>\n",
       "    </tr>\n",
       "    <tr>\n",
       "      <th>3</th>\n",
       "      <td>601 03RD ST</td>\n",
       "      <td>37.7800771744392</td>\n",
       "      <td>-122.393767294483</td>\n",
       "      <td>Petit Marlowe</td>\n",
       "      <td>37.778101</td>\n",
       "      <td>-122.393727</td>\n",
       "      <td>Wine Bar</td>\n",
       "    </tr>\n",
       "    <tr>\n",
       "      <th>4</th>\n",
       "      <td>601 03RD ST</td>\n",
       "      <td>37.7800771744392</td>\n",
       "      <td>-122.393767294483</td>\n",
       "      <td>Cafe Okawari</td>\n",
       "      <td>37.778169</td>\n",
       "      <td>-122.393798</td>\n",
       "      <td>Café</td>\n",
       "    </tr>\n",
       "  </tbody>\n",
       "</table>\n",
       "</div>"
      ],
      "text/plain": [
       "  Neighborhood Neighborhood Latitude Neighborhood Longitude  \\\n",
       "0  601 03RD ST      37.7800771744392      -122.393767294483   \n",
       "1  601 03RD ST      37.7800771744392      -122.393767294483   \n",
       "2  601 03RD ST      37.7800771744392      -122.393767294483   \n",
       "3  601 03RD ST      37.7800771744392      -122.393767294483   \n",
       "4  601 03RD ST      37.7800771744392      -122.393767294483   \n",
       "\n",
       "                  Venue  Venue Latitude  Venue Longitude  \\\n",
       "0  Arc Light Apartments       37.779884      -122.392677   \n",
       "1    Golden Goat Coffee       37.780415      -122.394394   \n",
       "2            South Park       37.781650      -122.393899   \n",
       "3         Petit Marlowe       37.778101      -122.393727   \n",
       "4          Cafe Okawari       37.778169      -122.393798   \n",
       "\n",
       "                             Venue Category  \n",
       "0  Residential Building (Apartment / Condo)  \n",
       "1                               Coffee Shop  \n",
       "2                                      Park  \n",
       "3                                  Wine Bar  \n",
       "4                                      Café  "
      ]
     },
     "execution_count": 7,
     "metadata": {},
     "output_type": "execute_result"
    }
   ],
   "source": [
    "mff_venues.head()"
   ]
  },
  {
   "cell_type": "markdown",
   "metadata": {},
   "source": [
    "## Methodology <a class=\"anchor\" id=\"methodology\"></a>"
   ]
  },
  {
   "cell_type": "markdown",
   "metadata": {},
   "source": [
    "This project aims on recommending venues for food truck operators by detecting areas in San Francisco that are approved for mobile food facilities during the Covid-19 pandemic. \n",
    "\n",
    "First we have collected the required data: location of every approved food truck venue. We also identified the type and location of the neighborhoods according to Foursquare categorization. Then we will filter foursquare neighborhoods to show only essential businesses as defined by [sf.gov](https://sf.gov/check-if-business-essential).\n",
    "\n",
    "Afterwards, we will focus on the most promising areas and create clusters (using k-means clustering) of locations that meet the requirements established in the discussions with the stakeholders. \n",
    "\n",
    "Finally, we will present a map of all clusters and approximate the addresses using Google Maps API reverse geocoding which allow stakeholders to search for optimal venue locations."
   ]
  },
  {
   "cell_type": "markdown",
   "metadata": {},
   "source": [
    "## Analysis <a class=\"anchor\" id=\"analysis\"></a>"
   ]
  },
  {
   "cell_type": "markdown",
   "metadata": {},
   "source": [
    "In this section, we perform some exploratory data analysis to derive some additional info from our raw data. We start by using one hot encoding to convert categorial data into numerical data. Afterwards we group each location with their venue categories."
   ]
  },
  {
   "cell_type": "code",
   "execution_count": 8,
   "metadata": {},
   "outputs": [
    {
     "data": {
      "text/html": [
       "<div>\n",
       "<style scoped>\n",
       "    .dataframe tbody tr th:only-of-type {\n",
       "        vertical-align: middle;\n",
       "    }\n",
       "\n",
       "    .dataframe tbody tr th {\n",
       "        vertical-align: top;\n",
       "    }\n",
       "\n",
       "    .dataframe thead th {\n",
       "        text-align: right;\n",
       "    }\n",
       "</style>\n",
       "<table border=\"1\" class=\"dataframe\">\n",
       "  <thead>\n",
       "    <tr style=\"text-align: right;\">\n",
       "      <th></th>\n",
       "      <th>Neighborhood</th>\n",
       "      <th>Acai House</th>\n",
       "      <th>American Restaurant</th>\n",
       "      <th>Art Gallery</th>\n",
       "      <th>Art Museum</th>\n",
       "      <th>Arts &amp; Crafts Store</th>\n",
       "      <th>Athletics &amp; Sports</th>\n",
       "      <th>Bagel Shop</th>\n",
       "      <th>Bakery</th>\n",
       "      <th>Bank</th>\n",
       "      <th>...</th>\n",
       "      <th>Tea Room</th>\n",
       "      <th>Thai Restaurant</th>\n",
       "      <th>Theme Park Ride / Attraction</th>\n",
       "      <th>Vegetarian / Vegan Restaurant</th>\n",
       "      <th>Vietnamese Restaurant</th>\n",
       "      <th>Vineyard</th>\n",
       "      <th>Whisky Bar</th>\n",
       "      <th>Wine Bar</th>\n",
       "      <th>Winery</th>\n",
       "      <th>Yoga Studio</th>\n",
       "    </tr>\n",
       "  </thead>\n",
       "  <tbody>\n",
       "    <tr>\n",
       "      <th>0</th>\n",
       "      <td>400 CALIFORNIA ST</td>\n",
       "      <td>0.01</td>\n",
       "      <td>0.010000</td>\n",
       "      <td>0.000000</td>\n",
       "      <td>0.000000</td>\n",
       "      <td>0.00</td>\n",
       "      <td>0.000000</td>\n",
       "      <td>0.000000</td>\n",
       "      <td>0.02</td>\n",
       "      <td>0.000000</td>\n",
       "      <td>...</td>\n",
       "      <td>0.010000</td>\n",
       "      <td>0.000000</td>\n",
       "      <td>0.000000</td>\n",
       "      <td>0.00</td>\n",
       "      <td>0.01</td>\n",
       "      <td>0.000000</td>\n",
       "      <td>0.01</td>\n",
       "      <td>0.020000</td>\n",
       "      <td>0.000000</td>\n",
       "      <td>0.01</td>\n",
       "    </tr>\n",
       "    <tr>\n",
       "      <th>1</th>\n",
       "      <td>601 03RD ST</td>\n",
       "      <td>0.00</td>\n",
       "      <td>0.020619</td>\n",
       "      <td>0.010309</td>\n",
       "      <td>0.010309</td>\n",
       "      <td>0.00</td>\n",
       "      <td>0.010309</td>\n",
       "      <td>0.010309</td>\n",
       "      <td>0.00</td>\n",
       "      <td>0.010309</td>\n",
       "      <td>...</td>\n",
       "      <td>0.010309</td>\n",
       "      <td>0.010309</td>\n",
       "      <td>0.010309</td>\n",
       "      <td>0.00</td>\n",
       "      <td>0.00</td>\n",
       "      <td>0.010309</td>\n",
       "      <td>0.00</td>\n",
       "      <td>0.020619</td>\n",
       "      <td>0.010309</td>\n",
       "      <td>0.00</td>\n",
       "    </tr>\n",
       "    <tr>\n",
       "      <th>2</th>\n",
       "      <td>727 SANSOME ST</td>\n",
       "      <td>0.01</td>\n",
       "      <td>0.010000</td>\n",
       "      <td>0.000000</td>\n",
       "      <td>0.000000</td>\n",
       "      <td>0.01</td>\n",
       "      <td>0.000000</td>\n",
       "      <td>0.000000</td>\n",
       "      <td>0.01</td>\n",
       "      <td>0.000000</td>\n",
       "      <td>...</td>\n",
       "      <td>0.030000</td>\n",
       "      <td>0.000000</td>\n",
       "      <td>0.000000</td>\n",
       "      <td>0.01</td>\n",
       "      <td>0.03</td>\n",
       "      <td>0.000000</td>\n",
       "      <td>0.00</td>\n",
       "      <td>0.030000</td>\n",
       "      <td>0.000000</td>\n",
       "      <td>0.00</td>\n",
       "    </tr>\n",
       "  </tbody>\n",
       "</table>\n",
       "<p>3 rows × 111 columns</p>\n",
       "</div>"
      ],
      "text/plain": [
       "        Neighborhood  Acai House  American Restaurant  Art Gallery  \\\n",
       "0  400 CALIFORNIA ST        0.01             0.010000     0.000000   \n",
       "1        601 03RD ST        0.00             0.020619     0.010309   \n",
       "2     727 SANSOME ST        0.01             0.010000     0.000000   \n",
       "\n",
       "   Art Museum  Arts & Crafts Store  Athletics & Sports  Bagel Shop  Bakery  \\\n",
       "0    0.000000                 0.00            0.000000    0.000000    0.02   \n",
       "1    0.010309                 0.00            0.010309    0.010309    0.00   \n",
       "2    0.000000                 0.01            0.000000    0.000000    0.01   \n",
       "\n",
       "       Bank  ...  Tea Room  Thai Restaurant  Theme Park Ride / Attraction  \\\n",
       "0  0.000000  ...  0.010000         0.000000                      0.000000   \n",
       "1  0.010309  ...  0.010309         0.010309                      0.010309   \n",
       "2  0.000000  ...  0.030000         0.000000                      0.000000   \n",
       "\n",
       "   Vegetarian / Vegan Restaurant  Vietnamese Restaurant  Vineyard  Whisky Bar  \\\n",
       "0                           0.00                   0.01  0.000000        0.01   \n",
       "1                           0.00                   0.00  0.010309        0.00   \n",
       "2                           0.01                   0.03  0.000000        0.00   \n",
       "\n",
       "   Wine Bar    Winery  Yoga Studio  \n",
       "0  0.020000  0.000000         0.01  \n",
       "1  0.020619  0.010309         0.00  \n",
       "2  0.030000  0.000000         0.00  \n",
       "\n",
       "[3 rows x 111 columns]"
      ]
     },
     "execution_count": 8,
     "metadata": {},
     "output_type": "execute_result"
    }
   ],
   "source": [
    "# one hot encoding\n",
    "mff_onehot = pd.get_dummies(mff_venues[['Venue Category']], prefix=\"\", prefix_sep=\"\")\n",
    "mff_onehot['Neighborhood'] = mff_venues['Neighborhood'] \n",
    "mff_onehot = mff_onehot.set_index('Neighborhood').reset_index()\n",
    "mff_onehot.head()\n",
    "\n",
    "mff_grouped = mff_onehot.groupby('Neighborhood').mean().reset_index()\n",
    "mff_grouped.head()"
   ]
  },
  {
   "cell_type": "code",
   "execution_count": 9,
   "metadata": {},
   "outputs": [
    {
     "data": {
      "text/html": [
       "<div>\n",
       "<style scoped>\n",
       "    .dataframe tbody tr th:only-of-type {\n",
       "        vertical-align: middle;\n",
       "    }\n",
       "\n",
       "    .dataframe tbody tr th {\n",
       "        vertical-align: top;\n",
       "    }\n",
       "\n",
       "    .dataframe thead th {\n",
       "        text-align: right;\n",
       "    }\n",
       "</style>\n",
       "<table border=\"1\" class=\"dataframe\">\n",
       "  <thead>\n",
       "    <tr style=\"text-align: right;\">\n",
       "      <th></th>\n",
       "      <th>Neighborhood</th>\n",
       "      <th>Bank</th>\n",
       "      <th>Convenience Store</th>\n",
       "      <th>Optical Shop</th>\n",
       "      <th>Newsstand</th>\n",
       "      <th>Residential Building (Apartment / Condo)</th>\n",
       "    </tr>\n",
       "  </thead>\n",
       "  <tbody>\n",
       "    <tr>\n",
       "      <th>0</th>\n",
       "      <td>400 CALIFORNIA ST</td>\n",
       "      <td>0.000000</td>\n",
       "      <td>0.01</td>\n",
       "      <td>0.01</td>\n",
       "      <td>0.01</td>\n",
       "      <td>0.000000</td>\n",
       "    </tr>\n",
       "    <tr>\n",
       "      <th>1</th>\n",
       "      <td>601 03RD ST</td>\n",
       "      <td>0.010309</td>\n",
       "      <td>0.00</td>\n",
       "      <td>0.00</td>\n",
       "      <td>0.00</td>\n",
       "      <td>0.020619</td>\n",
       "    </tr>\n",
       "    <tr>\n",
       "      <th>2</th>\n",
       "      <td>727 SANSOME ST</td>\n",
       "      <td>0.000000</td>\n",
       "      <td>0.00</td>\n",
       "      <td>0.01</td>\n",
       "      <td>0.00</td>\n",
       "      <td>0.000000</td>\n",
       "    </tr>\n",
       "  </tbody>\n",
       "</table>\n",
       "</div>"
      ],
      "text/plain": [
       "        Neighborhood      Bank  Convenience Store  Optical Shop  Newsstand  \\\n",
       "0  400 CALIFORNIA ST  0.000000               0.01          0.01       0.01   \n",
       "1        601 03RD ST  0.010309               0.00          0.00       0.00   \n",
       "2     727 SANSOME ST  0.000000               0.00          0.01       0.00   \n",
       "\n",
       "   Residential Building (Apartment / Condo)  \n",
       "0                                  0.000000  \n",
       "1                                  0.020619  \n",
       "2                                  0.000000  "
      ]
     },
     "execution_count": 9,
     "metadata": {},
     "output_type": "execute_result"
    }
   ],
   "source": [
    "#Filter categories to essential businesses listed in sf.gov and residential areas\n",
    "mff_grouped = mff_grouped[[\"Neighborhood\",\"Bank\", \"Convenience Store\", \"Optical Shop\", \"Newsstand\", \"Residential Building (Apartment / Condo)\"]]\n",
    "mff_grouped"
   ]
  },
  {
   "cell_type": "markdown",
   "metadata": {},
   "source": [
    "Now we identify the top venue for each neighborhood."
   ]
  },
  {
   "cell_type": "code",
   "execution_count": 10,
   "metadata": {},
   "outputs": [],
   "source": [
    "def return_most_common_venues(row, num_top_venues):\n",
    "    row_categories = row.iloc[1:]\n",
    "    row_categories_sorted = row_categories.sort_values(ascending=False)\n",
    "    \n",
    "    return row_categories_sorted.index.values[0:num_top_venues]"
   ]
  },
  {
   "cell_type": "code",
   "execution_count": 11,
   "metadata": {},
   "outputs": [
    {
     "data": {
      "text/html": [
       "<div>\n",
       "<style scoped>\n",
       "    .dataframe tbody tr th:only-of-type {\n",
       "        vertical-align: middle;\n",
       "    }\n",
       "\n",
       "    .dataframe tbody tr th {\n",
       "        vertical-align: top;\n",
       "    }\n",
       "\n",
       "    .dataframe thead th {\n",
       "        text-align: right;\n",
       "    }\n",
       "</style>\n",
       "<table border=\"1\" class=\"dataframe\">\n",
       "  <thead>\n",
       "    <tr style=\"text-align: right;\">\n",
       "      <th></th>\n",
       "      <th>Neighborhood</th>\n",
       "      <th>1st Most Common Venue</th>\n",
       "    </tr>\n",
       "  </thead>\n",
       "  <tbody>\n",
       "    <tr>\n",
       "      <th>0</th>\n",
       "      <td>400 CALIFORNIA ST</td>\n",
       "      <td>Convenience Store</td>\n",
       "    </tr>\n",
       "    <tr>\n",
       "      <th>1</th>\n",
       "      <td>601 03RD ST</td>\n",
       "      <td>Residential Building (Apartment / Condo)</td>\n",
       "    </tr>\n",
       "    <tr>\n",
       "      <th>2</th>\n",
       "      <td>727 SANSOME ST</td>\n",
       "      <td>Optical Shop</td>\n",
       "    </tr>\n",
       "  </tbody>\n",
       "</table>\n",
       "</div>"
      ],
      "text/plain": [
       "        Neighborhood                     1st Most Common Venue\n",
       "0  400 CALIFORNIA ST                         Convenience Store\n",
       "1        601 03RD ST  Residential Building (Apartment / Condo)\n",
       "2     727 SANSOME ST                              Optical Shop"
      ]
     },
     "execution_count": 11,
     "metadata": {},
     "output_type": "execute_result"
    }
   ],
   "source": [
    "num_top_venues = 1\n",
    "indicators = ['st', 'nd', 'rd']\n",
    "\n",
    "# create columns according to number of top venues\n",
    "columns = ['Neighborhood']\n",
    "for ind in np.arange(num_top_venues):\n",
    "    try:\n",
    "        columns.append('{}{} Most Common Venue'.format(ind+1, indicators[ind]))\n",
    "    except:\n",
    "        columns.append('{}th Most Common Venue'.format(ind+1))\n",
    "\n",
    "# create a new dataframe\n",
    "neighborhoods_venues_sorted = pd.DataFrame(columns=columns)\n",
    "neighborhoods_venues_sorted['Neighborhood'] = mff_grouped['Neighborhood']\n",
    "\n",
    "for ind in np.arange(mff_grouped.shape[0]):\n",
    "    neighborhoods_venues_sorted.iloc[ind, 1:] = return_most_common_venues(mff_grouped.iloc[ind, :], num_top_venues)\n",
    "\n",
    "neighborhoods_venues_sorted.head()"
   ]
  },
  {
   "cell_type": "markdown",
   "metadata": {},
   "source": [
    "In this step, we use k-means clustering to partition our observations into meaningful clusters."
   ]
  },
  {
   "cell_type": "code",
   "execution_count": 12,
   "metadata": {},
   "outputs": [
    {
     "data": {
      "text/plain": [
       "array([0, 1, 2], dtype=int32)"
      ]
     },
     "execution_count": 12,
     "metadata": {},
     "output_type": "execute_result"
    }
   ],
   "source": [
    "# set number of clusters\n",
    "kclusters = 3\n",
    "mff_grouped_clustering = mff_grouped.drop('Neighborhood', 1)\n",
    "\n",
    "# run k-means clustering\n",
    "kmeans = KMeans(n_clusters=kclusters, random_state=0).fit(mff_grouped_clustering)\n",
    "\n",
    "# check cluster labels generated for each row in the dataframe\n",
    "kmeans.labels_[0:10]"
   ]
  },
  {
   "cell_type": "code",
   "execution_count": 13,
   "metadata": {},
   "outputs": [
    {
     "data": {
      "text/html": [
       "<div>\n",
       "<style scoped>\n",
       "    .dataframe tbody tr th:only-of-type {\n",
       "        vertical-align: middle;\n",
       "    }\n",
       "\n",
       "    .dataframe tbody tr th {\n",
       "        vertical-align: top;\n",
       "    }\n",
       "\n",
       "    .dataframe thead th {\n",
       "        text-align: right;\n",
       "    }\n",
       "</style>\n",
       "<table border=\"1\" class=\"dataframe\">\n",
       "  <thead>\n",
       "    <tr style=\"text-align: right;\">\n",
       "      <th></th>\n",
       "      <th>facilitytype</th>\n",
       "      <th>Neighborhood</th>\n",
       "      <th>location</th>\n",
       "      <th>status</th>\n",
       "      <th>latitude</th>\n",
       "      <th>longitude</th>\n",
       "      <th>Cluster Labels</th>\n",
       "      <th>1st Most Common Venue</th>\n",
       "    </tr>\n",
       "  </thead>\n",
       "  <tbody>\n",
       "    <tr>\n",
       "      <th>49</th>\n",
       "      <td>Truck</td>\n",
       "      <td>601 03RD ST</td>\n",
       "      <td>{'latitude': '37.7800771744392', 'longitude': ...</td>\n",
       "      <td>ISSUED</td>\n",
       "      <td>37.7800771744392</td>\n",
       "      <td>-122.393767294483</td>\n",
       "      <td>1</td>\n",
       "      <td>Residential Building (Apartment / Condo)</td>\n",
       "    </tr>\n",
       "    <tr>\n",
       "      <th>58</th>\n",
       "      <td>Truck</td>\n",
       "      <td>400 CALIFORNIA ST</td>\n",
       "      <td>{'latitude': '37.793304275561', 'longitude': '...</td>\n",
       "      <td>ISSUED</td>\n",
       "      <td>37.793304275561</td>\n",
       "      <td>-122.401458998413</td>\n",
       "      <td>0</td>\n",
       "      <td>Convenience Store</td>\n",
       "    </tr>\n",
       "    <tr>\n",
       "      <th>76</th>\n",
       "      <td>Truck</td>\n",
       "      <td>727 SANSOME ST</td>\n",
       "      <td>{'latitude': '37.7969490060212', 'longitude': ...</td>\n",
       "      <td>ISSUED</td>\n",
       "      <td>37.7969490060212</td>\n",
       "      <td>-122.402183431894</td>\n",
       "      <td>2</td>\n",
       "      <td>Optical Shop</td>\n",
       "    </tr>\n",
       "  </tbody>\n",
       "</table>\n",
       "</div>"
      ],
      "text/plain": [
       "   facilitytype       Neighborhood  \\\n",
       "49        Truck        601 03RD ST   \n",
       "58        Truck  400 CALIFORNIA ST   \n",
       "76        Truck     727 SANSOME ST   \n",
       "\n",
       "                                             location  status  \\\n",
       "49  {'latitude': '37.7800771744392', 'longitude': ...  ISSUED   \n",
       "58  {'latitude': '37.793304275561', 'longitude': '...  ISSUED   \n",
       "76  {'latitude': '37.7969490060212', 'longitude': ...  ISSUED   \n",
       "\n",
       "            latitude          longitude  Cluster Labels  \\\n",
       "49  37.7800771744392  -122.393767294483               1   \n",
       "58   37.793304275561  -122.401458998413               0   \n",
       "76  37.7969490060212  -122.402183431894               2   \n",
       "\n",
       "                       1st Most Common Venue  \n",
       "49  Residential Building (Apartment / Condo)  \n",
       "58                         Convenience Store  \n",
       "76                              Optical Shop  "
      ]
     },
     "execution_count": 13,
     "metadata": {},
     "output_type": "execute_result"
    }
   ],
   "source": [
    "# add clustering labels\n",
    "neighborhoods_venues_sorted.insert(0, 'Cluster Labels', kmeans.labels_)\n",
    "\n",
    "mff_merged = mff_df.rename(columns={\"address\": \"Neighborhood\"})\n",
    "mff_merged = mff_merged.join(neighborhoods_venues_sorted.set_index('Neighborhood'), on='Neighborhood')\n",
    "mff_merged.head()"
   ]
  },
  {
   "cell_type": "markdown",
   "metadata": {},
   "source": [
    "Now we find the latitude and longitude of San Francisco, California and create a Folium map to display our k-means clusters."
   ]
  },
  {
   "cell_type": "code",
   "execution_count": 14,
   "metadata": {},
   "outputs": [],
   "source": [
    "geolocator = Nominatim(user_agent=\"shpg\")\n",
    "geocode = geolocator.geocode('San Francisco, California')\n",
    "latitude = geocode.latitude\n",
    "longitude = geocode.longitude"
   ]
  },
  {
   "cell_type": "code",
   "execution_count": 17,
   "metadata": {
    "scrolled": true
   },
   "outputs": [
    {
     "data": {
      "text/html": [
       "<div style=\"width:100%;\"><div style=\"position:relative;width:100%;height:0;padding-bottom:60%;\"><span style=\"color:#565656\">Make this Notebook Trusted to load map: File -> Trust Notebook</span><iframe src=\"about:blank\" style=\"position:absolute;width:100%;height:100%;left:0;top:0;border:none !important;\" data-html=%3C%21DOCTYPE%20html%3E%0A%3Chead%3E%20%20%20%20%0A%20%20%20%20%3Cmeta%20http-equiv%3D%22content-type%22%20content%3D%22text/html%3B%20charset%3DUTF-8%22%20/%3E%0A%20%20%20%20%0A%20%20%20%20%20%20%20%20%3Cscript%3E%0A%20%20%20%20%20%20%20%20%20%20%20%20L_NO_TOUCH%20%3D%20false%3B%0A%20%20%20%20%20%20%20%20%20%20%20%20L_DISABLE_3D%20%3D%20false%3B%0A%20%20%20%20%20%20%20%20%3C/script%3E%0A%20%20%20%20%0A%20%20%20%20%3Cstyle%3Ehtml%2C%20body%20%7Bwidth%3A%20100%25%3Bheight%3A%20100%25%3Bmargin%3A%200%3Bpadding%3A%200%3B%7D%3C/style%3E%0A%20%20%20%20%3Cstyle%3E%23map%20%7Bposition%3Aabsolute%3Btop%3A0%3Bbottom%3A0%3Bright%3A0%3Bleft%3A0%3B%7D%3C/style%3E%0A%20%20%20%20%3Cscript%20src%3D%22https%3A//cdn.jsdelivr.net/npm/leaflet%401.6.0/dist/leaflet.js%22%3E%3C/script%3E%0A%20%20%20%20%3Cscript%20src%3D%22https%3A//code.jquery.com/jquery-1.12.4.min.js%22%3E%3C/script%3E%0A%20%20%20%20%3Cscript%20src%3D%22https%3A//maxcdn.bootstrapcdn.com/bootstrap/3.2.0/js/bootstrap.min.js%22%3E%3C/script%3E%0A%20%20%20%20%3Cscript%20src%3D%22https%3A//cdnjs.cloudflare.com/ajax/libs/Leaflet.awesome-markers/2.0.2/leaflet.awesome-markers.js%22%3E%3C/script%3E%0A%20%20%20%20%3Clink%20rel%3D%22stylesheet%22%20href%3D%22https%3A//cdn.jsdelivr.net/npm/leaflet%401.6.0/dist/leaflet.css%22/%3E%0A%20%20%20%20%3Clink%20rel%3D%22stylesheet%22%20href%3D%22https%3A//maxcdn.bootstrapcdn.com/bootstrap/3.2.0/css/bootstrap.min.css%22/%3E%0A%20%20%20%20%3Clink%20rel%3D%22stylesheet%22%20href%3D%22https%3A//maxcdn.bootstrapcdn.com/bootstrap/3.2.0/css/bootstrap-theme.min.css%22/%3E%0A%20%20%20%20%3Clink%20rel%3D%22stylesheet%22%20href%3D%22https%3A//maxcdn.bootstrapcdn.com/font-awesome/4.6.3/css/font-awesome.min.css%22/%3E%0A%20%20%20%20%3Clink%20rel%3D%22stylesheet%22%20href%3D%22https%3A//cdnjs.cloudflare.com/ajax/libs/Leaflet.awesome-markers/2.0.2/leaflet.awesome-markers.css%22/%3E%0A%20%20%20%20%3Clink%20rel%3D%22stylesheet%22%20href%3D%22https%3A//cdn.jsdelivr.net/gh/python-visualization/folium/folium/templates/leaflet.awesome.rotate.min.css%22/%3E%0A%20%20%20%20%0A%20%20%20%20%20%20%20%20%20%20%20%20%3Cmeta%20name%3D%22viewport%22%20content%3D%22width%3Ddevice-width%2C%0A%20%20%20%20%20%20%20%20%20%20%20%20%20%20%20%20initial-scale%3D1.0%2C%20maximum-scale%3D1.0%2C%20user-scalable%3Dno%22%20/%3E%0A%20%20%20%20%20%20%20%20%20%20%20%20%3Cstyle%3E%0A%20%20%20%20%20%20%20%20%20%20%20%20%20%20%20%20%23map_10c796e6a9c7492f8cafa0631ab29717%20%7B%0A%20%20%20%20%20%20%20%20%20%20%20%20%20%20%20%20%20%20%20%20position%3A%20relative%3B%0A%20%20%20%20%20%20%20%20%20%20%20%20%20%20%20%20%20%20%20%20width%3A%20100.0%25%3B%0A%20%20%20%20%20%20%20%20%20%20%20%20%20%20%20%20%20%20%20%20height%3A%20100.0%25%3B%0A%20%20%20%20%20%20%20%20%20%20%20%20%20%20%20%20%20%20%20%20left%3A%200.0%25%3B%0A%20%20%20%20%20%20%20%20%20%20%20%20%20%20%20%20%20%20%20%20top%3A%200.0%25%3B%0A%20%20%20%20%20%20%20%20%20%20%20%20%20%20%20%20%7D%0A%20%20%20%20%20%20%20%20%20%20%20%20%3C/style%3E%0A%20%20%20%20%20%20%20%20%0A%3C/head%3E%0A%3Cbody%3E%20%20%20%20%0A%20%20%20%20%0A%20%20%20%20%20%20%20%20%20%20%20%20%3Cdiv%20class%3D%22folium-map%22%20id%3D%22map_10c796e6a9c7492f8cafa0631ab29717%22%20%3E%3C/div%3E%0A%20%20%20%20%20%20%20%20%0A%3C/body%3E%0A%3Cscript%3E%20%20%20%20%0A%20%20%20%20%0A%20%20%20%20%20%20%20%20%20%20%20%20var%20map_10c796e6a9c7492f8cafa0631ab29717%20%3D%20L.map%28%0A%20%20%20%20%20%20%20%20%20%20%20%20%20%20%20%20%22map_10c796e6a9c7492f8cafa0631ab29717%22%2C%0A%20%20%20%20%20%20%20%20%20%20%20%20%20%20%20%20%7B%0A%20%20%20%20%20%20%20%20%20%20%20%20%20%20%20%20%20%20%20%20center%3A%20%5B37.7790262%2C%20-122.4199061%5D%2C%0A%20%20%20%20%20%20%20%20%20%20%20%20%20%20%20%20%20%20%20%20crs%3A%20L.CRS.EPSG3857%2C%0A%20%20%20%20%20%20%20%20%20%20%20%20%20%20%20%20%20%20%20%20zoom%3A%2014%2C%0A%20%20%20%20%20%20%20%20%20%20%20%20%20%20%20%20%20%20%20%20zoomControl%3A%20true%2C%0A%20%20%20%20%20%20%20%20%20%20%20%20%20%20%20%20%20%20%20%20preferCanvas%3A%20false%2C%0A%20%20%20%20%20%20%20%20%20%20%20%20%20%20%20%20%7D%0A%20%20%20%20%20%20%20%20%20%20%20%20%29%3B%0A%0A%20%20%20%20%20%20%20%20%20%20%20%20%0A%0A%20%20%20%20%20%20%20%20%0A%20%20%20%20%0A%20%20%20%20%20%20%20%20%20%20%20%20var%20tile_layer_94287f71805242f2a7c06178e528d20c%20%3D%20L.tileLayer%28%0A%20%20%20%20%20%20%20%20%20%20%20%20%20%20%20%20%22https%3A//%7Bs%7D.tile.openstreetmap.org/%7Bz%7D/%7Bx%7D/%7By%7D.png%22%2C%0A%20%20%20%20%20%20%20%20%20%20%20%20%20%20%20%20%7B%22attribution%22%3A%20%22Data%20by%20%5Cu0026copy%3B%20%5Cu003ca%20href%3D%5C%22http%3A//openstreetmap.org%5C%22%5Cu003eOpenStreetMap%5Cu003c/a%5Cu003e%2C%20under%20%5Cu003ca%20href%3D%5C%22http%3A//www.openstreetmap.org/copyright%5C%22%5Cu003eODbL%5Cu003c/a%5Cu003e.%22%2C%20%22detectRetina%22%3A%20false%2C%20%22maxNativeZoom%22%3A%2018%2C%20%22maxZoom%22%3A%2018%2C%20%22minZoom%22%3A%200%2C%20%22noWrap%22%3A%20false%2C%20%22opacity%22%3A%201%2C%20%22subdomains%22%3A%20%22abc%22%2C%20%22tms%22%3A%20false%7D%0A%20%20%20%20%20%20%20%20%20%20%20%20%29.addTo%28map_10c796e6a9c7492f8cafa0631ab29717%29%3B%0A%20%20%20%20%20%20%20%20%0A%20%20%20%20%0A%20%20%20%20%20%20%20%20%20%20%20%20var%20circle_marker_3397bf0e4e64427f98bc825d351db3d1%20%3D%20L.circleMarker%28%0A%20%20%20%20%20%20%20%20%20%20%20%20%20%20%20%20%5B37.7800771744392%2C%20-122.393767294483%5D%2C%0A%20%20%20%20%20%20%20%20%20%20%20%20%20%20%20%20%7B%22bubblingMouseEvents%22%3A%20true%2C%20%22color%22%3A%20%22%238000ff%22%2C%20%22dashArray%22%3A%20null%2C%20%22dashOffset%22%3A%20null%2C%20%22fill%22%3A%20true%2C%20%22fillColor%22%3A%20%22%238000ff%22%2C%20%22fillOpacity%22%3A%200.7%2C%20%22fillRule%22%3A%20%22evenodd%22%2C%20%22lineCap%22%3A%20%22round%22%2C%20%22lineJoin%22%3A%20%22round%22%2C%20%22opacity%22%3A%201.0%2C%20%22radius%22%3A%2010%2C%20%22stroke%22%3A%20true%2C%20%22weight%22%3A%203%7D%0A%20%20%20%20%20%20%20%20%20%20%20%20%29.addTo%28map_10c796e6a9c7492f8cafa0631ab29717%29%3B%0A%20%20%20%20%20%20%20%20%0A%20%20%20%20%0A%20%20%20%20%20%20%20%20var%20popup_fcfd622f947843ea93c4b604af916132%20%3D%20L.popup%28%7B%22maxWidth%22%3A%20%22100%25%22%7D%29%3B%0A%0A%20%20%20%20%20%20%20%20%0A%20%20%20%20%20%20%20%20%20%20%20%20var%20html_8e5ce15008124758ad0d6c6c6345a7e7%20%3D%20%24%28%60%3Cdiv%20id%3D%22html_8e5ce15008124758ad0d6c6c6345a7e7%22%20style%3D%22width%3A%20100.0%25%3B%20height%3A%20100.0%25%3B%22%3E601%2003RD%20ST%20Cluster%201%3C/div%3E%60%29%5B0%5D%3B%0A%20%20%20%20%20%20%20%20%20%20%20%20popup_fcfd622f947843ea93c4b604af916132.setContent%28html_8e5ce15008124758ad0d6c6c6345a7e7%29%3B%0A%20%20%20%20%20%20%20%20%0A%0A%20%20%20%20%20%20%20%20circle_marker_3397bf0e4e64427f98bc825d351db3d1.bindPopup%28popup_fcfd622f947843ea93c4b604af916132%29%0A%20%20%20%20%20%20%20%20%3B%0A%0A%20%20%20%20%20%20%20%20%0A%20%20%20%20%0A%20%20%20%20%0A%20%20%20%20%20%20%20%20%20%20%20%20var%20circle_marker_a84cd95166c84e1491c0f00564204d20%20%3D%20L.circleMarker%28%0A%20%20%20%20%20%20%20%20%20%20%20%20%20%20%20%20%5B37.793304275561%2C%20-122.401458998413%5D%2C%0A%20%20%20%20%20%20%20%20%20%20%20%20%20%20%20%20%7B%22bubblingMouseEvents%22%3A%20true%2C%20%22color%22%3A%20%22%23ff0000%22%2C%20%22dashArray%22%3A%20null%2C%20%22dashOffset%22%3A%20null%2C%20%22fill%22%3A%20true%2C%20%22fillColor%22%3A%20%22%23ff0000%22%2C%20%22fillOpacity%22%3A%200.7%2C%20%22fillRule%22%3A%20%22evenodd%22%2C%20%22lineCap%22%3A%20%22round%22%2C%20%22lineJoin%22%3A%20%22round%22%2C%20%22opacity%22%3A%201.0%2C%20%22radius%22%3A%2010%2C%20%22stroke%22%3A%20true%2C%20%22weight%22%3A%203%7D%0A%20%20%20%20%20%20%20%20%20%20%20%20%29.addTo%28map_10c796e6a9c7492f8cafa0631ab29717%29%3B%0A%20%20%20%20%20%20%20%20%0A%20%20%20%20%0A%20%20%20%20%20%20%20%20var%20popup_35ad4314e1574960adac0c6572953e5b%20%3D%20L.popup%28%7B%22maxWidth%22%3A%20%22100%25%22%7D%29%3B%0A%0A%20%20%20%20%20%20%20%20%0A%20%20%20%20%20%20%20%20%20%20%20%20var%20html_ddd5efdce7d444b2ab8595433ef7ed42%20%3D%20%24%28%60%3Cdiv%20id%3D%22html_ddd5efdce7d444b2ab8595433ef7ed42%22%20style%3D%22width%3A%20100.0%25%3B%20height%3A%20100.0%25%3B%22%3E400%20CALIFORNIA%20ST%20Cluster%200%3C/div%3E%60%29%5B0%5D%3B%0A%20%20%20%20%20%20%20%20%20%20%20%20popup_35ad4314e1574960adac0c6572953e5b.setContent%28html_ddd5efdce7d444b2ab8595433ef7ed42%29%3B%0A%20%20%20%20%20%20%20%20%0A%0A%20%20%20%20%20%20%20%20circle_marker_a84cd95166c84e1491c0f00564204d20.bindPopup%28popup_35ad4314e1574960adac0c6572953e5b%29%0A%20%20%20%20%20%20%20%20%3B%0A%0A%20%20%20%20%20%20%20%20%0A%20%20%20%20%0A%20%20%20%20%0A%20%20%20%20%20%20%20%20%20%20%20%20var%20circle_marker_83788e3e9c894083998e5e43c26cefc1%20%3D%20L.circleMarker%28%0A%20%20%20%20%20%20%20%20%20%20%20%20%20%20%20%20%5B37.7969490060212%2C%20-122.402183431894%5D%2C%0A%20%20%20%20%20%20%20%20%20%20%20%20%20%20%20%20%7B%22bubblingMouseEvents%22%3A%20true%2C%20%22color%22%3A%20%22%2380ffb4%22%2C%20%22dashArray%22%3A%20null%2C%20%22dashOffset%22%3A%20null%2C%20%22fill%22%3A%20true%2C%20%22fillColor%22%3A%20%22%2380ffb4%22%2C%20%22fillOpacity%22%3A%200.7%2C%20%22fillRule%22%3A%20%22evenodd%22%2C%20%22lineCap%22%3A%20%22round%22%2C%20%22lineJoin%22%3A%20%22round%22%2C%20%22opacity%22%3A%201.0%2C%20%22radius%22%3A%2010%2C%20%22stroke%22%3A%20true%2C%20%22weight%22%3A%203%7D%0A%20%20%20%20%20%20%20%20%20%20%20%20%29.addTo%28map_10c796e6a9c7492f8cafa0631ab29717%29%3B%0A%20%20%20%20%20%20%20%20%0A%20%20%20%20%0A%20%20%20%20%20%20%20%20var%20popup_c2131cc6eb624d0a9da4eeacbaa6204e%20%3D%20L.popup%28%7B%22maxWidth%22%3A%20%22100%25%22%7D%29%3B%0A%0A%20%20%20%20%20%20%20%20%0A%20%20%20%20%20%20%20%20%20%20%20%20var%20html_dd4f435d0a4b4a99afa0a93f4be7538c%20%3D%20%24%28%60%3Cdiv%20id%3D%22html_dd4f435d0a4b4a99afa0a93f4be7538c%22%20style%3D%22width%3A%20100.0%25%3B%20height%3A%20100.0%25%3B%22%3E727%20SANSOME%20ST%20Cluster%202%3C/div%3E%60%29%5B0%5D%3B%0A%20%20%20%20%20%20%20%20%20%20%20%20popup_c2131cc6eb624d0a9da4eeacbaa6204e.setContent%28html_dd4f435d0a4b4a99afa0a93f4be7538c%29%3B%0A%20%20%20%20%20%20%20%20%0A%0A%20%20%20%20%20%20%20%20circle_marker_83788e3e9c894083998e5e43c26cefc1.bindPopup%28popup_c2131cc6eb624d0a9da4eeacbaa6204e%29%0A%20%20%20%20%20%20%20%20%3B%0A%0A%20%20%20%20%20%20%20%20%0A%20%20%20%20%0A%3C/script%3E onload=\"this.contentDocument.open();this.contentDocument.write(    decodeURIComponent(this.getAttribute('data-html')));this.contentDocument.close();\" allowfullscreen webkitallowfullscreen mozallowfullscreen></iframe></div></div>"
      ],
      "text/plain": [
       "<folium.folium.Map at 0x7fa6c7229d00>"
      ]
     },
     "execution_count": 17,
     "metadata": {},
     "output_type": "execute_result"
    }
   ],
   "source": [
    "# create map\n",
    "map_clusters = folium.Map(location=[latitude, longitude], zoom_start=14)\n",
    "\n",
    "# set color scheme for the clusters\n",
    "x = np.arange(kclusters)\n",
    "ys = [i + x + (i*x)**2 for i in range(kclusters)]\n",
    "colors_array = cm.rainbow(np.linspace(0, 1, len(ys)))\n",
    "rainbow = [colors.rgb2hex(i) for i in colors_array]\n",
    "\n",
    "# add markers to the map\n",
    "markers_colors = []\n",
    "for lat, lon, poi, cluster in zip(mff_merged['latitude'], mff_merged['longitude'], mff_merged['Neighborhood'], mff_merged['Cluster Labels']):\n",
    "    label = folium.Popup(str(poi) + ' Cluster ' + str(cluster), parse_html=True)\n",
    "    folium.CircleMarker(\n",
    "        [lat, lon],\n",
    "        radius=10,\n",
    "        popup=label,\n",
    "        color=rainbow[cluster-1],\n",
    "        fill=True,\n",
    "        fill_color=rainbow[cluster-1],\n",
    "        fill_opacity=0.7).add_to(map_clusters)\n",
    "       \n",
    "map_clusters"
   ]
  },
  {
   "cell_type": "code",
   "execution_count": 16,
   "metadata": {},
   "outputs": [
    {
     "name": "stdout",
     "output_type": "stream",
     "text": [
      "==============================================================\n",
      "Addresses of areas recommended for further analysis\n",
      "==============================================================\n",
      "\n",
      "601;605, 3rd Street, South Beach, San Francisco, San Francisco City and County, California, 94017, United States\n",
      "400;410, California Street, Financial District, San Francisco, San Francisco City and County, California, 90104, United States\n",
      "705;727;729, Sansome Street, Northeast Waterfront Historic District, San Francisco, San Francisco City and County, California, 94133, United States\n"
     ]
    }
   ],
   "source": [
    "cluster_latitudes = mff_merged['latitude'].apply(float).to_numpy()\n",
    "cluster_longitudes = mff_merged['longitude'].apply(float).to_numpy()\n",
    "\n",
    "print('==============================================================')\n",
    "print('Addresses of areas recommended for further analysis')\n",
    "print('==============================================================\\n')\n",
    "for row in range(mff_merged.shape[0]):\n",
    "    print(Nominatim(user_agent=\"shpg\").reverse((cluster_latitudes[row], cluster_longitudes[row])).address)"
   ]
  },
  {
   "cell_type": "markdown",
   "metadata": {},
   "source": [
    "## Results and Discussion <a class=\"anchor\" id=\"results\"></a>"
   ]
  },
  {
   "cell_type": "markdown",
   "metadata": {},
   "source": [
    "Our analysis shows that there is a large area of approved zones in Mobile Facility Permits map. The highest concertation of approved zones is on the East side of San Francisco. After directing our attention to this narrower area of interest, we filtered our location candidates to only include approved zones for food trucks that are currently issued. These location candidates were then clustered to create zones of interest which contain the greatest number of location candidates.\n",
    "\n",
    "The results show 3 zones for potential food truck locations. The addresses of those zones are generated using reverse geocoding. However, this does not imply that those addresses are actually optimal locations for a food truck. The recommended addresses should be considered only as a starting point for more detailed analysis which could eventually results in an optimal location when other factors are taken into account and all other relevant conditions are met."
   ]
  },
  {
   "cell_type": "markdown",
   "metadata": {},
   "source": [
    "## Conclusion <a class=\"anchor\" id=\"conclusion\"></a>"
   ]
  },
  {
   "cell_type": "markdown",
   "metadata": {},
   "source": [
    "The purpose of this project was to identify San Francisco areas in order to aid stakeholders to narrow down the search for the optimal location for a food truck operation during the Covid-19 pandemic. We generate a collection of locations which satisfy some basic requirements regarding zones that are approved for mobile food facilities. We then performed clustering to create major zones of interest and the addresses of those zones were labelled to be used as starting point for final exploration by stakeholders.\n",
    "\n",
    "The final decision for optimal food truck operation will be made by stakeholders based on the specific characteristics of the neighborhoods and locations in every recommended zone while taking into consideration of additional factors such as street traffic, enough space for social distancing etc."
   ]
  },
  {
   "cell_type": "code",
   "execution_count": null,
   "metadata": {},
   "outputs": [],
   "source": []
  }
 ],
 "metadata": {
  "kernelspec": {
   "display_name": "Python 3",
   "language": "python",
   "name": "python3"
  },
  "language_info": {
   "codemirror_mode": {
    "name": "ipython",
    "version": 3
   },
   "file_extension": ".py",
   "mimetype": "text/x-python",
   "name": "python",
   "nbconvert_exporter": "python",
   "pygments_lexer": "ipython3",
   "version": "3.8.3"
  }
 },
 "nbformat": 4,
 "nbformat_minor": 4
}
